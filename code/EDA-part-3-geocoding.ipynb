{
 "cells": [
  {
   "cell_type": "code",
   "execution_count": 18,
   "id": "7755b9ee-cabe-4c1f-bc54-0c3ec15ccddb",
   "metadata": {},
   "outputs": [],
   "source": [
    "# Basic Imports\n",
    "import pandas as pd\n",
    "import numpy as np\n",
    "import matplotlib.pyplot as plt\n",
    "import seaborn as sns\n",
    "\n",
    "# Import the config file\n",
    "import config\n",
    "\n",
    "# For tesxt:\n",
    "import re\n",
    "\n",
    "# For times:\n",
    "import time\n",
    "\n",
    "# Set a random seed for imputation\n",
    "#  Source:  https://numpy.org/doc/stable/reference/random/generated/numpy.random.seed.html\n",
    "np.random.seed(42)\n",
    "\n",
    "# for Google Geocoding API\n",
    "'''\n",
    "Setting up the API key and getting started was enabled with help from the following sources:\n",
    "* https://developers.google.com/maps/documentation/geocoding/?csw=1\n",
    "* https://developers.google.com/maps/documentation/geocoding/overview\n",
    "* https://developers.google.com/maps/get-started#api-key\n",
    "* https://developers.google.com/maps/documentation/geocoding/get-api-key\n",
    "* https://github.com/googlemaps/google-maps-services-python\n",
    "'''\n",
    "import googlemaps\n",
    "from datetime import datetime\n",
    "\n",
    "# Import the Beatiful Soup and Requests Packages for web scraping:\n",
    "import requests\n",
    "from bs4 import BeautifulSoup"
   ]
  },
  {
   "cell_type": "markdown",
   "id": "520ed38b-c665-4bf2-8a22-699c549c4a18",
   "metadata": {},
   "source": [
    "# Find Proximity to Subway ('T') Stations"
   ]
  },
  {
   "cell_type": "markdown",
   "id": "9e2f9bee-c9eb-4c28-a8a3-9950000a1198",
   "metadata": {},
   "source": [
    "## Get a List of Sll the T Stations/Stops\n",
    "\n",
    "Web scrape this entire site:  https://www.mbta.com/stops/subway .... to get the list of stations, then go to the urls for each to get the address and scrape the address which will get entered into the google geocoding request"
   ]
  },
  {
   "cell_type": "code",
   "execution_count": 89,
   "id": "9e01bdc5-c49f-413a-8dd5-5ec0ba6003df",
   "metadata": {},
   "outputs": [
    {
     "data": {
      "text/plain": [
       "200"
      ]
     },
     "execution_count": 89,
     "metadata": {},
     "output_type": "execute_result"
    }
   ],
   "source": [
    "# Store the base url from which all T-stop data will be retrieved\n",
    "base_url = 'https://www.mbta.com/stops/subway'\n",
    "\n",
    "# Connect to the web page:\n",
    "res = requests.get(base_url)\n",
    "\n",
    "# Pull the website text HTML string out\n",
    "html = res.text\n",
    "\n",
    "# Create that Beautiful Soup Instance!  Choosing 'lxml' as the parser.\n",
    "soup = BeautifulSoup(html, 'lxml')\n",
    "\n",
    "res.status_code"
   ]
  },
  {
   "cell_type": "code",
   "execution_count": 93,
   "id": "e92d8a50-f5f5-4048-ae66-0d7f47a30392",
   "metadata": {
    "scrolled": true,
    "tags": []
   },
   "outputs": [
    {
     "name": "stdout",
     "output_type": "stream",
     "text": [
      "132\n"
     ]
    },
    {
     "data": {
      "text/plain": [
       "['/stops/place-alfcl',\n",
       " '/stops/place-andrw',\n",
       " '/stops/place-asmnl',\n",
       " '/stops/place-brntn',\n",
       " '/stops/place-brdwy',\n",
       " '/stops/place-cntsq',\n",
       " '/stops/place-chmnl',\n",
       " '/stops/place-davis',\n",
       " '/stops/place-dwnxg',\n",
       " '/stops/place-fldcr',\n",
       " '/stops/place-harsq',\n",
       " '/stops/place-jfk',\n",
       " '/stops/place-knncl',\n",
       " '/stops/place-nqncy',\n",
       " '/stops/place-pktrm',\n",
       " '/stops/place-portr',\n",
       " '/stops/place-qamnl',\n",
       " '/stops/place-qnctr',\n",
       " '/stops/place-shmnl',\n",
       " '/stops/place-smmnl',\n",
       " '/stops/place-sstat',\n",
       " '/stops/place-wlsta',\n",
       " '/stops/place-asmnl',\n",
       " '/stops/place-butlr',\n",
       " '/stops/place-capst',\n",
       " '/stops/place-cedgr',\n",
       " '/stops/place-cenav',\n",
       " '/stops/place-matt',\n",
       " '/stops/place-miltt',\n",
       " '/stops/place-valrd',\n",
       " '/stops/place-astao',\n",
       " '/stops/place-bbsta',\n",
       " '/stops/place-chncl',\n",
       " '/stops/place-ccmnl',\n",
       " '/stops/place-dwnxg',\n",
       " '/stops/place-forhl',\n",
       " '/stops/place-grnst',\n",
       " '/stops/place-haecl',\n",
       " '/stops/place-jaksn',\n",
       " '/stops/place-mlmnl',\n",
       " '/stops/place-masta',\n",
       " '/stops/place-north',\n",
       " '/stops/place-ogmnl',\n",
       " '/stops/place-rcmnl',\n",
       " '/stops/place-rugg',\n",
       " '/stops/place-state',\n",
       " '/stops/place-sbmnl',\n",
       " '/stops/place-sull',\n",
       " '/stops/place-tumnl',\n",
       " '/stops/place-welln',\n",
       " '/stops/place-alsgr',\n",
       " '/stops/place-amory',\n",
       " '/stops/place-armnl',\n",
       " '/stops/place-babck',\n",
       " '/stops/place-bckhl',\n",
       " '/stops/place-balsq',\n",
       " '/stops/place-bcnfd',\n",
       " '/stops/place-bland',\n",
       " '/stops/place-lake',\n",
       " '/stops/place-bucen',\n",
       " '/stops/place-buest',\n",
       " '/stops/place-boyls',\n",
       " '/stops/place-bndhl',\n",
       " '/stops/place-brmnl',\n",
       " '/stops/place-brkhl',\n",
       " '/stops/place-bvmnl',\n",
       " '/stops/place-chhil',\n",
       " '/stops/place-chill',\n",
       " '/stops/place-chswk',\n",
       " '/stops/place-clmnl',\n",
       " '/stops/place-cool',\n",
       " '/stops/place-coecl',\n",
       " '/stops/place-denrd',\n",
       " '/stops/place-esomr',\n",
       " '/stops/place-eliot',\n",
       " '/stops/place-engav',\n",
       " '/stops/place-fbkst',\n",
       " '/stops/place-fenwy',\n",
       " '/stops/place-fenwd',\n",
       " '/stops/place-gilmn',\n",
       " '/stops/place-gover',\n",
       " '/stops/place-grigg',\n",
       " '/stops/place-harvd',\n",
       " '/stops/place-hwsst',\n",
       " '/stops/place-haecl',\n",
       " '/stops/place-hsmnl',\n",
       " '/stops/place-hymnl',\n",
       " '/stops/place-kencl',\n",
       " '/stops/place-kntst',\n",
       " '/stops/place-lech',\n",
       " '/stops/place-longw',\n",
       " '/stops/place-lngmd',\n",
       " '/stops/place-mgngl',\n",
       " '/stops/place-mdftf',\n",
       " '/stops/place-mispk',\n",
       " '/stops/place-mfa',\n",
       " '/stops/place-newto',\n",
       " '/stops/place-newtn',\n",
       " '/stops/place-north',\n",
       " '/stops/place-nuniv',\n",
       " '/stops/place-brico',\n",
       " '/stops/place-pktrm',\n",
       " '/stops/place-prmnl',\n",
       " '/stops/place-rsmnl',\n",
       " '/stops/place-river',\n",
       " '/stops/place-rvrwy',\n",
       " '/stops/place-smary',\n",
       " '/stops/place-stpul',\n",
       " '/stops/place-spmnl',\n",
       " '/stops/place-sougr',\n",
       " '/stops/place-sumav',\n",
       " '/stops/place-sthld',\n",
       " '/stops/place-symcl',\n",
       " '/stops/place-tapst',\n",
       " '/stops/place-unsqu',\n",
       " '/stops/place-waban',\n",
       " '/stops/place-wrnst',\n",
       " '/stops/place-bcnwa',\n",
       " '/stops/place-wascm',\n",
       " '/stops/place-woodl',\n",
       " '/stops/place-aport',\n",
       " '/stops/place-aqucl',\n",
       " '/stops/place-bmmnl',\n",
       " '/stops/place-bomnl',\n",
       " '/stops/place-gover',\n",
       " '/stops/place-mvbcl',\n",
       " '/stops/place-orhte',\n",
       " '/stops/place-rbmnl',\n",
       " '/stops/place-state',\n",
       " '/stops/place-sdmnl',\n",
       " '/stops/place-wondl',\n",
       " '/stops/place-wimnl']"
      ]
     },
     "execution_count": 93,
     "metadata": {},
     "output_type": "execute_result"
    }
   ],
   "source": [
    "# From the site code, the urls for the stops are under the class specified below\n",
    "a_list = soup.find_all('a', {'class': 'btn button stop-btn m-detailed-stop'})\n",
    "\n",
    "# The href is then the url for each stop\n",
    "stn_urls = [station['href'] for station in a_list]\n",
    "print(len(stn_urls))\n",
    "stn_urls"
   ]
  },
  {
   "cell_type": "code",
   "execution_count": 105,
   "id": "a954ba79-ae06-4254-bc81-fcde9c8d5d68",
   "metadata": {},
   "outputs": [
    {
     "name": "stdout",
     "output_type": "stream",
     "text": [
      "https://www.mbta.com\n",
      "https://www.mbta.com/stops/place-alfcl\n"
     ]
    },
    {
     "data": {
      "text/plain": [
       "'Alewife Brook Pkwy and Cambridge Park Dr, Cambridge, MA 02140'"
      ]
     },
     "execution_count": 105,
     "metadata": {},
     "output_type": "execute_result"
    }
   ],
   "source": [
    "# Create the url for the station\n",
    "\n",
    "'''\n",
    "For whatever reason, the base url for each specific station drops the '/stops/subway'\n",
    "portion of the base url.  This is corrected by creating a new base url\n",
    "'''\n",
    "base_url_new = base_url.replace('/stops/subway', '')\n",
    "print(base_url_new)\n",
    "\n",
    "# Create the url for the first T-stop\n",
    "stn_url = base_url_new + stn_urls[0]\n",
    "print(stn_url)\n",
    "\n",
    "# Connect to T-stop page\n",
    "res_stn = requests.get(stn_url)\n",
    "\n",
    "# Pull the website text HTML string out for the station/t-stop\n",
    "html_stn = res_stn.text\n",
    "\n",
    "# Create the soup object\n",
    "soup_stn = BeautifulSoup(html_stn, 'lxml')\n",
    "\n",
    "# Extract the address text:\n",
    "soup_stn.find_all('div', {'class': 'h3'})[0].text"
   ]
  },
  {
   "cell_type": "code",
   "execution_count": 108,
   "id": "85748dc1-13e6-494f-b8f5-40da60435b74",
   "metadata": {},
   "outputs": [
    {
     "name": "stdout",
     "output_type": "stream",
     "text": [
      "/stops/place-alfcl\n",
      "/stops/place-andrw\n",
      "/stops/place-asmnl\n",
      "/stops/place-brntn\n",
      "/stops/place-brdwy\n"
     ]
    }
   ],
   "source": [
    "# Now take everything above and loop through it but add a wait time\n",
    "\n",
    "for station in stn_urls[0:5]:\n",
    "    print(station)"
   ]
  },
  {
   "cell_type": "code",
   "execution_count": null,
   "id": "079487bc-ed95-4594-b46c-5c599f38e26f",
   "metadata": {},
   "outputs": [],
   "source": []
  },
  {
   "cell_type": "code",
   "execution_count": null,
   "id": "51ff4c29-41a3-41ed-80f0-ed5d5cc48492",
   "metadata": {},
   "outputs": [],
   "source": []
  },
  {
   "cell_type": "code",
   "execution_count": null,
   "id": "643b2b84-4680-41f5-ab4b-f95e817ed400",
   "metadata": {},
   "outputs": [],
   "source": []
  },
  {
   "cell_type": "markdown",
   "id": "6436a596-3936-4547-b4d5-2936a425af42",
   "metadata": {},
   "source": [
    "# Geocoding API"
   ]
  },
  {
   "cell_type": "code",
   "execution_count": 2,
   "id": "338cfc37-7cbe-46de-bef0-195116aab812",
   "metadata": {},
   "outputs": [],
   "source": [
    "api_key = config.api_key;"
   ]
  },
  {
   "cell_type": "code",
   "execution_count": 6,
   "id": "1f7723c5-782c-4652-814c-7f13633b3f0f",
   "metadata": {},
   "outputs": [],
   "source": [
    "# I think we need this url per the following source:\n",
    "#  https://developers.google.com/maps/documentation/geocoding/get-api-key\n",
    "\n",
    "# This is the url they give you for formatting:\n",
    "    # 'https://maps.googleapis.com/maps/api/geocode/json?address=1600+Amphitheatre+Parkway,+Mountain+View,+CA&key=YOUR_API_KEY'\n",
    "url = 'https://maps.googleapis.com/maps/api/geocode/json?address=1600+Amphitheatre+Parkway,+Mountain+View,+CA&key=' + api_key"
   ]
  },
  {
   "cell_type": "code",
   "execution_count": 8,
   "id": "1139d63a-7092-43d9-8d5b-38e52a80e4c9",
   "metadata": {},
   "outputs": [],
   "source": [
    "# The code below was adapted from the following source:\n",
    "    # https://github.com/googlemaps/google-maps-services-python\n",
    "\n",
    "gmaps = googlemaps.Client(key=api_key)\n",
    "\n",
    "# Geocoding an address\n",
    "geocode_result = gmaps.geocode('Alewife Brook Pkwy and Cambridge Park Dr, Cambridge, MA 02140')\n",
    "\n",
    "# Look up an address with reverse geocoding\n",
    "reverse_geocode_result = gmaps.reverse_geocode((40.714224, -73.961452))"
   ]
  },
  {
   "cell_type": "code",
   "execution_count": 10,
   "id": "e2157cca-8e47-4575-b1d0-4f659a9a4506",
   "metadata": {},
   "outputs": [
    {
     "data": {
      "text/plain": [
       "[{'address_components': [{'long_name': 'Alewife Brook Parkway & Cambridgepark Drive',\n",
       "    'short_name': 'Alewife Brook Pkwy & Cambridgepark Dr',\n",
       "    'types': ['intersection']},\n",
       "   {'long_name': 'North Cambridge',\n",
       "    'short_name': 'North Cambridge',\n",
       "    'types': ['neighborhood', 'political']},\n",
       "   {'long_name': 'Cambridge',\n",
       "    'short_name': 'Cambridge',\n",
       "    'types': ['locality', 'political']},\n",
       "   {'long_name': 'Middlesex County',\n",
       "    'short_name': 'Middlesex County',\n",
       "    'types': ['administrative_area_level_2', 'political']},\n",
       "   {'long_name': 'Massachusetts',\n",
       "    'short_name': 'MA',\n",
       "    'types': ['administrative_area_level_1', 'political']},\n",
       "   {'long_name': 'United States',\n",
       "    'short_name': 'US',\n",
       "    'types': ['country', 'political']},\n",
       "   {'long_name': '02140', 'short_name': '02140', 'types': ['postal_code']}],\n",
       "  'formatted_address': 'Alewife Brook Pkwy & Cambridgepark Dr, Cambridge, MA 02140, USA',\n",
       "  'geometry': {'location': {'lat': 42.3947455, 'lng': -71.14048149999999},\n",
       "   'location_type': 'GEOMETRIC_CENTER',\n",
       "   'viewport': {'northeast': {'lat': 42.3960944802915,\n",
       "     'lng': -71.1391325197085},\n",
       "    'southwest': {'lat': 42.3933965197085, 'lng': -71.1418304802915}}},\n",
       "  'place_id': 'Ej9BbGV3aWZlIEJyb29rIFBrd3kgJiBDYW1icmlkZ2VwYXJrIERyLCBDYW1icmlkZ2UsIE1BIDAyMTQwLCBVU0EiZiJkChQKEgm5oPOeCHfjiRGjzAajHbGkEBIUChIJuaDzngh344kRo8wGox2xpBAaFAoSCS2P77gDd-OJETIpYOzB1r9-GhQKEglv-n99CHfjiRF0vjMG8tQS1CIKDb_sRBkV8dKY1Q',\n",
       "  'types': ['intersection']}]"
      ]
     },
     "execution_count": 10,
     "metadata": {},
     "output_type": "execute_result"
    }
   ],
   "source": [
    "geocode_result"
   ]
  },
  {
   "cell_type": "code",
   "execution_count": 109,
   "id": "cb8fbf17-702a-410a-aed7-15afbc8eb7a1",
   "metadata": {},
   "outputs": [
    {
     "data": {
      "text/plain": [
       "{'lat': 42.3947455, 'lng': -71.14048149999999}"
      ]
     },
     "execution_count": 109,
     "metadata": {},
     "output_type": "execute_result"
    }
   ],
   "source": [
    "# Help with selecting the appropriate coordinates from:  https://stackoverflow.com/questions/43194789/whats-the-difference-between-location-and-viewport-coordinates-when-geocoding-wi\n",
    "\n",
    "geocode_result[0]['geometry']['location']"
   ]
  },
  {
   "cell_type": "code",
   "execution_count": null,
   "id": "7051c9ee-aaef-43a5-b458-b6b3ad55d2ed",
   "metadata": {},
   "outputs": [],
   "source": []
  },
  {
   "cell_type": "code",
   "execution_count": null,
   "id": "3d7a24ff-2859-4d05-bd60-c3197e5c7dfb",
   "metadata": {},
   "outputs": [],
   "source": []
  }
 ],
 "metadata": {
  "kernelspec": {
   "display_name": "Python 3 (ipykernel)",
   "language": "python",
   "name": "python3"
  },
  "language_info": {
   "codemirror_mode": {
    "name": "ipython",
    "version": 3
   },
   "file_extension": ".py",
   "mimetype": "text/x-python",
   "name": "python",
   "nbconvert_exporter": "python",
   "pygments_lexer": "ipython3",
   "version": "3.10.9"
  }
 },
 "nbformat": 4,
 "nbformat_minor": 5
}
