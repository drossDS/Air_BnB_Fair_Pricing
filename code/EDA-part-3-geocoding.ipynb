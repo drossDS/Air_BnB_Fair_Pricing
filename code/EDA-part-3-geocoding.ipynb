{
 "cells": [
  {
   "cell_type": "code",
   "execution_count": 18,
   "id": "7755b9ee-cabe-4c1f-bc54-0c3ec15ccddb",
   "metadata": {},
   "outputs": [],
   "source": [
    "# Basic Imports\n",
    "import pandas as pd\n",
    "import numpy as np\n",
    "import matplotlib.pyplot as plt\n",
    "import seaborn as sns\n",
    "\n",
    "# Import the config file\n",
    "import config\n",
    "\n",
    "# For tesxt:\n",
    "import re\n",
    "\n",
    "# For times:\n",
    "import time\n",
    "\n",
    "# Set a random seed for imputation\n",
    "#  Source:  https://numpy.org/doc/stable/reference/random/generated/numpy.random.seed.html\n",
    "np.random.seed(42)\n",
    "\n",
    "# for Google Geocoding API\n",
    "'''\n",
    "Setting up the API key and getting started was enabled with help from the following sources:\n",
    "* https://developers.google.com/maps/documentation/geocoding/?csw=1\n",
    "* https://developers.google.com/maps/documentation/geocoding/overview\n",
    "* https://developers.google.com/maps/get-started#api-key\n",
    "* https://developers.google.com/maps/documentation/geocoding/get-api-key\n",
    "* https://github.com/googlemaps/google-maps-services-python\n",
    "'''\n",
    "import googlemaps\n",
    "from datetime import datetime\n",
    "\n",
    "# Import the Beatiful Soup and Requests Packages for web scraping:\n",
    "import requests\n",
    "from bs4 import BeautifulSoup"
   ]
  },
  {
   "cell_type": "markdown",
   "id": "520ed38b-c665-4bf2-8a22-699c549c4a18",
   "metadata": {},
   "source": [
    "# Find Proximity to Subway ('T') Stations"
   ]
  },
  {
   "cell_type": "markdown",
   "id": "9e2f9bee-c9eb-4c28-a8a3-9950000a1198",
   "metadata": {},
   "source": [
    "## Get a List of Sll the T Stations/Stops\n",
    "\n",
    "Web scrape this entire site:  https://www.mbta.com/stops/subway .... to get the list of stations, then go to the urls for each to get the address and scrape the address which will get entered into the google geocoding request"
   ]
  },
  {
   "cell_type": "code",
   "execution_count": 89,
   "id": "9e01bdc5-c49f-413a-8dd5-5ec0ba6003df",
   "metadata": {},
   "outputs": [
    {
     "data": {
      "text/plain": [
       "200"
      ]
     },
     "execution_count": 89,
     "metadata": {},
     "output_type": "execute_result"
    }
   ],
   "source": [
    "# Store the base url from which all T-stop data will be retrieved\n",
    "base_url = 'https://www.mbta.com/stops/subway'\n",
    "\n",
    "# Connect to the web page:\n",
    "res = requests.get(base_url)\n",
    "\n",
    "# Pull the website text HTML string out\n",
    "html = res.text\n",
    "\n",
    "# Create that Beautiful Soup Instance!  Choosing 'lxml' as the parser.\n",
    "soup = BeautifulSoup(html, 'lxml')\n",
    "\n",
    "res.status_code"
   ]
  },
  {
   "cell_type": "code",
   "execution_count": 90,
   "id": "e92d8a50-f5f5-4048-ae66-0d7f47a30392",
   "metadata": {
    "scrolled": true,
    "tags": []
   },
   "outputs": [
    {
     "name": "stdout",
     "output_type": "stream",
     "text": [
      "132\n"
     ]
    },
    {
     "data": {
      "text/plain": [
       "['/place-alfcl',\n",
       " '/place-andrw',\n",
       " '/place-asmnl',\n",
       " '/place-brntn',\n",
       " '/place-brdwy',\n",
       " '/place-cntsq',\n",
       " '/place-chmnl',\n",
       " '/place-davis',\n",
       " '/place-dwnxg',\n",
       " '/place-fldcr',\n",
       " '/place-harsq',\n",
       " '/place-jfk',\n",
       " '/place-knncl',\n",
       " '/place-nqncy',\n",
       " '/place-pktrm',\n",
       " '/place-portr',\n",
       " '/place-qamnl',\n",
       " '/place-qnctr',\n",
       " '/place-shmnl',\n",
       " '/place-smmnl',\n",
       " '/place-sstat',\n",
       " '/place-wlsta',\n",
       " '/place-asmnl',\n",
       " '/place-butlr',\n",
       " '/place-capst',\n",
       " '/place-cedgr',\n",
       " '/place-cenav',\n",
       " '/place-matt',\n",
       " '/place-miltt',\n",
       " '/place-valrd',\n",
       " '/place-astao',\n",
       " '/place-bbsta',\n",
       " '/place-chncl',\n",
       " '/place-ccmnl',\n",
       " '/place-dwnxg',\n",
       " '/place-forhl',\n",
       " '/place-grnst',\n",
       " '/place-haecl',\n",
       " '/place-jaksn',\n",
       " '/place-mlmnl',\n",
       " '/place-masta',\n",
       " '/place-north',\n",
       " '/place-ogmnl',\n",
       " '/place-rcmnl',\n",
       " '/place-rugg',\n",
       " '/place-state',\n",
       " '/place-sbmnl',\n",
       " '/place-sull',\n",
       " '/place-tumnl',\n",
       " '/place-welln',\n",
       " '/place-alsgr',\n",
       " '/place-amory',\n",
       " '/place-armnl',\n",
       " '/place-babck',\n",
       " '/place-bckhl',\n",
       " '/place-balsq',\n",
       " '/place-bcnfd',\n",
       " '/place-bland',\n",
       " '/place-lake',\n",
       " '/place-bucen',\n",
       " '/place-buest',\n",
       " '/place-boyls',\n",
       " '/place-bndhl',\n",
       " '/place-brmnl',\n",
       " '/place-brkhl',\n",
       " '/place-bvmnl',\n",
       " '/place-chhil',\n",
       " '/place-chill',\n",
       " '/place-chswk',\n",
       " '/place-clmnl',\n",
       " '/place-cool',\n",
       " '/place-coecl',\n",
       " '/place-denrd',\n",
       " '/place-esomr',\n",
       " '/place-eliot',\n",
       " '/place-engav',\n",
       " '/place-fbkst',\n",
       " '/place-fenwy',\n",
       " '/place-fenwd',\n",
       " '/place-gilmn',\n",
       " '/place-gover',\n",
       " '/place-grigg',\n",
       " '/place-harvd',\n",
       " '/place-hwsst',\n",
       " '/place-haecl',\n",
       " '/place-hsmnl',\n",
       " '/place-hymnl',\n",
       " '/place-kencl',\n",
       " '/place-kntst',\n",
       " '/place-lech',\n",
       " '/place-longw',\n",
       " '/place-lngmd',\n",
       " '/place-mgngl',\n",
       " '/place-mdftf',\n",
       " '/place-mispk',\n",
       " '/place-mfa',\n",
       " '/place-newto',\n",
       " '/place-newtn',\n",
       " '/place-north',\n",
       " '/place-nuniv',\n",
       " '/place-brico',\n",
       " '/place-pktrm',\n",
       " '/place-prmnl',\n",
       " '/place-rsmnl',\n",
       " '/place-river',\n",
       " '/place-rvrwy',\n",
       " '/place-smary',\n",
       " '/place-stpul',\n",
       " '/place-spmnl',\n",
       " '/place-sougr',\n",
       " '/place-sumav',\n",
       " '/place-sthld',\n",
       " '/place-symcl',\n",
       " '/place-tapst',\n",
       " '/place-unsqu',\n",
       " '/place-waban',\n",
       " '/place-wrnst',\n",
       " '/place-bcnwa',\n",
       " '/place-wascm',\n",
       " '/place-woodl',\n",
       " '/place-aport',\n",
       " '/place-aqucl',\n",
       " '/place-bmmnl',\n",
       " '/place-bomnl',\n",
       " '/place-gover',\n",
       " '/place-mvbcl',\n",
       " '/place-orhte',\n",
       " '/place-rbmnl',\n",
       " '/place-state',\n",
       " '/place-sdmnl',\n",
       " '/place-wondl',\n",
       " '/place-wimnl']"
      ]
     },
     "execution_count": 90,
     "metadata": {},
     "output_type": "execute_result"
    }
   ],
   "source": [
    "# From the site code, the urls for the stops are under the class specified below\n",
    "a_list = soup.find_all('a', {'class': 'btn button stop-btn m-detailed-stop'})\n",
    "\n",
    "# The href is then the url for each stop. However, it includes some of the text from \n",
    "#  the base url which must be removed while sending to a list.\n",
    "stn_urls = [station['href'].replace('/stops', '') for station in a_list]\n",
    "print(len(stn_urls))\n",
    "stn_urls"
   ]
  },
  {
   "cell_type": "code",
   "execution_count": null,
   "id": "a954ba79-ae06-4254-bc81-fcde9c8d5d68",
   "metadata": {},
   "outputs": [],
   "source": []
  },
  {
   "cell_type": "code",
   "execution_count": null,
   "id": "85748dc1-13e6-494f-b8f5-40da60435b74",
   "metadata": {},
   "outputs": [],
   "source": []
  },
  {
   "cell_type": "code",
   "execution_count": null,
   "id": "079487bc-ed95-4594-b46c-5c599f38e26f",
   "metadata": {},
   "outputs": [],
   "source": []
  },
  {
   "cell_type": "code",
   "execution_count": null,
   "id": "51ff4c29-41a3-41ed-80f0-ed5d5cc48492",
   "metadata": {},
   "outputs": [],
   "source": []
  },
  {
   "cell_type": "code",
   "execution_count": null,
   "id": "643b2b84-4680-41f5-ab4b-f95e817ed400",
   "metadata": {},
   "outputs": [],
   "source": []
  },
  {
   "cell_type": "markdown",
   "id": "6436a596-3936-4547-b4d5-2936a425af42",
   "metadata": {},
   "source": [
    "# Geocoding API"
   ]
  },
  {
   "cell_type": "code",
   "execution_count": 2,
   "id": "338cfc37-7cbe-46de-bef0-195116aab812",
   "metadata": {},
   "outputs": [],
   "source": [
    "api_key = config.api_key;"
   ]
  },
  {
   "cell_type": "code",
   "execution_count": 6,
   "id": "1f7723c5-782c-4652-814c-7f13633b3f0f",
   "metadata": {},
   "outputs": [],
   "source": [
    "# I think we need this url per the following source:\n",
    "#  https://developers.google.com/maps/documentation/geocoding/get-api-key\n",
    "\n",
    "# This is the url they give you for formatting:\n",
    "    # 'https://maps.googleapis.com/maps/api/geocode/json?address=1600+Amphitheatre+Parkway,+Mountain+View,+CA&key=YOUR_API_KEY'\n",
    "url = 'https://maps.googleapis.com/maps/api/geocode/json?address=1600+Amphitheatre+Parkway,+Mountain+View,+CA&key=' + api_key"
   ]
  },
  {
   "cell_type": "code",
   "execution_count": 8,
   "id": "1139d63a-7092-43d9-8d5b-38e52a80e4c9",
   "metadata": {},
   "outputs": [],
   "source": [
    "# The code below was adapted from the following source:\n",
    "    # https://github.com/googlemaps/google-maps-services-python\n",
    "\n",
    "gmaps = googlemaps.Client(key=api_key)\n",
    "\n",
    "# Geocoding an address\n",
    "geocode_result = gmaps.geocode('Alewife Brook Pkwy and Cambridge Park Dr, Cambridge, MA 02140')\n",
    "\n",
    "# Look up an address with reverse geocoding\n",
    "reverse_geocode_result = gmaps.reverse_geocode((40.714224, -73.961452))"
   ]
  },
  {
   "cell_type": "code",
   "execution_count": 10,
   "id": "e2157cca-8e47-4575-b1d0-4f659a9a4506",
   "metadata": {},
   "outputs": [
    {
     "data": {
      "text/plain": [
       "[{'address_components': [{'long_name': 'Alewife Brook Parkway & Cambridgepark Drive',\n",
       "    'short_name': 'Alewife Brook Pkwy & Cambridgepark Dr',\n",
       "    'types': ['intersection']},\n",
       "   {'long_name': 'North Cambridge',\n",
       "    'short_name': 'North Cambridge',\n",
       "    'types': ['neighborhood', 'political']},\n",
       "   {'long_name': 'Cambridge',\n",
       "    'short_name': 'Cambridge',\n",
       "    'types': ['locality', 'political']},\n",
       "   {'long_name': 'Middlesex County',\n",
       "    'short_name': 'Middlesex County',\n",
       "    'types': ['administrative_area_level_2', 'political']},\n",
       "   {'long_name': 'Massachusetts',\n",
       "    'short_name': 'MA',\n",
       "    'types': ['administrative_area_level_1', 'political']},\n",
       "   {'long_name': 'United States',\n",
       "    'short_name': 'US',\n",
       "    'types': ['country', 'political']},\n",
       "   {'long_name': '02140', 'short_name': '02140', 'types': ['postal_code']}],\n",
       "  'formatted_address': 'Alewife Brook Pkwy & Cambridgepark Dr, Cambridge, MA 02140, USA',\n",
       "  'geometry': {'location': {'lat': 42.3947455, 'lng': -71.14048149999999},\n",
       "   'location_type': 'GEOMETRIC_CENTER',\n",
       "   'viewport': {'northeast': {'lat': 42.3960944802915,\n",
       "     'lng': -71.1391325197085},\n",
       "    'southwest': {'lat': 42.3933965197085, 'lng': -71.1418304802915}}},\n",
       "  'place_id': 'Ej9BbGV3aWZlIEJyb29rIFBrd3kgJiBDYW1icmlkZ2VwYXJrIERyLCBDYW1icmlkZ2UsIE1BIDAyMTQwLCBVU0EiZiJkChQKEgm5oPOeCHfjiRGjzAajHbGkEBIUChIJuaDzngh344kRo8wGox2xpBAaFAoSCS2P77gDd-OJETIpYOzB1r9-GhQKEglv-n99CHfjiRF0vjMG8tQS1CIKDb_sRBkV8dKY1Q',\n",
       "  'types': ['intersection']}]"
      ]
     },
     "execution_count": 10,
     "metadata": {},
     "output_type": "execute_result"
    }
   ],
   "source": [
    "geocode_result"
   ]
  },
  {
   "cell_type": "code",
   "execution_count": 17,
   "id": "cb8fbf17-702a-410a-aed7-15afbc8eb7a1",
   "metadata": {},
   "outputs": [
    {
     "data": {
      "text/plain": [
       "{'lat': 42.3947455, 'lng': -71.14048149999999}"
      ]
     },
     "execution_count": 17,
     "metadata": {},
     "output_type": "execute_result"
    }
   ],
   "source": [
    "geocode_result[0]['geometry']['location']"
   ]
  },
  {
   "cell_type": "code",
   "execution_count": null,
   "id": "7051c9ee-aaef-43a5-b458-b6b3ad55d2ed",
   "metadata": {},
   "outputs": [],
   "source": []
  },
  {
   "cell_type": "code",
   "execution_count": null,
   "id": "3d7a24ff-2859-4d05-bd60-c3197e5c7dfb",
   "metadata": {},
   "outputs": [],
   "source": []
  }
 ],
 "metadata": {
  "kernelspec": {
   "display_name": "Python 3 (ipykernel)",
   "language": "python",
   "name": "python3"
  },
  "language_info": {
   "codemirror_mode": {
    "name": "ipython",
    "version": 3
   },
   "file_extension": ".py",
   "mimetype": "text/x-python",
   "name": "python",
   "nbconvert_exporter": "python",
   "pygments_lexer": "ipython3",
   "version": "3.10.9"
  }
 },
 "nbformat": 4,
 "nbformat_minor": 5
}
