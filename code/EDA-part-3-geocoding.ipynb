{
 "cells": [
  {
   "cell_type": "code",
   "execution_count": 7,
   "id": "7755b9ee-cabe-4c1f-bc54-0c3ec15ccddb",
   "metadata": {},
   "outputs": [],
   "source": [
    "# Basic Imports\n",
    "import pandas as pd\n",
    "import numpy as np\n",
    "import matplotlib.pyplot as plt\n",
    "import seaborn as sns\n",
    "\n",
    "# Import the config file\n",
    "import config\n",
    "\n",
    "# For tesxt:\n",
    "import re\n",
    "\n",
    "# For times:\n",
    "import time\n",
    "\n",
    "# Set a random seed for imputation\n",
    "#  Source:  https://numpy.org/doc/stable/reference/random/generated/numpy.random.seed.html\n",
    "np.random.seed(42)\n",
    "\n",
    "# for Google Geocoding API\n",
    "import googlemaps\n",
    "from datetime import datetime"
   ]
  },
  {
   "cell_type": "markdown",
   "id": "520ed38b-c665-4bf2-8a22-699c549c4a18",
   "metadata": {},
   "source": [
    "# Find Proximity to Subway ('T') Stations"
   ]
  },
  {
   "cell_type": "markdown",
   "id": "9e2f9bee-c9eb-4c28-a8a3-9950000a1198",
   "metadata": {},
   "source": [
    "## Get a List of Sll the T Stations/Stops\n",
    "\n",
    "Web scrape this entire site:  https://www.mbta.com/stops/subway .... to get the list of stations, then go to the urls for each to get the address and scrape the address which will get entered into the google geocoding request"
   ]
  },
  {
   "cell_type": "code",
   "execution_count": null,
   "id": "9e01bdc5-c49f-413a-8dd5-5ec0ba6003df",
   "metadata": {},
   "outputs": [],
   "source": []
  },
  {
   "cell_type": "code",
   "execution_count": null,
   "id": "643b2b84-4680-41f5-ab4b-f95e817ed400",
   "metadata": {},
   "outputs": [],
   "source": []
  },
  {
   "cell_type": "markdown",
   "id": "6436a596-3936-4547-b4d5-2936a425af42",
   "metadata": {},
   "source": [
    "# Geocoding API"
   ]
  },
  {
   "cell_type": "code",
   "execution_count": 2,
   "id": "338cfc37-7cbe-46de-bef0-195116aab812",
   "metadata": {},
   "outputs": [],
   "source": [
    "api_key = config.api_key;"
   ]
  },
  {
   "cell_type": "code",
   "execution_count": 6,
   "id": "1f7723c5-782c-4652-814c-7f13633b3f0f",
   "metadata": {},
   "outputs": [],
   "source": [
    "# I think we need this url per the following source:\n",
    "#  https://developers.google.com/maps/documentation/geocoding/get-api-key\n",
    "\n",
    "# This is the url they give you for formatting:\n",
    "    # 'https://maps.googleapis.com/maps/api/geocode/json?address=1600+Amphitheatre+Parkway,+Mountain+View,+CA&key=YOUR_API_KEY'\n",
    "url = 'https://maps.googleapis.com/maps/api/geocode/json?address=1600+Amphitheatre+Parkway,+Mountain+View,+CA&key=' + api_key"
   ]
  },
  {
   "cell_type": "code",
   "execution_count": 8,
   "id": "1139d63a-7092-43d9-8d5b-38e52a80e4c9",
   "metadata": {},
   "outputs": [],
   "source": [
    "# The code below was adapted from the following source:\n",
    "    # https://github.com/googlemaps/google-maps-services-python\n",
    "\n",
    "gmaps = googlemaps.Client(key=api_key)\n",
    "\n",
    "# Geocoding an address\n",
    "geocode_result = gmaps.geocode('Alewife Brook Pkwy and Cambridge Park Dr, Cambridge, MA 02140')\n",
    "\n",
    "# Look up an address with reverse geocoding\n",
    "reverse_geocode_result = gmaps.reverse_geocode((40.714224, -73.961452))"
   ]
  },
  {
   "cell_type": "code",
   "execution_count": 6,
   "id": "e2157cca-8e47-4575-b1d0-4f659a9a4506",
   "metadata": {},
   "outputs": [
    {
     "data": {
      "text/plain": [
       "[{'address_components': [{'long_name': 'Alewife Brook Parkway & Cambridgepark Drive',\n",
       "    'short_name': 'Alewife Brook Pkwy & Cambridgepark Dr',\n",
       "    'types': ['intersection']},\n",
       "   {'long_name': 'North Cambridge',\n",
       "    'short_name': 'North Cambridge',\n",
       "    'types': ['neighborhood', 'political']},\n",
       "   {'long_name': 'Cambridge',\n",
       "    'short_name': 'Cambridge',\n",
       "    'types': ['locality', 'political']},\n",
       "   {'long_name': 'Middlesex County',\n",
       "    'short_name': 'Middlesex County',\n",
       "    'types': ['administrative_area_level_2', 'political']},\n",
       "   {'long_name': 'Massachusetts',\n",
       "    'short_name': 'MA',\n",
       "    'types': ['administrative_area_level_1', 'political']},\n",
       "   {'long_name': 'United States',\n",
       "    'short_name': 'US',\n",
       "    'types': ['country', 'political']},\n",
       "   {'long_name': '02140', 'short_name': '02140', 'types': ['postal_code']}],\n",
       "  'formatted_address': 'Alewife Brook Pkwy & Cambridgepark Dr, Cambridge, MA 02140, USA',\n",
       "  'geometry': {'location': {'lat': 42.3947455, 'lng': -71.14048149999999},\n",
       "   'location_type': 'GEOMETRIC_CENTER',\n",
       "   'viewport': {'northeast': {'lat': 42.3960944802915,\n",
       "     'lng': -71.1391325197085},\n",
       "    'southwest': {'lat': 42.3933965197085, 'lng': -71.1418304802915}}},\n",
       "  'place_id': 'Ej9BbGV3aWZlIEJyb29rIFBrd3kgJiBDYW1icmlkZ2VwYXJrIERyLCBDYW1icmlkZ2UsIE1BIDAyMTQwLCBVU0EiZiJkChQKEgm5oPOeCHfjiRGjzAajHbGkEBIUChIJuaDzngh344kRo8wGox2xpBAaFAoSCS2P77gDd-OJETIpYOzB1r9-GhQKEglv-n99CHfjiRF0vjMG8tQS1CIKDb_sRBkV8dKY1Q',\n",
       "  'types': ['intersection']}]"
      ]
     },
     "execution_count": 6,
     "metadata": {},
     "output_type": "execute_result"
    }
   ],
   "source": [
    "geocode_result"
   ]
  },
  {
   "cell_type": "code",
   "execution_count": null,
   "id": "cb8fbf17-702a-410a-aed7-15afbc8eb7a1",
   "metadata": {},
   "outputs": [],
   "source": []
  },
  {
   "cell_type": "code",
   "execution_count": null,
   "id": "7051c9ee-aaef-43a5-b458-b6b3ad55d2ed",
   "metadata": {},
   "outputs": [],
   "source": []
  },
  {
   "cell_type": "code",
   "execution_count": null,
   "id": "3d7a24ff-2859-4d05-bd60-c3197e5c7dfb",
   "metadata": {},
   "outputs": [],
   "source": []
  }
 ],
 "metadata": {
  "kernelspec": {
   "display_name": "Python 3 (ipykernel)",
   "language": "python",
   "name": "python3"
  },
  "language_info": {
   "codemirror_mode": {
    "name": "ipython",
    "version": 3
   },
   "file_extension": ".py",
   "mimetype": "text/x-python",
   "name": "python",
   "nbconvert_exporter": "python",
   "pygments_lexer": "ipython3",
   "version": "3.10.9"
  }
 },
 "nbformat": 4,
 "nbformat_minor": 5
}
