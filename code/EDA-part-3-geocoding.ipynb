{
 "cells": [
  {
   "cell_type": "code",
   "execution_count": 1,
   "id": "7755b9ee-cabe-4c1f-bc54-0c3ec15ccddb",
   "metadata": {},
   "outputs": [],
   "source": [
    "# Basic Imports\n",
    "import pandas as pd\n",
    "import numpy as np\n",
    "import matplotlib.pyplot as plt\n",
    "import seaborn as sns\n",
    "\n",
    "# Import the config file\n",
    "import config\n",
    "\n",
    "# For tesxt:\n",
    "import re\n",
    "\n",
    "# For times:\n",
    "import time\n",
    "\n",
    "# Set a random seed for imputation\n",
    "#  Source:  https://numpy.org/doc/stable/reference/random/generated/numpy.random.seed.html\n",
    "np.random.seed(42)"
   ]
  },
  {
   "cell_type": "markdown",
   "id": "520ed38b-c665-4bf2-8a22-699c549c4a18",
   "metadata": {},
   "source": [
    "# Find Proximity to Subway ('T') Stations"
   ]
  },
  {
   "cell_type": "markdown",
   "id": "9e2f9bee-c9eb-4c28-a8a3-9950000a1198",
   "metadata": {},
   "source": [
    "## Get a List of Sll the T Stations/Stops\n",
    "\n",
    "Web scrape this entire site:  https://www.mbta.com/stops/subway .... to get the list of stations, then go to the urls for each to get the address and scrape the address which will get entered into the google geocoding request"
   ]
  },
  {
   "cell_type": "code",
   "execution_count": null,
   "id": "9e01bdc5-c49f-413a-8dd5-5ec0ba6003df",
   "metadata": {},
   "outputs": [],
   "source": []
  },
  {
   "cell_type": "code",
   "execution_count": null,
   "id": "643b2b84-4680-41f5-ab4b-f95e817ed400",
   "metadata": {},
   "outputs": [],
   "source": []
  },
  {
   "cell_type": "markdown",
   "id": "6436a596-3936-4547-b4d5-2936a425af42",
   "metadata": {},
   "source": [
    "# Geocoding API"
   ]
  },
  {
   "cell_type": "code",
   "execution_count": 5,
   "id": "338cfc37-7cbe-46de-bef0-195116aab812",
   "metadata": {},
   "outputs": [],
   "source": [
    "api_key = config.api_key;"
   ]
  },
  {
   "cell_type": "code",
   "execution_count": 6,
   "id": "1f7723c5-782c-4652-814c-7f13633b3f0f",
   "metadata": {},
   "outputs": [],
   "source": [
    "# I think we need this url per the following source:\n",
    "#  https://developers.google.com/maps/documentation/geocoding/get-api-key\n",
    "\n",
    "# This is the url they give you for formatting:\n",
    "    # 'https://maps.googleapis.com/maps/api/geocode/json?address=1600+Amphitheatre+Parkway,+Mountain+View,+CA&key=YOUR_API_KEY'\n",
    "url = 'https://maps.googleapis.com/maps/api/geocode/json?address=1600+Amphitheatre+Parkway,+Mountain+View,+CA&key=' + api_key"
   ]
  },
  {
   "cell_type": "code",
   "execution_count": null,
   "id": "1139d63a-7092-43d9-8d5b-38e52a80e4c9",
   "metadata": {},
   "outputs": [],
   "source": []
  },
  {
   "cell_type": "code",
   "execution_count": null,
   "id": "e2157cca-8e47-4575-b1d0-4f659a9a4506",
   "metadata": {},
   "outputs": [],
   "source": []
  },
  {
   "cell_type": "code",
   "execution_count": null,
   "id": "cb8fbf17-702a-410a-aed7-15afbc8eb7a1",
   "metadata": {},
   "outputs": [],
   "source": []
  },
  {
   "cell_type": "code",
   "execution_count": null,
   "id": "7051c9ee-aaef-43a5-b458-b6b3ad55d2ed",
   "metadata": {},
   "outputs": [],
   "source": []
  },
  {
   "cell_type": "code",
   "execution_count": null,
   "id": "3d7a24ff-2859-4d05-bd60-c3197e5c7dfb",
   "metadata": {},
   "outputs": [],
   "source": []
  }
 ],
 "metadata": {
  "kernelspec": {
   "display_name": "Python 3 (ipykernel)",
   "language": "python",
   "name": "python3"
  },
  "language_info": {
   "codemirror_mode": {
    "name": "ipython",
    "version": 3
   },
   "file_extension": ".py",
   "mimetype": "text/x-python",
   "name": "python",
   "nbconvert_exporter": "python",
   "pygments_lexer": "ipython3",
   "version": "3.10.9"
  }
 },
 "nbformat": 4,
 "nbformat_minor": 5
}
