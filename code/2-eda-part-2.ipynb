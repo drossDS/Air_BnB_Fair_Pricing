{
 "cells": [
  {
   "cell_type": "markdown",
   "id": "fed2ce4c-11ae-4c51-b051-a45e7154ed99",
   "metadata": {
    "tags": []
   },
   "source": [
    "# Exploratory Data Analysis Part 2:\n",
    "## Feature Extraction\n",
    "\n",
    "From the previous notebook, a few features were ommited from analysis due to their complexity.  They will be evaluated here.\n",
    "\n",
    "Per the previous notebook:\n",
    "\n",
    "The remaining features which have not yet been investigated are provided as follows, along with a brief plan to evaluate each of those features:\n",
    "* amenities\n",
    "    * These need to be separated out into the individual amenties, counted up, and one hot encoded\n",
    "* description\n",
    "    * This will require some manual examination and NLP techniques to attmept to find useful features\n",
    "* host_about\n",
    "    * This will require some manual examination and NLP techniques to attmept to find useful features\n",
    "* name\n",
    "    * This will require some manual examination and NLP techniques to attmept to find useful features\n",
    "* neighborhood_overview\n",
    "    * This will require some manual examination and NLP techniques to attmept to find useful features\n",
    "* host_location\n",
    "    * This will need to be combined with host_neighbourhood and encoded accordingly\n",
    "* host_neighbourhood\n",
    "    * This will need to be combined with host_location and encoded accordingly\n",
    "* license\n",
    "    * This will require come NLP techniques to extract similar values"
   ]
  },
  {
   "cell_type": "code",
   "execution_count": 105,
   "id": "2079961f-7e4d-4c37-86ec-e72388bbad75",
   "metadata": {},
   "outputs": [],
   "source": [
    "# Basic Imports\n",
    "import pandas as pd\n",
    "import numpy as np\n",
    "import matplotlib.pyplot as plt\n",
    "import seaborn as sns\n",
    "\n",
    "# For tesxt:\n",
    "import re\n",
    "\n",
    "# For times:\n",
    "import time\n",
    "\n",
    "# Set a random seed for imputation\n",
    "#  Source:  https://numpy.org/doc/stable/reference/random/generated/numpy.random.seed.html\n",
    "np.random.seed(42)\n",
    "\n",
    "# Sklearn\n",
    "from sklearn.model_selection import train_test_split\n",
    "from sklearn.impute import SimpleImputer\n",
    "from sklearn.feature_extraction.text import CountVectorizer"
   ]
  },
  {
   "cell_type": "markdown",
   "id": "dc647cae-2c89-4f96-9210-e987e2a81da3",
   "metadata": {},
   "source": [
    "# 1 - Read Data and Examine Dataframe"
   ]
  },
  {
   "cell_type": "code",
   "execution_count": 2,
   "id": "836c6df1-42cc-47d3-97d3-a7219a6d2086",
   "metadata": {},
   "outputs": [],
   "source": [
    "# keep the same dataframe name as in the previous notebook\n",
    "lstn = pd.read_csv('../data/listings_train_2.csv')"
   ]
  },
  {
   "cell_type": "code",
   "execution_count": 3,
   "id": "69fc9432-4f58-4472-8169-404b2f85a1d9",
   "metadata": {},
   "outputs": [
    {
     "name": "stdout",
     "output_type": "stream",
     "text": [
      "<class 'pandas.core.frame.DataFrame'>\n",
      "RangeIndex: 3477 entries, 0 to 3476\n",
      "Data columns (total 56 columns):\n",
      " #   Column                                        Non-Null Count  Dtype  \n",
      "---  ------                                        --------------  -----  \n",
      " 0   id                                            3477 non-null   int64  \n",
      " 1   name                                          3477 non-null   object \n",
      " 2   description                                   3464 non-null   object \n",
      " 3   neighborhood_overview                         2245 non-null   object \n",
      " 4   host_id                                       3477 non-null   int64  \n",
      " 5   host_since                                    3477 non-null   float64\n",
      " 6   host_location                                 2683 non-null   object \n",
      " 7   host_about                                    2463 non-null   object \n",
      " 8   host_response_time                            3477 non-null   object \n",
      " 9   host_response_rate                            3477 non-null   float64\n",
      " 10  host_acceptance_rate                          3477 non-null   float64\n",
      " 11  host_is_superhost                             3477 non-null   object \n",
      " 12  host_neighbourhood                            3364 non-null   object \n",
      " 13  host_listings_count                           3477 non-null   int64  \n",
      " 14  host_total_listings_count                     3477 non-null   int64  \n",
      " 15  host_verifications                            3477 non-null   object \n",
      " 16  host_has_profile_pic                          3477 non-null   object \n",
      " 17  host_identity_verified                        3477 non-null   object \n",
      " 18  neighbourhood_cleansed                        3477 non-null   object \n",
      " 19  latitude                                      3477 non-null   float64\n",
      " 20  longitude                                     3477 non-null   float64\n",
      " 21  property_type                                 3477 non-null   object \n",
      " 22  room_type                                     3477 non-null   object \n",
      " 23  accommodates                                  3477 non-null   int64  \n",
      " 24  bathrooms_text                                3477 non-null   object \n",
      " 25  bedrooms                                      3061 non-null   float64\n",
      " 26  beds                                          3399 non-null   float64\n",
      " 27  amenities                                     3477 non-null   object \n",
      " 28  price                                         3477 non-null   float64\n",
      " 29  minimum_nights                                3477 non-null   int64  \n",
      " 30  maximum_nights                                3477 non-null   int64  \n",
      " 31  has_availability                              3477 non-null   object \n",
      " 32  availability_30                               3477 non-null   int64  \n",
      " 33  availability_60                               3477 non-null   int64  \n",
      " 34  availability_90                               3477 non-null   int64  \n",
      " 35  availability_365                              3477 non-null   int64  \n",
      " 36  number_of_reviews                             3477 non-null   int64  \n",
      " 37  number_of_reviews_ltm                         3477 non-null   int64  \n",
      " 38  number_of_reviews_l30d                        3477 non-null   int64  \n",
      " 39  review_scores_rating                          2462 non-null   float64\n",
      " 40  review_scores_accuracy                        2455 non-null   float64\n",
      " 41  review_scores_cleanliness                     2456 non-null   float64\n",
      " 42  review_scores_checkin                         2455 non-null   float64\n",
      " 43  review_scores_communication                   2456 non-null   float64\n",
      " 44  review_scores_location                        2455 non-null   float64\n",
      " 45  review_scores_value                           2455 non-null   float64\n",
      " 46  license                                       2071 non-null   object \n",
      " 47  instant_bookable                              3477 non-null   object \n",
      " 48  calculated_host_listings_count                3477 non-null   int64  \n",
      " 49  calculated_host_listings_count_entire_homes   3477 non-null   int64  \n",
      " 50  calculated_host_listings_count_private_rooms  3477 non-null   int64  \n",
      " 51  calculated_host_listings_count_shared_rooms   3477 non-null   int64  \n",
      " 52  reviews_per_month                             2462 non-null   float64\n",
      " 53  pcnt_ent_homes                                3477 non-null   float64\n",
      " 54  pcnt_private                                  3477 non-null   float64\n",
      " 55  pcnt_shared                                   3477 non-null   float64\n",
      "dtypes: float64(19), int64(18), object(19)\n",
      "memory usage: 1.5+ MB\n"
     ]
    }
   ],
   "source": [
    "lstn.info()"
   ]
  },
  {
   "cell_type": "markdown",
   "id": "8cc870bd-036d-42a8-9ee8-f637c9afe407",
   "metadata": {},
   "source": [
    "# 2 - Required Functions from Previous Notebook"
   ]
  },
  {
   "cell_type": "code",
   "execution_count": 106,
   "id": "22b40851-6c19-46f3-b452-3eee3d5dd8ce",
   "metadata": {},
   "outputs": [],
   "source": [
    "'''\n",
    "The col_logger function will need to be brough in from the other notebooks\n",
    "\n",
    "This has been modified to include a 0 imputation value n such that transforamtion\n",
    "occurs on log(n) and not log(0) which is undefined.\n",
    "'''\n",
    "\n",
    "def col_logger(data_column, zero_imp = 1):\n",
    "    # Since log(0) is undefined, 0's must be treated as log(1)\n",
    "    return data_column.apply(lambda x: np.log(zero_imp) if x==0 else np.log(x))"
   ]
  },
  {
   "cell_type": "code",
   "execution_count": 5,
   "id": "529cad82-76c6-4223-9a10-c6967621839e",
   "metadata": {},
   "outputs": [],
   "source": [
    "# Create a histogram plotting function:\n",
    "def hist_plotter(data, title = None, x_lbl = None, y_lbl = 'Count',  size = (6,4), bins = None, log = False):\n",
    "    plt.figure(figsize = size)\n",
    "    plt.hist(data, bins = bins, log = log)\n",
    "    if title == None:\n",
    "        plt.title(f'{data.name}')\n",
    "    else:\n",
    "        plt.title(title)\n",
    "    if x_lbl == None:\n",
    "        plt.xlabel(f'{data.name}')\n",
    "    else:\n",
    "        plt.xlabel(x_lbl) \n",
    "    plt.ylabel(y_lbl)"
   ]
  },
  {
   "cell_type": "code",
   "execution_count": 6,
   "id": "a2ba7731-c3cd-4dd6-adf1-c1fb735f1f38",
   "metadata": {},
   "outputs": [],
   "source": [
    "# Create a function to plot one numerical column versus another\n",
    "def plot_vs(data_x, data_y, title = None, x_lbl = None, y_lbl = None, size = (6,4), x_log = None, y_log = None):\n",
    "    plt.figure(figsize = size)\n",
    "    plt.scatter(data_x, data_y)\n",
    "    if title == None:\n",
    "        plt.title(f'{data_y.name} vs. {data_x.name}')\n",
    "    else:\n",
    "        plt.title(title)\n",
    "\n",
    "    if x_lbl == None:\n",
    "        plt.xlabel(f'{data_x.name}')\n",
    "    else:\n",
    "        plt.xlabel(x_lbl) \n",
    "\n",
    "    if y_lbl == None:\n",
    "        plt.ylabel(f'{data_y.name}')\n",
    "    else:\n",
    "        plt.ylabel(y_lbl)\n",
    "\n",
    "    if x_log != None:\n",
    "        plt.xscale(x_log)\n",
    "        \n",
    "    if y_log != None:\n",
    "        plt.yscale(y_log)"
   ]
  },
  {
   "cell_type": "code",
   "execution_count": 7,
   "id": "d327fd1e-8249-4b8b-8bfe-0ec1bdb0169a",
   "metadata": {},
   "outputs": [],
   "source": [
    "# Create a more advanced 'plot vs' function which examines logs too\n",
    "\n",
    "def plot_vs_log(data_x, data_y, title = None, x_lbl = None, y_lbl = None, size = (15,4), x_log = None, y_log = None):\n",
    "    \n",
    "    # calculate the correlations\n",
    "    #  Source for correlation:  https://www.educative.io/answers/what-is-the-statistics-correlation-method-in-python\n",
    "    \n",
    "    # NaNs need to be dropped, in doing that, the array dimensions must match\n",
    "    #  To do that, indices will be compared to get the intersection of index values\n",
    "    #  Help with this from:  https://realpython.com/numpy-scipy-pandas-correlation-python/#pearson-correlation-coefficient\n",
    "    base_corr = round(pd.DataFrame([data_x, data_y]).T.corr().iloc[0][1], 3)\n",
    "    y_log_corr = round(pd.DataFrame([data_x, col_logger(data_y)]).T.corr().iloc[0][1], 3)\n",
    "    x_y_log_corr = round(pd.DataFrame([col_logger(data_x), col_logger(data_y)]).T.corr().iloc[0][1], 3)\n",
    "    \n",
    "    plt.figure(figsize = size)\n",
    "    \n",
    "    # Untransformed variables\n",
    "    plt.subplot(1, 3, 1)\n",
    "    plt.scatter(data_x, data_y)\n",
    "    if title == None:\n",
    "        plt.title(f'{data_y.name} \\nvs. {data_x.name} \\ncorr: {base_corr}')\n",
    "    else:\n",
    "        plt.title(title)\n",
    "\n",
    "    if x_lbl == None:\n",
    "        plt.xlabel(f'{data_x.name}')\n",
    "    else:\n",
    "        plt.xlabel(x_lbl) \n",
    "\n",
    "    if y_lbl == None:\n",
    "        plt.ylabel(f'{data_y.name}')\n",
    "    else:\n",
    "        plt.ylabel(y_lbl)\n",
    "\n",
    "    # For log scaale, source for help:  https://www.geeksforgeeks.org/how-to-plot-logarithmic-axes-in-matplotlib/\n",
    "    if x_log != None:\n",
    "        plt.xscale(x_log)\n",
    "        \n",
    "    if y_log != None:\n",
    "        plt.yscale(y_log)\n",
    "    \n",
    "    \n",
    "    # Log transform y (adjust the axis scale)\n",
    "    plt.subplot(1, 3, 2)\n",
    "    plt.scatter(data_x, data_y)\n",
    "    if title == None:\n",
    "        plt.title(f'Log {data_y.name} \\nvs. {data_x.name}\\ncorr: {y_log_corr}')\n",
    "    else:\n",
    "        plt.title(title)\n",
    "\n",
    "    if x_lbl == None:\n",
    "        plt.xlabel(f'{data_x.name}')\n",
    "    else:\n",
    "        plt.xlabel(x_lbl) \n",
    "\n",
    "    if y_lbl == None:\n",
    "        plt.ylabel(f'log {data_y.name}')\n",
    "    else:\n",
    "        plt.ylabel(y_lbl)\n",
    "\n",
    "    if x_log != None:\n",
    "        plt.xscale(x_log)\n",
    "        \n",
    "    plt.yscale('log')\n",
    "\n",
    "    # Log transform BOTH x and y (adjust the axis scales)\n",
    "    plt.subplot(1, 3, 3)\n",
    "    plt.scatter(data_x, data_y)\n",
    "    if title == None:\n",
    "        plt.title(f'Log {data_y.name} \\nvs. Log {data_x.name}\\ncorr: {x_y_log_corr}')\n",
    "    else:\n",
    "        plt.title(title)\n",
    "\n",
    "    if x_lbl == None:\n",
    "        plt.xlabel(f'log {data_x.name}')\n",
    "    else:\n",
    "        plt.xlabel(x_lbl) \n",
    "\n",
    "    if y_lbl == None:\n",
    "        plt.ylabel(f'log {data_y.name}')\n",
    "    else:\n",
    "        plt.ylabel(y_lbl)\n",
    "\n",
    "    plt.xscale('log')\n",
    "    plt.yscale('log')"
   ]
  },
  {
   "cell_type": "code",
   "execution_count": null,
   "id": "dfde9498-4149-426c-952b-b3e7f7c31f33",
   "metadata": {},
   "outputs": [],
   "source": []
  },
  {
   "cell_type": "code",
   "execution_count": null,
   "id": "a7bcf04d-cd4c-49f5-ade0-a20ce7195505",
   "metadata": {},
   "outputs": [],
   "source": []
  },
  {
   "cell_type": "markdown",
   "id": "bd9a0d76-fe2c-4926-9b42-74bfac5387c1",
   "metadata": {},
   "source": [
    "# 3 - Explore and Extract 'amenities'"
   ]
  },
  {
   "cell_type": "markdown",
   "id": "baa96cad-bf4e-4aa9-83d2-ef019c5dc342",
   "metadata": {},
   "source": [
    "## 3.1 - Examine the Values"
   ]
  },
  {
   "cell_type": "code",
   "execution_count": 8,
   "id": "c948200f-34da-4a5e-a779-59cf894c2480",
   "metadata": {},
   "outputs": [
    {
     "data": {
      "text/plain": [
       "0       [\"Shampoo\", \"Carbon monoxide alarm\", \"Wifi\", \"...\n",
       "1       [\"Wifi\", \"Carbon monoxide alarm\", \"Hot water\",...\n",
       "2       [\"Shampoo\", \"Carbon monoxide alarm\", \"Wifi\", \"...\n",
       "3       [\"Wifi\", \"Kitchen\", \"First aid kit\", \"Refriger...\n",
       "4       [\"Wifi\", \"Window guards\", \"Kitchen\", \"Long ter...\n",
       "                              ...                        \n",
       "3472    [\"Wifi\", \"Stove\", \"Kitchen\", \"Dishwasher\", \"Re...\n",
       "3473    [\"Wifi\", \"Stove\", \"Keypad\", \"Kitchen\", \"Dishwa...\n",
       "3474    [\"Wifi\", \"Stove\", \"Keypad\", \"Kitchen\", \"Dishwa...\n",
       "3475                        [\"Wifi\", \"Microwave\", \"Oven\"]\n",
       "3476    [\"Clothing storage: wardrobe and closet\", \"Cit...\n",
       "Name: amenities, Length: 3477, dtype: object"
      ]
     },
     "execution_count": 8,
     "metadata": {},
     "output_type": "execute_result"
    }
   ],
   "source": [
    "# View the data\n",
    "lstn.amenities"
   ]
  },
  {
   "cell_type": "code",
   "execution_count": 9,
   "id": "e14a41b7-6f89-4f75-814e-05eb4fb85c58",
   "metadata": {},
   "outputs": [
    {
     "data": {
      "text/plain": [
       "'[\"Shampoo\", \"Carbon monoxide alarm\", \"Wifi\", \"Washer\", \"Hair dryer\", \"Kitchen\", \"Smoke alarm\", \"Indoor fireplace\", \"Breakfast\", \"Free parking on premises\", \"Private entrance\", \"Hangers\", \"First aid kit\", \"TV\", \"Dryer\", \"Heating\", \"Air conditioning\", \"Fire extinguisher\", \"Essentials\", \"Iron\"]'"
      ]
     },
     "execution_count": 9,
     "metadata": {},
     "output_type": "execute_result"
    }
   ],
   "source": [
    "lstn.amenities[0]"
   ]
  },
  {
   "cell_type": "code",
   "execution_count": 10,
   "id": "ae6906f5-1af4-487d-9e53-61017f9f7d7c",
   "metadata": {},
   "outputs": [
    {
     "data": {
      "text/plain": [
       "'[\"Wifi\", \"Carbon monoxide alarm\", \"Washer\", \"Keypad\", \"Security cameras on property\", \"Dishes and silverware\", \"Kitchen\", \"Smoke alarm\", \"Self check-in\", \"TV\", \"Refrigerator\", \"Hot tub\", \"Heating\", \"Air conditioning\"]'"
      ]
     },
     "execution_count": 10,
     "metadata": {},
     "output_type": "execute_result"
    }
   ],
   "source": [
    "lstn.amenities[100]"
   ]
  },
  {
   "cell_type": "code",
   "execution_count": 11,
   "id": "5ba82168-12c0-4a34-92ac-4d0f5bf5b003",
   "metadata": {
    "tags": []
   },
   "outputs": [
    {
     "data": {
      "text/plain": [
       "str"
      ]
     },
     "execution_count": 11,
     "metadata": {},
     "output_type": "execute_result"
    }
   ],
   "source": [
    "type(lstn.amenities[0])"
   ]
  },
  {
   "cell_type": "code",
   "execution_count": 12,
   "id": "2fd8a71a-8a8f-4129-a0c5-d208a30cb104",
   "metadata": {},
   "outputs": [
    {
     "data": {
      "text/plain": [
       "2697"
      ]
     },
     "execution_count": 12,
     "metadata": {},
     "output_type": "execute_result"
    }
   ],
   "source": [
    "lstn.amenities.nunique()"
   ]
  },
  {
   "cell_type": "markdown",
   "id": "ab831ad2-99f7-4f94-88d0-d365bfc8b064",
   "metadata": {},
   "source": [
    "#### OBSERVATIONS:\n",
    "* There are many different combinations of amenities\n",
    "* Individual amenities appear to be part of a smaller list of identical terms\n",
    "* Each element in this column is actually list stored as a string\n",
    "\n",
    "These individual terms will need to be extracted and eventually one hot encoded."
   ]
  },
  {
   "cell_type": "markdown",
   "id": "3917ca86-98d4-43c1-bd02-77fdc2154a5c",
   "metadata": {},
   "source": [
    "## 3.2 - Extract and Encode the Individual Amenities"
   ]
  },
  {
   "cell_type": "code",
   "execution_count": 13,
   "id": "aafdea70-8b1c-4fec-9e10-02967fc92cd8",
   "metadata": {},
   "outputs": [
    {
     "data": {
      "text/plain": [
       "'[\"Shampoo\", \"Carbon monoxide alarm\", \"Wifi\", \"Washer\", \"Hair dryer\", \"Kitchen\", \"Smoke alarm\", \"Indoor fireplace\", \"Breakfast\", \"Free parking on premises\", \"Private entrance\", \"Hangers\", \"First aid kit\", \"TV\", \"Dryer\", \"Heating\", \"Air conditioning\", \"Fire extinguisher\", \"Essentials\", \"Iron\"]'"
      ]
     },
     "execution_count": 13,
     "metadata": {},
     "output_type": "execute_result"
    }
   ],
   "source": [
    "lstn.amenities[0]"
   ]
  },
  {
   "cell_type": "code",
   "execution_count": 14,
   "id": "f4ebef1b-ea3d-46bf-a6d0-935af988547f",
   "metadata": {},
   "outputs": [
    {
     "data": {
      "text/plain": [
       "1089"
      ]
     },
     "execution_count": 14,
     "metadata": {},
     "output_type": "execute_result"
    }
   ],
   "source": [
    "# Use a regular expression to extract the amenities which are between quotes.\n",
    "#  Code adapted from this source: https://stackoverflow.com/questions/1454913/regular-expression-to-find-a-string-included-between-two-characters-while-exclud\n",
    "# Also helpful:  https://regex101.com/\n",
    "regex_string = '(?<=\")[^\"]+(?=\"[,\\]])'\n",
    "\n",
    "amn_lst = []\n",
    "\n",
    "for string_lists in lstn.amenities:\n",
    "    a_list = re.findall(regex_string, string_lists)\n",
    "    for amenity in a_list:\n",
    "        amn_lst.append(amenity)\n",
    "\n",
    "len(set(amn_lst))       "
   ]
  },
  {
   "cell_type": "markdown",
   "id": "95fad30a-d0a3-4bf9-bad9-a7e3a05a1c43",
   "metadata": {},
   "source": [
    "### <font color = 'red'> this might be a goofy way to do this when you can just set min_df in the count vectorizer"
   ]
  },
  {
   "cell_type": "code",
   "execution_count": 15,
   "id": "cd5345a5-d653-4d7d-9d1b-8fac2d3acb82",
   "metadata": {},
   "outputs": [
    {
     "name": "stdout",
     "output_type": "stream",
     "text": [
      "Wifi                                                3261\n",
      "Smoke alarm                                         3207\n",
      "Carbon monoxide alarm                               3051\n",
      "Kitchen                                             2977\n",
      "Essentials                                          2929\n",
      "                                                    ... \n",
      "Smoking allowed                                       39\n",
      "Free driveway parking on premises \\u2013 1 space      37\n",
      "Stainless steel electric stove                        37\n",
      "HDTV                                                  36\n",
      "Baby safety gates                                     36\n",
      "Length: 153, dtype: int64\n"
     ]
    }
   ],
   "source": [
    "# Create a pandas series of all amenities and their number of occurences\n",
    "amn_counts = pd.Series(amn_lst).value_counts(ascending=False)\n",
    "\n",
    "# Filter the datafarme to use only words that appear in 99% of posts\n",
    "print(amn_counts[amn_counts >= 35])\n",
    "\n",
    "#  Create a vocab variable by using the index attribute to get the list of amenities\n",
    "amn_vocab = amn_counts[amn_counts >= 35].index"
   ]
  },
  {
   "cell_type": "code",
   "execution_count": 16,
   "id": "0949a4ef-f050-4c89-b03a-e5a5d24e1dfc",
   "metadata": {},
   "outputs": [
    {
     "data": {
      "text/html": [
       "<div>\n",
       "<style scoped>\n",
       "    .dataframe tbody tr th:only-of-type {\n",
       "        vertical-align: middle;\n",
       "    }\n",
       "\n",
       "    .dataframe tbody tr th {\n",
       "        vertical-align: top;\n",
       "    }\n",
       "\n",
       "    .dataframe thead th {\n",
       "        text-align: right;\n",
       "    }\n",
       "</style>\n",
       "<table border=\"1\" class=\"dataframe\">\n",
       "  <thead>\n",
       "    <tr style=\"text-align: right;\">\n",
       "      <th></th>\n",
       "      <th>Wifi</th>\n",
       "      <th>Smoke alarm</th>\n",
       "      <th>Carbon monoxide alarm</th>\n",
       "      <th>Kitchen</th>\n",
       "      <th>Essentials</th>\n",
       "      <th>Hangers</th>\n",
       "      <th>Iron</th>\n",
       "      <th>Hair dryer</th>\n",
       "      <th>Heating</th>\n",
       "      <th>Microwave</th>\n",
       "      <th>...</th>\n",
       "      <th>Paid parking lot off premises</th>\n",
       "      <th>Park view</th>\n",
       "      <th>Mosquito net</th>\n",
       "      <th>Pool table</th>\n",
       "      <th>Heating - split type ductless system</th>\n",
       "      <th>Smoking allowed</th>\n",
       "      <th>Free driveway parking on premises \\u2013 1 space</th>\n",
       "      <th>Stainless steel electric stove</th>\n",
       "      <th>HDTV</th>\n",
       "      <th>Baby safety gates</th>\n",
       "    </tr>\n",
       "  </thead>\n",
       "  <tbody>\n",
       "    <tr>\n",
       "      <th>0</th>\n",
       "      <td>1</td>\n",
       "      <td>1</td>\n",
       "      <td>1</td>\n",
       "      <td>1</td>\n",
       "      <td>1</td>\n",
       "      <td>1</td>\n",
       "      <td>1</td>\n",
       "      <td>1</td>\n",
       "      <td>1</td>\n",
       "      <td>0</td>\n",
       "      <td>...</td>\n",
       "      <td>0</td>\n",
       "      <td>0</td>\n",
       "      <td>0</td>\n",
       "      <td>0</td>\n",
       "      <td>0</td>\n",
       "      <td>0</td>\n",
       "      <td>0</td>\n",
       "      <td>0</td>\n",
       "      <td>0</td>\n",
       "      <td>0</td>\n",
       "    </tr>\n",
       "    <tr>\n",
       "      <th>1</th>\n",
       "      <td>1</td>\n",
       "      <td>1</td>\n",
       "      <td>1</td>\n",
       "      <td>1</td>\n",
       "      <td>0</td>\n",
       "      <td>1</td>\n",
       "      <td>0</td>\n",
       "      <td>0</td>\n",
       "      <td>1</td>\n",
       "      <td>0</td>\n",
       "      <td>...</td>\n",
       "      <td>0</td>\n",
       "      <td>0</td>\n",
       "      <td>0</td>\n",
       "      <td>0</td>\n",
       "      <td>0</td>\n",
       "      <td>0</td>\n",
       "      <td>0</td>\n",
       "      <td>0</td>\n",
       "      <td>0</td>\n",
       "      <td>0</td>\n",
       "    </tr>\n",
       "    <tr>\n",
       "      <th>2</th>\n",
       "      <td>1</td>\n",
       "      <td>1</td>\n",
       "      <td>1</td>\n",
       "      <td>0</td>\n",
       "      <td>1</td>\n",
       "      <td>0</td>\n",
       "      <td>0</td>\n",
       "      <td>0</td>\n",
       "      <td>1</td>\n",
       "      <td>1</td>\n",
       "      <td>...</td>\n",
       "      <td>0</td>\n",
       "      <td>0</td>\n",
       "      <td>0</td>\n",
       "      <td>0</td>\n",
       "      <td>0</td>\n",
       "      <td>0</td>\n",
       "      <td>0</td>\n",
       "      <td>0</td>\n",
       "      <td>0</td>\n",
       "      <td>0</td>\n",
       "    </tr>\n",
       "    <tr>\n",
       "      <th>3</th>\n",
       "      <td>1</td>\n",
       "      <td>1</td>\n",
       "      <td>1</td>\n",
       "      <td>1</td>\n",
       "      <td>1</td>\n",
       "      <td>1</td>\n",
       "      <td>1</td>\n",
       "      <td>1</td>\n",
       "      <td>1</td>\n",
       "      <td>0</td>\n",
       "      <td>...</td>\n",
       "      <td>0</td>\n",
       "      <td>0</td>\n",
       "      <td>0</td>\n",
       "      <td>0</td>\n",
       "      <td>0</td>\n",
       "      <td>0</td>\n",
       "      <td>0</td>\n",
       "      <td>0</td>\n",
       "      <td>0</td>\n",
       "      <td>0</td>\n",
       "    </tr>\n",
       "    <tr>\n",
       "      <th>4</th>\n",
       "      <td>1</td>\n",
       "      <td>1</td>\n",
       "      <td>1</td>\n",
       "      <td>1</td>\n",
       "      <td>1</td>\n",
       "      <td>1</td>\n",
       "      <td>1</td>\n",
       "      <td>1</td>\n",
       "      <td>1</td>\n",
       "      <td>1</td>\n",
       "      <td>...</td>\n",
       "      <td>0</td>\n",
       "      <td>0</td>\n",
       "      <td>0</td>\n",
       "      <td>0</td>\n",
       "      <td>0</td>\n",
       "      <td>0</td>\n",
       "      <td>0</td>\n",
       "      <td>0</td>\n",
       "      <td>0</td>\n",
       "      <td>0</td>\n",
       "    </tr>\n",
       "    <tr>\n",
       "      <th>...</th>\n",
       "      <td>...</td>\n",
       "      <td>...</td>\n",
       "      <td>...</td>\n",
       "      <td>...</td>\n",
       "      <td>...</td>\n",
       "      <td>...</td>\n",
       "      <td>...</td>\n",
       "      <td>...</td>\n",
       "      <td>...</td>\n",
       "      <td>...</td>\n",
       "      <td>...</td>\n",
       "      <td>...</td>\n",
       "      <td>...</td>\n",
       "      <td>...</td>\n",
       "      <td>...</td>\n",
       "      <td>...</td>\n",
       "      <td>...</td>\n",
       "      <td>...</td>\n",
       "      <td>...</td>\n",
       "      <td>...</td>\n",
       "      <td>...</td>\n",
       "    </tr>\n",
       "    <tr>\n",
       "      <th>3472</th>\n",
       "      <td>1</td>\n",
       "      <td>1</td>\n",
       "      <td>1</td>\n",
       "      <td>1</td>\n",
       "      <td>1</td>\n",
       "      <td>1</td>\n",
       "      <td>1</td>\n",
       "      <td>0</td>\n",
       "      <td>1</td>\n",
       "      <td>0</td>\n",
       "      <td>...</td>\n",
       "      <td>0</td>\n",
       "      <td>0</td>\n",
       "      <td>0</td>\n",
       "      <td>0</td>\n",
       "      <td>0</td>\n",
       "      <td>0</td>\n",
       "      <td>0</td>\n",
       "      <td>0</td>\n",
       "      <td>0</td>\n",
       "      <td>0</td>\n",
       "    </tr>\n",
       "    <tr>\n",
       "      <th>3473</th>\n",
       "      <td>1</td>\n",
       "      <td>1</td>\n",
       "      <td>1</td>\n",
       "      <td>1</td>\n",
       "      <td>1</td>\n",
       "      <td>0</td>\n",
       "      <td>1</td>\n",
       "      <td>1</td>\n",
       "      <td>1</td>\n",
       "      <td>1</td>\n",
       "      <td>...</td>\n",
       "      <td>0</td>\n",
       "      <td>0</td>\n",
       "      <td>0</td>\n",
       "      <td>0</td>\n",
       "      <td>0</td>\n",
       "      <td>0</td>\n",
       "      <td>0</td>\n",
       "      <td>0</td>\n",
       "      <td>0</td>\n",
       "      <td>0</td>\n",
       "    </tr>\n",
       "    <tr>\n",
       "      <th>3474</th>\n",
       "      <td>1</td>\n",
       "      <td>1</td>\n",
       "      <td>1</td>\n",
       "      <td>1</td>\n",
       "      <td>1</td>\n",
       "      <td>1</td>\n",
       "      <td>0</td>\n",
       "      <td>1</td>\n",
       "      <td>1</td>\n",
       "      <td>1</td>\n",
       "      <td>...</td>\n",
       "      <td>0</td>\n",
       "      <td>0</td>\n",
       "      <td>0</td>\n",
       "      <td>0</td>\n",
       "      <td>0</td>\n",
       "      <td>0</td>\n",
       "      <td>0</td>\n",
       "      <td>0</td>\n",
       "      <td>0</td>\n",
       "      <td>0</td>\n",
       "    </tr>\n",
       "    <tr>\n",
       "      <th>3475</th>\n",
       "      <td>1</td>\n",
       "      <td>0</td>\n",
       "      <td>0</td>\n",
       "      <td>0</td>\n",
       "      <td>0</td>\n",
       "      <td>0</td>\n",
       "      <td>0</td>\n",
       "      <td>0</td>\n",
       "      <td>0</td>\n",
       "      <td>1</td>\n",
       "      <td>...</td>\n",
       "      <td>0</td>\n",
       "      <td>0</td>\n",
       "      <td>0</td>\n",
       "      <td>0</td>\n",
       "      <td>0</td>\n",
       "      <td>0</td>\n",
       "      <td>0</td>\n",
       "      <td>0</td>\n",
       "      <td>0</td>\n",
       "      <td>0</td>\n",
       "    </tr>\n",
       "    <tr>\n",
       "      <th>3476</th>\n",
       "      <td>0</td>\n",
       "      <td>1</td>\n",
       "      <td>1</td>\n",
       "      <td>1</td>\n",
       "      <td>1</td>\n",
       "      <td>1</td>\n",
       "      <td>1</td>\n",
       "      <td>1</td>\n",
       "      <td>0</td>\n",
       "      <td>1</td>\n",
       "      <td>...</td>\n",
       "      <td>0</td>\n",
       "      <td>0</td>\n",
       "      <td>0</td>\n",
       "      <td>0</td>\n",
       "      <td>0</td>\n",
       "      <td>0</td>\n",
       "      <td>0</td>\n",
       "      <td>0</td>\n",
       "      <td>0</td>\n",
       "      <td>0</td>\n",
       "    </tr>\n",
       "  </tbody>\n",
       "</table>\n",
       "<p>3477 rows × 153 columns</p>\n",
       "</div>"
      ],
      "text/plain": [
       "      Wifi  Smoke alarm  Carbon monoxide alarm  Kitchen  Essentials  Hangers  \\\n",
       "0        1            1                      1        1           1        1   \n",
       "1        1            1                      1        1           0        1   \n",
       "2        1            1                      1        0           1        0   \n",
       "3        1            1                      1        1           1        1   \n",
       "4        1            1                      1        1           1        1   \n",
       "...    ...          ...                    ...      ...         ...      ...   \n",
       "3472     1            1                      1        1           1        1   \n",
       "3473     1            1                      1        1           1        0   \n",
       "3474     1            1                      1        1           1        1   \n",
       "3475     1            0                      0        0           0        0   \n",
       "3476     0            1                      1        1           1        1   \n",
       "\n",
       "      Iron  Hair dryer  Heating  Microwave  ...  \\\n",
       "0        1           1        1          0  ...   \n",
       "1        0           0        1          0  ...   \n",
       "2        0           0        1          1  ...   \n",
       "3        1           1        1          0  ...   \n",
       "4        1           1        1          1  ...   \n",
       "...    ...         ...      ...        ...  ...   \n",
       "3472     1           0        1          0  ...   \n",
       "3473     1           1        1          1  ...   \n",
       "3474     0           1        1          1  ...   \n",
       "3475     0           0        0          1  ...   \n",
       "3476     1           1        0          1  ...   \n",
       "\n",
       "      Paid parking lot off premises  Park view  Mosquito net  Pool table  \\\n",
       "0                                 0          0             0           0   \n",
       "1                                 0          0             0           0   \n",
       "2                                 0          0             0           0   \n",
       "3                                 0          0             0           0   \n",
       "4                                 0          0             0           0   \n",
       "...                             ...        ...           ...         ...   \n",
       "3472                              0          0             0           0   \n",
       "3473                              0          0             0           0   \n",
       "3474                              0          0             0           0   \n",
       "3475                              0          0             0           0   \n",
       "3476                              0          0             0           0   \n",
       "\n",
       "      Heating - split type ductless system  Smoking allowed  \\\n",
       "0                                        0                0   \n",
       "1                                        0                0   \n",
       "2                                        0                0   \n",
       "3                                        0                0   \n",
       "4                                        0                0   \n",
       "...                                    ...              ...   \n",
       "3472                                     0                0   \n",
       "3473                                     0                0   \n",
       "3474                                     0                0   \n",
       "3475                                     0                0   \n",
       "3476                                     0                0   \n",
       "\n",
       "      Free driveway parking on premises \\u2013 1 space  \\\n",
       "0                                                    0   \n",
       "1                                                    0   \n",
       "2                                                    0   \n",
       "3                                                    0   \n",
       "4                                                    0   \n",
       "...                                                ...   \n",
       "3472                                                 0   \n",
       "3473                                                 0   \n",
       "3474                                                 0   \n",
       "3475                                                 0   \n",
       "3476                                                 0   \n",
       "\n",
       "      Stainless steel electric stove  HDTV  Baby safety gates  \n",
       "0                                  0     0                  0  \n",
       "1                                  0     0                  0  \n",
       "2                                  0     0                  0  \n",
       "3                                  0     0                  0  \n",
       "4                                  0     0                  0  \n",
       "...                              ...   ...                ...  \n",
       "3472                               0     0                  0  \n",
       "3473                               0     0                  0  \n",
       "3474                               0     0                  0  \n",
       "3475                               0     0                  0  \n",
       "3476                               0     0                  0  \n",
       "\n",
       "[3477 rows x 153 columns]"
      ]
     },
     "execution_count": 16,
     "metadata": {},
     "output_type": "execute_result"
    }
   ],
   "source": [
    "# Use countevectorizer to one hot encode all the amenities\n",
    "#  Use the vocab to get only the amenities encoded\n",
    "#  NOTE:  Set the 'token_pattern' to the regex string so it finds the exact same tokens as were found previously\n",
    "cvec = CountVectorizer(lowercase=False,\n",
    "                       vocabulary=amn_vocab,\n",
    "                       ngram_range=(1, 1),\n",
    "                       token_pattern=regex_string\n",
    "                      )\n",
    "\n",
    "# Create a new dataframe with the count vectorized data from the amenities column\n",
    "amen_df = pd.DataFrame(cvec.fit_transform(lstn.amenities).todense(), \n",
    "             columns = cvec.get_feature_names_out())\n",
    "\n",
    "amen_df"
   ]
  },
  {
   "cell_type": "markdown",
   "id": "823cf97c-7daa-4798-84bc-823921d71849",
   "metadata": {},
   "source": [
    "## 3.3 - Find Ammenity Correlations to Price"
   ]
  },
  {
   "cell_type": "code",
   "execution_count": 17,
   "id": "efc3e613-37a4-4e08-b4a6-52f43e6024d8",
   "metadata": {},
   "outputs": [
    {
     "data": {
      "text/plain": [
       "(3477, 155)"
      ]
     },
     "execution_count": 17,
     "metadata": {},
     "output_type": "execute_result"
    }
   ],
   "source": [
    "# Add the price and log price columns to the new dataframe\n",
    "amen_df['price__'] = lstn.price\n",
    "amen_df['log_price__'] = col_logger(lstn.price)\n",
    "amen_df.shape"
   ]
  },
  {
   "cell_type": "code",
   "execution_count": 18,
   "id": "f3697c56-a437-41eb-bce8-8a68bc9f4b42",
   "metadata": {},
   "outputs": [
    {
     "name": "stdout",
     "output_type": "stream",
     "text": [
      "Number of NaN values: 0\n",
      "\n",
      "price__                          1.000000\n",
      "log_price__                      0.656222\n",
      "Pets allowed                     0.146984\n",
      "Pack \\u2019n play/Travel crib    0.140734\n",
      "Elevator                         0.120698\n",
      "                                   ...   \n",
      "Paid dryer \\u2013 In building   -0.040071\n",
      "Shared patio or balcony         -0.046803\n",
      "Private living room             -0.056723\n",
      "Free street parking             -0.070969\n",
      "Lock on bedroom door            -0.142813\n",
      "Name: price__, Length: 155, dtype: float64\n",
      "==================================================\n",
      "\n",
      "log_price__                1.000000\n",
      "price__                    0.656222\n",
      "Hair dryer                 0.336236\n",
      "Pets allowed               0.315056\n",
      "Iron                       0.298497\n",
      "                             ...   \n",
      "Shared patio or balcony   -0.076323\n",
      "Host greets you           -0.088574\n",
      "Private living room       -0.117679\n",
      "Free street parking       -0.174056\n",
      "Lock on bedroom door      -0.374564\n",
      "Name: log_price__, Length: 155, dtype: float64\n"
     ]
    }
   ],
   "source": [
    "# Create correaltion matrix between all words and filter for correlations to price\n",
    "\n",
    "# First ensure there are no NaN values\n",
    "print(f\"Number of NaN values: {amen_df.corr()['price__'].isnull().sum()}\")\n",
    "\n",
    "# Find the correlation corefficients for each of the amenities to the price:\n",
    "price_amen_corr = amen_df.corr()['price__']\n",
    "log_price_amen_corr = amen_df.corr()['log_price__']\n",
    "print(f'\\n{price_amen_corr.sort_values(ascending=False)}')\n",
    "print('='*50)\n",
    "print(f'\\n{log_price_amen_corr.sort_values(ascending=False)}')"
   ]
  },
  {
   "cell_type": "code",
   "execution_count": 19,
   "id": "ab2b1b3e-5f7a-49d1-ba8c-0b9b8f4996d5",
   "metadata": {},
   "outputs": [
    {
     "data": {
      "image/png": "[encoded data removed]",
      "text/plain": [
       "<Figure size 600x400 with 1 Axes>"
      ]
     },
     "metadata": {},
     "output_type": "display_data"
    }
   ],
   "source": [
    "# Check to see if any correlation values are drastically different against price versus log price\n",
    "plot_vs(price_amen_corr, log_price_amen_corr, \n",
    "        title = 'Amenity Correlations to Price vs.\\nAmenity Correlations to Log Price',\n",
    "       x_lbl='Price Correlations', y_lbl='Log Price Correlations')"
   ]
  },
  {
   "cell_type": "code",
   "execution_count": 20,
   "id": "ee928eaf-4ee8-483d-8e76-c1aaff4e3807",
   "metadata": {},
   "outputs": [
    {
     "data": {
      "image/png": "[encoded data removed]",
      "text/plain": [
       "<Figure size 600x400 with 1 Axes>"
      ]
     },
     "metadata": {},
     "output_type": "display_data"
    }
   ],
   "source": [
    "# View the distribution of the correlations (filter out price and log correlations)\n",
    "hist_plotter(price_amen_corr[price_amen_corr < 0.6], bins = 30)"
   ]
  },
  {
   "cell_type": "markdown",
   "id": "7c273730-30fe-4bb5-a930-1d97a5b5223e",
   "metadata": {},
   "source": [
    "## 3.4 - Create a Column that Provides the Number of Amenities Provided in Each Listing"
   ]
  },
  {
   "cell_type": "code",
   "execution_count": 21,
   "id": "b4cecbfd-90cf-493b-b100-36202ad741ac",
   "metadata": {},
   "outputs": [
    {
     "data": {
      "text/plain": [
       "0       20\n",
       "1       10\n",
       "2       18\n",
       "3       29\n",
       "4       46\n",
       "        ..\n",
       "3472    24\n",
       "3473    29\n",
       "3474    27\n",
       "3475     3\n",
       "3476    53\n",
       "Name: amen_cnt, Length: 3477, dtype: int64"
      ]
     },
     "execution_count": 21,
     "metadata": {},
     "output_type": "execute_result"
    }
   ],
   "source": [
    "# Using regex as before, find the number of amenities for every listing and store to a new column\n",
    "lstn['amen_cnt'] = lstn.amenities.apply(lambda x: len(re.findall(regex_string, x)))\n",
    "lstn.amen_cnt"
   ]
  },
  {
   "cell_type": "code",
   "execution_count": 22,
   "id": "c1aeb573-cb91-4366-90ed-75d1d9833198",
   "metadata": {},
   "outputs": [
    {
     "data": {
      "image/png": "[encoded data removed]",
      "text/plain": [
       "<Figure size 1500x400 with 3 Axes>"
      ]
     },
     "metadata": {},
     "output_type": "display_data"
    }
   ],
   "source": [
    "# Plot the price versus amenity count\n",
    "plot_vs_log(lstn.amen_cnt, lstn.price)"
   ]
  },
  {
   "cell_type": "markdown",
   "id": "6abd9d20-cbd7-46bc-b019-3891324e2651",
   "metadata": {},
   "source": [
    "## 3.5 - Amenities Conclusions\n",
    "* Some amenities correlate higher with price than others\n",
    "* The amenity counts do not correlate much higher than even the most highly correlated amenities\n",
    "* Correlations to the log transformed price are much stronger than those to price, but still relatively weak"
   ]
  },
  {
   "cell_type": "markdown",
   "id": "9e0aed39-d115-4902-96d5-1a621d3f862b",
   "metadata": {},
   "source": [
    "# 4 - Descriptive Columns"
   ]
  },
  {
   "cell_type": "code",
   "execution_count": 23,
   "id": "74bd2245-f8ce-4a9e-985a-edf5427041eb",
   "metadata": {},
   "outputs": [
    {
     "name": "stdout",
     "output_type": "stream",
     "text": [
      "name type: <class 'str'>\n",
      "name sample value: Private, Quiet, Comfy, Clean Apartment in Boston\n",
      " ==================================================\n",
      "description type: <class 'str'>\n",
      "description sample value: This is the 2 bedroom. It’s one bathroom, giant  closet, TV with cable, and balcony.<br /><br />– Plenty of Pots/Pans/Platters for large meals.<br />– Serving utensils.<br />– Grilling tongs.<br />– Full set of Henkel chef knives.<br />– 2 ovens, 1 grill, 1 dishwasher.<br />– Almost any condiment you need! We keep the fridge and pantry stocked with olive oil, butter, salt, pepper, hot sauce, BBQ sauce, mustard, ketchup, mayo, spices etc.<br /><br />“This room is perfect for responsible guests on a budget who are traveling by themselves!”\n",
      " ==================================================\n",
      "host_about type: <class 'float'>\n",
      "host_about sample value: nan\n",
      " ==================================================\n",
      "neighborhood_overview type: <class 'float'>\n",
      "neighborhood_overview sample value: nan\n",
      " ==================================================\n"
     ]
    }
   ],
   "source": [
    "# Check the data type and first value of each of the columns\n",
    "for col in ['name', 'description', 'host_about', 'neighborhood_overview']:\n",
    "    print(f'{col} type: {type(lstn[col][0])}\\n{col} sample value: {lstn[col][0]}\\n {\"=\"*50}')"
   ]
  },
  {
   "cell_type": "code",
   "execution_count": 24,
   "id": "54c4e530-7206-4b87-b6fd-55f0f8feb689",
   "metadata": {},
   "outputs": [
    {
     "name": "stdout",
     "output_type": "stream",
     "text": [
      "name type: <class 'str'>\n",
      "name sample value: Sunny Fenway/Longwood Studio\n",
      " ==================================================\n",
      "description type: <class 'str'>\n",
      "description sample value: Our spacious studio is located just steps from many popular restaurants, world-renowned hospitals, tourist attractions & universities. *PLEASE NOTE- this is on the third floor.<br /><br />We're a 2 minute walk to Fenwood Green Line Subway, 1 mile to Fenway Park, & 0.4 miles to Longwood Medical<br /><br />We are less than a mile from Museum of Fine Arts & the Isabella Stewart Gardner Museum. <br /><br />Some of the cities best attractions are located 1-2 miles from us; Prudential, Boston Common, Newbury St, Chinatown & more!<br /><br /><b>The space</b><br />Our cozy studio is the perfect place for couples, students, nurses, doctors or friends! *PLEASE NOTE, we are located on the third floor*<br />We have a comfy full size bed. There is an HD flat screen TV with You Tube TV, Netflix, HULU, Disney Plus, Paramount and more!<br />Our kitchen is fully equipped with a refrigerator, toaster, microwave, stove/oven, tea kettle and coffee maker. There are also pots, pans, and all the amenities ne\n",
      " ==================================================\n",
      "host_about type: <class 'str'>\n",
      "host_about sample value: Hi! We are Cassandra and Michael. We love to meet people from all over the world. Traveling is a passion of ours and we enjoy visiting different countries and learning about their culture. We are serious animal lovers and have 4 rescue animals. Eventually, we would love to have a farm and rescue animals. :)\n",
      " ==================================================\n",
      "neighborhood_overview type: <class 'str'>\n",
      "neighborhood_overview sample value: Some tourist spots, universities and hospitals close by —<br />*Fenway Park – 1 mile<br />*Boston Marathon Finish Line – 1.7 miles<br />*Newbury St – 1.6 miles<br />*Museum of Fine Arts – 0.7 miles<br />*Isabella Stewart Gardner Museum – 0.5 miles<br />*Boston Common – 2.2 miles<br />*Free Tours by Foot – 1.2 miles<br />*Prudential Center – 1.6 miles<br />*Copley Place – 1.9 miles<br />*Freedom Trail – 2.5 miles<br />*Faneuil Hall – 4 miles or 20 minutes on Green Line<br />*Chinatown – 2.6 miles or 17 minutes on Green Line<br />*TD Garden – 25 minutes on Green Line<br />*Charles River Esplanade – 2.8 miles<br />*Boston Symphony Hall - 1.3 miles<br />*Boston Logan International Airport – 6.5 miles<br /><br />Universities:<br />*Harvard Medical School – 0.4 miles<br />*Mass College of Art & Design – 0.4 miles<br />*Mass College of Pharmacy – 0.3 miles<br />*Simmons University – 0.5 miles<br />*Boston University – 0.8 miles<br />*Emmanuel – 0.6 miles<br />*Northeastern – 1 mile<br />*MIT \n",
      " ==================================================\n"
     ]
    }
   ],
   "source": [
    "# Choose another index which does not have null values\n",
    "for col in ['name', 'description', 'host_about', 'neighborhood_overview']:\n",
    "    print(f'{col} type: {type(lstn[col][10])}\\n{col} sample value: {lstn[col][10]}\\n {\"=\"*50}')"
   ]
  },
  {
   "cell_type": "code",
   "execution_count": 25,
   "id": "993dad44-2b61-4c72-919c-437bc15b3a40",
   "metadata": {},
   "outputs": [
    {
     "name": "stdout",
     "output_type": "stream",
     "text": [
      "name :  0\n",
      "description :  13\n",
      "host_about :  1014\n",
      "neighborhood_overview :  1232\n"
     ]
    }
   ],
   "source": [
    "# Get counts of null values\n",
    "for col in ['name', 'description', 'host_about', 'neighborhood_overview']:\n",
    "    print(col, ': ',lstn[col].isnull().sum())"
   ]
  },
  {
   "cell_type": "code",
   "execution_count": 26,
   "id": "bbdcfd9a-279c-44cf-beb1-15f97c77e98a",
   "metadata": {},
   "outputs": [],
   "source": [
    "# Null values can be easily imputed with 'no_text_entered'\n",
    "#  This can be done as a formal imputation step.\n",
    "#  The following source confirms taht underscores will not be removed by count vectorizer:\n",
    "    # https://stackoverflow.com/questions/67856904/countvectorizer-token-pattern-to-not-catch-underscore\n",
    "for col in ['name', 'description', 'host_about', 'neighborhood_overview']:\n",
    "    lstn[col].fillna('no_text_entered', inplace=True)"
   ]
  },
  {
   "cell_type": "code",
   "execution_count": 27,
   "id": "d56e7fd8-c8b9-486c-b023-12c92fc6a434",
   "metadata": {},
   "outputs": [
    {
     "name": "stdout",
     "output_type": "stream",
     "text": [
      "(3477, 175)\n",
      "Number of NaN values (price): 0\n",
      "Number of NaN values (log price): 0\n",
      "\n",
      "2ba              0.094392\n",
      "luxury           0.084990\n",
      "2br              0.081538\n",
      "back bay         0.053830\n",
      "back             0.052917\n",
      "                   ...   \n",
      "queen bedroom   -0.089432\n",
      "private         -0.091811\n",
      "bedroom         -0.093191\n",
      "bedroom in      -0.105399\n",
      "room            -0.139561\n",
      "Name: price__, Length: 173, dtype: float64\n",
      "==================================================\n",
      "\n",
      "2br              0.167992\n",
      "luxury           0.150913\n",
      "back bay         0.144472\n",
      "back             0.143107\n",
      "bay              0.133566\n",
      "                   ...   \n",
      "queen bedroom   -0.198011\n",
      "private room    -0.200898\n",
      "private         -0.203932\n",
      "bedroom in      -0.236206\n",
      "room            -0.337365\n",
      "Name: log_price__, Length: 173, dtype: float64\n",
      "==================================================\n",
      "==================================================\n",
      "(3477, 5331)\n",
      "Number of NaN values (price): 0\n",
      "Number of NaN values (log price): 0\n",
      "\n",
      "destination           0.210106\n",
      "inviting              0.169027\n",
      "groups                0.154729\n",
      "spaces                0.141426\n",
      "together              0.134857\n",
      "                        ...   \n",
      "space br about       -0.121477\n",
      "the space br about   -0.121477\n",
      "about this home      -0.122388\n",
      "shared               -0.129054\n",
      "room                 -0.130554\n",
      "Name: price__, Length: 5329, dtype: float64\n",
      "==================================================\n",
      "\n",
      "fully                 0.213211\n",
      "luxury                0.209937\n",
      "offers                0.203584\n",
      "unique                0.195037\n",
      "amenities             0.193603\n",
      "                        ...   \n",
      "the space br about   -0.299009\n",
      "space br about       -0.299009\n",
      "about this home      -0.300783\n",
      "room in              -0.318855\n",
      "shared               -0.343108\n",
      "Name: log_price__, Length: 5329, dtype: float64\n",
      "==================================================\n",
      "==================================================\n",
      "(3477, 3993)\n",
      "Number of NaN values (price): 0\n",
      "Number of NaN values (log price): 0\n",
      "\n",
      "boston                0.138330\n",
      "park                  0.137457\n",
      "in downtown boston    0.129783\n",
      "in downtown           0.129783\n",
      "hotel                 0.124229\n",
      "                        ...   \n",
      "and simple           -0.122245\n",
      "to rent              -0.122821\n",
      "experience of        -0.122884\n",
      "there to             -0.126475\n",
      "shared               -0.139285\n",
      "Name: price__, Length: 3991, dtype: float64\n",
      "==================================================\n",
      "\n",
      "our                  0.221627\n",
      "provide              0.211745\n",
      "team                 0.192885\n",
      "that                 0.188591\n",
      "boston               0.185633\n",
      "                       ...   \n",
      "rental experience   -0.297852\n",
      "to rent             -0.298274\n",
      "experience of       -0.299853\n",
      "there to            -0.311676\n",
      "shared              -0.346655\n",
      "Name: log_price__, Length: 3991, dtype: float64\n",
      "==================================================\n",
      "==================================================\n",
      "(3477, 3120)\n",
      "Number of NaN values (price): 0\n",
      "Number of NaN values (log price): 0\n",
      "\n",
      "guests          0.122042\n",
      "crossing the    0.114223\n",
      "why             0.113260\n",
      "locals          0.107585\n",
      "the building    0.105484\n",
      "                  ...   \n",
      "bu             -0.054206\n",
      "boston br      -0.055171\n",
      "pharmacy       -0.056146\n",
      "walk away      -0.056520\n",
      "college        -0.058206\n",
      "Name: price__, Length: 3118, dtype: float64\n",
      "==================================================\n",
      "\n",
      "the                0.255273\n",
      "back bay           0.213176\n",
      "in                 0.213004\n",
      "back               0.210275\n",
      "to                 0.205408\n",
      "                     ...   \n",
      "pharmacy          -0.096158\n",
      "umass             -0.098981\n",
      "dorchester        -0.106295\n",
      "boston br         -0.106955\n",
      "no_text_entered   -0.141951\n",
      "Name: log_price__, Length: 3118, dtype: float64\n",
      "==================================================\n",
      "==================================================\n"
     ]
    }
   ],
   "source": [
    "'''\n",
    "Write a for loop that will:\n",
    "* Take all text columns and Count Vectorize their words and ngrams\n",
    "* Get the correlation coefficients for all words/ngrams with respect to price and log_price\n",
    "* Create a list stored as a global variable of words/ngrams whose correlation coefficient \n",
    "    is above the specified value\n",
    "''' \n",
    "\n",
    "for col in ['name', 'description', 'host_about', 'neighborhood_overview']:\n",
    "    \n",
    "    # Create a temporary variable to establish the pandas series based on the list\n",
    "    column_data = lstn[col]\n",
    "    \n",
    "    # Instantiate count vectorizer\n",
    "    cvec_function = CountVectorizer(ngram_range=(1, 4), min_df=0.01)\n",
    "\n",
    "    # Create a new dataframe with the count vectorized data from the selected column\n",
    "    cvec_df = pd.DataFrame(cvec_function.fit_transform(column_data).todense(), \n",
    "                 columns = cvec_function.get_feature_names_out())\n",
    "    \n",
    "    # Add the price and log price columns for easy correlations\n",
    "    cvec_df['price__'] = lstn.price\n",
    "    cvec_df['log_price__'] = col_logger(lstn.price)\n",
    "    print(cvec_df.shape)\n",
    "\n",
    "    # Create the correlation datafarme:\n",
    "    corr_df = cvec_df.corr()\n",
    "\n",
    "    # First ensure there are no NaN values\n",
    "    print(f\"Number of NaN values (price): {corr_df['price__'].isnull().sum()}\")\n",
    "    print(f\"Number of NaN values (log price): {corr_df['log_price__'].isnull().sum()}\")\n",
    "\n",
    "    # Find the correlation corefficients for each of the selected column to the price:\n",
    "    #  Need to filter out correlations to price and log_price with help from the following sources:\n",
    "        # https://stackoverflow.com/questions/28256761/select-pandas-rows-by-excluding-index-number\n",
    "        # https://pandas.pydata.org/docs/reference/api/pandas.DataFrame.isin.html\n",
    "    price_corr = corr_df['price__'][~corr_df['price__'].index.isin(['price__', 'log_price__'])]\n",
    "    log_price_corr = corr_df['log_price__'][~corr_df['log_price__'].index.isin(['price__', 'log_price__'])]\n",
    "\n",
    "    # Print the values to see them\n",
    "    print(f'\\n{price_corr.sort_values(ascending=False)}')\n",
    "    print('='*50)\n",
    "    print(f'\\n{log_price_corr.sort_values(ascending=False)}')\n",
    "    print('='*50)\n",
    "    print('='*50)\n",
    "\n",
    "    # Greate list of features (ngrams/words) with relatively high correlation coefficients\n",
    "    globals()[f'high_cor_feats_{col}'] = list(log_price_corr[abs(log_price_corr) >= .1].index)\n",
    "#==============================================================================================="
   ]
  },
  {
   "cell_type": "code",
   "execution_count": 28,
   "id": "a32a888c-117e-4bd5-9dfc-b8dd68d8ed22",
   "metadata": {},
   "outputs": [
    {
     "data": {
      "text/plain": [
       "crossing the    0.114223\n",
       "guests          0.122042\n",
       "locals          0.107585\n",
       "the building    0.105484\n",
       "why             0.113260\n",
       "Name: price__, dtype: float64"
      ]
     },
     "execution_count": 28,
     "metadata": {},
     "output_type": "execute_result"
    }
   ],
   "source": [
    "price_corr[abs(price_corr) >= .1]"
   ]
  },
  {
   "cell_type": "code",
   "execution_count": 29,
   "id": "592cbe5d-889a-4f2a-9ad4-59a5e2c7643d",
   "metadata": {},
   "outputs": [
    {
     "name": "stdout",
     "output_type": "stream",
     "text": [
      "39\n",
      "811\n",
      "1335\n",
      "378\n"
     ]
    }
   ],
   "source": [
    "# See how many sub-features were captured for each lstn feature:\n",
    "\n",
    "print(len(high_cor_feats_name))\n",
    "print(len(high_cor_feats_description))\n",
    "print(len(high_cor_feats_host_about))\n",
    "print(len(high_cor_feats_neighborhood_overview))"
   ]
  },
  {
   "cell_type": "markdown",
   "id": "fb859cbc-5fc1-4ae7-a732-e5c5342e4d48",
   "metadata": {},
   "source": [
    "#### OBSERVATIONS:\n",
    "* Many words in each dataset appear to have correlation coefficients against the log_price data which are above the specified threshold\n",
    "* Examining the words/ngrams created would be too time consuming and off little value.  Thus, the correlation coefficents are heavily relied upon to identify useful correlations"
   ]
  },
  {
   "cell_type": "markdown",
   "id": "769de75d-efa4-4f62-9683-fcf0ac13a33b",
   "metadata": {},
   "source": [
    "# 5 - Examine and Encode Host Location and Neighborhood"
   ]
  },
  {
   "cell_type": "code",
   "execution_count": 30,
   "id": "66692261-6d50-4a6f-9963-a1292cc9536d",
   "metadata": {},
   "outputs": [
    {
     "name": "stdout",
     "output_type": "stream",
     "text": [
      "113\n"
     ]
    },
    {
     "data": {
      "text/plain": [
       "Allston-Brighton                    426\n",
       "Cambridge                           397\n",
       "Dorchester                          261\n",
       "Roxbury                             206\n",
       "Jamaica Plain                       202\n",
       "                                   ... \n",
       "Wellington Hill                       1\n",
       "Central Austin                        1\n",
       "Miravalle                             1\n",
       "South Lake Tahoe                      1\n",
       "Metropolitan Hill / Beech Street      1\n",
       "Name: host_neighbourhood, Length: 104, dtype: int64"
      ]
     },
     "execution_count": 30,
     "metadata": {},
     "output_type": "execute_result"
    }
   ],
   "source": [
    "host_nbd = lstn.host_neighbourhood.value_counts()\n",
    "print(lstn.host_neighbourhood.isnull().sum())\n",
    "host_nbd"
   ]
  },
  {
   "cell_type": "code",
   "execution_count": 31,
   "id": "5c6ae2d5-6d75-4975-9b4d-df685f7bc073",
   "metadata": {},
   "outputs": [
    {
     "name": "stdout",
     "output_type": "stream",
     "text": [
      "794\n"
     ]
    },
    {
     "data": {
      "text/plain": [
       "Boston, MA                      1899\n",
       "New York, NY                     409\n",
       "Massachusetts, United States     101\n",
       "Hawthorne, NJ                     36\n",
       "Cambridge, MA                     26\n",
       "                                ... \n",
       "Camden, NJ                         1\n",
       "Old Lyme, CT                       1\n",
       "Everett, WA                        1\n",
       "Richmond, United Kingdom           1\n",
       "Miami Beach, FL                    1\n",
       "Name: host_location, Length: 113, dtype: int64"
      ]
     },
     "execution_count": 31,
     "metadata": {},
     "output_type": "execute_result"
    }
   ],
   "source": [
    "host_local = lstn.host_location.value_counts()\n",
    "print(lstn.host_location.isnull().sum())\n",
    "host_local"
   ]
  },
  {
   "cell_type": "code",
   "execution_count": 32,
   "id": "8267279e-5d65-40c8-8320-5ed6907a6440",
   "metadata": {},
   "outputs": [
    {
     "name": "stdout",
     "output_type": "stream",
     "text": [
      "Neighborhood null count: 113\n",
      "Location null count: 794\n"
     ]
    }
   ],
   "source": [
    "# Print the null counts for each of the above features\n",
    "print(f'Neighborhood null count: {lstn.host_neighbourhood.isnull().sum()}\\nLocation null count: {lstn.host_location.isnull().sum()}')"
   ]
  },
  {
   "cell_type": "code",
   "execution_count": 33,
   "id": "3543c359-b3e0-4d59-8f25-a71e123fe617",
   "metadata": {},
   "outputs": [],
   "source": [
    "# Create pandas series of the value counts for each"
   ]
  },
  {
   "cell_type": "code",
   "execution_count": 34,
   "id": "f4a51e92-d11e-40e9-9129-d03e376d4b42",
   "metadata": {},
   "outputs": [
    {
     "data": {
      "text/plain": [
       "Boston, MA                   1899\n",
       "Cambridge, MA                  26\n",
       "Brookline, MA                  13\n",
       "Newburyport, MA                 9\n",
       "Wayland, MA                     9\n",
       "Wellesley, MA                   6\n",
       "Quincy, MA                      5\n",
       "Milton, MA                      4\n",
       "Norwood, MA                     3\n",
       "Newton, MA                      3\n",
       "Braintree, MA                   3\n",
       "Malden, MA                      3\n",
       "Acton, MA                       2\n",
       "Lexington, MA                   2\n",
       "Shrewsbury, MA                  2\n",
       "Dedham, MA                      2\n",
       "Nantucket, MA                   2\n",
       "Somerville, MA                  2\n",
       "Andover, MA                     1\n",
       "Watertown, MA                   1\n",
       "Lancaster, MA                   1\n",
       "Stoughton, MA                   1\n",
       "Lynnfield, MA                   1\n",
       "Melrose, MA                     1\n",
       "Mid-Cambridge, MA               1\n",
       "Stoneham, MA                    1\n",
       "Walpole, MA                     1\n",
       "Wrentham, MA                    1\n",
       "Beverly, MA                     1\n",
       "Marblehead, MA                  1\n",
       "Arlington, MA                   1\n",
       "Concord, MA                     1\n",
       "Swampscott, MA                  1\n",
       "North Andover, MA               1\n",
       "Manchester-by-the-Sea, MA       1\n",
       "Weymouth, MA                    1\n",
       "Barnstable, MA                  1\n",
       "Dracut, MA                      1\n",
       "Revere, MA                      1\n",
       "Groton, MA                      1\n",
       "Boxford, MA                     1\n",
       "Winthrop, MA                    1\n",
       "Name: host_location, dtype: int64"
      ]
     },
     "execution_count": 34,
     "metadata": {},
     "output_type": "execute_result"
    }
   ],
   "source": [
    "host_local[host_local.index.str.contains('MA')]"
   ]
  },
  {
   "cell_type": "code",
   "execution_count": 35,
   "id": "956f8680-ad41-4fef-8859-24627872de69",
   "metadata": {},
   "outputs": [
    {
     "data": {
      "text/plain": [
       "Massachusetts, United States    101\n",
       "Malden, MA                        3\n",
       "Macau                             1\n",
       "Marblehead, MA                    1\n",
       "Manchester-by-the-Sea, MA         1\n",
       "Name: host_location, dtype: int64"
      ]
     },
     "execution_count": 35,
     "metadata": {},
     "output_type": "execute_result"
    }
   ],
   "source": [
    "host_local[host_local.index.str.contains('Ma')]"
   ]
  },
  {
   "cell_type": "code",
   "execution_count": 36,
   "id": "baf68bfd-675e-4fc5-947d-5b4d70ea371d",
   "metadata": {},
   "outputs": [
    {
     "data": {
      "text/plain": [
       "Jamaica                 3\n",
       "Nassau, Bahamas         1\n",
       "Alkmaar, Netherlands    1\n",
       "Name: host_location, dtype: int64"
      ]
     },
     "execution_count": 36,
     "metadata": {},
     "output_type": "execute_result"
    }
   ],
   "source": [
    "host_local[host_local.index.str.contains('ma')]"
   ]
  },
  {
   "cell_type": "code",
   "execution_count": 37,
   "id": "c59b1420-7f54-4355-b869-fbda8eda18e7",
   "metadata": {},
   "outputs": [
    {
     "data": {
      "text/plain": [
       "New York, NY         409\n",
       "Latham, NY             1\n",
       "Central Islip, NY      1\n",
       "Name: host_location, dtype: int64"
      ]
     },
     "execution_count": 37,
     "metadata": {},
     "output_type": "execute_result"
    }
   ],
   "source": [
    "host_local[host_local.index.str.contains('NY')]"
   ]
  },
  {
   "cell_type": "code",
   "execution_count": 38,
   "id": "e6a354b6-8d97-4b98-a89d-d0f314cc3fe7",
   "metadata": {},
   "outputs": [],
   "source": [
    "# From the above filters, create a list of locations which are not mass or new york city\n",
    "not_ma_ny_list = list(host_local[(~host_local.index.str.contains('MA')) & (~host_local.index.str.contains('Ma')) & (~host_local.index.str.contains('New York, NY'))].index)"
   ]
  },
  {
   "cell_type": "code",
   "execution_count": 39,
   "id": "eff94b48-3bfe-433c-aa96-13b00ba25ae6",
   "metadata": {},
   "outputs": [],
   "source": [
    "# Need to append 'Macau' from the searches above\n",
    "not_ma_ny_list.append('Macau')"
   ]
  },
  {
   "cell_type": "code",
   "execution_count": 40,
   "id": "64c197d0-608a-4ede-b732-63382757cf9c",
   "metadata": {},
   "outputs": [],
   "source": [
    "# Create a list of places which are not Boston\n",
    "outside_bos = list(host_local[(host_local.index.str.contains('MA')) & (~host_local.index.str.contains('Boston'))].index)"
   ]
  },
  {
   "cell_type": "code",
   "execution_count": 41,
   "id": "f6e4f8e9-be06-4d0b-bb01-73fd72999296",
   "metadata": {},
   "outputs": [],
   "source": [
    "# Need to add the general Massachusetts location to the outside_bos_cam list\n",
    "outside_bos.append('Massachusetts, United States')"
   ]
  },
  {
   "cell_type": "code",
   "execution_count": 42,
   "id": "99fc88ce-6087-4b8d-8e4f-31678616eaa4",
   "metadata": {},
   "outputs": [],
   "source": [
    "# Fill null values prior to re-mapping locations\n",
    "lstn.host_location.fillna('not_listed', inplace=True)"
   ]
  },
  {
   "cell_type": "code",
   "execution_count": 43,
   "id": "b0b5ff7e-45a2-4777-b09d-a16e1a9d71f3",
   "metadata": {},
   "outputs": [],
   "source": [
    "def location_classifier(x):\n",
    "    if x in outside_bos:\n",
    "        return 'outside_bos'\n",
    "    elif x in not_ma_ny_list:\n",
    "        return 'some_other_place'\n",
    "    else:\n",
    "        return x"
   ]
  },
  {
   "cell_type": "code",
   "execution_count": 44,
   "id": "c1c711ab-91ca-4e7b-9478-a1623445bcb8",
   "metadata": {
    "tags": []
   },
   "outputs": [
    {
     "data": {
      "text/plain": [
       "Boston, MA          1899\n",
       "not_listed           794\n",
       "New York, NY         409\n",
       "outside_bos          221\n",
       "some_other_place     154\n",
       "Name: host_location, dtype: int64"
      ]
     },
     "execution_count": 44,
     "metadata": {},
     "output_type": "execute_result"
    }
   ],
   "source": [
    "# Check value counts to ensure proper encoding \n",
    "lstn.host_location.apply(lambda x: location_classifier(x)).value_counts()"
   ]
  },
  {
   "cell_type": "code",
   "execution_count": 45,
   "id": "7c18ef01-74ec-4b1c-b94e-0be07499bb7a",
   "metadata": {},
   "outputs": [],
   "source": [
    "# Establish the enocded values in the dataframe\n",
    "lstn.host_location = lstn.host_location.apply(lambda x: location_classifier(x))"
   ]
  },
  {
   "cell_type": "code",
   "execution_count": 46,
   "id": "a887d993-6bd6-4577-a990-4908cb2243b9",
   "metadata": {},
   "outputs": [],
   "source": [
    "# Fill null values prior to re-mapping locations\n",
    "lstn.host_neighbourhood.fillna('not_listed', inplace=True)"
   ]
  },
  {
   "cell_type": "code",
   "execution_count": 61,
   "id": "6fd1d611-87d5-44f3-9e6e-12eafe4c92ab",
   "metadata": {},
   "outputs": [
    {
     "data": {
      "text/plain": [
       "Dorchester              216\n",
       "Jamaica Plain           173\n",
       "Roxbury                 147\n",
       "Allston-Brighton        143\n",
       "South End               100\n",
       "                       ... \n",
       "Franklin Field North      1\n",
       "East Downtown             1\n",
       "Harwich Port              1\n",
       "South Beach               1\n",
       "Financial District        1\n",
       "Name: host_neighbourhood, Length: 67, dtype: int64"
      ]
     },
     "execution_count": 61,
     "metadata": {},
     "output_type": "execute_result"
    }
   ],
   "source": [
    "# See the neighborhoods that are listed for non-Boston locations\n",
    "lstn[lstn.host_location == 'Boston, MA']['host_neighbourhood'].value_counts()"
   ]
  },
  {
   "cell_type": "code",
   "execution_count": 62,
   "id": "34e58f70-94b8-44a5-a9ae-a3d278ab758f",
   "metadata": {},
   "outputs": [],
   "source": [
    "'''\n",
    "Above, some Boston neighborhoods have been encoded in non-Boston locations, probably as general\n",
    "Massachusetts locations.  The locations should be fixed by using the boston locations to get a\n",
    "list of Boston neighborhoods and then imputing Boston into the fields that need to be corrected.\n",
    "'''\n",
    "\n",
    "# Create a list of Boston neighborhoods\n",
    "bos_nbr_list = list(lstn[lstn.host_location == 'Boston, MA']['host_neighbourhood'].value_counts().index)"
   ]
  },
  {
   "cell_type": "markdown",
   "id": "d305aa73-951e-48d7-9942-d4306193952f",
   "metadata": {},
   "source": [
    "---\n",
    "---"
   ]
  },
  {
   "cell_type": "markdown",
   "id": "748bebfd-7022-43d3-b3a1-0b0508e20bc2",
   "metadata": {},
   "source": [
    "You may need to cite the following soureces:\n",
    "* https://stackoverflow.com/questions/33769860/pandas-apply-but-only-for-rows-where-a-condition-is-met\n",
    "* https://www.geeksforgeeks.org/apply-a-function-to-single-or-selected-columns-or-rows-in-pandas-dataframe/\n",
    "* https://builtin.com/data-science/pandas-filter\n",
    "* https://www.statology.org/pandas-series-filter-by-value/\n"
   ]
  },
  {
   "cell_type": "code",
   "execution_count": 98,
   "id": "b87b69d1-1fa7-4e54-9835-4d0257d00372",
   "metadata": {},
   "outputs": [
    {
     "ename": "ValueError",
     "evalue": "either both or neither of x and y should be given",
     "output_type": "error",
     "traceback": [
      "\u001b[1;31m---------------------------------------------------------------------------\u001b[0m",
      "\u001b[1;31mValueError\u001b[0m                                Traceback (most recent call last)",
      "Cell \u001b[1;32mIn[98], line 3\u001b[0m\n\u001b[0;32m      1\u001b[0m sweetness \u001b[38;5;241m=\u001b[39m lstn\u001b[38;5;241m.\u001b[39mhost_neighbourhood\u001b[38;5;241m.\u001b[39mcopy()\n\u001b[1;32m----> 3\u001b[0m \u001b[43mnp\u001b[49m\u001b[38;5;241;43m.\u001b[39;49m\u001b[43mwhere\u001b[49m\u001b[43m(\u001b[49m\u001b[43msweetness\u001b[49m\u001b[43m \u001b[49m\u001b[38;5;241;43m==\u001b[39;49m\u001b[43m \u001b[49m\u001b[38;5;124;43m'\u001b[39;49m\u001b[38;5;124;43mSouth End\u001b[39;49m\u001b[38;5;124;43m'\u001b[39;49m\u001b[43m,\u001b[49m\u001b[43m \u001b[49m\u001b[38;5;124;43m'\u001b[39;49m\u001b[38;5;124;43msweet\u001b[39;49m\u001b[38;5;124;43m'\u001b[39;49m\u001b[43m)\u001b[49m\n",
      "File \u001b[1;32m<__array_function__ internals>:180\u001b[0m, in \u001b[0;36mwhere\u001b[1;34m(*args, **kwargs)\u001b[0m\n",
      "\u001b[1;31mValueError\u001b[0m: either both or neither of x and y should be given"
     ]
    }
   ],
   "source": [
    "sweetness = lstn.host_neighbourhood.copy()\n",
    "\n",
    "np.where(sweetness == 'South End', 'sweet')"
   ]
  },
  {
   "cell_type": "code",
   "execution_count": 103,
   "id": "645be969-748f-4788-ba83-3b572e35c3ce",
   "metadata": {},
   "outputs": [],
   "source": [
    "sweetness[[0, 1]] = 'boop'"
   ]
  },
  {
   "cell_type": "code",
   "execution_count": 104,
   "id": "b6b96e4c-ebee-4ad3-a246-61987cc0579b",
   "metadata": {},
   "outputs": [
    {
     "data": {
      "text/plain": [
       "0                   boop\n",
       "1                   boop\n",
       "2          Jamaica Plain\n",
       "3              South End\n",
       "4              Cambridge\n",
       "              ...       \n",
       "3472         Beacon Hill\n",
       "3473    Allston-Brighton\n",
       "3474           Hyde Park\n",
       "3475    Allston-Brighton\n",
       "3476        South Boston\n",
       "Name: host_neighbourhood, Length: 3477, dtype: object"
      ]
     },
     "execution_count": 104,
     "metadata": {},
     "output_type": "execute_result"
    }
   ],
   "source": [
    "sweetness"
   ]
  },
  {
   "cell_type": "code",
   "execution_count": 63,
   "id": "ab7a4249-4787-4bea-8567-58c782dae0c6",
   "metadata": {},
   "outputs": [
    {
     "data": {
      "text/html": [
       "<div>\n",
       "<style scoped>\n",
       "    .dataframe tbody tr th:only-of-type {\n",
       "        vertical-align: middle;\n",
       "    }\n",
       "\n",
       "    .dataframe tbody tr th {\n",
       "        vertical-align: top;\n",
       "    }\n",
       "\n",
       "    .dataframe thead th {\n",
       "        text-align: right;\n",
       "    }\n",
       "</style>\n",
       "<table border=\"1\" class=\"dataframe\">\n",
       "  <thead>\n",
       "    <tr style=\"text-align: right;\">\n",
       "      <th></th>\n",
       "      <th>host_neighbourhood</th>\n",
       "      <th>host_location</th>\n",
       "    </tr>\n",
       "  </thead>\n",
       "  <tbody>\n",
       "    <tr>\n",
       "      <th>1</th>\n",
       "      <td>Roxbury</td>\n",
       "      <td>Boston, MA</td>\n",
       "    </tr>\n",
       "    <tr>\n",
       "      <th>2</th>\n",
       "      <td>Jamaica Plain</td>\n",
       "      <td>Boston, MA</td>\n",
       "    </tr>\n",
       "    <tr>\n",
       "      <th>3</th>\n",
       "      <td>South End</td>\n",
       "      <td>Boston, MA</td>\n",
       "    </tr>\n",
       "    <tr>\n",
       "      <th>6</th>\n",
       "      <td>Jamaica Plain</td>\n",
       "      <td>Boston, MA</td>\n",
       "    </tr>\n",
       "    <tr>\n",
       "      <th>7</th>\n",
       "      <td>Jamaica Plain</td>\n",
       "      <td>Boston, MA</td>\n",
       "    </tr>\n",
       "    <tr>\n",
       "      <th>...</th>\n",
       "      <td>...</td>\n",
       "      <td>...</td>\n",
       "    </tr>\n",
       "    <tr>\n",
       "      <th>3470</th>\n",
       "      <td>Allston-Brighton</td>\n",
       "      <td>Boston, MA</td>\n",
       "    </tr>\n",
       "    <tr>\n",
       "      <th>3471</th>\n",
       "      <td>Dorchester</td>\n",
       "      <td>Boston, MA</td>\n",
       "    </tr>\n",
       "    <tr>\n",
       "      <th>3472</th>\n",
       "      <td>Beacon Hill</td>\n",
       "      <td>Boston, MA</td>\n",
       "    </tr>\n",
       "    <tr>\n",
       "      <th>3473</th>\n",
       "      <td>Allston-Brighton</td>\n",
       "      <td>Boston, MA</td>\n",
       "    </tr>\n",
       "    <tr>\n",
       "      <th>3476</th>\n",
       "      <td>South Boston</td>\n",
       "      <td>Boston, MA</td>\n",
       "    </tr>\n",
       "  </tbody>\n",
       "</table>\n",
       "<p>1899 rows × 2 columns</p>\n",
       "</div>"
      ],
      "text/plain": [
       "     host_neighbourhood host_location\n",
       "1               Roxbury    Boston, MA\n",
       "2         Jamaica Plain    Boston, MA\n",
       "3             South End    Boston, MA\n",
       "6         Jamaica Plain    Boston, MA\n",
       "7         Jamaica Plain    Boston, MA\n",
       "...                 ...           ...\n",
       "3470   Allston-Brighton    Boston, MA\n",
       "3471         Dorchester    Boston, MA\n",
       "3472        Beacon Hill    Boston, MA\n",
       "3473   Allston-Brighton    Boston, MA\n",
       "3476       South Boston    Boston, MA\n",
       "\n",
       "[1899 rows x 2 columns]"
      ]
     },
     "execution_count": 63,
     "metadata": {},
     "output_type": "execute_result"
    }
   ],
   "source": [
    "lstn[(lstn.host_location != 'Boston, MA') & ][['host_neighbourhood', 'host_location']]"
   ]
  },
  {
   "cell_type": "markdown",
   "id": "281d9770-68da-49ff-9eca-c25e7df7b139",
   "metadata": {},
   "source": [
    "---\n",
    "---"
   ]
  },
  {
   "cell_type": "markdown",
   "id": "67408976-1561-469c-8a6e-26401868d61f",
   "metadata": {
    "tags": []
   },
   "source": [
    "# APPENDIX OR JUNK"
   ]
  },
  {
   "cell_type": "code",
   "execution_count": 117,
   "id": "a330795f-e313-4b2a-8416-018722da099a",
   "metadata": {},
   "outputs": [
    {
     "data": {
      "text/plain": [
       "'Pack \\\\u2019n p'"
      ]
     },
     "execution_count": 117,
     "metadata": {},
     "output_type": "execute_result"
    }
   ],
   "source": [
    "'Pack \\\\u2019n p'"
   ]
  },
  {
   "cell_type": "code",
   "execution_count": 120,
   "id": "29934ac9-4eec-4e87-9bde-b2b95a79723c",
   "metadata": {},
   "outputs": [
    {
     "data": {
      "text/plain": [
       "'Pack \\\\u2019n play/Travel crib - available upon request'"
      ]
     },
     "execution_count": 120,
     "metadata": {},
     "output_type": "execute_result"
    }
   ],
   "source": [
    "amn_counts[amn_counts >= 100].index[-1]"
   ]
  },
  {
   "cell_type": "code",
   "execution_count": 127,
   "id": "d035b417-420a-4736-b388-109f8e2ce416",
   "metadata": {},
   "outputs": [
    {
     "data": {
      "text/plain": [
       "382"
      ]
     },
     "execution_count": 127,
     "metadata": {},
     "output_type": "execute_result"
    }
   ],
   "source": [
    "len([i for i in lstn.amenities if '\\\\u2019n' in i])"
   ]
  },
  {
   "cell_type": "code",
   "execution_count": 140,
   "id": "e31be724-e131-4aca-a83b-a60701096e67",
   "metadata": {},
   "outputs": [],
   "source": [
    "df = lstn['amenities']"
   ]
  },
  {
   "cell_type": "code",
   "execution_count": 141,
   "id": "8339478a-6010-4b6d-b8b2-04d33f155301",
   "metadata": {},
   "outputs": [
    {
     "data": {
      "text/plain": [
       "0       [\"Shampoo\", \"Carbon monoxide alarm\", \"Wifi\", \"...\n",
       "1       [\"Wifi\", \"Carbon monoxide alarm\", \"Hot water\",...\n",
       "2       [\"Shampoo\", \"Carbon monoxide alarm\", \"Wifi\", \"...\n",
       "3       [\"Wifi\", \"Kitchen\", \"First aid kit\", \"Refriger...\n",
       "4       [\"Wifi\", \"Window guards\", \"Kitchen\", \"Long ter...\n",
       "                              ...                        \n",
       "3472    [\"Wifi\", \"Stove\", \"Kitchen\", \"Dishwasher\", \"Re...\n",
       "3473    [\"Wifi\", \"Stove\", \"Keypad\", \"Kitchen\", \"Dishwa...\n",
       "3474    [\"Wifi\", \"Stove\", \"Keypad\", \"Kitchen\", \"Dishwa...\n",
       "3475                        [\"Wifi\", \"Microwave\", \"Oven\"]\n",
       "3476    [\"Clothing storage: wardrobe and closet\", \"Cit...\n",
       "Name: amenities, Length: 3477, dtype: object"
      ]
     },
     "execution_count": 141,
     "metadata": {},
     "output_type": "execute_result"
    }
   ],
   "source": [
    "df"
   ]
  },
  {
   "cell_type": "code",
   "execution_count": null,
   "id": "9038d217-2d3c-4e2f-b71d-9c52b67f69c1",
   "metadata": {},
   "outputs": [],
   "source": [
    "#regex_string = '(?<=\")[^\"]+(?=\",)'\n",
    "regex_string_new = '(?<=\")[^\"]+(?=\"[,\\]])'"
   ]
  },
  {
   "cell_type": "code",
   "execution_count": 254,
   "id": "98f17840-5d0f-4a16-8cef-fe2dcd4900ad",
   "metadata": {},
   "outputs": [
    {
     "data": {
      "text/plain": [
       "0.13731144502525244"
      ]
     },
     "execution_count": 254,
     "metadata": {},
     "output_type": "execute_result"
    }
   ],
   "source": [
    "# Find the correlation coefficient between the number of amenities listed and the price\n",
    "np.corrcoef(lstn.amen_cnt, lstn.price)[0][1]"
   ]
  },
  {
   "cell_type": "code",
   "execution_count": 275,
   "id": "b6d4087b-6980-4cc0-9fcf-3e5386cb7cce",
   "metadata": {},
   "outputs": [
    {
     "data": {
      "text/plain": [
       "0.3156277419865199"
      ]
     },
     "execution_count": 275,
     "metadata": {},
     "output_type": "execute_result"
    }
   ],
   "source": [
    "# Test to see if there is a stronger correlation with the log of the price\n",
    "#  A lambda funciton is used to hand the 0 values (which cannot be log transformed)\n",
    "np.corrcoef(lstn.amen_cnt, col_logger(lstn.price))[0][1]"
   ]
  },
  {
   "cell_type": "code",
   "execution_count": 276,
   "id": "eda90192-0bf4-4d4c-aa66-0be3d5614c5a",
   "metadata": {},
   "outputs": [
    {
     "data": {
      "text/plain": [
       "0.3246712981483639"
      ]
     },
     "execution_count": 276,
     "metadata": {},
     "output_type": "execute_result"
    }
   ],
   "source": [
    "# Check the correlation of both variables log transformed\n",
    "np.corrcoef(col_logger(lstn.amen_cnt), col_logger(lstn.price))[0][1]"
   ]
  },
  {
   "cell_type": "code",
   "execution_count": null,
   "id": "9c05483d-ef17-4e06-94c7-3b772123bd28",
   "metadata": {},
   "outputs": [],
   "source": []
  },
  {
   "cell_type": "code",
   "execution_count": null,
   "id": "62cd9dcd-e617-4d7a-9edb-204f01f942f9",
   "metadata": {},
   "outputs": [],
   "source": []
  },
  {
   "cell_type": "code",
   "execution_count": null,
   "id": "6b74a242-b76e-4e19-9343-7cd5534bfd0d",
   "metadata": {},
   "outputs": [],
   "source": []
  },
  {
   "cell_type": "code",
   "execution_count": null,
   "id": "0df617ba-e3fb-4be5-926f-162f9cfd656d",
   "metadata": {},
   "outputs": [],
   "source": []
  },
  {
   "cell_type": "code",
   "execution_count": 83,
   "id": "c4a716a7-c9be-478a-86a9-31aa967d5ae7",
   "metadata": {},
   "outputs": [],
   "source": [
    "\n",
    "# import pandas and numpy library\n",
    "import pandas as pd\n",
    "import numpy as np\n",
    "# List of Tuples\n",
    "matrix = [(1, 2, 3),\n",
    "          (4, 5, 6),\n",
    "          (7, 8, 9)\n",
    "         ]\n",
    " \n",
    "# Create a DataFrame object\n",
    "df = pd.DataFrame(matrix, columns = list('xyz'),\n",
    "                   index = list('abc'))\n",
    " \n",
    "# Apply function numpy.square() to lambda\n",
    "# whose row index is 'b'\n",
    "new_df = df.apply(lambda x: np.square(x) if x.name == 'b' else x,\n",
    "                axis = 1)"
   ]
  },
  {
   "cell_type": "code",
   "execution_count": 86,
   "id": "9bb94d0d-9e75-4c62-b8b9-88045a3df03b",
   "metadata": {},
   "outputs": [
    {
     "data": {
      "text/html": [
       "<div>\n",
       "<style scoped>\n",
       "    .dataframe tbody tr th:only-of-type {\n",
       "        vertical-align: middle;\n",
       "    }\n",
       "\n",
       "    .dataframe tbody tr th {\n",
       "        vertical-align: top;\n",
       "    }\n",
       "\n",
       "    .dataframe thead th {\n",
       "        text-align: right;\n",
       "    }\n",
       "</style>\n",
       "<table border=\"1\" class=\"dataframe\">\n",
       "  <thead>\n",
       "    <tr style=\"text-align: right;\">\n",
       "      <th></th>\n",
       "      <th>x</th>\n",
       "      <th>y</th>\n",
       "      <th>z</th>\n",
       "    </tr>\n",
       "  </thead>\n",
       "  <tbody>\n",
       "    <tr>\n",
       "      <th>a</th>\n",
       "      <td>1</td>\n",
       "      <td>2</td>\n",
       "      <td>3</td>\n",
       "    </tr>\n",
       "    <tr>\n",
       "      <th>b</th>\n",
       "      <td>4</td>\n",
       "      <td>5</td>\n",
       "      <td>6</td>\n",
       "    </tr>\n",
       "    <tr>\n",
       "      <th>c</th>\n",
       "      <td>7</td>\n",
       "      <td>8</td>\n",
       "      <td>9</td>\n",
       "    </tr>\n",
       "  </tbody>\n",
       "</table>\n",
       "</div>"
      ],
      "text/plain": [
       "   x  y  z\n",
       "a  1  2  3\n",
       "b  4  5  6\n",
       "c  7  8  9"
      ]
     },
     "execution_count": 86,
     "metadata": {},
     "output_type": "execute_result"
    }
   ],
   "source": [
    "df"
   ]
  },
  {
   "cell_type": "code",
   "execution_count": 87,
   "id": "69b0aa94-bc66-43b0-b74b-56e4594b6be3",
   "metadata": {},
   "outputs": [
    {
     "data": {
      "text/html": [
       "<div>\n",
       "<style scoped>\n",
       "    .dataframe tbody tr th:only-of-type {\n",
       "        vertical-align: middle;\n",
       "    }\n",
       "\n",
       "    .dataframe tbody tr th {\n",
       "        vertical-align: top;\n",
       "    }\n",
       "\n",
       "    .dataframe thead th {\n",
       "        text-align: right;\n",
       "    }\n",
       "</style>\n",
       "<table border=\"1\" class=\"dataframe\">\n",
       "  <thead>\n",
       "    <tr style=\"text-align: right;\">\n",
       "      <th></th>\n",
       "      <th>x</th>\n",
       "      <th>y</th>\n",
       "      <th>z</th>\n",
       "    </tr>\n",
       "  </thead>\n",
       "  <tbody>\n",
       "    <tr>\n",
       "      <th>a</th>\n",
       "      <td>1</td>\n",
       "      <td>2</td>\n",
       "      <td>3</td>\n",
       "    </tr>\n",
       "    <tr>\n",
       "      <th>b</th>\n",
       "      <td>16</td>\n",
       "      <td>25</td>\n",
       "      <td>36</td>\n",
       "    </tr>\n",
       "    <tr>\n",
       "      <th>c</th>\n",
       "      <td>7</td>\n",
       "      <td>8</td>\n",
       "      <td>9</td>\n",
       "    </tr>\n",
       "  </tbody>\n",
       "</table>\n",
       "</div>"
      ],
      "text/plain": [
       "    x   y   z\n",
       "a   1   2   3\n",
       "b  16  25  36\n",
       "c   7   8   9"
      ]
     },
     "execution_count": 87,
     "metadata": {},
     "output_type": "execute_result"
    }
   ],
   "source": [
    "new_df"
   ]
  },
  {
   "cell_type": "code",
   "execution_count": 94,
   "id": "3d1f2870-a3dc-4e45-8ffe-d0b078fc1c98",
   "metadata": {},
   "outputs": [
    {
     "ename": "AttributeError",
     "evalue": "'numpy.int64' object has no attribute 'name'",
     "output_type": "error",
     "traceback": [
      "\u001b[1;31m---------------------------------------------------------------------------\u001b[0m",
      "\u001b[1;31mAttributeError\u001b[0m                            Traceback (most recent call last)",
      "Cell \u001b[1;32mIn[94], line 1\u001b[0m\n\u001b[1;32m----> 1\u001b[0m \u001b[43mdf\u001b[49m\u001b[43m[\u001b[49m\u001b[38;5;124;43m'\u001b[39;49m\u001b[38;5;124;43my\u001b[39;49m\u001b[38;5;124;43m'\u001b[39;49m\u001b[43m]\u001b[49m\u001b[38;5;241;43m.\u001b[39;49m\u001b[43miloc\u001b[49m\u001b[43m[\u001b[49m\u001b[38;5;241;43m0\u001b[39;49m\u001b[43m]\u001b[49m\u001b[38;5;241;43m.\u001b[39;49m\u001b[43mname\u001b[49m\n",
      "\u001b[1;31mAttributeError\u001b[0m: 'numpy.int64' object has no attribute 'name'"
     ]
    }
   ],
   "source": [
    "df['y'].iloc[0].name"
   ]
  }
 ],
 "metadata": {
  "kernelspec": {
   "display_name": "Python 3 (ipykernel)",
   "language": "python",
   "name": "python3"
  },
  "language_info": {
   "codemirror_mode": {
    "name": "ipython",
    "version": 3
   },
   "file_extension": ".py",
   "mimetype": "text/x-python",
   "name": "python",
   "nbconvert_exporter": "python",
   "pygments_lexer": "ipython3",
   "version": "3.10.9"
  }
 },
 "nbformat": 4,
 "nbformat_minor": 5
}
