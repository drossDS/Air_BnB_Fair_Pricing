{
 "cells": [
  {
   "cell_type": "markdown",
   "id": "99ff3b89-3dac-4db9-813c-1c318bb3d51f",
   "metadata": {},
   "source": [
    "# Your Copy of the Data Dictionary:\n",
    "https://docs.google.com/spreadsheets/d/1MFbQRlgFQgfpFeO1BIHJZZm1slxYM0DaZXPKvxeIhOg/edit#gid=150111846"
   ]
  },
  {
   "cell_type": "markdown",
   "id": "7e1310c6-0437-4117-9a23-a9e00f667c04",
   "metadata": {},
   "source": [
    "# Quick Look at the Listings Data"
   ]
  },
  {
   "cell_type": "code",
   "execution_count": 1,
   "id": "f5a10421-adc4-4551-a563-f0c8f859c3c3",
   "metadata": {},
   "outputs": [],
   "source": [
    "import pandas as pd\n",
    "import numpy as np\n",
    "import matplotlib.pyplot as plt\n",
    "import seaborn as sns"
   ]
  },
  {
   "cell_type": "code",
   "execution_count": 2,
   "id": "19aa763c-18d8-47ab-9153-7001eae9068e",
   "metadata": {},
   "outputs": [
    {
     "data": {
      "text/html": [
       "<div>\n",
       "<style scoped>\n",
       "    .dataframe tbody tr th:only-of-type {\n",
       "        vertical-align: middle;\n",
       "    }\n",
       "\n",
       "    .dataframe tbody tr th {\n",
       "        vertical-align: top;\n",
       "    }\n",
       "\n",
       "    .dataframe thead th {\n",
       "        text-align: right;\n",
       "    }\n",
       "</style>\n",
       "<table border=\"1\" class=\"dataframe\">\n",
       "  <thead>\n",
       "    <tr style=\"text-align: right;\">\n",
       "      <th></th>\n",
       "      <th>id</th>\n",
       "      <th>listing_url</th>\n",
       "      <th>scrape_id</th>\n",
       "      <th>last_scraped</th>\n",
       "      <th>source</th>\n",
       "      <th>name</th>\n",
       "      <th>description</th>\n",
       "      <th>neighborhood_overview</th>\n",
       "      <th>picture_url</th>\n",
       "      <th>host_id</th>\n",
       "      <th>...</th>\n",
       "      <th>review_scores_communication</th>\n",
       "      <th>review_scores_location</th>\n",
       "      <th>review_scores_value</th>\n",
       "      <th>license</th>\n",
       "      <th>instant_bookable</th>\n",
       "      <th>calculated_host_listings_count</th>\n",
       "      <th>calculated_host_listings_count_entire_homes</th>\n",
       "      <th>calculated_host_listings_count_private_rooms</th>\n",
       "      <th>calculated_host_listings_count_shared_rooms</th>\n",
       "      <th>reviews_per_month</th>\n",
       "    </tr>\n",
       "  </thead>\n",
       "  <tbody>\n",
       "    <tr>\n",
       "      <th>0</th>\n",
       "      <td>3781</td>\n",
       "      <td>https://www.airbnb.com/rooms/3781</td>\n",
       "      <td>20230319180919</td>\n",
       "      <td>2023-03-19</td>\n",
       "      <td>city scrape</td>\n",
       "      <td>HARBORSIDE-Walk to subway</td>\n",
       "      <td>Fully separate apartment in a two apartment bu...</td>\n",
       "      <td>Mostly quiet ( no loud music, no crowed sidewa...</td>\n",
       "      <td>https://a0.muscache.com/pictures/24670/b2de044...</td>\n",
       "      <td>4804</td>\n",
       "      <td>...</td>\n",
       "      <td>4.96</td>\n",
       "      <td>4.88</td>\n",
       "      <td>4.92</td>\n",
       "      <td>NaN</td>\n",
       "      <td>f</td>\n",
       "      <td>1</td>\n",
       "      <td>1</td>\n",
       "      <td>0</td>\n",
       "      <td>0</td>\n",
       "      <td>0.26</td>\n",
       "    </tr>\n",
       "    <tr>\n",
       "      <th>1</th>\n",
       "      <td>5506</td>\n",
       "      <td>https://www.airbnb.com/rooms/5506</td>\n",
       "      <td>20230319180919</td>\n",
       "      <td>2023-03-19</td>\n",
       "      <td>city scrape</td>\n",
       "      <td>** Fort Hill Inn Private! Minutes to center!**</td>\n",
       "      <td>Private guest room with private bath, You do n...</td>\n",
       "      <td>Peaceful, Architecturally interesting, histori...</td>\n",
       "      <td>https://a0.muscache.com/pictures/miso/Hosting-...</td>\n",
       "      <td>8229</td>\n",
       "      <td>...</td>\n",
       "      <td>4.88</td>\n",
       "      <td>4.53</td>\n",
       "      <td>4.74</td>\n",
       "      <td>Approved by the government</td>\n",
       "      <td>f</td>\n",
       "      <td>10</td>\n",
       "      <td>10</td>\n",
       "      <td>0</td>\n",
       "      <td>0</td>\n",
       "      <td>0.69</td>\n",
       "    </tr>\n",
       "    <tr>\n",
       "      <th>2</th>\n",
       "      <td>6695</td>\n",
       "      <td>https://www.airbnb.com/rooms/6695</td>\n",
       "      <td>20230319180919</td>\n",
       "      <td>2023-03-19</td>\n",
       "      <td>city scrape</td>\n",
       "      <td>Fort Hill Inn *Sunny* 1 bedroom, condo duplex</td>\n",
       "      <td>Comfortable,  Fully Equipped private apartment...</td>\n",
       "      <td>Peaceful, Architecturally interesting, histori...</td>\n",
       "      <td>https://a0.muscache.com/pictures/38ac4797-e7a4...</td>\n",
       "      <td>8229</td>\n",
       "      <td>...</td>\n",
       "      <td>4.96</td>\n",
       "      <td>4.50</td>\n",
       "      <td>4.72</td>\n",
       "      <td>STR446650</td>\n",
       "      <td>f</td>\n",
       "      <td>10</td>\n",
       "      <td>10</td>\n",
       "      <td>0</td>\n",
       "      <td>0</td>\n",
       "      <td>0.74</td>\n",
       "    </tr>\n",
       "    <tr>\n",
       "      <th>3</th>\n",
       "      <td>8789</td>\n",
       "      <td>https://www.airbnb.com/rooms/8789</td>\n",
       "      <td>20230319180919</td>\n",
       "      <td>2023-03-20</td>\n",
       "      <td>city scrape</td>\n",
       "      <td>Curved Glass Studio/1bd facing Park</td>\n",
       "      <td>This unit is for sale. There will need to be o...</td>\n",
       "      <td>Beacon Hill is a historic neighborhood filled ...</td>\n",
       "      <td>https://a0.muscache.com/pictures/miso/Hosting-...</td>\n",
       "      <td>26988</td>\n",
       "      <td>...</td>\n",
       "      <td>4.96</td>\n",
       "      <td>4.96</td>\n",
       "      <td>4.56</td>\n",
       "      <td>NaN</td>\n",
       "      <td>f</td>\n",
       "      <td>7</td>\n",
       "      <td>7</td>\n",
       "      <td>0</td>\n",
       "      <td>0</td>\n",
       "      <td>0.24</td>\n",
       "    </tr>\n",
       "    <tr>\n",
       "      <th>4</th>\n",
       "      <td>4765070</td>\n",
       "      <td>https://www.airbnb.com/rooms/4765070</td>\n",
       "      <td>20230319180919</td>\n",
       "      <td>2023-03-19</td>\n",
       "      <td>city scrape</td>\n",
       "      <td>Studio w/ private entrance and bathroom</td>\n",
       "      <td>Private Studio located in Boston (town of Jama...</td>\n",
       "      <td>Jamaica Plain (JP) is an open, artsy, hip neig...</td>\n",
       "      <td>https://a0.muscache.com/pictures/miso/Hosting-...</td>\n",
       "      <td>24584716</td>\n",
       "      <td>...</td>\n",
       "      <td>4.85</td>\n",
       "      <td>4.48</td>\n",
       "      <td>4.69</td>\n",
       "      <td>str-416042</td>\n",
       "      <td>t</td>\n",
       "      <td>1</td>\n",
       "      <td>1</td>\n",
       "      <td>0</td>\n",
       "      <td>0</td>\n",
       "      <td>3.77</td>\n",
       "    </tr>\n",
       "  </tbody>\n",
       "</table>\n",
       "<p>5 rows × 75 columns</p>\n",
       "</div>"
      ],
      "text/plain": [
       "        id                           listing_url       scrape_id last_scraped  \\\n",
       "0     3781     https://www.airbnb.com/rooms/3781  20230319180919   2023-03-19   \n",
       "1     5506     https://www.airbnb.com/rooms/5506  20230319180919   2023-03-19   \n",
       "2     6695     https://www.airbnb.com/rooms/6695  20230319180919   2023-03-19   \n",
       "3     8789     https://www.airbnb.com/rooms/8789  20230319180919   2023-03-20   \n",
       "4  4765070  https://www.airbnb.com/rooms/4765070  20230319180919   2023-03-19   \n",
       "\n",
       "        source                                            name  \\\n",
       "0  city scrape                       HARBORSIDE-Walk to subway   \n",
       "1  city scrape  ** Fort Hill Inn Private! Minutes to center!**   \n",
       "2  city scrape   Fort Hill Inn *Sunny* 1 bedroom, condo duplex   \n",
       "3  city scrape             Curved Glass Studio/1bd facing Park   \n",
       "4  city scrape         Studio w/ private entrance and bathroom   \n",
       "\n",
       "                                         description  \\\n",
       "0  Fully separate apartment in a two apartment bu...   \n",
       "1  Private guest room with private bath, You do n...   \n",
       "2  Comfortable,  Fully Equipped private apartment...   \n",
       "3  This unit is for sale. There will need to be o...   \n",
       "4  Private Studio located in Boston (town of Jama...   \n",
       "\n",
       "                               neighborhood_overview  \\\n",
       "0  Mostly quiet ( no loud music, no crowed sidewa...   \n",
       "1  Peaceful, Architecturally interesting, histori...   \n",
       "2  Peaceful, Architecturally interesting, histori...   \n",
       "3  Beacon Hill is a historic neighborhood filled ...   \n",
       "4  Jamaica Plain (JP) is an open, artsy, hip neig...   \n",
       "\n",
       "                                         picture_url   host_id  ...  \\\n",
       "0  https://a0.muscache.com/pictures/24670/b2de044...      4804  ...   \n",
       "1  https://a0.muscache.com/pictures/miso/Hosting-...      8229  ...   \n",
       "2  https://a0.muscache.com/pictures/38ac4797-e7a4...      8229  ...   \n",
       "3  https://a0.muscache.com/pictures/miso/Hosting-...     26988  ...   \n",
       "4  https://a0.muscache.com/pictures/miso/Hosting-...  24584716  ...   \n",
       "\n",
       "  review_scores_communication review_scores_location review_scores_value  \\\n",
       "0                        4.96                   4.88                4.92   \n",
       "1                        4.88                   4.53                4.74   \n",
       "2                        4.96                   4.50                4.72   \n",
       "3                        4.96                   4.96                4.56   \n",
       "4                        4.85                   4.48                4.69   \n",
       "\n",
       "                      license instant_bookable calculated_host_listings_count  \\\n",
       "0                         NaN                f                              1   \n",
       "1  Approved by the government                f                             10   \n",
       "2                   STR446650                f                             10   \n",
       "3                         NaN                f                              7   \n",
       "4                  str-416042                t                              1   \n",
       "\n",
       "  calculated_host_listings_count_entire_homes  \\\n",
       "0                                           1   \n",
       "1                                          10   \n",
       "2                                          10   \n",
       "3                                           7   \n",
       "4                                           1   \n",
       "\n",
       "  calculated_host_listings_count_private_rooms  \\\n",
       "0                                            0   \n",
       "1                                            0   \n",
       "2                                            0   \n",
       "3                                            0   \n",
       "4                                            0   \n",
       "\n",
       "  calculated_host_listings_count_shared_rooms reviews_per_month  \n",
       "0                                           0              0.26  \n",
       "1                                           0              0.69  \n",
       "2                                           0              0.74  \n",
       "3                                           0              0.24  \n",
       "4                                           0              3.77  \n",
       "\n",
       "[5 rows x 75 columns]"
      ]
     },
     "execution_count": 2,
     "metadata": {},
     "output_type": "execute_result"
    }
   ],
   "source": [
    "listings = pd.read_csv('../data/listings.csv')\n",
    "listings.head()"
   ]
  },
  {
   "cell_type": "code",
   "execution_count": 70,
   "id": "fb3648dd-0a31-456d-8f33-fff887cf8e12",
   "metadata": {},
   "outputs": [
    {
     "name": "stdout",
     "output_type": "stream",
     "text": [
      "<class 'pandas.core.frame.DataFrame'>\n",
      "RangeIndex: 3864 entries, 0 to 3863\n",
      "Data columns (total 75 columns):\n",
      " #   Column                                        Non-Null Count  Dtype  \n",
      "---  ------                                        --------------  -----  \n",
      " 0   id                                            3864 non-null   int64  \n",
      " 1   listing_url                                   3864 non-null   object \n",
      " 2   scrape_id                                     3864 non-null   int64  \n",
      " 3   last_scraped                                  3864 non-null   object \n",
      " 4   source                                        3864 non-null   object \n",
      " 5   name                                          3864 non-null   object \n",
      " 6   description                                   3846 non-null   object \n",
      " 7   neighborhood_overview                         2497 non-null   object \n",
      " 8   picture_url                                   3864 non-null   object \n",
      " 9   host_id                                       3864 non-null   int64  \n",
      " 10  host_url                                      3864 non-null   object \n",
      " 11  host_name                                     3864 non-null   object \n",
      " 12  host_since                                    3864 non-null   object \n",
      " 13  host_location                                 2982 non-null   object \n",
      " 14  host_about                                    2740 non-null   object \n",
      " 15  host_response_time                            3344 non-null   object \n",
      " 16  host_response_rate                            3344 non-null   object \n",
      " 17  host_acceptance_rate                          3405 non-null   object \n",
      " 18  host_is_superhost                             3862 non-null   object \n",
      " 19  host_thumbnail_url                            3864 non-null   object \n",
      " 20  host_picture_url                              3864 non-null   object \n",
      " 21  host_neighbourhood                            3735 non-null   object \n",
      " 22  host_listings_count                           3864 non-null   int64  \n",
      " 23  host_total_listings_count                     3864 non-null   int64  \n",
      " 24  host_verifications                            3864 non-null   object \n",
      " 25  host_has_profile_pic                          3864 non-null   object \n",
      " 26  host_identity_verified                        3864 non-null   object \n",
      " 27  neighbourhood                                 2497 non-null   object \n",
      " 28  neighbourhood_cleansed                        3864 non-null   object \n",
      " 29  neighbourhood_group_cleansed                  0 non-null      float64\n",
      " 30  latitude                                      3864 non-null   float64\n",
      " 31  longitude                                     3864 non-null   float64\n",
      " 32  property_type                                 3864 non-null   object \n",
      " 33  room_type                                     3864 non-null   object \n",
      " 34  accommodates                                  3864 non-null   int64  \n",
      " 35  bathrooms                                     0 non-null      float64\n",
      " 36  bathrooms_text                                3862 non-null   object \n",
      " 37  bedrooms                                      3404 non-null   float64\n",
      " 38  beds                                          3784 non-null   float64\n",
      " 39  amenities                                     3864 non-null   object \n",
      " 40  price                                         3864 non-null   object \n",
      " 41  minimum_nights                                3864 non-null   int64  \n",
      " 42  maximum_nights                                3864 non-null   int64  \n",
      " 43  minimum_minimum_nights                        3863 non-null   float64\n",
      " 44  maximum_minimum_nights                        3863 non-null   float64\n",
      " 45  minimum_maximum_nights                        3863 non-null   float64\n",
      " 46  maximum_maximum_nights                        3863 non-null   float64\n",
      " 47  minimum_nights_avg_ntm                        3863 non-null   float64\n",
      " 48  maximum_nights_avg_ntm                        3863 non-null   float64\n",
      " 49  calendar_updated                              0 non-null      float64\n",
      " 50  has_availability                              3864 non-null   object \n",
      " 51  availability_30                               3864 non-null   int64  \n",
      " 52  availability_60                               3864 non-null   int64  \n",
      " 53  availability_90                               3864 non-null   int64  \n",
      " 54  availability_365                              3864 non-null   int64  \n",
      " 55  calendar_last_scraped                         3864 non-null   object \n",
      " 56  number_of_reviews                             3864 non-null   int64  \n",
      " 57  number_of_reviews_ltm                         3864 non-null   int64  \n",
      " 58  number_of_reviews_l30d                        3864 non-null   int64  \n",
      " 59  first_review                                  2741 non-null   object \n",
      " 60  last_review                                   2741 non-null   object \n",
      " 61  review_scores_rating                          2741 non-null   float64\n",
      " 62  review_scores_accuracy                        2733 non-null   float64\n",
      " 63  review_scores_cleanliness                     2734 non-null   float64\n",
      " 64  review_scores_checkin                         2732 non-null   float64\n",
      " 65  review_scores_communication                   2734 non-null   float64\n",
      " 66  review_scores_location                        2732 non-null   float64\n",
      " 67  review_scores_value                           2732 non-null   float64\n",
      " 68  license                                       2305 non-null   object \n",
      " 69  instant_bookable                              3864 non-null   object \n",
      " 70  calculated_host_listings_count                3864 non-null   int64  \n",
      " 71  calculated_host_listings_count_entire_homes   3864 non-null   int64  \n",
      " 72  calculated_host_listings_count_private_rooms  3864 non-null   int64  \n",
      " 73  calculated_host_listings_count_shared_rooms   3864 non-null   int64  \n",
      " 74  reviews_per_month                             2741 non-null   float64\n",
      "dtypes: float64(21), int64(19), object(35)\n",
      "memory usage: 2.2+ MB\n"
     ]
    }
   ],
   "source": [
    "listings.info()"
   ]
  },
  {
   "cell_type": "code",
   "execution_count": 67,
   "id": "c38ce03c-1bea-4370-9f43-4daf8ac6db66",
   "metadata": {},
   "outputs": [
    {
     "data": {
      "text/plain": [
       "['email', 'phone']                  2752\n",
       "['email', 'phone', 'work_email']     860\n",
       "['phone']                            248\n",
       "['phone', 'work_email']                3\n",
       "['email']                              1\n",
       "Name: host_verifications, dtype: int64"
      ]
     },
     "execution_count": 67,
     "metadata": {},
     "output_type": "execute_result"
    }
   ],
   "source": [
    "listings.host_verifications.value_counts()"
   ]
  },
  {
   "cell_type": "code",
   "execution_count": 4,
   "id": "48cbb3b5-e175-4359-93e7-68c1cc86af1e",
   "metadata": {},
   "outputs": [
    {
     "data": {
      "text/plain": [
       "Index(['id', 'listing_url', 'scrape_id', 'last_scraped', 'source', 'name',\n",
       "       'description', 'neighborhood_overview', 'picture_url', 'host_id',\n",
       "       'host_url', 'host_name', 'host_since', 'host_location', 'host_about',\n",
       "       'host_response_time', 'host_response_rate', 'host_acceptance_rate',\n",
       "       'host_is_superhost', 'host_thumbnail_url', 'host_picture_url',\n",
       "       'host_neighbourhood', 'host_listings_count',\n",
       "       'host_total_listings_count', 'host_verifications',\n",
       "       'host_has_profile_pic', 'host_identity_verified', 'neighbourhood',\n",
       "       'neighbourhood_cleansed', 'neighbourhood_group_cleansed', 'latitude',\n",
       "       'longitude', 'property_type', 'room_type', 'accommodates', 'bathrooms',\n",
       "       'bathrooms_text', 'bedrooms', 'beds', 'amenities', 'price',\n",
       "       'minimum_nights', 'maximum_nights', 'minimum_minimum_nights',\n",
       "       'maximum_minimum_nights', 'minimum_maximum_nights',\n",
       "       'maximum_maximum_nights', 'minimum_nights_avg_ntm',\n",
       "       'maximum_nights_avg_ntm', 'calendar_updated', 'has_availability',\n",
       "       'availability_30', 'availability_60', 'availability_90',\n",
       "       'availability_365', 'calendar_last_scraped', 'number_of_reviews',\n",
       "       'number_of_reviews_ltm', 'number_of_reviews_l30d', 'first_review',\n",
       "       'last_review', 'review_scores_rating', 'review_scores_accuracy',\n",
       "       'review_scores_cleanliness', 'review_scores_checkin',\n",
       "       'review_scores_communication', 'review_scores_location',\n",
       "       'review_scores_value', 'license', 'instant_bookable',\n",
       "       'calculated_host_listings_count',\n",
       "       'calculated_host_listings_count_entire_homes',\n",
       "       'calculated_host_listings_count_private_rooms',\n",
       "       'calculated_host_listings_count_shared_rooms', 'reviews_per_month'],\n",
       "      dtype='object')"
      ]
     },
     "execution_count": 4,
     "metadata": {},
     "output_type": "execute_result"
    }
   ],
   "source": [
    "listings.columns"
   ]
  },
  {
   "cell_type": "code",
   "execution_count": 5,
   "id": "98092869-b6f5-4024-a694-cbc371c70d08",
   "metadata": {},
   "outputs": [
    {
     "data": {
      "text/html": [
       "<div>\n",
       "<style scoped>\n",
       "    .dataframe tbody tr th:only-of-type {\n",
       "        vertical-align: middle;\n",
       "    }\n",
       "\n",
       "    .dataframe tbody tr th {\n",
       "        vertical-align: top;\n",
       "    }\n",
       "\n",
       "    .dataframe thead th {\n",
       "        text-align: right;\n",
       "    }\n",
       "</style>\n",
       "<table border=\"1\" class=\"dataframe\">\n",
       "  <thead>\n",
       "    <tr style=\"text-align: right;\">\n",
       "      <th></th>\n",
       "      <th>property_type</th>\n",
       "      <th>room_type</th>\n",
       "    </tr>\n",
       "  </thead>\n",
       "  <tbody>\n",
       "    <tr>\n",
       "      <th>0</th>\n",
       "      <td>Entire rental unit</td>\n",
       "      <td>Entire home/apt</td>\n",
       "    </tr>\n",
       "    <tr>\n",
       "      <th>1</th>\n",
       "      <td>Entire guest suite</td>\n",
       "      <td>Entire home/apt</td>\n",
       "    </tr>\n",
       "    <tr>\n",
       "      <th>2</th>\n",
       "      <td>Entire condo</td>\n",
       "      <td>Entire home/apt</td>\n",
       "    </tr>\n",
       "    <tr>\n",
       "      <th>3</th>\n",
       "      <td>Entire rental unit</td>\n",
       "      <td>Entire home/apt</td>\n",
       "    </tr>\n",
       "    <tr>\n",
       "      <th>4</th>\n",
       "      <td>Entire rental unit</td>\n",
       "      <td>Entire home/apt</td>\n",
       "    </tr>\n",
       "    <tr>\n",
       "      <th>...</th>\n",
       "      <td>...</td>\n",
       "      <td>...</td>\n",
       "    </tr>\n",
       "    <tr>\n",
       "      <th>3859</th>\n",
       "      <td>Entire rental unit</td>\n",
       "      <td>Entire home/apt</td>\n",
       "    </tr>\n",
       "    <tr>\n",
       "      <th>3860</th>\n",
       "      <td>Private room in home</td>\n",
       "      <td>Private room</td>\n",
       "    </tr>\n",
       "    <tr>\n",
       "      <th>3861</th>\n",
       "      <td>Private room in rental unit</td>\n",
       "      <td>Private room</td>\n",
       "    </tr>\n",
       "    <tr>\n",
       "      <th>3862</th>\n",
       "      <td>Private room in home</td>\n",
       "      <td>Private room</td>\n",
       "    </tr>\n",
       "    <tr>\n",
       "      <th>3863</th>\n",
       "      <td>Entire condo</td>\n",
       "      <td>Entire home/apt</td>\n",
       "    </tr>\n",
       "  </tbody>\n",
       "</table>\n",
       "<p>3864 rows × 2 columns</p>\n",
       "</div>"
      ],
      "text/plain": [
       "                    property_type        room_type\n",
       "0              Entire rental unit  Entire home/apt\n",
       "1              Entire guest suite  Entire home/apt\n",
       "2                    Entire condo  Entire home/apt\n",
       "3              Entire rental unit  Entire home/apt\n",
       "4              Entire rental unit  Entire home/apt\n",
       "...                           ...              ...\n",
       "3859           Entire rental unit  Entire home/apt\n",
       "3860         Private room in home     Private room\n",
       "3861  Private room in rental unit     Private room\n",
       "3862         Private room in home     Private room\n",
       "3863                 Entire condo  Entire home/apt\n",
       "\n",
       "[3864 rows x 2 columns]"
      ]
     },
     "execution_count": 5,
     "metadata": {},
     "output_type": "execute_result"
    }
   ],
   "source": [
    "listings[['property_type', 'room_type']]"
   ]
  },
  {
   "cell_type": "code",
   "execution_count": 6,
   "id": "008a92cd-e367-4b42-b308-281d42897599",
   "metadata": {},
   "outputs": [
    {
     "data": {
      "text/plain": [
       "property_type                     \n",
       "Entire rental unit                    1696\n",
       "Private room in rental unit            726\n",
       "Entire condo                           356\n",
       "Private room in home                   314\n",
       "Entire serviced apartment              194\n",
       "Entire home                            149\n",
       "Private room in condo                   74\n",
       "Entire guest suite                      56\n",
       "Room in boutique hotel                  49\n",
       "Private room in townhouse               45\n",
       "Entire townhouse                        42\n",
       "Private room in bed and breakfast       40\n",
       "Room in hotel                           24\n",
       "Entire loft                             17\n",
       "Private room in guest suite             14\n",
       "Private room in serviced apartment      12\n",
       "Shared room in home                      7\n",
       "Private room in loft                     6\n",
       "Boat                                     6\n",
       "Entire place                             5\n",
       "Shared room in rental unit               4\n",
       "Private room in vacation home            3\n",
       "Private room in guesthouse               3\n",
       "Private room in casa particular          3\n",
       "Entire guesthouse                        3\n",
       "Private room in bungalow                 2\n",
       "Houseboat                                2\n",
       "Private room in minsu                    1\n",
       "Private room in hostel                   1\n",
       "Casa particular                          1\n",
       "Private room in villa                    1\n",
       "Room in aparthotel                       1\n",
       "Private room                             1\n",
       "Shared room in bed and breakfast         1\n",
       "Shared room in boutique hotel            1\n",
       "Shared room in condo                     1\n",
       "Entire vacation home                     1\n",
       "Shared room in townhouse                 1\n",
       "Shared room in vacation home             1\n",
       "dtype: int64"
      ]
     },
     "execution_count": 6,
     "metadata": {},
     "output_type": "execute_result"
    }
   ],
   "source": [
    "listings[['property_type']].value_counts()"
   ]
  },
  {
   "cell_type": "code",
   "execution_count": 7,
   "id": "feb7d6d3-2a6f-4da2-9bbb-a84f5a3479f6",
   "metadata": {},
   "outputs": [
    {
     "data": {
      "text/plain": [
       "0       4.96\n",
       "1       4.79\n",
       "2       4.81\n",
       "3       4.64\n",
       "4       4.63\n",
       "        ... \n",
       "3859    4.41\n",
       "3860    4.71\n",
       "3861    4.62\n",
       "3862    4.69\n",
       "3863    4.90\n",
       "Name: review_scores_rating, Length: 3864, dtype: float64"
      ]
     },
     "execution_count": 7,
     "metadata": {},
     "output_type": "execute_result"
    }
   ],
   "source": [
    "listings['review_scores_rating']"
   ]
  },
  {
   "cell_type": "code",
   "execution_count": 8,
   "id": "03a05738-5185-4cdf-a288-04e40dcbdce0",
   "metadata": {},
   "outputs": [
    {
     "data": {
      "text/plain": [
       "room_type      \n",
       "Entire home/apt    2528\n",
       "Private room       1299\n",
       "Hotel room           21\n",
       "Shared room          16\n",
       "dtype: int64"
      ]
     },
     "execution_count": 8,
     "metadata": {},
     "output_type": "execute_result"
    }
   ],
   "source": [
    "listings[['room_type']].value_counts()"
   ]
  },
  {
   "cell_type": "code",
   "execution_count": 9,
   "id": "b7d02fce-ee51-4044-b677-d8f27ebdbf92",
   "metadata": {},
   "outputs": [
    {
     "data": {
      "text/plain": [
       "0       [\"Wifi\", \"Stove\", \"Kitchen\", \"Dishwasher\", \"Fr...\n",
       "1       [\"Wifi\", \"Keypad\", \"Free street parking\", \"Fir...\n",
       "2       [\"Wifi\", \"Stove\", \"Keypad\", \"Kitchen\", \"Dishwa...\n",
       "3       [\"Wifi\", \"Stove\", \"Kitchen\", \"Refrigerator\", \"...\n",
       "4       [\"Wifi\", \"Kitchen\", \"Window AC unit\", \"Free st...\n",
       "                              ...                        \n",
       "3859    [\"Wifi\", \"TV with standard cable\", \"Carbon mon...\n",
       "3860    [\"Wifi\", \"City skyline view\", \"Kitchen\", \"Dish...\n",
       "3861    [\"Wifi\", \"Stove\", \"Kitchen\", \"Dishwasher\", \"Fr...\n",
       "3862    [\"Wifi\", \"Keypad\", \"Free street parking\", \"Loc...\n",
       "3863    [\"Wifi\", \"Public or shared beach access\", \"Kit...\n",
       "Name: amenities, Length: 3864, dtype: object"
      ]
     },
     "execution_count": 9,
     "metadata": {},
     "output_type": "execute_result"
    }
   ],
   "source": [
    "listings['amenities']"
   ]
  },
  {
   "cell_type": "code",
   "execution_count": 10,
   "id": "35966ea4-0ad5-4e76-b000-347f72cd0a94",
   "metadata": {},
   "outputs": [
    {
     "data": {
      "text/html": [
       "<div>\n",
       "<style scoped>\n",
       "    .dataframe tbody tr th:only-of-type {\n",
       "        vertical-align: middle;\n",
       "    }\n",
       "\n",
       "    .dataframe tbody tr th {\n",
       "        vertical-align: top;\n",
       "    }\n",
       "\n",
       "    .dataframe thead th {\n",
       "        text-align: right;\n",
       "    }\n",
       "</style>\n",
       "<table border=\"1\" class=\"dataframe\">\n",
       "  <thead>\n",
       "    <tr style=\"text-align: right;\">\n",
       "      <th></th>\n",
       "      <th>number_of_reviews</th>\n",
       "      <th>number_of_reviews_ltm</th>\n",
       "      <th>number_of_reviews_l30d</th>\n",
       "      <th>first_review</th>\n",
       "      <th>last_review</th>\n",
       "      <th>review_scores_rating</th>\n",
       "      <th>review_scores_accuracy</th>\n",
       "      <th>review_scores_cleanliness</th>\n",
       "      <th>review_scores_checkin</th>\n",
       "      <th>review_scores_communication</th>\n",
       "      <th>review_scores_location</th>\n",
       "      <th>review_scores_value</th>\n",
       "    </tr>\n",
       "  </thead>\n",
       "  <tbody>\n",
       "    <tr>\n",
       "      <th>0</th>\n",
       "      <td>24</td>\n",
       "      <td>2</td>\n",
       "      <td>0</td>\n",
       "      <td>2015-07-10</td>\n",
       "      <td>2022-09-05</td>\n",
       "      <td>4.96</td>\n",
       "      <td>5.00</td>\n",
       "      <td>4.96</td>\n",
       "      <td>5.00</td>\n",
       "      <td>4.96</td>\n",
       "      <td>4.88</td>\n",
       "      <td>4.92</td>\n",
       "    </tr>\n",
       "    <tr>\n",
       "      <th>1</th>\n",
       "      <td>118</td>\n",
       "      <td>8</td>\n",
       "      <td>0</td>\n",
       "      <td>2009-03-21</td>\n",
       "      <td>2022-12-05</td>\n",
       "      <td>4.79</td>\n",
       "      <td>4.87</td>\n",
       "      <td>4.89</td>\n",
       "      <td>4.95</td>\n",
       "      <td>4.88</td>\n",
       "      <td>4.53</td>\n",
       "      <td>4.74</td>\n",
       "    </tr>\n",
       "    <tr>\n",
       "      <th>2</th>\n",
       "      <td>123</td>\n",
       "      <td>7</td>\n",
       "      <td>0</td>\n",
       "      <td>2009-08-06</td>\n",
       "      <td>2022-11-18</td>\n",
       "      <td>4.81</td>\n",
       "      <td>4.83</td>\n",
       "      <td>4.87</td>\n",
       "      <td>4.91</td>\n",
       "      <td>4.96</td>\n",
       "      <td>4.50</td>\n",
       "      <td>4.72</td>\n",
       "    </tr>\n",
       "    <tr>\n",
       "      <th>3</th>\n",
       "      <td>25</td>\n",
       "      <td>0</td>\n",
       "      <td>0</td>\n",
       "      <td>2014-08-12</td>\n",
       "      <td>2020-04-15</td>\n",
       "      <td>4.64</td>\n",
       "      <td>4.68</td>\n",
       "      <td>4.56</td>\n",
       "      <td>4.96</td>\n",
       "      <td>4.96</td>\n",
       "      <td>4.96</td>\n",
       "      <td>4.56</td>\n",
       "    </tr>\n",
       "    <tr>\n",
       "      <th>4</th>\n",
       "      <td>377</td>\n",
       "      <td>22</td>\n",
       "      <td>2</td>\n",
       "      <td>2015-01-01</td>\n",
       "      <td>2023-03-04</td>\n",
       "      <td>4.63</td>\n",
       "      <td>4.76</td>\n",
       "      <td>4.81</td>\n",
       "      <td>4.87</td>\n",
       "      <td>4.85</td>\n",
       "      <td>4.48</td>\n",
       "      <td>4.69</td>\n",
       "    </tr>\n",
       "    <tr>\n",
       "      <th>...</th>\n",
       "      <td>...</td>\n",
       "      <td>...</td>\n",
       "      <td>...</td>\n",
       "      <td>...</td>\n",
       "      <td>...</td>\n",
       "      <td>...</td>\n",
       "      <td>...</td>\n",
       "      <td>...</td>\n",
       "      <td>...</td>\n",
       "      <td>...</td>\n",
       "      <td>...</td>\n",
       "      <td>...</td>\n",
       "    </tr>\n",
       "    <tr>\n",
       "      <th>3859</th>\n",
       "      <td>105</td>\n",
       "      <td>0</td>\n",
       "      <td>0</td>\n",
       "      <td>2014-01-18</td>\n",
       "      <td>2019-05-20</td>\n",
       "      <td>4.41</td>\n",
       "      <td>4.54</td>\n",
       "      <td>4.43</td>\n",
       "      <td>4.65</td>\n",
       "      <td>4.70</td>\n",
       "      <td>4.42</td>\n",
       "      <td>4.41</td>\n",
       "    </tr>\n",
       "    <tr>\n",
       "      <th>3860</th>\n",
       "      <td>177</td>\n",
       "      <td>25</td>\n",
       "      <td>1</td>\n",
       "      <td>2014-07-01</td>\n",
       "      <td>2023-03-16</td>\n",
       "      <td>4.71</td>\n",
       "      <td>4.76</td>\n",
       "      <td>4.73</td>\n",
       "      <td>4.87</td>\n",
       "      <td>4.86</td>\n",
       "      <td>4.59</td>\n",
       "      <td>4.67</td>\n",
       "    </tr>\n",
       "    <tr>\n",
       "      <th>3861</th>\n",
       "      <td>38</td>\n",
       "      <td>0</td>\n",
       "      <td>0</td>\n",
       "      <td>2013-12-16</td>\n",
       "      <td>2019-09-02</td>\n",
       "      <td>4.62</td>\n",
       "      <td>4.81</td>\n",
       "      <td>4.58</td>\n",
       "      <td>4.83</td>\n",
       "      <td>4.86</td>\n",
       "      <td>4.56</td>\n",
       "      <td>4.36</td>\n",
       "    </tr>\n",
       "    <tr>\n",
       "      <th>3862</th>\n",
       "      <td>280</td>\n",
       "      <td>38</td>\n",
       "      <td>1</td>\n",
       "      <td>2014-06-21</td>\n",
       "      <td>2023-02-20</td>\n",
       "      <td>4.69</td>\n",
       "      <td>4.75</td>\n",
       "      <td>4.70</td>\n",
       "      <td>4.89</td>\n",
       "      <td>4.80</td>\n",
       "      <td>4.72</td>\n",
       "      <td>4.71</td>\n",
       "    </tr>\n",
       "    <tr>\n",
       "      <th>3863</th>\n",
       "      <td>10</td>\n",
       "      <td>2</td>\n",
       "      <td>1</td>\n",
       "      <td>2016-07-22</td>\n",
       "      <td>2023-03-12</td>\n",
       "      <td>4.90</td>\n",
       "      <td>5.00</td>\n",
       "      <td>4.80</td>\n",
       "      <td>5.00</td>\n",
       "      <td>5.00</td>\n",
       "      <td>4.90</td>\n",
       "      <td>4.50</td>\n",
       "    </tr>\n",
       "  </tbody>\n",
       "</table>\n",
       "<p>3864 rows × 12 columns</p>\n",
       "</div>"
      ],
      "text/plain": [
       "      number_of_reviews  number_of_reviews_ltm  number_of_reviews_l30d  \\\n",
       "0                    24                      2                       0   \n",
       "1                   118                      8                       0   \n",
       "2                   123                      7                       0   \n",
       "3                    25                      0                       0   \n",
       "4                   377                     22                       2   \n",
       "...                 ...                    ...                     ...   \n",
       "3859                105                      0                       0   \n",
       "3860                177                     25                       1   \n",
       "3861                 38                      0                       0   \n",
       "3862                280                     38                       1   \n",
       "3863                 10                      2                       1   \n",
       "\n",
       "     first_review last_review  review_scores_rating  review_scores_accuracy  \\\n",
       "0      2015-07-10  2022-09-05                  4.96                    5.00   \n",
       "1      2009-03-21  2022-12-05                  4.79                    4.87   \n",
       "2      2009-08-06  2022-11-18                  4.81                    4.83   \n",
       "3      2014-08-12  2020-04-15                  4.64                    4.68   \n",
       "4      2015-01-01  2023-03-04                  4.63                    4.76   \n",
       "...           ...         ...                   ...                     ...   \n",
       "3859   2014-01-18  2019-05-20                  4.41                    4.54   \n",
       "3860   2014-07-01  2023-03-16                  4.71                    4.76   \n",
       "3861   2013-12-16  2019-09-02                  4.62                    4.81   \n",
       "3862   2014-06-21  2023-02-20                  4.69                    4.75   \n",
       "3863   2016-07-22  2023-03-12                  4.90                    5.00   \n",
       "\n",
       "      review_scores_cleanliness  review_scores_checkin  \\\n",
       "0                          4.96                   5.00   \n",
       "1                          4.89                   4.95   \n",
       "2                          4.87                   4.91   \n",
       "3                          4.56                   4.96   \n",
       "4                          4.81                   4.87   \n",
       "...                         ...                    ...   \n",
       "3859                       4.43                   4.65   \n",
       "3860                       4.73                   4.87   \n",
       "3861                       4.58                   4.83   \n",
       "3862                       4.70                   4.89   \n",
       "3863                       4.80                   5.00   \n",
       "\n",
       "      review_scores_communication  review_scores_location  review_scores_value  \n",
       "0                            4.96                    4.88                 4.92  \n",
       "1                            4.88                    4.53                 4.74  \n",
       "2                            4.96                    4.50                 4.72  \n",
       "3                            4.96                    4.96                 4.56  \n",
       "4                            4.85                    4.48                 4.69  \n",
       "...                           ...                     ...                  ...  \n",
       "3859                         4.70                    4.42                 4.41  \n",
       "3860                         4.86                    4.59                 4.67  \n",
       "3861                         4.86                    4.56                 4.36  \n",
       "3862                         4.80                    4.72                 4.71  \n",
       "3863                         5.00                    4.90                 4.50  \n",
       "\n",
       "[3864 rows x 12 columns]"
      ]
     },
     "execution_count": 10,
     "metadata": {},
     "output_type": "execute_result"
    }
   ],
   "source": [
    "listings[['number_of_reviews',\n",
    "       'number_of_reviews_ltm', 'number_of_reviews_l30d', 'first_review',\n",
    "       'last_review', 'review_scores_rating', 'review_scores_accuracy',\n",
    "       'review_scores_cleanliness', 'review_scores_checkin',\n",
    "       'review_scores_communication', 'review_scores_location',\n",
    "       'review_scores_value']]"
   ]
  },
  {
   "cell_type": "code",
   "execution_count": 11,
   "id": "3ca8b79d-1104-40d1-a9cc-028850685dc7",
   "metadata": {},
   "outputs": [
    {
     "data": {
      "text/plain": [
       "host_neighbourhood\n",
       "Allston-Brighton      466\n",
       "Cambridge             441\n",
       "Dorchester            290\n",
       "Roxbury               233\n",
       "Jamaica Plain         231\n",
       "                     ... \n",
       "East Falmouth           1\n",
       "Central Austin          1\n",
       "East Village            1\n",
       "South Beach             1\n",
       "Williamsburg            1\n",
       "Length: 105, dtype: int64"
      ]
     },
     "execution_count": 11,
     "metadata": {},
     "output_type": "execute_result"
    }
   ],
   "source": [
    "listings[['host_neighbourhood']].value_counts()"
   ]
  },
  {
   "cell_type": "code",
   "execution_count": 12,
   "id": "8b756fc1-c89f-41c8-8a8b-98b0330b54c1",
   "metadata": {},
   "outputs": [
    {
     "data": {
      "text/html": [
       "<div>\n",
       "<style scoped>\n",
       "    .dataframe tbody tr th:only-of-type {\n",
       "        vertical-align: middle;\n",
       "    }\n",
       "\n",
       "    .dataframe tbody tr th {\n",
       "        vertical-align: top;\n",
       "    }\n",
       "\n",
       "    .dataframe thead th {\n",
       "        text-align: right;\n",
       "    }\n",
       "</style>\n",
       "<table border=\"1\" class=\"dataframe\">\n",
       "  <thead>\n",
       "    <tr style=\"text-align: right;\">\n",
       "      <th></th>\n",
       "      <th>host_listings_count</th>\n",
       "      <th>host_total_listings_count</th>\n",
       "      <th>host_verifications</th>\n",
       "    </tr>\n",
       "  </thead>\n",
       "  <tbody>\n",
       "    <tr>\n",
       "      <th>0</th>\n",
       "      <td>4</td>\n",
       "      <td>5</td>\n",
       "      <td>['email', 'phone']</td>\n",
       "    </tr>\n",
       "    <tr>\n",
       "      <th>1</th>\n",
       "      <td>11</td>\n",
       "      <td>14</td>\n",
       "      <td>['email', 'phone']</td>\n",
       "    </tr>\n",
       "    <tr>\n",
       "      <th>2</th>\n",
       "      <td>11</td>\n",
       "      <td>14</td>\n",
       "      <td>['email', 'phone']</td>\n",
       "    </tr>\n",
       "    <tr>\n",
       "      <th>3</th>\n",
       "      <td>12</td>\n",
       "      <td>30</td>\n",
       "      <td>['email', 'phone']</td>\n",
       "    </tr>\n",
       "    <tr>\n",
       "      <th>4</th>\n",
       "      <td>1</td>\n",
       "      <td>1</td>\n",
       "      <td>['email', 'phone']</td>\n",
       "    </tr>\n",
       "    <tr>\n",
       "      <th>...</th>\n",
       "      <td>...</td>\n",
       "      <td>...</td>\n",
       "      <td>...</td>\n",
       "    </tr>\n",
       "    <tr>\n",
       "      <th>3859</th>\n",
       "      <td>1</td>\n",
       "      <td>1</td>\n",
       "      <td>['email', 'phone']</td>\n",
       "    </tr>\n",
       "    <tr>\n",
       "      <th>3860</th>\n",
       "      <td>5</td>\n",
       "      <td>5</td>\n",
       "      <td>['email', 'phone']</td>\n",
       "    </tr>\n",
       "    <tr>\n",
       "      <th>3861</th>\n",
       "      <td>1</td>\n",
       "      <td>1</td>\n",
       "      <td>['email', 'phone']</td>\n",
       "    </tr>\n",
       "    <tr>\n",
       "      <th>3862</th>\n",
       "      <td>2</td>\n",
       "      <td>3</td>\n",
       "      <td>['email', 'phone']</td>\n",
       "    </tr>\n",
       "    <tr>\n",
       "      <th>3863</th>\n",
       "      <td>5</td>\n",
       "      <td>5</td>\n",
       "      <td>['email', 'phone']</td>\n",
       "    </tr>\n",
       "  </tbody>\n",
       "</table>\n",
       "<p>3864 rows × 3 columns</p>\n",
       "</div>"
      ],
      "text/plain": [
       "      host_listings_count  host_total_listings_count  host_verifications\n",
       "0                       4                          5  ['email', 'phone']\n",
       "1                      11                         14  ['email', 'phone']\n",
       "2                      11                         14  ['email', 'phone']\n",
       "3                      12                         30  ['email', 'phone']\n",
       "4                       1                          1  ['email', 'phone']\n",
       "...                   ...                        ...                 ...\n",
       "3859                    1                          1  ['email', 'phone']\n",
       "3860                    5                          5  ['email', 'phone']\n",
       "3861                    1                          1  ['email', 'phone']\n",
       "3862                    2                          3  ['email', 'phone']\n",
       "3863                    5                          5  ['email', 'phone']\n",
       "\n",
       "[3864 rows x 3 columns]"
      ]
     },
     "execution_count": 12,
     "metadata": {},
     "output_type": "execute_result"
    }
   ],
   "source": [
    "listings[['host_listings_count', 'host_total_listings_count', 'host_verifications']]"
   ]
  },
  {
   "cell_type": "code",
   "execution_count": 13,
   "id": "171d6428-37bf-44cf-a4d1-6d582a575181",
   "metadata": {},
   "outputs": [
    {
     "data": {
      "text/plain": [
       "host_verifications              \n",
       "['email', 'phone']                  2752\n",
       "['email', 'phone', 'work_email']     860\n",
       "['phone']                            248\n",
       "['phone', 'work_email']                3\n",
       "['email']                              1\n",
       "dtype: int64"
      ]
     },
     "execution_count": 13,
     "metadata": {},
     "output_type": "execute_result"
    }
   ],
   "source": [
    "listings[['host_verifications']].value_counts()"
   ]
  },
  {
   "cell_type": "code",
   "execution_count": 14,
   "id": "f90153a8-4d9e-405e-aa13-de7e13b1801f",
   "metadata": {},
   "outputs": [
    {
     "data": {
      "text/plain": [
       "Dorchester                 511\n",
       "Downtown                   351\n",
       "Roxbury                    291\n",
       "Brighton                   290\n",
       "Back Bay                   275\n",
       "South End                  264\n",
       "East Boston                226\n",
       "Jamaica Plain              215\n",
       "Allston                    192\n",
       "South Boston               170\n",
       "Beacon Hill                169\n",
       "Fenway                     163\n",
       "North End                  107\n",
       "Chinatown                   99\n",
       "Charlestown                 75\n",
       "Roslindale                  67\n",
       "Hyde Park                   65\n",
       "Mission Hill                64\n",
       "Mattapan                    55\n",
       "Bay Village                 53\n",
       "South Boston Waterfront     51\n",
       "West Roxbury                51\n",
       "West End                    47\n",
       "Leather District             8\n",
       "Longwood Medical Area        5\n",
       "Name: neighbourhood_cleansed, dtype: int64"
      ]
     },
     "execution_count": 14,
     "metadata": {},
     "output_type": "execute_result"
    }
   ],
   "source": [
    "listings.neighbourhood_cleansed.value_counts()"
   ]
  },
  {
   "cell_type": "code",
   "execution_count": 15,
   "id": "405da54a-bbc3-4047-bf04-40c184e2d38b",
   "metadata": {},
   "outputs": [
    {
     "data": {
      "text/plain": [
       "Boston, Massachusetts, United States                    2430\n",
       "Dorchester , Massachusetts, United States                 13\n",
       "East Boston, Massachusetts, United States                  7\n",
       "Brighton, Massachusetts, United States                     6\n",
       "BOSTON, Massachusetts, United States                       4\n",
       "Dorchester, Massachusetts, United States                   4\n",
       "Boston , Massachusetts, United States                      3\n",
       "Charlestown, Massachusetts, United States                  3\n",
       "Jamaica Plain, Massachusetts, United States                3\n",
       "Roslindale, Massachusetts, United States                   2\n",
       "Dorchster , Massachusetts, United States                   2\n",
       "West Roxbury, Massachusetts, United States                 2\n",
       "Hyde Park, Massachusetts, United States                    2\n",
       "Boston, Allston, Ma, United States                         1\n",
       "波士顿, Massachusetts, United States                          1\n",
       "Boston (Jamaica Plain), Massachusetts, United States       1\n",
       "ROXBURY CROSSING, Massachusetts, United States             1\n",
       "Boston/Charlestown , Massachusetts, United States          1\n",
       "Allston, Massachusetts, United States                      1\n",
       "Dedham, Massachusetts, United States                       1\n",
       "Hyde Park , Massachusetts, United States                   1\n",
       "Chestnut Hill, Massachusetts, United States                1\n",
       "Milton, Massachusetts, United States                       1\n",
       "Jamaica Plain , Massachusetts, United States               1\n",
       "Roxbury Crossing, Massachusetts, United States             1\n",
       "Jamaica Plain, Boston, Massachusetts, United States        1\n",
       "Boston, , Massachusetts, United States                     1\n",
       "Brookline, Massachusetts, United States                    1\n",
       "Somerville, Massachusetts, United States                   1\n",
       "Name: neighbourhood, dtype: int64"
      ]
     },
     "execution_count": 15,
     "metadata": {},
     "output_type": "execute_result"
    }
   ],
   "source": [
    "listings.neighbourhood.value_counts()"
   ]
  },
  {
   "cell_type": "code",
   "execution_count": 16,
   "id": "373f7a66-d815-4e38-9862-997094ed5436",
   "metadata": {},
   "outputs": [
    {
     "data": {
      "text/html": [
       "<div>\n",
       "<style scoped>\n",
       "    .dataframe tbody tr th:only-of-type {\n",
       "        vertical-align: middle;\n",
       "    }\n",
       "\n",
       "    .dataframe tbody tr th {\n",
       "        vertical-align: top;\n",
       "    }\n",
       "\n",
       "    .dataframe thead th {\n",
       "        text-align: right;\n",
       "    }\n",
       "</style>\n",
       "<table border=\"1\" class=\"dataframe\">\n",
       "  <thead>\n",
       "    <tr style=\"text-align: right;\">\n",
       "      <th></th>\n",
       "      <th>bathrooms</th>\n",
       "      <th>bathrooms_text</th>\n",
       "    </tr>\n",
       "  </thead>\n",
       "  <tbody>\n",
       "    <tr>\n",
       "      <th>0</th>\n",
       "      <td>NaN</td>\n",
       "      <td>1 bath</td>\n",
       "    </tr>\n",
       "    <tr>\n",
       "      <th>1</th>\n",
       "      <td>NaN</td>\n",
       "      <td>1 bath</td>\n",
       "    </tr>\n",
       "    <tr>\n",
       "      <th>2</th>\n",
       "      <td>NaN</td>\n",
       "      <td>1 bath</td>\n",
       "    </tr>\n",
       "    <tr>\n",
       "      <th>3</th>\n",
       "      <td>NaN</td>\n",
       "      <td>1 bath</td>\n",
       "    </tr>\n",
       "    <tr>\n",
       "      <th>4</th>\n",
       "      <td>NaN</td>\n",
       "      <td>1 bath</td>\n",
       "    </tr>\n",
       "    <tr>\n",
       "      <th>...</th>\n",
       "      <td>...</td>\n",
       "      <td>...</td>\n",
       "    </tr>\n",
       "    <tr>\n",
       "      <th>3859</th>\n",
       "      <td>NaN</td>\n",
       "      <td>1.5 baths</td>\n",
       "    </tr>\n",
       "    <tr>\n",
       "      <th>3860</th>\n",
       "      <td>NaN</td>\n",
       "      <td>1 shared bath</td>\n",
       "    </tr>\n",
       "    <tr>\n",
       "      <th>3861</th>\n",
       "      <td>NaN</td>\n",
       "      <td>1 bath</td>\n",
       "    </tr>\n",
       "    <tr>\n",
       "      <th>3862</th>\n",
       "      <td>NaN</td>\n",
       "      <td>1 private bath</td>\n",
       "    </tr>\n",
       "    <tr>\n",
       "      <th>3863</th>\n",
       "      <td>NaN</td>\n",
       "      <td>2 baths</td>\n",
       "    </tr>\n",
       "  </tbody>\n",
       "</table>\n",
       "<p>3864 rows × 2 columns</p>\n",
       "</div>"
      ],
      "text/plain": [
       "      bathrooms  bathrooms_text\n",
       "0           NaN          1 bath\n",
       "1           NaN          1 bath\n",
       "2           NaN          1 bath\n",
       "3           NaN          1 bath\n",
       "4           NaN          1 bath\n",
       "...         ...             ...\n",
       "3859        NaN       1.5 baths\n",
       "3860        NaN   1 shared bath\n",
       "3861        NaN          1 bath\n",
       "3862        NaN  1 private bath\n",
       "3863        NaN         2 baths\n",
       "\n",
       "[3864 rows x 2 columns]"
      ]
     },
     "execution_count": 16,
     "metadata": {},
     "output_type": "execute_result"
    }
   ],
   "source": [
    "listings[['bathrooms', 'bathrooms_text']]"
   ]
  },
  {
   "cell_type": "code",
   "execution_count": 17,
   "id": "b1f1fa04-b3f9-4c8b-bc17-482f282c7142",
   "metadata": {},
   "outputs": [
    {
     "data": {
      "text/plain": [
       "bathrooms_text   \n",
       "1 bath               2000\n",
       "1 shared bath         494\n",
       "2 baths               449\n",
       "0 shared baths        204\n",
       "2 shared baths        182\n",
       "1 private bath        175\n",
       "1.5 baths             118\n",
       "1.5 shared baths       72\n",
       "2.5 baths              68\n",
       "3 baths                41\n",
       "2.5 shared baths       14\n",
       "3.5 baths              14\n",
       "3 shared baths          9\n",
       "4 baths                 5\n",
       "5 baths                 4\n",
       "4.5 baths               3\n",
       "6 baths                 3\n",
       "0 baths                 2\n",
       "4 shared baths          2\n",
       "3.5 shared baths        1\n",
       "Half-bath               1\n",
       "Private half-bath       1\n",
       "dtype: int64"
      ]
     },
     "execution_count": 17,
     "metadata": {},
     "output_type": "execute_result"
    }
   ],
   "source": [
    "listings[['bathrooms_text']].value_counts()"
   ]
  },
  {
   "cell_type": "markdown",
   "id": "8b2180df-ef27-4920-8548-da7e414de282",
   "metadata": {},
   "source": [
    "## Run a quick LR model for comparison"
   ]
  },
  {
   "cell_type": "code",
   "execution_count": 18,
   "id": "11abf6c9-f0ca-4118-bd29-9e1f21d71571",
   "metadata": {},
   "outputs": [],
   "source": [
    "# Imports\n",
    "\n",
    "from sklearn.linear_model import LinearRegression\n",
    "from sklearn.model_selection import train_test_split\n",
    "from sklearn.metrics import r2_score"
   ]
  },
  {
   "cell_type": "code",
   "execution_count": 19,
   "id": "ac1b571f-6faa-460f-a4b0-11b806865c1f",
   "metadata": {},
   "outputs": [
    {
     "data": {
      "text/plain": [
       "Index(['id', 'listing_url', 'scrape_id', 'last_scraped', 'source', 'name',\n",
       "       'description', 'neighborhood_overview', 'picture_url', 'host_id',\n",
       "       'host_url', 'host_name', 'host_since', 'host_location', 'host_about',\n",
       "       'host_response_time', 'host_response_rate', 'host_acceptance_rate',\n",
       "       'host_is_superhost', 'host_thumbnail_url', 'host_picture_url',\n",
       "       'host_neighbourhood', 'host_listings_count',\n",
       "       'host_total_listings_count', 'host_verifications',\n",
       "       'host_has_profile_pic', 'host_identity_verified', 'neighbourhood',\n",
       "       'neighbourhood_cleansed', 'neighbourhood_group_cleansed', 'latitude',\n",
       "       'longitude', 'property_type', 'room_type', 'accommodates', 'bathrooms',\n",
       "       'bathrooms_text', 'bedrooms', 'beds', 'amenities', 'price',\n",
       "       'minimum_nights', 'maximum_nights', 'minimum_minimum_nights',\n",
       "       'maximum_minimum_nights', 'minimum_maximum_nights',\n",
       "       'maximum_maximum_nights', 'minimum_nights_avg_ntm',\n",
       "       'maximum_nights_avg_ntm', 'calendar_updated', 'has_availability',\n",
       "       'availability_30', 'availability_60', 'availability_90',\n",
       "       'availability_365', 'calendar_last_scraped', 'number_of_reviews',\n",
       "       'number_of_reviews_ltm', 'number_of_reviews_l30d', 'first_review',\n",
       "       'last_review', 'review_scores_rating', 'review_scores_accuracy',\n",
       "       'review_scores_cleanliness', 'review_scores_checkin',\n",
       "       'review_scores_communication', 'review_scores_location',\n",
       "       'review_scores_value', 'license', 'instant_bookable',\n",
       "       'calculated_host_listings_count',\n",
       "       'calculated_host_listings_count_entire_homes',\n",
       "       'calculated_host_listings_count_private_rooms',\n",
       "       'calculated_host_listings_count_shared_rooms', 'reviews_per_month'],\n",
       "      dtype='object')"
      ]
     },
     "execution_count": 19,
     "metadata": {},
     "output_type": "execute_result"
    }
   ],
   "source": [
    "listings.columns"
   ]
  },
  {
   "cell_type": "code",
   "execution_count": 20,
   "id": "43a1623d-45e9-4ca6-8403-febf3c3abd33",
   "metadata": {},
   "outputs": [],
   "source": [
    "lstn = listings[['name',\n",
    "       'description', 'neighborhood_overview', 'host_id', 'host_since',\n",
    "       'host_response_time', 'host_response_rate', 'host_acceptance_rate',\n",
    "       'host_is_superhost', 'host_listings_count',\n",
    "       'host_total_listings_count', 'host_verifications',\n",
    "       'host_has_profile_pic', 'host_identity_verified',\n",
    "       'neighbourhood_cleansed', 'neighbourhood_group_cleansed', 'latitude',\n",
    "       'longitude', 'property_type', 'room_type', 'accommodates', 'bathrooms',\n",
    "       'bathrooms_text', 'bedrooms', 'beds', 'amenities', 'price',\n",
    "       'minimum_nights', 'maximum_nights', 'has_availability',\n",
    "       'availability_30', 'availability_60', 'availability_90',\n",
    "       'availability_365', 'number_of_reviews',\n",
    "       'number_of_reviews_ltm', 'number_of_reviews_l30d', 'first_review',\n",
    "       'last_review', 'review_scores_rating', 'review_scores_accuracy',\n",
    "       'review_scores_cleanliness', 'review_scores_checkin',\n",
    "       'review_scores_communication', 'review_scores_location',\n",
    "       'review_scores_value', 'instant_bookable',\n",
    "       'calculated_host_listings_count',\n",
    "       'calculated_host_listings_count_entire_homes',\n",
    "       'calculated_host_listings_count_private_rooms',\n",
    "       'calculated_host_listings_count_shared_rooms', 'reviews_per_month']]"
   ]
  },
  {
   "cell_type": "code",
   "execution_count": 21,
   "id": "c1741d37-0637-4e0c-bf74-20913d25f0c9",
   "metadata": {},
   "outputs": [
    {
     "name": "stdout",
     "output_type": "stream",
     "text": [
      "<class 'pandas.core.frame.DataFrame'>\n",
      "RangeIndex: 3864 entries, 0 to 3863\n",
      "Data columns (total 52 columns):\n",
      " #   Column                                        Non-Null Count  Dtype  \n",
      "---  ------                                        --------------  -----  \n",
      " 0   name                                          3864 non-null   object \n",
      " 1   description                                   3846 non-null   object \n",
      " 2   neighborhood_overview                         2497 non-null   object \n",
      " 3   host_id                                       3864 non-null   int64  \n",
      " 4   host_since                                    3864 non-null   object \n",
      " 5   host_response_time                            3344 non-null   object \n",
      " 6   host_response_rate                            3344 non-null   object \n",
      " 7   host_acceptance_rate                          3405 non-null   object \n",
      " 8   host_is_superhost                             3862 non-null   object \n",
      " 9   host_listings_count                           3864 non-null   int64  \n",
      " 10  host_total_listings_count                     3864 non-null   int64  \n",
      " 11  host_verifications                            3864 non-null   object \n",
      " 12  host_has_profile_pic                          3864 non-null   object \n",
      " 13  host_identity_verified                        3864 non-null   object \n",
      " 14  neighbourhood_cleansed                        3864 non-null   object \n",
      " 15  neighbourhood_group_cleansed                  0 non-null      float64\n",
      " 16  latitude                                      3864 non-null   float64\n",
      " 17  longitude                                     3864 non-null   float64\n",
      " 18  property_type                                 3864 non-null   object \n",
      " 19  room_type                                     3864 non-null   object \n",
      " 20  accommodates                                  3864 non-null   int64  \n",
      " 21  bathrooms                                     0 non-null      float64\n",
      " 22  bathrooms_text                                3862 non-null   object \n",
      " 23  bedrooms                                      3404 non-null   float64\n",
      " 24  beds                                          3784 non-null   float64\n",
      " 25  amenities                                     3864 non-null   object \n",
      " 26  price                                         3864 non-null   object \n",
      " 27  minimum_nights                                3864 non-null   int64  \n",
      " 28  maximum_nights                                3864 non-null   int64  \n",
      " 29  has_availability                              3864 non-null   object \n",
      " 30  availability_30                               3864 non-null   int64  \n",
      " 31  availability_60                               3864 non-null   int64  \n",
      " 32  availability_90                               3864 non-null   int64  \n",
      " 33  availability_365                              3864 non-null   int64  \n",
      " 34  number_of_reviews                             3864 non-null   int64  \n",
      " 35  number_of_reviews_ltm                         3864 non-null   int64  \n",
      " 36  number_of_reviews_l30d                        3864 non-null   int64  \n",
      " 37  first_review                                  2741 non-null   object \n",
      " 38  last_review                                   2741 non-null   object \n",
      " 39  review_scores_rating                          2741 non-null   float64\n",
      " 40  review_scores_accuracy                        2733 non-null   float64\n",
      " 41  review_scores_cleanliness                     2734 non-null   float64\n",
      " 42  review_scores_checkin                         2732 non-null   float64\n",
      " 43  review_scores_communication                   2734 non-null   float64\n",
      " 44  review_scores_location                        2732 non-null   float64\n",
      " 45  review_scores_value                           2732 non-null   float64\n",
      " 46  instant_bookable                              3864 non-null   object \n",
      " 47  calculated_host_listings_count                3864 non-null   int64  \n",
      " 48  calculated_host_listings_count_entire_homes   3864 non-null   int64  \n",
      " 49  calculated_host_listings_count_private_rooms  3864 non-null   int64  \n",
      " 50  calculated_host_listings_count_shared_rooms   3864 non-null   int64  \n",
      " 51  reviews_per_month                             2741 non-null   float64\n",
      "dtypes: float64(14), int64(17), object(21)\n",
      "memory usage: 1.5+ MB\n"
     ]
    }
   ],
   "source": [
    "lstn.info()"
   ]
  },
  {
   "cell_type": "code",
   "execution_count": 22,
   "id": "c1353a09-af63-40da-a53b-813bc17bb636",
   "metadata": {},
   "outputs": [
    {
     "data": {
      "text/plain": [
       "Index(['name', 'description', 'neighborhood_overview', 'host_id', 'host_since',\n",
       "       'host_response_time', 'host_response_rate', 'host_acceptance_rate',\n",
       "       'host_is_superhost', 'host_listings_count', 'host_total_listings_count',\n",
       "       'host_verifications', 'host_has_profile_pic', 'host_identity_verified',\n",
       "       'neighbourhood_cleansed', 'neighbourhood_group_cleansed', 'latitude',\n",
       "       'longitude', 'property_type', 'room_type', 'accommodates', 'bathrooms',\n",
       "       'bathrooms_text', 'bedrooms', 'beds', 'amenities', 'price',\n",
       "       'minimum_nights', 'maximum_nights', 'has_availability',\n",
       "       'availability_30', 'availability_60', 'availability_90',\n",
       "       'availability_365', 'number_of_reviews', 'number_of_reviews_ltm',\n",
       "       'number_of_reviews_l30d', 'first_review', 'last_review',\n",
       "       'review_scores_rating', 'review_scores_accuracy',\n",
       "       'review_scores_cleanliness', 'review_scores_checkin',\n",
       "       'review_scores_communication', 'review_scores_location',\n",
       "       'review_scores_value', 'instant_bookable',\n",
       "       'calculated_host_listings_count',\n",
       "       'calculated_host_listings_count_entire_homes',\n",
       "       'calculated_host_listings_count_private_rooms',\n",
       "       'calculated_host_listings_count_shared_rooms', 'reviews_per_month'],\n",
       "      dtype='object')"
      ]
     },
     "execution_count": 22,
     "metadata": {},
     "output_type": "execute_result"
    }
   ],
   "source": [
    "lstn.columns"
   ]
  },
  {
   "cell_type": "code",
   "execution_count": 23,
   "id": "0bd7ba7e-5648-4275-acaf-23d4d4ec9c4a",
   "metadata": {},
   "outputs": [],
   "source": [
    "keep_cols = ['host_identity_verified',\n",
    "       'neighbourhood_cleansed', 'latitude',\n",
    "       'longitude', 'property_type', 'room_type', 'accommodates', \n",
    "       'bathrooms_text', 'bedrooms', 'beds', 'amenities', 'price',\n",
    "       'minimum_nights', 'maximum_nights', 'has_availability',\n",
    "       'availability_30', 'availability_60', 'availability_90',\n",
    "       'availability_365', 'calculated_host_listings_count',\n",
    "            \n",
    "            'calculated_host_listings_count_entire_homes',\n",
    " 'calculated_host_listings_count_private_rooms',\n",
    " 'calculated_host_listings_count_shared_rooms',\n",
    " 'host_id',\n",
    " 'host_listings_count',\n",
    " 'host_total_listings_count']"
   ]
  },
  {
   "cell_type": "code",
   "execution_count": 24,
   "id": "7b7b424e-4e3d-40a0-82a8-b4200ac5ead0",
   "metadata": {},
   "outputs": [
    {
     "name": "stdout",
     "output_type": "stream",
     "text": [
      "<class 'pandas.core.frame.DataFrame'>\n",
      "RangeIndex: 3864 entries, 0 to 3863\n",
      "Data columns (total 26 columns):\n",
      " #   Column                                        Non-Null Count  Dtype  \n",
      "---  ------                                        --------------  -----  \n",
      " 0   host_identity_verified                        3864 non-null   object \n",
      " 1   neighbourhood_cleansed                        3864 non-null   object \n",
      " 2   latitude                                      3864 non-null   float64\n",
      " 3   longitude                                     3864 non-null   float64\n",
      " 4   property_type                                 3864 non-null   object \n",
      " 5   room_type                                     3864 non-null   object \n",
      " 6   accommodates                                  3864 non-null   int64  \n",
      " 7   bathrooms_text                                3862 non-null   object \n",
      " 8   bedrooms                                      3404 non-null   float64\n",
      " 9   beds                                          3784 non-null   float64\n",
      " 10  amenities                                     3864 non-null   object \n",
      " 11  price                                         3864 non-null   object \n",
      " 12  minimum_nights                                3864 non-null   int64  \n",
      " 13  maximum_nights                                3864 non-null   int64  \n",
      " 14  has_availability                              3864 non-null   object \n",
      " 15  availability_30                               3864 non-null   int64  \n",
      " 16  availability_60                               3864 non-null   int64  \n",
      " 17  availability_90                               3864 non-null   int64  \n",
      " 18  availability_365                              3864 non-null   int64  \n",
      " 19  calculated_host_listings_count                3864 non-null   int64  \n",
      " 20  calculated_host_listings_count_entire_homes   3864 non-null   int64  \n",
      " 21  calculated_host_listings_count_private_rooms  3864 non-null   int64  \n",
      " 22  calculated_host_listings_count_shared_rooms   3864 non-null   int64  \n",
      " 23  host_id                                       3864 non-null   int64  \n",
      " 24  host_listings_count                           3864 non-null   int64  \n",
      " 25  host_total_listings_count                     3864 non-null   int64  \n",
      "dtypes: float64(4), int64(14), object(8)\n",
      "memory usage: 785.0+ KB\n"
     ]
    }
   ],
   "source": [
    "lstn_new = lstn[keep_cols].copy()\n",
    "lstn_new.info()"
   ]
  },
  {
   "cell_type": "code",
   "execution_count": 25,
   "id": "ee383b50-5e11-48bd-bfbc-ce52ee6225ad",
   "metadata": {},
   "outputs": [],
   "source": [
    "lstn_new.price = lstn_new.price.apply(lambda x: float(x.replace('$','').replace(',','').strip()))"
   ]
  },
  {
   "cell_type": "code",
   "execution_count": 26,
   "id": "ac929461-16b0-4997-a99d-5ed805dfca8d",
   "metadata": {},
   "outputs": [
    {
     "name": "stdout",
     "output_type": "stream",
     "text": [
      "<class 'pandas.core.frame.DataFrame'>\n",
      "RangeIndex: 3864 entries, 0 to 3863\n",
      "Data columns (total 26 columns):\n",
      " #   Column                                        Non-Null Count  Dtype  \n",
      "---  ------                                        --------------  -----  \n",
      " 0   host_identity_verified                        3864 non-null   object \n",
      " 1   neighbourhood_cleansed                        3864 non-null   object \n",
      " 2   latitude                                      3864 non-null   float64\n",
      " 3   longitude                                     3864 non-null   float64\n",
      " 4   property_type                                 3864 non-null   object \n",
      " 5   room_type                                     3864 non-null   object \n",
      " 6   accommodates                                  3864 non-null   int64  \n",
      " 7   bathrooms_text                                3862 non-null   object \n",
      " 8   bedrooms                                      3404 non-null   float64\n",
      " 9   beds                                          3784 non-null   float64\n",
      " 10  amenities                                     3864 non-null   object \n",
      " 11  price                                         3864 non-null   float64\n",
      " 12  minimum_nights                                3864 non-null   int64  \n",
      " 13  maximum_nights                                3864 non-null   int64  \n",
      " 14  has_availability                              3864 non-null   object \n",
      " 15  availability_30                               3864 non-null   int64  \n",
      " 16  availability_60                               3864 non-null   int64  \n",
      " 17  availability_90                               3864 non-null   int64  \n",
      " 18  availability_365                              3864 non-null   int64  \n",
      " 19  calculated_host_listings_count                3864 non-null   int64  \n",
      " 20  calculated_host_listings_count_entire_homes   3864 non-null   int64  \n",
      " 21  calculated_host_listings_count_private_rooms  3864 non-null   int64  \n",
      " 22  calculated_host_listings_count_shared_rooms   3864 non-null   int64  \n",
      " 23  host_id                                       3864 non-null   int64  \n",
      " 24  host_listings_count                           3864 non-null   int64  \n",
      " 25  host_total_listings_count                     3864 non-null   int64  \n",
      "dtypes: float64(5), int64(14), object(7)\n",
      "memory usage: 785.0+ KB\n"
     ]
    }
   ],
   "source": [
    "lstn_new.info()"
   ]
  },
  {
   "cell_type": "code",
   "execution_count": 27,
   "id": "d9766690-9702-49b9-a6ca-a27976354109",
   "metadata": {},
   "outputs": [],
   "source": [
    "'''\n",
    " 0   host_identity_verified          3864 non-null   object  >>>>>>  DONE --------map funciton \n",
    " 1   neighbourhood_cleansed          3864 non-null   object  >>>>>>  OHE (get dummies)\n",
    " 4   property_type                   3864 non-null   object  >>>>>>  DROP THIS----Filter then OHE\n",
    " 5   room_type                       3864 non-null   object  >>>>>>  OHE\n",
    " 7   bathrooms_text                  3862 non-null   object  >>>>>>  OHE to start, otherwise use RE to split up\n",
    " 10  amenities                       3864 non-null   object  >>>>>>  DROP this for now:  cannot be count vectorized...need to do something different\n",
    " 14  has_availability                3864 non-null   object  >>>>>>  DONE --------map function\n",
    "\n",
    "\n",
    "''';"
   ]
  },
  {
   "cell_type": "code",
   "execution_count": 28,
   "id": "16776f41-b989-4a20-abd4-b20d41dc147c",
   "metadata": {},
   "outputs": [],
   "source": [
    "lstn_new.host_identity_verified = lstn_new.host_identity_verified.map({'t':1, 'f':0})\n",
    "lstn_new.has_availability = lstn_new.has_availability.map({'t':1, 'f':0})"
   ]
  },
  {
   "cell_type": "code",
   "execution_count": 29,
   "id": "76cd4a1c-b051-47ef-8256-a2464407160e",
   "metadata": {},
   "outputs": [
    {
     "data": {
      "text/plain": [
       "Entire home/apt    2528\n",
       "Private room       1299\n",
       "Hotel room           21\n",
       "Shared room          16\n",
       "Name: room_type, dtype: int64"
      ]
     },
     "execution_count": 29,
     "metadata": {},
     "output_type": "execute_result"
    }
   ],
   "source": [
    "lstn_new.room_type.value_counts()"
   ]
  },
  {
   "cell_type": "code",
   "execution_count": 30,
   "id": "db17d07d-e26d-4f59-9f17-b2685d0e3875",
   "metadata": {},
   "outputs": [],
   "source": [
    "lstn_new.drop(columns='property_type', inplace = True)"
   ]
  },
  {
   "cell_type": "code",
   "execution_count": 31,
   "id": "25650d4b-4b08-49ff-8498-4345827c4fc5",
   "metadata": {},
   "outputs": [
    {
     "name": "stdout",
     "output_type": "stream",
     "text": [
      "<class 'pandas.core.frame.DataFrame'>\n",
      "RangeIndex: 3864 entries, 0 to 3863\n",
      "Data columns (total 25 columns):\n",
      " #   Column                                        Non-Null Count  Dtype  \n",
      "---  ------                                        --------------  -----  \n",
      " 0   host_identity_verified                        3864 non-null   int64  \n",
      " 1   neighbourhood_cleansed                        3864 non-null   object \n",
      " 2   latitude                                      3864 non-null   float64\n",
      " 3   longitude                                     3864 non-null   float64\n",
      " 4   room_type                                     3864 non-null   object \n",
      " 5   accommodates                                  3864 non-null   int64  \n",
      " 6   bathrooms_text                                3862 non-null   object \n",
      " 7   bedrooms                                      3404 non-null   float64\n",
      " 8   beds                                          3784 non-null   float64\n",
      " 9   amenities                                     3864 non-null   object \n",
      " 10  price                                         3864 non-null   float64\n",
      " 11  minimum_nights                                3864 non-null   int64  \n",
      " 12  maximum_nights                                3864 non-null   int64  \n",
      " 13  has_availability                              3864 non-null   int64  \n",
      " 14  availability_30                               3864 non-null   int64  \n",
      " 15  availability_60                               3864 non-null   int64  \n",
      " 16  availability_90                               3864 non-null   int64  \n",
      " 17  availability_365                              3864 non-null   int64  \n",
      " 18  calculated_host_listings_count                3864 non-null   int64  \n",
      " 19  calculated_host_listings_count_entire_homes   3864 non-null   int64  \n",
      " 20  calculated_host_listings_count_private_rooms  3864 non-null   int64  \n",
      " 21  calculated_host_listings_count_shared_rooms   3864 non-null   int64  \n",
      " 22  host_id                                       3864 non-null   int64  \n",
      " 23  host_listings_count                           3864 non-null   int64  \n",
      " 24  host_total_listings_count                     3864 non-null   int64  \n",
      "dtypes: float64(5), int64(16), object(4)\n",
      "memory usage: 754.8+ KB\n"
     ]
    }
   ],
   "source": [
    "lstn_new.info()"
   ]
  },
  {
   "cell_type": "code",
   "execution_count": 32,
   "id": "d7d01e15-9d51-4ee8-98cc-bd94602a9f5a",
   "metadata": {},
   "outputs": [
    {
     "data": {
      "text/plain": [
       "0       [\"Wifi\", \"Stove\", \"Kitchen\", \"Dishwasher\", \"Fr...\n",
       "1       [\"Wifi\", \"Keypad\", \"Free street parking\", \"Fir...\n",
       "2       [\"Wifi\", \"Stove\", \"Keypad\", \"Kitchen\", \"Dishwa...\n",
       "3       [\"Wifi\", \"Stove\", \"Kitchen\", \"Refrigerator\", \"...\n",
       "4       [\"Wifi\", \"Kitchen\", \"Window AC unit\", \"Free st...\n",
       "                              ...                        \n",
       "3859    [\"Wifi\", \"TV with standard cable\", \"Carbon mon...\n",
       "3860    [\"Wifi\", \"City skyline view\", \"Kitchen\", \"Dish...\n",
       "3861    [\"Wifi\", \"Stove\", \"Kitchen\", \"Dishwasher\", \"Fr...\n",
       "3862    [\"Wifi\", \"Keypad\", \"Free street parking\", \"Loc...\n",
       "3863    [\"Wifi\", \"Public or shared beach access\", \"Kit...\n",
       "Name: amenities, Length: 3864, dtype: object"
      ]
     },
     "execution_count": 32,
     "metadata": {},
     "output_type": "execute_result"
    }
   ],
   "source": [
    "lstn_new.amenities"
   ]
  },
  {
   "cell_type": "code",
   "execution_count": 33,
   "id": "e91cb4fb-31ce-45d0-acfc-8314c7ec1dc7",
   "metadata": {},
   "outputs": [],
   "source": [
    "lstn_new.drop(columns='amenities', inplace=True)"
   ]
  },
  {
   "cell_type": "code",
   "execution_count": 34,
   "id": "a2876d5e-16dd-4449-a044-c7e0cf59cb4d",
   "metadata": {},
   "outputs": [
    {
     "name": "stdout",
     "output_type": "stream",
     "text": [
      "<class 'pandas.core.frame.DataFrame'>\n",
      "RangeIndex: 3864 entries, 0 to 3863\n",
      "Data columns (total 24 columns):\n",
      " #   Column                                        Non-Null Count  Dtype  \n",
      "---  ------                                        --------------  -----  \n",
      " 0   host_identity_verified                        3864 non-null   int64  \n",
      " 1   neighbourhood_cleansed                        3864 non-null   object \n",
      " 2   latitude                                      3864 non-null   float64\n",
      " 3   longitude                                     3864 non-null   float64\n",
      " 4   room_type                                     3864 non-null   object \n",
      " 5   accommodates                                  3864 non-null   int64  \n",
      " 6   bathrooms_text                                3862 non-null   object \n",
      " 7   bedrooms                                      3404 non-null   float64\n",
      " 8   beds                                          3784 non-null   float64\n",
      " 9   price                                         3864 non-null   float64\n",
      " 10  minimum_nights                                3864 non-null   int64  \n",
      " 11  maximum_nights                                3864 non-null   int64  \n",
      " 12  has_availability                              3864 non-null   int64  \n",
      " 13  availability_30                               3864 non-null   int64  \n",
      " 14  availability_60                               3864 non-null   int64  \n",
      " 15  availability_90                               3864 non-null   int64  \n",
      " 16  availability_365                              3864 non-null   int64  \n",
      " 17  calculated_host_listings_count                3864 non-null   int64  \n",
      " 18  calculated_host_listings_count_entire_homes   3864 non-null   int64  \n",
      " 19  calculated_host_listings_count_private_rooms  3864 non-null   int64  \n",
      " 20  calculated_host_listings_count_shared_rooms   3864 non-null   int64  \n",
      " 21  host_id                                       3864 non-null   int64  \n",
      " 22  host_listings_count                           3864 non-null   int64  \n",
      " 23  host_total_listings_count                     3864 non-null   int64  \n",
      "dtypes: float64(5), int64(16), object(3)\n",
      "memory usage: 724.6+ KB\n"
     ]
    }
   ],
   "source": [
    "lstn_new.info()"
   ]
  },
  {
   "cell_type": "code",
   "execution_count": 35,
   "id": "5f4ca568-fe88-4f1d-9202-a1e39b622a58",
   "metadata": {},
   "outputs": [],
   "source": [
    "lstn_new = pd.get_dummies(lstn_new, columns=['neighbourhood_cleansed', 'room_type', 'bathrooms_text'], drop_first=True)"
   ]
  },
  {
   "cell_type": "code",
   "execution_count": 36,
   "id": "754f3ca7-aa2f-4011-b314-d6d82ce0a027",
   "metadata": {},
   "outputs": [],
   "source": [
    "lstn_new.bedrooms.fillna(0, inplace=True)\n",
    "lstn_new.beds.fillna(0, inplace=True)"
   ]
  },
  {
   "cell_type": "code",
   "execution_count": 37,
   "id": "30364050-b846-4ad0-9ce0-262be694edba",
   "metadata": {},
   "outputs": [],
   "source": [
    "lstn_new.dropna(inplace=True)"
   ]
  },
  {
   "cell_type": "code",
   "execution_count": 38,
   "id": "84f130aa-489e-491f-8b6b-23dcf2ccc201",
   "metadata": {},
   "outputs": [
    {
     "name": "stdout",
     "output_type": "stream",
     "text": [
      "<class 'pandas.core.frame.DataFrame'>\n",
      "RangeIndex: 3864 entries, 0 to 3863\n",
      "Data columns (total 69 columns):\n",
      " #   Column                                          Non-Null Count  Dtype  \n",
      "---  ------                                          --------------  -----  \n",
      " 0   host_identity_verified                          3864 non-null   int64  \n",
      " 1   latitude                                        3864 non-null   float64\n",
      " 2   longitude                                       3864 non-null   float64\n",
      " 3   accommodates                                    3864 non-null   int64  \n",
      " 4   bedrooms                                        3864 non-null   float64\n",
      " 5   beds                                            3864 non-null   float64\n",
      " 6   price                                           3864 non-null   float64\n",
      " 7   minimum_nights                                  3864 non-null   int64  \n",
      " 8   maximum_nights                                  3864 non-null   int64  \n",
      " 9   has_availability                                3864 non-null   int64  \n",
      " 10  availability_30                                 3864 non-null   int64  \n",
      " 11  availability_60                                 3864 non-null   int64  \n",
      " 12  availability_90                                 3864 non-null   int64  \n",
      " 13  availability_365                                3864 non-null   int64  \n",
      " 14  calculated_host_listings_count                  3864 non-null   int64  \n",
      " 15  calculated_host_listings_count_entire_homes     3864 non-null   int64  \n",
      " 16  calculated_host_listings_count_private_rooms    3864 non-null   int64  \n",
      " 17  calculated_host_listings_count_shared_rooms     3864 non-null   int64  \n",
      " 18  host_id                                         3864 non-null   int64  \n",
      " 19  host_listings_count                             3864 non-null   int64  \n",
      " 20  host_total_listings_count                       3864 non-null   int64  \n",
      " 21  neighbourhood_cleansed_Back Bay                 3864 non-null   uint8  \n",
      " 22  neighbourhood_cleansed_Bay Village              3864 non-null   uint8  \n",
      " 23  neighbourhood_cleansed_Beacon Hill              3864 non-null   uint8  \n",
      " 24  neighbourhood_cleansed_Brighton                 3864 non-null   uint8  \n",
      " 25  neighbourhood_cleansed_Charlestown              3864 non-null   uint8  \n",
      " 26  neighbourhood_cleansed_Chinatown                3864 non-null   uint8  \n",
      " 27  neighbourhood_cleansed_Dorchester               3864 non-null   uint8  \n",
      " 28  neighbourhood_cleansed_Downtown                 3864 non-null   uint8  \n",
      " 29  neighbourhood_cleansed_East Boston              3864 non-null   uint8  \n",
      " 30  neighbourhood_cleansed_Fenway                   3864 non-null   uint8  \n",
      " 31  neighbourhood_cleansed_Hyde Park                3864 non-null   uint8  \n",
      " 32  neighbourhood_cleansed_Jamaica Plain            3864 non-null   uint8  \n",
      " 33  neighbourhood_cleansed_Leather District         3864 non-null   uint8  \n",
      " 34  neighbourhood_cleansed_Longwood Medical Area    3864 non-null   uint8  \n",
      " 35  neighbourhood_cleansed_Mattapan                 3864 non-null   uint8  \n",
      " 36  neighbourhood_cleansed_Mission Hill             3864 non-null   uint8  \n",
      " 37  neighbourhood_cleansed_North End                3864 non-null   uint8  \n",
      " 38  neighbourhood_cleansed_Roslindale               3864 non-null   uint8  \n",
      " 39  neighbourhood_cleansed_Roxbury                  3864 non-null   uint8  \n",
      " 40  neighbourhood_cleansed_South Boston             3864 non-null   uint8  \n",
      " 41  neighbourhood_cleansed_South Boston Waterfront  3864 non-null   uint8  \n",
      " 42  neighbourhood_cleansed_South End                3864 non-null   uint8  \n",
      " 43  neighbourhood_cleansed_West End                 3864 non-null   uint8  \n",
      " 44  neighbourhood_cleansed_West Roxbury             3864 non-null   uint8  \n",
      " 45  room_type_Hotel room                            3864 non-null   uint8  \n",
      " 46  room_type_Private room                          3864 non-null   uint8  \n",
      " 47  room_type_Shared room                           3864 non-null   uint8  \n",
      " 48  bathrooms_text_0 shared baths                   3864 non-null   uint8  \n",
      " 49  bathrooms_text_1 bath                           3864 non-null   uint8  \n",
      " 50  bathrooms_text_1 private bath                   3864 non-null   uint8  \n",
      " 51  bathrooms_text_1 shared bath                    3864 non-null   uint8  \n",
      " 52  bathrooms_text_1.5 baths                        3864 non-null   uint8  \n",
      " 53  bathrooms_text_1.5 shared baths                 3864 non-null   uint8  \n",
      " 54  bathrooms_text_2 baths                          3864 non-null   uint8  \n",
      " 55  bathrooms_text_2 shared baths                   3864 non-null   uint8  \n",
      " 56  bathrooms_text_2.5 baths                        3864 non-null   uint8  \n",
      " 57  bathrooms_text_2.5 shared baths                 3864 non-null   uint8  \n",
      " 58  bathrooms_text_3 baths                          3864 non-null   uint8  \n",
      " 59  bathrooms_text_3 shared baths                   3864 non-null   uint8  \n",
      " 60  bathrooms_text_3.5 baths                        3864 non-null   uint8  \n",
      " 61  bathrooms_text_3.5 shared baths                 3864 non-null   uint8  \n",
      " 62  bathrooms_text_4 baths                          3864 non-null   uint8  \n",
      " 63  bathrooms_text_4 shared baths                   3864 non-null   uint8  \n",
      " 64  bathrooms_text_4.5 baths                        3864 non-null   uint8  \n",
      " 65  bathrooms_text_5 baths                          3864 non-null   uint8  \n",
      " 66  bathrooms_text_6 baths                          3864 non-null   uint8  \n",
      " 67  bathrooms_text_Half-bath                        3864 non-null   uint8  \n",
      " 68  bathrooms_text_Private half-bath                3864 non-null   uint8  \n",
      "dtypes: float64(5), int64(16), uint8(48)\n",
      "memory usage: 815.2 KB\n"
     ]
    }
   ],
   "source": [
    "lstn_new.info()"
   ]
  },
  {
   "cell_type": "code",
   "execution_count": 39,
   "id": "95b31f64-14e7-4dab-8f78-aa4d3668a532",
   "metadata": {},
   "outputs": [],
   "source": [
    "lr1 = LinearRegression()"
   ]
  },
  {
   "cell_type": "code",
   "execution_count": 40,
   "id": "d677a906-cd69-4a34-a2ae-bf8c2f91ebb0",
   "metadata": {
    "tags": []
   },
   "outputs": [],
   "source": [
    "X = lstn_new.drop(columns='price')\n",
    "y = lstn_new.price"
   ]
  },
  {
   "cell_type": "code",
   "execution_count": 41,
   "id": "64d507ac-9f79-45b8-8d67-58a74347757c",
   "metadata": {},
   "outputs": [],
   "source": [
    "X_train, X_test, y_train, y_test = train_test_split(X, y, train_size=0.8, random_state=42)"
   ]
  },
  {
   "cell_type": "code",
   "execution_count": 42,
   "id": "987d55eb-97fa-400c-8f46-dbb09bde2b17",
   "metadata": {},
   "outputs": [
    {
     "data": {
      "text/html": [
       "<style>#sk-container-id-1 {color: black;background-color: white;}#sk-container-id-1 pre{padding: 0;}#sk-container-id-1 div.sk-toggleable {background-color: white;}#sk-container-id-1 label.sk-toggleable__label {cursor: pointer;display: block;width: 100%;margin-bottom: 0;padding: 0.3em;box-sizing: border-box;text-align: center;}#sk-container-id-1 label.sk-toggleable__label-arrow:before {content: \"▸\";float: left;margin-right: 0.25em;color: #696969;}#sk-container-id-1 label.sk-toggleable__label-arrow:hover:before {color: black;}#sk-container-id-1 div.sk-estimator:hover label.sk-toggleable__label-arrow:before {color: black;}#sk-container-id-1 div.sk-toggleable__content {max-height: 0;max-width: 0;overflow: hidden;text-align: left;background-color: #f0f8ff;}#sk-container-id-1 div.sk-toggleable__content pre {margin: 0.2em;color: black;border-radius: 0.25em;background-color: #f0f8ff;}#sk-container-id-1 input.sk-toggleable__control:checked~div.sk-toggleable__content {max-height: 200px;max-width: 100%;overflow: auto;}#sk-container-id-1 input.sk-toggleable__control:checked~label.sk-toggleable__label-arrow:before {content: \"▾\";}#sk-container-id-1 div.sk-estimator input.sk-toggleable__control:checked~label.sk-toggleable__label {background-color: #d4ebff;}#sk-container-id-1 div.sk-label input.sk-toggleable__control:checked~label.sk-toggleable__label {background-color: #d4ebff;}#sk-container-id-1 input.sk-hidden--visually {border: 0;clip: rect(1px 1px 1px 1px);clip: rect(1px, 1px, 1px, 1px);height: 1px;margin: -1px;overflow: hidden;padding: 0;position: absolute;width: 1px;}#sk-container-id-1 div.sk-estimator {font-family: monospace;background-color: #f0f8ff;border: 1px dotted black;border-radius: 0.25em;box-sizing: border-box;margin-bottom: 0.5em;}#sk-container-id-1 div.sk-estimator:hover {background-color: #d4ebff;}#sk-container-id-1 div.sk-parallel-item::after {content: \"\";width: 100%;border-bottom: 1px solid gray;flex-grow: 1;}#sk-container-id-1 div.sk-label:hover label.sk-toggleable__label {background-color: #d4ebff;}#sk-container-id-1 div.sk-serial::before {content: \"\";position: absolute;border-left: 1px solid gray;box-sizing: border-box;top: 0;bottom: 0;left: 50%;z-index: 0;}#sk-container-id-1 div.sk-serial {display: flex;flex-direction: column;align-items: center;background-color: white;padding-right: 0.2em;padding-left: 0.2em;position: relative;}#sk-container-id-1 div.sk-item {position: relative;z-index: 1;}#sk-container-id-1 div.sk-parallel {display: flex;align-items: stretch;justify-content: center;background-color: white;position: relative;}#sk-container-id-1 div.sk-item::before, #sk-container-id-1 div.sk-parallel-item::before {content: \"\";position: absolute;border-left: 1px solid gray;box-sizing: border-box;top: 0;bottom: 0;left: 50%;z-index: -1;}#sk-container-id-1 div.sk-parallel-item {display: flex;flex-direction: column;z-index: 1;position: relative;background-color: white;}#sk-container-id-1 div.sk-parallel-item:first-child::after {align-self: flex-end;width: 50%;}#sk-container-id-1 div.sk-parallel-item:last-child::after {align-self: flex-start;width: 50%;}#sk-container-id-1 div.sk-parallel-item:only-child::after {width: 0;}#sk-container-id-1 div.sk-dashed-wrapped {border: 1px dashed gray;margin: 0 0.4em 0.5em 0.4em;box-sizing: border-box;padding-bottom: 0.4em;background-color: white;}#sk-container-id-1 div.sk-label label {font-family: monospace;font-weight: bold;display: inline-block;line-height: 1.2em;}#sk-container-id-1 div.sk-label-container {text-align: center;}#sk-container-id-1 div.sk-container {/* jupyter's `normalize.less` sets `[hidden] { display: none; }` but bootstrap.min.css set `[hidden] { display: none !important; }` so we also need the `!important` here to be able to override the default hidden behavior on the sphinx rendered scikit-learn.org. See: https://github.com/scikit-learn/scikit-learn/issues/21755 */display: inline-block !important;position: relative;}#sk-container-id-1 div.sk-text-repr-fallback {display: none;}</style><div id=\"sk-container-id-1\" class=\"sk-top-container\"><div class=\"sk-text-repr-fallback\"><pre>LinearRegression()</pre><b>In a Jupyter environment, please rerun this cell to show the HTML representation or trust the notebook. <br />On GitHub, the HTML representation is unable to render, please try loading this page with nbviewer.org.</b></div><div class=\"sk-container\" hidden><div class=\"sk-item\"><div class=\"sk-estimator sk-toggleable\"><input class=\"sk-toggleable__control sk-hidden--visually\" id=\"sk-estimator-id-1\" type=\"checkbox\" checked><label for=\"sk-estimator-id-1\" class=\"sk-toggleable__label sk-toggleable__label-arrow\">LinearRegression</label><div class=\"sk-toggleable__content\"><pre>LinearRegression()</pre></div></div></div></div></div>"
      ],
      "text/plain": [
       "LinearRegression()"
      ]
     },
     "execution_count": 42,
     "metadata": {},
     "output_type": "execute_result"
    }
   ],
   "source": [
    "lr1.fit(X_train, y_train)"
   ]
  },
  {
   "cell_type": "code",
   "execution_count": 43,
   "id": "b1f243ad-18ee-4e2e-93db-70b78e95d9c4",
   "metadata": {},
   "outputs": [
    {
     "data": {
      "text/plain": [
       "0.24689750800594856"
      ]
     },
     "execution_count": 43,
     "metadata": {},
     "output_type": "execute_result"
    }
   ],
   "source": [
    "lr1.score(X_train, y_train)"
   ]
  },
  {
   "cell_type": "code",
   "execution_count": 44,
   "id": "4e542729-3588-4fca-b5fd-9d10535ff1b1",
   "metadata": {},
   "outputs": [
    {
     "data": {
      "text/plain": [
       "0.4012557045926609"
      ]
     },
     "execution_count": 44,
     "metadata": {},
     "output_type": "execute_result"
    }
   ],
   "source": [
    "lr1.score(X_test, y_test)"
   ]
  },
  {
   "cell_type": "code",
   "execution_count": 57,
   "id": "0340e101-4040-4e9e-a037-526eb7947e24",
   "metadata": {},
   "outputs": [
    {
     "data": {
      "text/plain": [
       "count     3864.000000\n",
       "mean       190.609990\n",
       "std        251.949604\n",
       "min          0.000000\n",
       "25%         85.000000\n",
       "50%        148.500000\n",
       "75%        225.000000\n",
       "max      10000.000000\n",
       "Name: price, dtype: float64"
      ]
     },
     "execution_count": 57,
     "metadata": {},
     "output_type": "execute_result"
    }
   ],
   "source": [
    "lstn_new.price.describe()"
   ]
  },
  {
   "cell_type": "code",
   "execution_count": 58,
   "id": "4a678d79-60f7-421c-a78d-7a61322d6afd",
   "metadata": {},
   "outputs": [
    {
     "data": {
      "text/plain": [
       "2"
      ]
     },
     "execution_count": 58,
     "metadata": {},
     "output_type": "execute_result"
    }
   ],
   "source": [
    "sum(lstn_new.price ==0)"
   ]
  },
  {
   "cell_type": "code",
   "execution_count": 61,
   "id": "689580f7-43b1-4959-8fa5-54777fc68b86",
   "metadata": {},
   "outputs": [],
   "source": [
    "log_price = np.log(lstn_new.price[lstn_new.price != 0])"
   ]
  },
  {
   "cell_type": "code",
   "execution_count": 63,
   "id": "2de6189f-6454-416e-a079-dfd59a2fe5dd",
   "metadata": {},
   "outputs": [
    {
     "data": {
      "text/plain": [
       "0       1.585719\n",
       "1       1.610227\n",
       "2       1.646230\n",
       "3       1.504035\n",
       "4       1.522783\n",
       "          ...   \n",
       "3859    1.969815\n",
       "3860    1.513652\n",
       "3861    1.566007\n",
       "3862    1.462674\n",
       "3863    1.831336\n",
       "Name: price, Length: 3862, dtype: float64"
      ]
     },
     "execution_count": 63,
     "metadata": {},
     "output_type": "execute_result"
    }
   ],
   "source": [
    "np.log(log_price)"
   ]
  },
  {
   "cell_type": "code",
   "execution_count": 66,
   "id": "a8422f46-3653-47fa-b5f2-b12d99af894b",
   "metadata": {},
   "outputs": [
    {
     "data": {
      "image/png": "[encoded data removed]",
      "text/plain": [
       "<Figure size 640x480 with 1 Axes>"
      ]
     },
     "metadata": {},
     "output_type": "display_data"
    }
   ],
   "source": [
    "plt.hist(np.log(log_price), log = True, bins = 100);"
   ]
  },
  {
   "cell_type": "markdown",
   "id": "379235ef-e765-4d38-b165-c461d8f5047f",
   "metadata": {},
   "source": [
    "# RF regressor"
   ]
  },
  {
   "cell_type": "code",
   "execution_count": 45,
   "id": "b248cfc3-25cb-4088-bb3c-6b23719579d2",
   "metadata": {},
   "outputs": [],
   "source": [
    "from sklearn.ensemble import RandomForestRegressor"
   ]
  },
  {
   "cell_type": "code",
   "execution_count": 46,
   "id": "25e58297-2cb4-48d1-a754-c3f81e3a121b",
   "metadata": {},
   "outputs": [],
   "source": [
    "rf = RandomForestRegressor()"
   ]
  },
  {
   "cell_type": "code",
   "execution_count": 47,
   "id": "719f9130-a422-4c91-aec7-80abbfb80ea2",
   "metadata": {},
   "outputs": [
    {
     "data": {
      "text/html": [
       "<style>#sk-container-id-2 {color: black;background-color: white;}#sk-container-id-2 pre{padding: 0;}#sk-container-id-2 div.sk-toggleable {background-color: white;}#sk-container-id-2 label.sk-toggleable__label {cursor: pointer;display: block;width: 100%;margin-bottom: 0;padding: 0.3em;box-sizing: border-box;text-align: center;}#sk-container-id-2 label.sk-toggleable__label-arrow:before {content: \"▸\";float: left;margin-right: 0.25em;color: #696969;}#sk-container-id-2 label.sk-toggleable__label-arrow:hover:before {color: black;}#sk-container-id-2 div.sk-estimator:hover label.sk-toggleable__label-arrow:before {color: black;}#sk-container-id-2 div.sk-toggleable__content {max-height: 0;max-width: 0;overflow: hidden;text-align: left;background-color: #f0f8ff;}#sk-container-id-2 div.sk-toggleable__content pre {margin: 0.2em;color: black;border-radius: 0.25em;background-color: #f0f8ff;}#sk-container-id-2 input.sk-toggleable__control:checked~div.sk-toggleable__content {max-height: 200px;max-width: 100%;overflow: auto;}#sk-container-id-2 input.sk-toggleable__control:checked~label.sk-toggleable__label-arrow:before {content: \"▾\";}#sk-container-id-2 div.sk-estimator input.sk-toggleable__control:checked~label.sk-toggleable__label {background-color: #d4ebff;}#sk-container-id-2 div.sk-label input.sk-toggleable__control:checked~label.sk-toggleable__label {background-color: #d4ebff;}#sk-container-id-2 input.sk-hidden--visually {border: 0;clip: rect(1px 1px 1px 1px);clip: rect(1px, 1px, 1px, 1px);height: 1px;margin: -1px;overflow: hidden;padding: 0;position: absolute;width: 1px;}#sk-container-id-2 div.sk-estimator {font-family: monospace;background-color: #f0f8ff;border: 1px dotted black;border-radius: 0.25em;box-sizing: border-box;margin-bottom: 0.5em;}#sk-container-id-2 div.sk-estimator:hover {background-color: #d4ebff;}#sk-container-id-2 div.sk-parallel-item::after {content: \"\";width: 100%;border-bottom: 1px solid gray;flex-grow: 1;}#sk-container-id-2 div.sk-label:hover label.sk-toggleable__label {background-color: #d4ebff;}#sk-container-id-2 div.sk-serial::before {content: \"\";position: absolute;border-left: 1px solid gray;box-sizing: border-box;top: 0;bottom: 0;left: 50%;z-index: 0;}#sk-container-id-2 div.sk-serial {display: flex;flex-direction: column;align-items: center;background-color: white;padding-right: 0.2em;padding-left: 0.2em;position: relative;}#sk-container-id-2 div.sk-item {position: relative;z-index: 1;}#sk-container-id-2 div.sk-parallel {display: flex;align-items: stretch;justify-content: center;background-color: white;position: relative;}#sk-container-id-2 div.sk-item::before, #sk-container-id-2 div.sk-parallel-item::before {content: \"\";position: absolute;border-left: 1px solid gray;box-sizing: border-box;top: 0;bottom: 0;left: 50%;z-index: -1;}#sk-container-id-2 div.sk-parallel-item {display: flex;flex-direction: column;z-index: 1;position: relative;background-color: white;}#sk-container-id-2 div.sk-parallel-item:first-child::after {align-self: flex-end;width: 50%;}#sk-container-id-2 div.sk-parallel-item:last-child::after {align-self: flex-start;width: 50%;}#sk-container-id-2 div.sk-parallel-item:only-child::after {width: 0;}#sk-container-id-2 div.sk-dashed-wrapped {border: 1px dashed gray;margin: 0 0.4em 0.5em 0.4em;box-sizing: border-box;padding-bottom: 0.4em;background-color: white;}#sk-container-id-2 div.sk-label label {font-family: monospace;font-weight: bold;display: inline-block;line-height: 1.2em;}#sk-container-id-2 div.sk-label-container {text-align: center;}#sk-container-id-2 div.sk-container {/* jupyter's `normalize.less` sets `[hidden] { display: none; }` but bootstrap.min.css set `[hidden] { display: none !important; }` so we also need the `!important` here to be able to override the default hidden behavior on the sphinx rendered scikit-learn.org. See: https://github.com/scikit-learn/scikit-learn/issues/21755 */display: inline-block !important;position: relative;}#sk-container-id-2 div.sk-text-repr-fallback {display: none;}</style><div id=\"sk-container-id-2\" class=\"sk-top-container\"><div class=\"sk-text-repr-fallback\"><pre>RandomForestRegressor()</pre><b>In a Jupyter environment, please rerun this cell to show the HTML representation or trust the notebook. <br />On GitHub, the HTML representation is unable to render, please try loading this page with nbviewer.org.</b></div><div class=\"sk-container\" hidden><div class=\"sk-item\"><div class=\"sk-estimator sk-toggleable\"><input class=\"sk-toggleable__control sk-hidden--visually\" id=\"sk-estimator-id-2\" type=\"checkbox\" checked><label for=\"sk-estimator-id-2\" class=\"sk-toggleable__label sk-toggleable__label-arrow\">RandomForestRegressor</label><div class=\"sk-toggleable__content\"><pre>RandomForestRegressor()</pre></div></div></div></div></div>"
      ],
      "text/plain": [
       "RandomForestRegressor()"
      ]
     },
     "execution_count": 47,
     "metadata": {},
     "output_type": "execute_result"
    }
   ],
   "source": [
    "rf.fit(X_train, y_train)"
   ]
  },
  {
   "cell_type": "code",
   "execution_count": 48,
   "id": "f53a806d-e1bb-4092-9bf8-d072fc3fe6b9",
   "metadata": {},
   "outputs": [
    {
     "data": {
      "text/plain": [
       "0.9123076590642022"
      ]
     },
     "execution_count": 48,
     "metadata": {},
     "output_type": "execute_result"
    }
   ],
   "source": [
    "rf.score(X_train, y_train)"
   ]
  },
  {
   "cell_type": "code",
   "execution_count": 49,
   "id": "b217d894-6acb-4762-8060-3f078355e77f",
   "metadata": {},
   "outputs": [
    {
     "data": {
      "text/plain": [
       "0.37141336605022857"
      ]
     },
     "execution_count": 49,
     "metadata": {},
     "output_type": "execute_result"
    }
   ],
   "source": [
    "rf.score(X_test, y_test)"
   ]
  },
  {
   "cell_type": "code",
   "execution_count": null,
   "id": "4120bab1-6695-40b0-a16e-f3f66eeaf481",
   "metadata": {},
   "outputs": [],
   "source": []
  }
 ],
 "metadata": {
  "kernelspec": {
   "display_name": "Python 3 (ipykernel)",
   "language": "python",
   "name": "python3"
  },
  "language_info": {
   "codemirror_mode": {
    "name": "ipython",
    "version": 3
   },
   "file_extension": ".py",
   "mimetype": "text/x-python",
   "name": "python",
   "nbconvert_exporter": "python",
   "pygments_lexer": "ipython3",
   "version": "3.10.9"
  }
 },
 "nbformat": 4,
 "nbformat_minor": 5
}
