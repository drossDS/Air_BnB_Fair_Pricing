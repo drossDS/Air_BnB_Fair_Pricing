{
 "cells": [
  {
   "cell_type": "markdown",
   "id": "99ff3b89-3dac-4db9-813c-1c318bb3d51f",
   "metadata": {},
   "source": [
    "# Your Copy of the Data Dictionary:\n",
    "https://docs.google.com/spreadsheets/d/1MFbQRlgFQgfpFeO1BIHJZZm1slxYM0DaZXPKvxeIhOg/edit#gid=150111846"
   ]
  },
  {
   "cell_type": "markdown",
   "id": "aa542490-0092-48f8-bb9f-3b60f2e91e3d",
   "metadata": {},
   "source": [
    "# Quick Look at the Review Data"
   ]
  },
  {
   "cell_type": "code",
   "execution_count": 413,
   "id": "fda50775-c723-49fa-b54a-ae2244e8011d",
   "metadata": {},
   "outputs": [],
   "source": [
    "import pandas as pd\n",
    "import numpy as np\n",
    "import matplotlib.pyplot as plt\n",
    "import seaborn as sns"
   ]
  },
  {
   "cell_type": "code",
   "execution_count": 414,
   "id": "f35aa44d-179c-4457-9eb5-16ee88cdfce7",
   "metadata": {},
   "outputs": [
    {
     "data": {
      "text/html": [
       "<div>\n",
       "<style scoped>\n",
       "    .dataframe tbody tr th:only-of-type {\n",
       "        vertical-align: middle;\n",
       "    }\n",
       "\n",
       "    .dataframe tbody tr th {\n",
       "        vertical-align: top;\n",
       "    }\n",
       "\n",
       "    .dataframe thead th {\n",
       "        text-align: right;\n",
       "    }\n",
       "</style>\n",
       "<table border=\"1\" class=\"dataframe\">\n",
       "  <thead>\n",
       "    <tr style=\"text-align: right;\">\n",
       "      <th></th>\n",
       "      <th>listing_id</th>\n",
       "      <th>id</th>\n",
       "      <th>date</th>\n",
       "      <th>reviewer_id</th>\n",
       "      <th>reviewer_name</th>\n",
       "      <th>comments</th>\n",
       "    </tr>\n",
       "  </thead>\n",
       "  <tbody>\n",
       "    <tr>\n",
       "      <th>0</th>\n",
       "      <td>3781</td>\n",
       "      <td>37776825</td>\n",
       "      <td>2015-07-10</td>\n",
       "      <td>36059247</td>\n",
       "      <td>Greg</td>\n",
       "      <td>The apartment was as advertised and Frank was ...</td>\n",
       "    </tr>\n",
       "    <tr>\n",
       "      <th>1</th>\n",
       "      <td>3781</td>\n",
       "      <td>41842494</td>\n",
       "      <td>2015-08-09</td>\n",
       "      <td>10459388</td>\n",
       "      <td>Tai</td>\n",
       "      <td>It was a pleasure to stay at Frank's place. Th...</td>\n",
       "    </tr>\n",
       "    <tr>\n",
       "      <th>2</th>\n",
       "      <td>3781</td>\n",
       "      <td>45282151</td>\n",
       "      <td>2015-09-01</td>\n",
       "      <td>12264652</td>\n",
       "      <td>Damien</td>\n",
       "      <td>The apartment description is entirely faithful...</td>\n",
       "    </tr>\n",
       "    <tr>\n",
       "      <th>3</th>\n",
       "      <td>3781</td>\n",
       "      <td>49022647</td>\n",
       "      <td>2015-09-30</td>\n",
       "      <td>41426327</td>\n",
       "      <td>Mike</td>\n",
       "      <td>Thoroughly enjoyed my time at Frank's home. Ha...</td>\n",
       "    </tr>\n",
       "    <tr>\n",
       "      <th>4</th>\n",
       "      <td>3781</td>\n",
       "      <td>52503327</td>\n",
       "      <td>2015-10-30</td>\n",
       "      <td>15151513</td>\n",
       "      <td>Ivan</td>\n",
       "      <td>Great value for the money! This location has e...</td>\n",
       "    </tr>\n",
       "  </tbody>\n",
       "</table>\n",
       "</div>"
      ],
      "text/plain": [
       "   listing_id        id        date  reviewer_id reviewer_name  \\\n",
       "0        3781  37776825  2015-07-10     36059247          Greg   \n",
       "1        3781  41842494  2015-08-09     10459388           Tai   \n",
       "2        3781  45282151  2015-09-01     12264652        Damien   \n",
       "3        3781  49022647  2015-09-30     41426327          Mike   \n",
       "4        3781  52503327  2015-10-30     15151513          Ivan   \n",
       "\n",
       "                                            comments  \n",
       "0  The apartment was as advertised and Frank was ...  \n",
       "1  It was a pleasure to stay at Frank's place. Th...  \n",
       "2  The apartment description is entirely faithful...  \n",
       "3  Thoroughly enjoyed my time at Frank's home. Ha...  \n",
       "4  Great value for the money! This location has e...  "
      ]
     },
     "execution_count": 414,
     "metadata": {},
     "output_type": "execute_result"
    }
   ],
   "source": [
    "df = pd.read_csv('../data/reviews.csv')\n",
    "df.head()"
   ]
  },
  {
   "cell_type": "code",
   "execution_count": 527,
   "id": "55089cf8-0675-4b88-befe-9f7c7116481b",
   "metadata": {},
   "outputs": [
    {
     "data": {
      "text/plain": [
       "(162916, 6)"
      ]
     },
     "execution_count": 527,
     "metadata": {},
     "output_type": "execute_result"
    }
   ],
   "source": [
    "df.shape"
   ]
  },
  {
   "cell_type": "code",
   "execution_count": 416,
   "id": "5d16fe0b-04ee-4fca-a6fa-2252bf0a8125",
   "metadata": {},
   "outputs": [
    {
     "data": {
      "text/plain": [
       "2741"
      ]
     },
     "execution_count": 416,
     "metadata": {},
     "output_type": "execute_result"
    }
   ],
   "source": [
    "df['listing_id'].nunique()"
   ]
  },
  {
   "cell_type": "code",
   "execution_count": 417,
   "id": "72da51e1-1bae-446e-9c04-84abb7f8a6b1",
   "metadata": {},
   "outputs": [
    {
     "data": {
      "text/plain": [
       "2741"
      ]
     },
     "execution_count": 417,
     "metadata": {},
     "output_type": "execute_result"
    }
   ],
   "source": [
    "df['listing_id'].nunique()"
   ]
  },
  {
   "cell_type": "code",
   "execution_count": 418,
   "id": "6b636a5b-81aa-49fc-968b-676ca72b555b",
   "metadata": {},
   "outputs": [
    {
     "data": {
      "text/plain": [
       "\"We had a wonderful stay at Atef's place.  \\r<br/>Charming and nit apartment, convenient location and beautiful neighborhood. But above all, Atef's hospitality was beyond all of our expectations. Kind, pleasant, and helpful. \\r<br/>\\r<br/>We certainly recommend and hope to come back. \""
      ]
     },
     "execution_count": 418,
     "metadata": {},
     "output_type": "execute_result"
    }
   ],
   "source": [
    "df['comments'][2250]"
   ]
  },
  {
   "cell_type": "code",
   "execution_count": null,
   "id": "d6e98181-deb4-4154-b7b2-34a090223a40",
   "metadata": {},
   "outputs": [],
   "source": []
  },
  {
   "cell_type": "code",
   "execution_count": null,
   "id": "4a99d7fa-dda1-4a9a-a366-1d4874259036",
   "metadata": {},
   "outputs": [],
   "source": []
  },
  {
   "cell_type": "markdown",
   "id": "7e1310c6-0437-4117-9a23-a9e00f667c04",
   "metadata": {},
   "source": [
    "# Quick Look at the Listings Data"
   ]
  },
  {
   "cell_type": "code",
   "execution_count": 419,
   "id": "19aa763c-18d8-47ab-9153-7001eae9068e",
   "metadata": {},
   "outputs": [
    {
     "data": {
      "text/html": [
       "<div>\n",
       "<style scoped>\n",
       "    .dataframe tbody tr th:only-of-type {\n",
       "        vertical-align: middle;\n",
       "    }\n",
       "\n",
       "    .dataframe tbody tr th {\n",
       "        vertical-align: top;\n",
       "    }\n",
       "\n",
       "    .dataframe thead th {\n",
       "        text-align: right;\n",
       "    }\n",
       "</style>\n",
       "<table border=\"1\" class=\"dataframe\">\n",
       "  <thead>\n",
       "    <tr style=\"text-align: right;\">\n",
       "      <th></th>\n",
       "      <th>id</th>\n",
       "      <th>listing_url</th>\n",
       "      <th>scrape_id</th>\n",
       "      <th>last_scraped</th>\n",
       "      <th>source</th>\n",
       "      <th>name</th>\n",
       "      <th>description</th>\n",
       "      <th>neighborhood_overview</th>\n",
       "      <th>picture_url</th>\n",
       "      <th>host_id</th>\n",
       "      <th>...</th>\n",
       "      <th>review_scores_communication</th>\n",
       "      <th>review_scores_location</th>\n",
       "      <th>review_scores_value</th>\n",
       "      <th>license</th>\n",
       "      <th>instant_bookable</th>\n",
       "      <th>calculated_host_listings_count</th>\n",
       "      <th>calculated_host_listings_count_entire_homes</th>\n",
       "      <th>calculated_host_listings_count_private_rooms</th>\n",
       "      <th>calculated_host_listings_count_shared_rooms</th>\n",
       "      <th>reviews_per_month</th>\n",
       "    </tr>\n",
       "  </thead>\n",
       "  <tbody>\n",
       "    <tr>\n",
       "      <th>0</th>\n",
       "      <td>3781</td>\n",
       "      <td>https://www.airbnb.com/rooms/3781</td>\n",
       "      <td>20230319180919</td>\n",
       "      <td>2023-03-19</td>\n",
       "      <td>city scrape</td>\n",
       "      <td>HARBORSIDE-Walk to subway</td>\n",
       "      <td>Fully separate apartment in a two apartment bu...</td>\n",
       "      <td>Mostly quiet ( no loud music, no crowed sidewa...</td>\n",
       "      <td>https://a0.muscache.com/pictures/24670/b2de044...</td>\n",
       "      <td>4804</td>\n",
       "      <td>...</td>\n",
       "      <td>4.96</td>\n",
       "      <td>4.88</td>\n",
       "      <td>4.92</td>\n",
       "      <td>NaN</td>\n",
       "      <td>f</td>\n",
       "      <td>1</td>\n",
       "      <td>1</td>\n",
       "      <td>0</td>\n",
       "      <td>0</td>\n",
       "      <td>0.26</td>\n",
       "    </tr>\n",
       "    <tr>\n",
       "      <th>1</th>\n",
       "      <td>5506</td>\n",
       "      <td>https://www.airbnb.com/rooms/5506</td>\n",
       "      <td>20230319180919</td>\n",
       "      <td>2023-03-19</td>\n",
       "      <td>city scrape</td>\n",
       "      <td>** Fort Hill Inn Private! Minutes to center!**</td>\n",
       "      <td>Private guest room with private bath, You do n...</td>\n",
       "      <td>Peaceful, Architecturally interesting, histori...</td>\n",
       "      <td>https://a0.muscache.com/pictures/miso/Hosting-...</td>\n",
       "      <td>8229</td>\n",
       "      <td>...</td>\n",
       "      <td>4.88</td>\n",
       "      <td>4.53</td>\n",
       "      <td>4.74</td>\n",
       "      <td>Approved by the government</td>\n",
       "      <td>f</td>\n",
       "      <td>10</td>\n",
       "      <td>10</td>\n",
       "      <td>0</td>\n",
       "      <td>0</td>\n",
       "      <td>0.69</td>\n",
       "    </tr>\n",
       "    <tr>\n",
       "      <th>2</th>\n",
       "      <td>6695</td>\n",
       "      <td>https://www.airbnb.com/rooms/6695</td>\n",
       "      <td>20230319180919</td>\n",
       "      <td>2023-03-19</td>\n",
       "      <td>city scrape</td>\n",
       "      <td>Fort Hill Inn *Sunny* 1 bedroom, condo duplex</td>\n",
       "      <td>Comfortable,  Fully Equipped private apartment...</td>\n",
       "      <td>Peaceful, Architecturally interesting, histori...</td>\n",
       "      <td>https://a0.muscache.com/pictures/38ac4797-e7a4...</td>\n",
       "      <td>8229</td>\n",
       "      <td>...</td>\n",
       "      <td>4.96</td>\n",
       "      <td>4.50</td>\n",
       "      <td>4.72</td>\n",
       "      <td>STR446650</td>\n",
       "      <td>f</td>\n",
       "      <td>10</td>\n",
       "      <td>10</td>\n",
       "      <td>0</td>\n",
       "      <td>0</td>\n",
       "      <td>0.74</td>\n",
       "    </tr>\n",
       "    <tr>\n",
       "      <th>3</th>\n",
       "      <td>8789</td>\n",
       "      <td>https://www.airbnb.com/rooms/8789</td>\n",
       "      <td>20230319180919</td>\n",
       "      <td>2023-03-20</td>\n",
       "      <td>city scrape</td>\n",
       "      <td>Curved Glass Studio/1bd facing Park</td>\n",
       "      <td>This unit is for sale. There will need to be o...</td>\n",
       "      <td>Beacon Hill is a historic neighborhood filled ...</td>\n",
       "      <td>https://a0.muscache.com/pictures/miso/Hosting-...</td>\n",
       "      <td>26988</td>\n",
       "      <td>...</td>\n",
       "      <td>4.96</td>\n",
       "      <td>4.96</td>\n",
       "      <td>4.56</td>\n",
       "      <td>NaN</td>\n",
       "      <td>f</td>\n",
       "      <td>7</td>\n",
       "      <td>7</td>\n",
       "      <td>0</td>\n",
       "      <td>0</td>\n",
       "      <td>0.24</td>\n",
       "    </tr>\n",
       "    <tr>\n",
       "      <th>4</th>\n",
       "      <td>4765070</td>\n",
       "      <td>https://www.airbnb.com/rooms/4765070</td>\n",
       "      <td>20230319180919</td>\n",
       "      <td>2023-03-19</td>\n",
       "      <td>city scrape</td>\n",
       "      <td>Studio w/ private entrance and bathroom</td>\n",
       "      <td>Private Studio located in Boston (town of Jama...</td>\n",
       "      <td>Jamaica Plain (JP) is an open, artsy, hip neig...</td>\n",
       "      <td>https://a0.muscache.com/pictures/miso/Hosting-...</td>\n",
       "      <td>24584716</td>\n",
       "      <td>...</td>\n",
       "      <td>4.85</td>\n",
       "      <td>4.48</td>\n",
       "      <td>4.69</td>\n",
       "      <td>str-416042</td>\n",
       "      <td>t</td>\n",
       "      <td>1</td>\n",
       "      <td>1</td>\n",
       "      <td>0</td>\n",
       "      <td>0</td>\n",
       "      <td>3.77</td>\n",
       "    </tr>\n",
       "  </tbody>\n",
       "</table>\n",
       "<p>5 rows × 75 columns</p>\n",
       "</div>"
      ],
      "text/plain": [
       "        id                           listing_url       scrape_id last_scraped  \\\n",
       "0     3781     https://www.airbnb.com/rooms/3781  20230319180919   2023-03-19   \n",
       "1     5506     https://www.airbnb.com/rooms/5506  20230319180919   2023-03-19   \n",
       "2     6695     https://www.airbnb.com/rooms/6695  20230319180919   2023-03-19   \n",
       "3     8789     https://www.airbnb.com/rooms/8789  20230319180919   2023-03-20   \n",
       "4  4765070  https://www.airbnb.com/rooms/4765070  20230319180919   2023-03-19   \n",
       "\n",
       "        source                                            name  \\\n",
       "0  city scrape                       HARBORSIDE-Walk to subway   \n",
       "1  city scrape  ** Fort Hill Inn Private! Minutes to center!**   \n",
       "2  city scrape   Fort Hill Inn *Sunny* 1 bedroom, condo duplex   \n",
       "3  city scrape             Curved Glass Studio/1bd facing Park   \n",
       "4  city scrape         Studio w/ private entrance and bathroom   \n",
       "\n",
       "                                         description  \\\n",
       "0  Fully separate apartment in a two apartment bu...   \n",
       "1  Private guest room with private bath, You do n...   \n",
       "2  Comfortable,  Fully Equipped private apartment...   \n",
       "3  This unit is for sale. There will need to be o...   \n",
       "4  Private Studio located in Boston (town of Jama...   \n",
       "\n",
       "                               neighborhood_overview  \\\n",
       "0  Mostly quiet ( no loud music, no crowed sidewa...   \n",
       "1  Peaceful, Architecturally interesting, histori...   \n",
       "2  Peaceful, Architecturally interesting, histori...   \n",
       "3  Beacon Hill is a historic neighborhood filled ...   \n",
       "4  Jamaica Plain (JP) is an open, artsy, hip neig...   \n",
       "\n",
       "                                         picture_url   host_id  ...  \\\n",
       "0  https://a0.muscache.com/pictures/24670/b2de044...      4804  ...   \n",
       "1  https://a0.muscache.com/pictures/miso/Hosting-...      8229  ...   \n",
       "2  https://a0.muscache.com/pictures/38ac4797-e7a4...      8229  ...   \n",
       "3  https://a0.muscache.com/pictures/miso/Hosting-...     26988  ...   \n",
       "4  https://a0.muscache.com/pictures/miso/Hosting-...  24584716  ...   \n",
       "\n",
       "  review_scores_communication review_scores_location review_scores_value  \\\n",
       "0                        4.96                   4.88                4.92   \n",
       "1                        4.88                   4.53                4.74   \n",
       "2                        4.96                   4.50                4.72   \n",
       "3                        4.96                   4.96                4.56   \n",
       "4                        4.85                   4.48                4.69   \n",
       "\n",
       "                      license instant_bookable calculated_host_listings_count  \\\n",
       "0                         NaN                f                              1   \n",
       "1  Approved by the government                f                             10   \n",
       "2                   STR446650                f                             10   \n",
       "3                         NaN                f                              7   \n",
       "4                  str-416042                t                              1   \n",
       "\n",
       "  calculated_host_listings_count_entire_homes  \\\n",
       "0                                           1   \n",
       "1                                          10   \n",
       "2                                          10   \n",
       "3                                           7   \n",
       "4                                           1   \n",
       "\n",
       "  calculated_host_listings_count_private_rooms  \\\n",
       "0                                            0   \n",
       "1                                            0   \n",
       "2                                            0   \n",
       "3                                            0   \n",
       "4                                            0   \n",
       "\n",
       "  calculated_host_listings_count_shared_rooms reviews_per_month  \n",
       "0                                           0              0.26  \n",
       "1                                           0              0.69  \n",
       "2                                           0              0.74  \n",
       "3                                           0              0.24  \n",
       "4                                           0              3.77  \n",
       "\n",
       "[5 rows x 75 columns]"
      ]
     },
     "execution_count": 419,
     "metadata": {},
     "output_type": "execute_result"
    }
   ],
   "source": [
    "listings = pd.read_csv('../data/listings.csv')\n",
    "listings.head()"
   ]
  },
  {
   "cell_type": "code",
   "execution_count": 420,
   "id": "f4482235-599f-43d1-9c3b-63ee69a09152",
   "metadata": {},
   "outputs": [
    {
     "data": {
      "text/plain": [
       "(3864, 75)"
      ]
     },
     "execution_count": 420,
     "metadata": {},
     "output_type": "execute_result"
    }
   ],
   "source": [
    "listings.shape"
   ]
  },
  {
   "cell_type": "code",
   "execution_count": 421,
   "id": "fb3648dd-0a31-456d-8f33-fff887cf8e12",
   "metadata": {},
   "outputs": [
    {
     "name": "stdout",
     "output_type": "stream",
     "text": [
      "<class 'pandas.core.frame.DataFrame'>\n",
      "RangeIndex: 3864 entries, 0 to 3863\n",
      "Data columns (total 75 columns):\n",
      " #   Column                                        Non-Null Count  Dtype  \n",
      "---  ------                                        --------------  -----  \n",
      " 0   id                                            3864 non-null   int64  \n",
      " 1   listing_url                                   3864 non-null   object \n",
      " 2   scrape_id                                     3864 non-null   int64  \n",
      " 3   last_scraped                                  3864 non-null   object \n",
      " 4   source                                        3864 non-null   object \n",
      " 5   name                                          3864 non-null   object \n",
      " 6   description                                   3846 non-null   object \n",
      " 7   neighborhood_overview                         2497 non-null   object \n",
      " 8   picture_url                                   3864 non-null   object \n",
      " 9   host_id                                       3864 non-null   int64  \n",
      " 10  host_url                                      3864 non-null   object \n",
      " 11  host_name                                     3864 non-null   object \n",
      " 12  host_since                                    3864 non-null   object \n",
      " 13  host_location                                 2982 non-null   object \n",
      " 14  host_about                                    2740 non-null   object \n",
      " 15  host_response_time                            3344 non-null   object \n",
      " 16  host_response_rate                            3344 non-null   object \n",
      " 17  host_acceptance_rate                          3405 non-null   object \n",
      " 18  host_is_superhost                             3862 non-null   object \n",
      " 19  host_thumbnail_url                            3864 non-null   object \n",
      " 20  host_picture_url                              3864 non-null   object \n",
      " 21  host_neighbourhood                            3735 non-null   object \n",
      " 22  host_listings_count                           3864 non-null   int64  \n",
      " 23  host_total_listings_count                     3864 non-null   int64  \n",
      " 24  host_verifications                            3864 non-null   object \n",
      " 25  host_has_profile_pic                          3864 non-null   object \n",
      " 26  host_identity_verified                        3864 non-null   object \n",
      " 27  neighbourhood                                 2497 non-null   object \n",
      " 28  neighbourhood_cleansed                        3864 non-null   object \n",
      " 29  neighbourhood_group_cleansed                  0 non-null      float64\n",
      " 30  latitude                                      3864 non-null   float64\n",
      " 31  longitude                                     3864 non-null   float64\n",
      " 32  property_type                                 3864 non-null   object \n",
      " 33  room_type                                     3864 non-null   object \n",
      " 34  accommodates                                  3864 non-null   int64  \n",
      " 35  bathrooms                                     0 non-null      float64\n",
      " 36  bathrooms_text                                3862 non-null   object \n",
      " 37  bedrooms                                      3404 non-null   float64\n",
      " 38  beds                                          3784 non-null   float64\n",
      " 39  amenities                                     3864 non-null   object \n",
      " 40  price                                         3864 non-null   object \n",
      " 41  minimum_nights                                3864 non-null   int64  \n",
      " 42  maximum_nights                                3864 non-null   int64  \n",
      " 43  minimum_minimum_nights                        3863 non-null   float64\n",
      " 44  maximum_minimum_nights                        3863 non-null   float64\n",
      " 45  minimum_maximum_nights                        3863 non-null   float64\n",
      " 46  maximum_maximum_nights                        3863 non-null   float64\n",
      " 47  minimum_nights_avg_ntm                        3863 non-null   float64\n",
      " 48  maximum_nights_avg_ntm                        3863 non-null   float64\n",
      " 49  calendar_updated                              0 non-null      float64\n",
      " 50  has_availability                              3864 non-null   object \n",
      " 51  availability_30                               3864 non-null   int64  \n",
      " 52  availability_60                               3864 non-null   int64  \n",
      " 53  availability_90                               3864 non-null   int64  \n",
      " 54  availability_365                              3864 non-null   int64  \n",
      " 55  calendar_last_scraped                         3864 non-null   object \n",
      " 56  number_of_reviews                             3864 non-null   int64  \n",
      " 57  number_of_reviews_ltm                         3864 non-null   int64  \n",
      " 58  number_of_reviews_l30d                        3864 non-null   int64  \n",
      " 59  first_review                                  2741 non-null   object \n",
      " 60  last_review                                   2741 non-null   object \n",
      " 61  review_scores_rating                          2741 non-null   float64\n",
      " 62  review_scores_accuracy                        2733 non-null   float64\n",
      " 63  review_scores_cleanliness                     2734 non-null   float64\n",
      " 64  review_scores_checkin                         2732 non-null   float64\n",
      " 65  review_scores_communication                   2734 non-null   float64\n",
      " 66  review_scores_location                        2732 non-null   float64\n",
      " 67  review_scores_value                           2732 non-null   float64\n",
      " 68  license                                       2305 non-null   object \n",
      " 69  instant_bookable                              3864 non-null   object \n",
      " 70  calculated_host_listings_count                3864 non-null   int64  \n",
      " 71  calculated_host_listings_count_entire_homes   3864 non-null   int64  \n",
      " 72  calculated_host_listings_count_private_rooms  3864 non-null   int64  \n",
      " 73  calculated_host_listings_count_shared_rooms   3864 non-null   int64  \n",
      " 74  reviews_per_month                             2741 non-null   float64\n",
      "dtypes: float64(21), int64(19), object(35)\n",
      "memory usage: 2.2+ MB\n"
     ]
    }
   ],
   "source": [
    "listings.info()"
   ]
  },
  {
   "cell_type": "code",
   "execution_count": 422,
   "id": "3aa50a2b-1434-4e97-87e9-56989d5c8185",
   "metadata": {},
   "outputs": [
    {
     "data": {
      "text/plain": [
       "3864"
      ]
     },
     "execution_count": 422,
     "metadata": {},
     "output_type": "execute_result"
    }
   ],
   "source": [
    "listings['id'].nunique()"
   ]
  },
  {
   "cell_type": "code",
   "execution_count": 423,
   "id": "ad0cca8b-9675-4661-a983-6a4970d36dbe",
   "metadata": {},
   "outputs": [
    {
     "data": {
      "image/png": "[encoded data removed]",
      "text/plain": [
       "<Figure size 640x480 with 1 Axes>"
      ]
     },
     "metadata": {},
     "output_type": "display_data"
    }
   ],
   "source": [
    "plt.hist(listings[['availability_365']], bins = 365, log = True);"
   ]
  },
  {
   "cell_type": "code",
   "execution_count": 424,
   "id": "48cbb3b5-e175-4359-93e7-68c1cc86af1e",
   "metadata": {},
   "outputs": [
    {
     "data": {
      "text/plain": [
       "Index(['id', 'listing_url', 'scrape_id', 'last_scraped', 'source', 'name',\n",
       "       'description', 'neighborhood_overview', 'picture_url', 'host_id',\n",
       "       'host_url', 'host_name', 'host_since', 'host_location', 'host_about',\n",
       "       'host_response_time', 'host_response_rate', 'host_acceptance_rate',\n",
       "       'host_is_superhost', 'host_thumbnail_url', 'host_picture_url',\n",
       "       'host_neighbourhood', 'host_listings_count',\n",
       "       'host_total_listings_count', 'host_verifications',\n",
       "       'host_has_profile_pic', 'host_identity_verified', 'neighbourhood',\n",
       "       'neighbourhood_cleansed', 'neighbourhood_group_cleansed', 'latitude',\n",
       "       'longitude', 'property_type', 'room_type', 'accommodates', 'bathrooms',\n",
       "       'bathrooms_text', 'bedrooms', 'beds', 'amenities', 'price',\n",
       "       'minimum_nights', 'maximum_nights', 'minimum_minimum_nights',\n",
       "       'maximum_minimum_nights', 'minimum_maximum_nights',\n",
       "       'maximum_maximum_nights', 'minimum_nights_avg_ntm',\n",
       "       'maximum_nights_avg_ntm', 'calendar_updated', 'has_availability',\n",
       "       'availability_30', 'availability_60', 'availability_90',\n",
       "       'availability_365', 'calendar_last_scraped', 'number_of_reviews',\n",
       "       'number_of_reviews_ltm', 'number_of_reviews_l30d', 'first_review',\n",
       "       'last_review', 'review_scores_rating', 'review_scores_accuracy',\n",
       "       'review_scores_cleanliness', 'review_scores_checkin',\n",
       "       'review_scores_communication', 'review_scores_location',\n",
       "       'review_scores_value', 'license', 'instant_bookable',\n",
       "       'calculated_host_listings_count',\n",
       "       'calculated_host_listings_count_entire_homes',\n",
       "       'calculated_host_listings_count_private_rooms',\n",
       "       'calculated_host_listings_count_shared_rooms', 'reviews_per_month'],\n",
       "      dtype='object')"
      ]
     },
     "execution_count": 424,
     "metadata": {},
     "output_type": "execute_result"
    }
   ],
   "source": [
    "listings.columns"
   ]
  },
  {
   "cell_type": "code",
   "execution_count": 425,
   "id": "98092869-b6f5-4024-a694-cbc371c70d08",
   "metadata": {},
   "outputs": [
    {
     "data": {
      "text/html": [
       "<div>\n",
       "<style scoped>\n",
       "    .dataframe tbody tr th:only-of-type {\n",
       "        vertical-align: middle;\n",
       "    }\n",
       "\n",
       "    .dataframe tbody tr th {\n",
       "        vertical-align: top;\n",
       "    }\n",
       "\n",
       "    .dataframe thead th {\n",
       "        text-align: right;\n",
       "    }\n",
       "</style>\n",
       "<table border=\"1\" class=\"dataframe\">\n",
       "  <thead>\n",
       "    <tr style=\"text-align: right;\">\n",
       "      <th></th>\n",
       "      <th>property_type</th>\n",
       "      <th>room_type</th>\n",
       "    </tr>\n",
       "  </thead>\n",
       "  <tbody>\n",
       "    <tr>\n",
       "      <th>0</th>\n",
       "      <td>Entire rental unit</td>\n",
       "      <td>Entire home/apt</td>\n",
       "    </tr>\n",
       "    <tr>\n",
       "      <th>1</th>\n",
       "      <td>Entire guest suite</td>\n",
       "      <td>Entire home/apt</td>\n",
       "    </tr>\n",
       "    <tr>\n",
       "      <th>2</th>\n",
       "      <td>Entire condo</td>\n",
       "      <td>Entire home/apt</td>\n",
       "    </tr>\n",
       "    <tr>\n",
       "      <th>3</th>\n",
       "      <td>Entire rental unit</td>\n",
       "      <td>Entire home/apt</td>\n",
       "    </tr>\n",
       "    <tr>\n",
       "      <th>4</th>\n",
       "      <td>Entire rental unit</td>\n",
       "      <td>Entire home/apt</td>\n",
       "    </tr>\n",
       "    <tr>\n",
       "      <th>...</th>\n",
       "      <td>...</td>\n",
       "      <td>...</td>\n",
       "    </tr>\n",
       "    <tr>\n",
       "      <th>3859</th>\n",
       "      <td>Entire rental unit</td>\n",
       "      <td>Entire home/apt</td>\n",
       "    </tr>\n",
       "    <tr>\n",
       "      <th>3860</th>\n",
       "      <td>Private room in home</td>\n",
       "      <td>Private room</td>\n",
       "    </tr>\n",
       "    <tr>\n",
       "      <th>3861</th>\n",
       "      <td>Private room in rental unit</td>\n",
       "      <td>Private room</td>\n",
       "    </tr>\n",
       "    <tr>\n",
       "      <th>3862</th>\n",
       "      <td>Private room in home</td>\n",
       "      <td>Private room</td>\n",
       "    </tr>\n",
       "    <tr>\n",
       "      <th>3863</th>\n",
       "      <td>Entire condo</td>\n",
       "      <td>Entire home/apt</td>\n",
       "    </tr>\n",
       "  </tbody>\n",
       "</table>\n",
       "<p>3864 rows × 2 columns</p>\n",
       "</div>"
      ],
      "text/plain": [
       "                    property_type        room_type\n",
       "0              Entire rental unit  Entire home/apt\n",
       "1              Entire guest suite  Entire home/apt\n",
       "2                    Entire condo  Entire home/apt\n",
       "3              Entire rental unit  Entire home/apt\n",
       "4              Entire rental unit  Entire home/apt\n",
       "...                           ...              ...\n",
       "3859           Entire rental unit  Entire home/apt\n",
       "3860         Private room in home     Private room\n",
       "3861  Private room in rental unit     Private room\n",
       "3862         Private room in home     Private room\n",
       "3863                 Entire condo  Entire home/apt\n",
       "\n",
       "[3864 rows x 2 columns]"
      ]
     },
     "execution_count": 425,
     "metadata": {},
     "output_type": "execute_result"
    }
   ],
   "source": [
    "listings[['property_type', 'room_type']]"
   ]
  },
  {
   "cell_type": "code",
   "execution_count": 426,
   "id": "008a92cd-e367-4b42-b308-281d42897599",
   "metadata": {},
   "outputs": [
    {
     "data": {
      "text/plain": [
       "property_type                     \n",
       "Entire rental unit                    1696\n",
       "Private room in rental unit            726\n",
       "Entire condo                           356\n",
       "Private room in home                   314\n",
       "Entire serviced apartment              194\n",
       "Entire home                            149\n",
       "Private room in condo                   74\n",
       "Entire guest suite                      56\n",
       "Room in boutique hotel                  49\n",
       "Private room in townhouse               45\n",
       "Entire townhouse                        42\n",
       "Private room in bed and breakfast       40\n",
       "Room in hotel                           24\n",
       "Entire loft                             17\n",
       "Private room in guest suite             14\n",
       "Private room in serviced apartment      12\n",
       "Shared room in home                      7\n",
       "Private room in loft                     6\n",
       "Boat                                     6\n",
       "Entire place                             5\n",
       "Shared room in rental unit               4\n",
       "Private room in vacation home            3\n",
       "Private room in guesthouse               3\n",
       "Private room in casa particular          3\n",
       "Entire guesthouse                        3\n",
       "Private room in bungalow                 2\n",
       "Houseboat                                2\n",
       "Private room in minsu                    1\n",
       "Private room in hostel                   1\n",
       "Casa particular                          1\n",
       "Private room in villa                    1\n",
       "Room in aparthotel                       1\n",
       "Private room                             1\n",
       "Shared room in bed and breakfast         1\n",
       "Shared room in boutique hotel            1\n",
       "Shared room in condo                     1\n",
       "Entire vacation home                     1\n",
       "Shared room in townhouse                 1\n",
       "Shared room in vacation home             1\n",
       "dtype: int64"
      ]
     },
     "execution_count": 426,
     "metadata": {},
     "output_type": "execute_result"
    }
   ],
   "source": [
    "listings[['property_type']].value_counts()"
   ]
  },
  {
   "cell_type": "code",
   "execution_count": 427,
   "id": "feb7d6d3-2a6f-4da2-9bbb-a84f5a3479f6",
   "metadata": {},
   "outputs": [
    {
     "data": {
      "text/plain": [
       "0       4.96\n",
       "1       4.79\n",
       "2       4.81\n",
       "3       4.64\n",
       "4       4.63\n",
       "        ... \n",
       "3859    4.41\n",
       "3860    4.71\n",
       "3861    4.62\n",
       "3862    4.69\n",
       "3863    4.90\n",
       "Name: review_scores_rating, Length: 3864, dtype: float64"
      ]
     },
     "execution_count": 427,
     "metadata": {},
     "output_type": "execute_result"
    }
   ],
   "source": [
    "listings['review_scores_rating']"
   ]
  },
  {
   "cell_type": "code",
   "execution_count": 428,
   "id": "03a05738-5185-4cdf-a288-04e40dcbdce0",
   "metadata": {},
   "outputs": [
    {
     "data": {
      "text/plain": [
       "room_type      \n",
       "Entire home/apt    2528\n",
       "Private room       1299\n",
       "Hotel room           21\n",
       "Shared room          16\n",
       "dtype: int64"
      ]
     },
     "execution_count": 428,
     "metadata": {},
     "output_type": "execute_result"
    }
   ],
   "source": [
    "listings[['room_type']].value_counts()"
   ]
  },
  {
   "cell_type": "code",
   "execution_count": 429,
   "id": "b7d02fce-ee51-4044-b677-d8f27ebdbf92",
   "metadata": {},
   "outputs": [
    {
     "data": {
      "text/plain": [
       "0       [\"Wifi\", \"Stove\", \"Kitchen\", \"Dishwasher\", \"Fr...\n",
       "1       [\"Wifi\", \"Keypad\", \"Free street parking\", \"Fir...\n",
       "2       [\"Wifi\", \"Stove\", \"Keypad\", \"Kitchen\", \"Dishwa...\n",
       "3       [\"Wifi\", \"Stove\", \"Kitchen\", \"Refrigerator\", \"...\n",
       "4       [\"Wifi\", \"Kitchen\", \"Window AC unit\", \"Free st...\n",
       "                              ...                        \n",
       "3859    [\"Wifi\", \"TV with standard cable\", \"Carbon mon...\n",
       "3860    [\"Wifi\", \"City skyline view\", \"Kitchen\", \"Dish...\n",
       "3861    [\"Wifi\", \"Stove\", \"Kitchen\", \"Dishwasher\", \"Fr...\n",
       "3862    [\"Wifi\", \"Keypad\", \"Free street parking\", \"Loc...\n",
       "3863    [\"Wifi\", \"Public or shared beach access\", \"Kit...\n",
       "Name: amenities, Length: 3864, dtype: object"
      ]
     },
     "execution_count": 429,
     "metadata": {},
     "output_type": "execute_result"
    }
   ],
   "source": [
    "listings['amenities']"
   ]
  },
  {
   "cell_type": "code",
   "execution_count": 430,
   "id": "35966ea4-0ad5-4e76-b000-347f72cd0a94",
   "metadata": {},
   "outputs": [
    {
     "data": {
      "text/html": [
       "<div>\n",
       "<style scoped>\n",
       "    .dataframe tbody tr th:only-of-type {\n",
       "        vertical-align: middle;\n",
       "    }\n",
       "\n",
       "    .dataframe tbody tr th {\n",
       "        vertical-align: top;\n",
       "    }\n",
       "\n",
       "    .dataframe thead th {\n",
       "        text-align: right;\n",
       "    }\n",
       "</style>\n",
       "<table border=\"1\" class=\"dataframe\">\n",
       "  <thead>\n",
       "    <tr style=\"text-align: right;\">\n",
       "      <th></th>\n",
       "      <th>number_of_reviews</th>\n",
       "      <th>number_of_reviews_ltm</th>\n",
       "      <th>number_of_reviews_l30d</th>\n",
       "      <th>first_review</th>\n",
       "      <th>last_review</th>\n",
       "      <th>review_scores_rating</th>\n",
       "      <th>review_scores_accuracy</th>\n",
       "      <th>review_scores_cleanliness</th>\n",
       "      <th>review_scores_checkin</th>\n",
       "      <th>review_scores_communication</th>\n",
       "      <th>review_scores_location</th>\n",
       "      <th>review_scores_value</th>\n",
       "    </tr>\n",
       "  </thead>\n",
       "  <tbody>\n",
       "    <tr>\n",
       "      <th>0</th>\n",
       "      <td>24</td>\n",
       "      <td>2</td>\n",
       "      <td>0</td>\n",
       "      <td>2015-07-10</td>\n",
       "      <td>2022-09-05</td>\n",
       "      <td>4.96</td>\n",
       "      <td>5.00</td>\n",
       "      <td>4.96</td>\n",
       "      <td>5.00</td>\n",
       "      <td>4.96</td>\n",
       "      <td>4.88</td>\n",
       "      <td>4.92</td>\n",
       "    </tr>\n",
       "    <tr>\n",
       "      <th>1</th>\n",
       "      <td>118</td>\n",
       "      <td>8</td>\n",
       "      <td>0</td>\n",
       "      <td>2009-03-21</td>\n",
       "      <td>2022-12-05</td>\n",
       "      <td>4.79</td>\n",
       "      <td>4.87</td>\n",
       "      <td>4.89</td>\n",
       "      <td>4.95</td>\n",
       "      <td>4.88</td>\n",
       "      <td>4.53</td>\n",
       "      <td>4.74</td>\n",
       "    </tr>\n",
       "    <tr>\n",
       "      <th>2</th>\n",
       "      <td>123</td>\n",
       "      <td>7</td>\n",
       "      <td>0</td>\n",
       "      <td>2009-08-06</td>\n",
       "      <td>2022-11-18</td>\n",
       "      <td>4.81</td>\n",
       "      <td>4.83</td>\n",
       "      <td>4.87</td>\n",
       "      <td>4.91</td>\n",
       "      <td>4.96</td>\n",
       "      <td>4.50</td>\n",
       "      <td>4.72</td>\n",
       "    </tr>\n",
       "    <tr>\n",
       "      <th>3</th>\n",
       "      <td>25</td>\n",
       "      <td>0</td>\n",
       "      <td>0</td>\n",
       "      <td>2014-08-12</td>\n",
       "      <td>2020-04-15</td>\n",
       "      <td>4.64</td>\n",
       "      <td>4.68</td>\n",
       "      <td>4.56</td>\n",
       "      <td>4.96</td>\n",
       "      <td>4.96</td>\n",
       "      <td>4.96</td>\n",
       "      <td>4.56</td>\n",
       "    </tr>\n",
       "    <tr>\n",
       "      <th>4</th>\n",
       "      <td>377</td>\n",
       "      <td>22</td>\n",
       "      <td>2</td>\n",
       "      <td>2015-01-01</td>\n",
       "      <td>2023-03-04</td>\n",
       "      <td>4.63</td>\n",
       "      <td>4.76</td>\n",
       "      <td>4.81</td>\n",
       "      <td>4.87</td>\n",
       "      <td>4.85</td>\n",
       "      <td>4.48</td>\n",
       "      <td>4.69</td>\n",
       "    </tr>\n",
       "    <tr>\n",
       "      <th>...</th>\n",
       "      <td>...</td>\n",
       "      <td>...</td>\n",
       "      <td>...</td>\n",
       "      <td>...</td>\n",
       "      <td>...</td>\n",
       "      <td>...</td>\n",
       "      <td>...</td>\n",
       "      <td>...</td>\n",
       "      <td>...</td>\n",
       "      <td>...</td>\n",
       "      <td>...</td>\n",
       "      <td>...</td>\n",
       "    </tr>\n",
       "    <tr>\n",
       "      <th>3859</th>\n",
       "      <td>105</td>\n",
       "      <td>0</td>\n",
       "      <td>0</td>\n",
       "      <td>2014-01-18</td>\n",
       "      <td>2019-05-20</td>\n",
       "      <td>4.41</td>\n",
       "      <td>4.54</td>\n",
       "      <td>4.43</td>\n",
       "      <td>4.65</td>\n",
       "      <td>4.70</td>\n",
       "      <td>4.42</td>\n",
       "      <td>4.41</td>\n",
       "    </tr>\n",
       "    <tr>\n",
       "      <th>3860</th>\n",
       "      <td>177</td>\n",
       "      <td>25</td>\n",
       "      <td>1</td>\n",
       "      <td>2014-07-01</td>\n",
       "      <td>2023-03-16</td>\n",
       "      <td>4.71</td>\n",
       "      <td>4.76</td>\n",
       "      <td>4.73</td>\n",
       "      <td>4.87</td>\n",
       "      <td>4.86</td>\n",
       "      <td>4.59</td>\n",
       "      <td>4.67</td>\n",
       "    </tr>\n",
       "    <tr>\n",
       "      <th>3861</th>\n",
       "      <td>38</td>\n",
       "      <td>0</td>\n",
       "      <td>0</td>\n",
       "      <td>2013-12-16</td>\n",
       "      <td>2019-09-02</td>\n",
       "      <td>4.62</td>\n",
       "      <td>4.81</td>\n",
       "      <td>4.58</td>\n",
       "      <td>4.83</td>\n",
       "      <td>4.86</td>\n",
       "      <td>4.56</td>\n",
       "      <td>4.36</td>\n",
       "    </tr>\n",
       "    <tr>\n",
       "      <th>3862</th>\n",
       "      <td>280</td>\n",
       "      <td>38</td>\n",
       "      <td>1</td>\n",
       "      <td>2014-06-21</td>\n",
       "      <td>2023-02-20</td>\n",
       "      <td>4.69</td>\n",
       "      <td>4.75</td>\n",
       "      <td>4.70</td>\n",
       "      <td>4.89</td>\n",
       "      <td>4.80</td>\n",
       "      <td>4.72</td>\n",
       "      <td>4.71</td>\n",
       "    </tr>\n",
       "    <tr>\n",
       "      <th>3863</th>\n",
       "      <td>10</td>\n",
       "      <td>2</td>\n",
       "      <td>1</td>\n",
       "      <td>2016-07-22</td>\n",
       "      <td>2023-03-12</td>\n",
       "      <td>4.90</td>\n",
       "      <td>5.00</td>\n",
       "      <td>4.80</td>\n",
       "      <td>5.00</td>\n",
       "      <td>5.00</td>\n",
       "      <td>4.90</td>\n",
       "      <td>4.50</td>\n",
       "    </tr>\n",
       "  </tbody>\n",
       "</table>\n",
       "<p>3864 rows × 12 columns</p>\n",
       "</div>"
      ],
      "text/plain": [
       "      number_of_reviews  number_of_reviews_ltm  number_of_reviews_l30d  \\\n",
       "0                    24                      2                       0   \n",
       "1                   118                      8                       0   \n",
       "2                   123                      7                       0   \n",
       "3                    25                      0                       0   \n",
       "4                   377                     22                       2   \n",
       "...                 ...                    ...                     ...   \n",
       "3859                105                      0                       0   \n",
       "3860                177                     25                       1   \n",
       "3861                 38                      0                       0   \n",
       "3862                280                     38                       1   \n",
       "3863                 10                      2                       1   \n",
       "\n",
       "     first_review last_review  review_scores_rating  review_scores_accuracy  \\\n",
       "0      2015-07-10  2022-09-05                  4.96                    5.00   \n",
       "1      2009-03-21  2022-12-05                  4.79                    4.87   \n",
       "2      2009-08-06  2022-11-18                  4.81                    4.83   \n",
       "3      2014-08-12  2020-04-15                  4.64                    4.68   \n",
       "4      2015-01-01  2023-03-04                  4.63                    4.76   \n",
       "...           ...         ...                   ...                     ...   \n",
       "3859   2014-01-18  2019-05-20                  4.41                    4.54   \n",
       "3860   2014-07-01  2023-03-16                  4.71                    4.76   \n",
       "3861   2013-12-16  2019-09-02                  4.62                    4.81   \n",
       "3862   2014-06-21  2023-02-20                  4.69                    4.75   \n",
       "3863   2016-07-22  2023-03-12                  4.90                    5.00   \n",
       "\n",
       "      review_scores_cleanliness  review_scores_checkin  \\\n",
       "0                          4.96                   5.00   \n",
       "1                          4.89                   4.95   \n",
       "2                          4.87                   4.91   \n",
       "3                          4.56                   4.96   \n",
       "4                          4.81                   4.87   \n",
       "...                         ...                    ...   \n",
       "3859                       4.43                   4.65   \n",
       "3860                       4.73                   4.87   \n",
       "3861                       4.58                   4.83   \n",
       "3862                       4.70                   4.89   \n",
       "3863                       4.80                   5.00   \n",
       "\n",
       "      review_scores_communication  review_scores_location  review_scores_value  \n",
       "0                            4.96                    4.88                 4.92  \n",
       "1                            4.88                    4.53                 4.74  \n",
       "2                            4.96                    4.50                 4.72  \n",
       "3                            4.96                    4.96                 4.56  \n",
       "4                            4.85                    4.48                 4.69  \n",
       "...                           ...                     ...                  ...  \n",
       "3859                         4.70                    4.42                 4.41  \n",
       "3860                         4.86                    4.59                 4.67  \n",
       "3861                         4.86                    4.56                 4.36  \n",
       "3862                         4.80                    4.72                 4.71  \n",
       "3863                         5.00                    4.90                 4.50  \n",
       "\n",
       "[3864 rows x 12 columns]"
      ]
     },
     "execution_count": 430,
     "metadata": {},
     "output_type": "execute_result"
    }
   ],
   "source": [
    "listings[['number_of_reviews',\n",
    "       'number_of_reviews_ltm', 'number_of_reviews_l30d', 'first_review',\n",
    "       'last_review', 'review_scores_rating', 'review_scores_accuracy',\n",
    "       'review_scores_cleanliness', 'review_scores_checkin',\n",
    "       'review_scores_communication', 'review_scores_location',\n",
    "       'review_scores_value']]"
   ]
  },
  {
   "cell_type": "code",
   "execution_count": 431,
   "id": "f15d1158-63bf-40e5-b682-b25712efad18",
   "metadata": {},
   "outputs": [
    {
     "data": {
      "text/plain": [
       "<matplotlib.collections.PathCollection at 0x2e204974ee0>"
      ]
     },
     "execution_count": 431,
     "metadata": {},
     "output_type": "execute_result"
    },
    {
     "data": {
      "image/png": "[encoded data removed]",
      "text/plain": [
       "<Figure size 640x480 with 1 Axes>"
      ]
     },
     "metadata": {},
     "output_type": "display_data"
    }
   ],
   "source": [
    "plt.scatter(listings['review_scores_rating'], listings['review_scores_accuracy'])"
   ]
  },
  {
   "cell_type": "code",
   "execution_count": 432,
   "id": "71ca8437-04a6-449e-96c7-4d1dd6d99b5a",
   "metadata": {},
   "outputs": [
    {
     "data": {
      "text/plain": [
       "0       My wife and I and grown children frequently oc...\n",
       "1                   Relaxed,  Easy going, Accommodating. \n",
       "2                   Relaxed,  Easy going, Accommodating. \n",
       "3       I manage a number of furnished units around Bo...\n",
       "4       I am committed to provide excellent service an...\n",
       "                              ...                        \n",
       "3859    Hello,\\r\\nMy name is Emmanuel. I am hard worki...\n",
       "3860    I am a health psychologist and music therapist...\n",
       "3861    My husband and I live in Jamaica Plain;  I am ...\n",
       "3862    Hello everyone! Thank you for checking out my ...\n",
       "3863    I work to live but love my job, traveling, fri...\n",
       "Name: host_about, Length: 3864, dtype: object"
      ]
     },
     "execution_count": 432,
     "metadata": {},
     "output_type": "execute_result"
    }
   ],
   "source": [
    "listings['host_about']"
   ]
  },
  {
   "cell_type": "code",
   "execution_count": 433,
   "id": "7c467d7d-4efc-409f-b89f-efd8d1ad72e6",
   "metadata": {},
   "outputs": [
    {
     "data": {
      "text/html": [
       "<div>\n",
       "<style scoped>\n",
       "    .dataframe tbody tr th:only-of-type {\n",
       "        vertical-align: middle;\n",
       "    }\n",
       "\n",
       "    .dataframe tbody tr th {\n",
       "        vertical-align: top;\n",
       "    }\n",
       "\n",
       "    .dataframe thead th {\n",
       "        text-align: right;\n",
       "    }\n",
       "</style>\n",
       "<table border=\"1\" class=\"dataframe\">\n",
       "  <thead>\n",
       "    <tr style=\"text-align: right;\">\n",
       "      <th></th>\n",
       "      <th>host_response_rate</th>\n",
       "      <th>host_response_time</th>\n",
       "      <th>neighbourhood</th>\n",
       "    </tr>\n",
       "  </thead>\n",
       "  <tbody>\n",
       "    <tr>\n",
       "      <th>0</th>\n",
       "      <td>89%</td>\n",
       "      <td>within a day</td>\n",
       "      <td>Boston, Massachusetts, United States</td>\n",
       "    </tr>\n",
       "    <tr>\n",
       "      <th>1</th>\n",
       "      <td>100%</td>\n",
       "      <td>within an hour</td>\n",
       "      <td>Boston, Massachusetts, United States</td>\n",
       "    </tr>\n",
       "    <tr>\n",
       "      <th>2</th>\n",
       "      <td>100%</td>\n",
       "      <td>within an hour</td>\n",
       "      <td>Boston, Massachusetts, United States</td>\n",
       "    </tr>\n",
       "    <tr>\n",
       "      <th>3</th>\n",
       "      <td>82%</td>\n",
       "      <td>within a day</td>\n",
       "      <td>Boston, Massachusetts, United States</td>\n",
       "    </tr>\n",
       "    <tr>\n",
       "      <th>4</th>\n",
       "      <td>100%</td>\n",
       "      <td>within an hour</td>\n",
       "      <td>Jamaica Plain, Massachusetts, United States</td>\n",
       "    </tr>\n",
       "    <tr>\n",
       "      <th>...</th>\n",
       "      <td>...</td>\n",
       "      <td>...</td>\n",
       "      <td>...</td>\n",
       "    </tr>\n",
       "    <tr>\n",
       "      <th>3859</th>\n",
       "      <td>NaN</td>\n",
       "      <td>NaN</td>\n",
       "      <td>Boston, Massachusetts, United States</td>\n",
       "    </tr>\n",
       "    <tr>\n",
       "      <th>3860</th>\n",
       "      <td>95%</td>\n",
       "      <td>within a day</td>\n",
       "      <td>Boston, Massachusetts, United States</td>\n",
       "    </tr>\n",
       "    <tr>\n",
       "      <th>3861</th>\n",
       "      <td>NaN</td>\n",
       "      <td>NaN</td>\n",
       "      <td>Boston, Massachusetts, United States</td>\n",
       "    </tr>\n",
       "    <tr>\n",
       "      <th>3862</th>\n",
       "      <td>100%</td>\n",
       "      <td>within an hour</td>\n",
       "      <td>Brighton, Massachusetts, United States</td>\n",
       "    </tr>\n",
       "    <tr>\n",
       "      <th>3863</th>\n",
       "      <td>100%</td>\n",
       "      <td>within an hour</td>\n",
       "      <td>NaN</td>\n",
       "    </tr>\n",
       "  </tbody>\n",
       "</table>\n",
       "<p>3864 rows × 3 columns</p>\n",
       "</div>"
      ],
      "text/plain": [
       "     host_response_rate host_response_time  \\\n",
       "0                   89%       within a day   \n",
       "1                  100%     within an hour   \n",
       "2                  100%     within an hour   \n",
       "3                   82%       within a day   \n",
       "4                  100%     within an hour   \n",
       "...                 ...                ...   \n",
       "3859                NaN                NaN   \n",
       "3860                95%       within a day   \n",
       "3861                NaN                NaN   \n",
       "3862               100%     within an hour   \n",
       "3863               100%     within an hour   \n",
       "\n",
       "                                    neighbourhood  \n",
       "0            Boston, Massachusetts, United States  \n",
       "1            Boston, Massachusetts, United States  \n",
       "2            Boston, Massachusetts, United States  \n",
       "3            Boston, Massachusetts, United States  \n",
       "4     Jamaica Plain, Massachusetts, United States  \n",
       "...                                           ...  \n",
       "3859         Boston, Massachusetts, United States  \n",
       "3860         Boston, Massachusetts, United States  \n",
       "3861         Boston, Massachusetts, United States  \n",
       "3862       Brighton, Massachusetts, United States  \n",
       "3863                                          NaN  \n",
       "\n",
       "[3864 rows x 3 columns]"
      ]
     },
     "execution_count": 433,
     "metadata": {},
     "output_type": "execute_result"
    }
   ],
   "source": [
    "listings[['host_response_rate', 'host_response_time', 'neighbourhood']]"
   ]
  },
  {
   "cell_type": "code",
   "execution_count": 434,
   "id": "3ca8b79d-1104-40d1-a9cc-028850685dc7",
   "metadata": {},
   "outputs": [
    {
     "data": {
      "text/plain": [
       "host_neighbourhood\n",
       "Allston-Brighton      466\n",
       "Cambridge             441\n",
       "Dorchester            290\n",
       "Roxbury               233\n",
       "Jamaica Plain         231\n",
       "                     ... \n",
       "East Falmouth           1\n",
       "Central Austin          1\n",
       "East Village            1\n",
       "South Beach             1\n",
       "Williamsburg            1\n",
       "Length: 105, dtype: int64"
      ]
     },
     "execution_count": 434,
     "metadata": {},
     "output_type": "execute_result"
    }
   ],
   "source": [
    "listings[['host_neighbourhood']].value_counts()"
   ]
  },
  {
   "cell_type": "code",
   "execution_count": 435,
   "id": "8b756fc1-c89f-41c8-8a8b-98b0330b54c1",
   "metadata": {},
   "outputs": [
    {
     "data": {
      "text/html": [
       "<div>\n",
       "<style scoped>\n",
       "    .dataframe tbody tr th:only-of-type {\n",
       "        vertical-align: middle;\n",
       "    }\n",
       "\n",
       "    .dataframe tbody tr th {\n",
       "        vertical-align: top;\n",
       "    }\n",
       "\n",
       "    .dataframe thead th {\n",
       "        text-align: right;\n",
       "    }\n",
       "</style>\n",
       "<table border=\"1\" class=\"dataframe\">\n",
       "  <thead>\n",
       "    <tr style=\"text-align: right;\">\n",
       "      <th></th>\n",
       "      <th>host_listings_count</th>\n",
       "      <th>host_total_listings_count</th>\n",
       "      <th>host_verifications</th>\n",
       "    </tr>\n",
       "  </thead>\n",
       "  <tbody>\n",
       "    <tr>\n",
       "      <th>0</th>\n",
       "      <td>4</td>\n",
       "      <td>5</td>\n",
       "      <td>['email', 'phone']</td>\n",
       "    </tr>\n",
       "    <tr>\n",
       "      <th>1</th>\n",
       "      <td>11</td>\n",
       "      <td>14</td>\n",
       "      <td>['email', 'phone']</td>\n",
       "    </tr>\n",
       "    <tr>\n",
       "      <th>2</th>\n",
       "      <td>11</td>\n",
       "      <td>14</td>\n",
       "      <td>['email', 'phone']</td>\n",
       "    </tr>\n",
       "    <tr>\n",
       "      <th>3</th>\n",
       "      <td>12</td>\n",
       "      <td>30</td>\n",
       "      <td>['email', 'phone']</td>\n",
       "    </tr>\n",
       "    <tr>\n",
       "      <th>4</th>\n",
       "      <td>1</td>\n",
       "      <td>1</td>\n",
       "      <td>['email', 'phone']</td>\n",
       "    </tr>\n",
       "    <tr>\n",
       "      <th>...</th>\n",
       "      <td>...</td>\n",
       "      <td>...</td>\n",
       "      <td>...</td>\n",
       "    </tr>\n",
       "    <tr>\n",
       "      <th>3859</th>\n",
       "      <td>1</td>\n",
       "      <td>1</td>\n",
       "      <td>['email', 'phone']</td>\n",
       "    </tr>\n",
       "    <tr>\n",
       "      <th>3860</th>\n",
       "      <td>5</td>\n",
       "      <td>5</td>\n",
       "      <td>['email', 'phone']</td>\n",
       "    </tr>\n",
       "    <tr>\n",
       "      <th>3861</th>\n",
       "      <td>1</td>\n",
       "      <td>1</td>\n",
       "      <td>['email', 'phone']</td>\n",
       "    </tr>\n",
       "    <tr>\n",
       "      <th>3862</th>\n",
       "      <td>2</td>\n",
       "      <td>3</td>\n",
       "      <td>['email', 'phone']</td>\n",
       "    </tr>\n",
       "    <tr>\n",
       "      <th>3863</th>\n",
       "      <td>5</td>\n",
       "      <td>5</td>\n",
       "      <td>['email', 'phone']</td>\n",
       "    </tr>\n",
       "  </tbody>\n",
       "</table>\n",
       "<p>3864 rows × 3 columns</p>\n",
       "</div>"
      ],
      "text/plain": [
       "      host_listings_count  host_total_listings_count  host_verifications\n",
       "0                       4                          5  ['email', 'phone']\n",
       "1                      11                         14  ['email', 'phone']\n",
       "2                      11                         14  ['email', 'phone']\n",
       "3                      12                         30  ['email', 'phone']\n",
       "4                       1                          1  ['email', 'phone']\n",
       "...                   ...                        ...                 ...\n",
       "3859                    1                          1  ['email', 'phone']\n",
       "3860                    5                          5  ['email', 'phone']\n",
       "3861                    1                          1  ['email', 'phone']\n",
       "3862                    2                          3  ['email', 'phone']\n",
       "3863                    5                          5  ['email', 'phone']\n",
       "\n",
       "[3864 rows x 3 columns]"
      ]
     },
     "execution_count": 435,
     "metadata": {},
     "output_type": "execute_result"
    }
   ],
   "source": [
    "listings[['host_listings_count', 'host_total_listings_count', 'host_verifications']]"
   ]
  },
  {
   "cell_type": "code",
   "execution_count": 436,
   "id": "171d6428-37bf-44cf-a4d1-6d582a575181",
   "metadata": {},
   "outputs": [
    {
     "data": {
      "text/plain": [
       "host_verifications              \n",
       "['email', 'phone']                  2752\n",
       "['email', 'phone', 'work_email']     860\n",
       "['phone']                            248\n",
       "['phone', 'work_email']                3\n",
       "['email']                              1\n",
       "dtype: int64"
      ]
     },
     "execution_count": 436,
     "metadata": {},
     "output_type": "execute_result"
    }
   ],
   "source": [
    "listings[['host_verifications']].value_counts()"
   ]
  },
  {
   "cell_type": "code",
   "execution_count": 437,
   "id": "f90153a8-4d9e-405e-aa13-de7e13b1801f",
   "metadata": {},
   "outputs": [
    {
     "data": {
      "text/plain": [
       "Dorchester                 511\n",
       "Downtown                   351\n",
       "Roxbury                    291\n",
       "Brighton                   290\n",
       "Back Bay                   275\n",
       "South End                  264\n",
       "East Boston                226\n",
       "Jamaica Plain              215\n",
       "Allston                    192\n",
       "South Boston               170\n",
       "Beacon Hill                169\n",
       "Fenway                     163\n",
       "North End                  107\n",
       "Chinatown                   99\n",
       "Charlestown                 75\n",
       "Roslindale                  67\n",
       "Hyde Park                   65\n",
       "Mission Hill                64\n",
       "Mattapan                    55\n",
       "Bay Village                 53\n",
       "South Boston Waterfront     51\n",
       "West Roxbury                51\n",
       "West End                    47\n",
       "Leather District             8\n",
       "Longwood Medical Area        5\n",
       "Name: neighbourhood_cleansed, dtype: int64"
      ]
     },
     "execution_count": 437,
     "metadata": {},
     "output_type": "execute_result"
    }
   ],
   "source": [
    "listings.neighbourhood_cleansed.value_counts()"
   ]
  },
  {
   "cell_type": "code",
   "execution_count": 438,
   "id": "405da54a-bbc3-4047-bf04-40c184e2d38b",
   "metadata": {},
   "outputs": [
    {
     "data": {
      "text/plain": [
       "Boston, Massachusetts, United States                    2430\n",
       "Dorchester , Massachusetts, United States                 13\n",
       "East Boston, Massachusetts, United States                  7\n",
       "Brighton, Massachusetts, United States                     6\n",
       "BOSTON, Massachusetts, United States                       4\n",
       "Dorchester, Massachusetts, United States                   4\n",
       "Boston , Massachusetts, United States                      3\n",
       "Charlestown, Massachusetts, United States                  3\n",
       "Jamaica Plain, Massachusetts, United States                3\n",
       "Roslindale, Massachusetts, United States                   2\n",
       "Dorchster , Massachusetts, United States                   2\n",
       "West Roxbury, Massachusetts, United States                 2\n",
       "Hyde Park, Massachusetts, United States                    2\n",
       "Boston, Allston, Ma, United States                         1\n",
       "波士顿, Massachusetts, United States                          1\n",
       "Boston (Jamaica Plain), Massachusetts, United States       1\n",
       "ROXBURY CROSSING, Massachusetts, United States             1\n",
       "Boston/Charlestown , Massachusetts, United States          1\n",
       "Allston, Massachusetts, United States                      1\n",
       "Dedham, Massachusetts, United States                       1\n",
       "Hyde Park , Massachusetts, United States                   1\n",
       "Chestnut Hill, Massachusetts, United States                1\n",
       "Milton, Massachusetts, United States                       1\n",
       "Jamaica Plain , Massachusetts, United States               1\n",
       "Roxbury Crossing, Massachusetts, United States             1\n",
       "Jamaica Plain, Boston, Massachusetts, United States        1\n",
       "Boston, , Massachusetts, United States                     1\n",
       "Brookline, Massachusetts, United States                    1\n",
       "Somerville, Massachusetts, United States                   1\n",
       "Name: neighbourhood, dtype: int64"
      ]
     },
     "execution_count": 438,
     "metadata": {},
     "output_type": "execute_result"
    }
   ],
   "source": [
    "listings.neighbourhood.value_counts()"
   ]
  },
  {
   "cell_type": "code",
   "execution_count": 439,
   "id": "373f7a66-d815-4e38-9862-997094ed5436",
   "metadata": {},
   "outputs": [
    {
     "data": {
      "text/html": [
       "<div>\n",
       "<style scoped>\n",
       "    .dataframe tbody tr th:only-of-type {\n",
       "        vertical-align: middle;\n",
       "    }\n",
       "\n",
       "    .dataframe tbody tr th {\n",
       "        vertical-align: top;\n",
       "    }\n",
       "\n",
       "    .dataframe thead th {\n",
       "        text-align: right;\n",
       "    }\n",
       "</style>\n",
       "<table border=\"1\" class=\"dataframe\">\n",
       "  <thead>\n",
       "    <tr style=\"text-align: right;\">\n",
       "      <th></th>\n",
       "      <th>bathrooms</th>\n",
       "      <th>bathrooms_text</th>\n",
       "    </tr>\n",
       "  </thead>\n",
       "  <tbody>\n",
       "    <tr>\n",
       "      <th>0</th>\n",
       "      <td>NaN</td>\n",
       "      <td>1 bath</td>\n",
       "    </tr>\n",
       "    <tr>\n",
       "      <th>1</th>\n",
       "      <td>NaN</td>\n",
       "      <td>1 bath</td>\n",
       "    </tr>\n",
       "    <tr>\n",
       "      <th>2</th>\n",
       "      <td>NaN</td>\n",
       "      <td>1 bath</td>\n",
       "    </tr>\n",
       "    <tr>\n",
       "      <th>3</th>\n",
       "      <td>NaN</td>\n",
       "      <td>1 bath</td>\n",
       "    </tr>\n",
       "    <tr>\n",
       "      <th>4</th>\n",
       "      <td>NaN</td>\n",
       "      <td>1 bath</td>\n",
       "    </tr>\n",
       "    <tr>\n",
       "      <th>...</th>\n",
       "      <td>...</td>\n",
       "      <td>...</td>\n",
       "    </tr>\n",
       "    <tr>\n",
       "      <th>3859</th>\n",
       "      <td>NaN</td>\n",
       "      <td>1.5 baths</td>\n",
       "    </tr>\n",
       "    <tr>\n",
       "      <th>3860</th>\n",
       "      <td>NaN</td>\n",
       "      <td>1 shared bath</td>\n",
       "    </tr>\n",
       "    <tr>\n",
       "      <th>3861</th>\n",
       "      <td>NaN</td>\n",
       "      <td>1 bath</td>\n",
       "    </tr>\n",
       "    <tr>\n",
       "      <th>3862</th>\n",
       "      <td>NaN</td>\n",
       "      <td>1 private bath</td>\n",
       "    </tr>\n",
       "    <tr>\n",
       "      <th>3863</th>\n",
       "      <td>NaN</td>\n",
       "      <td>2 baths</td>\n",
       "    </tr>\n",
       "  </tbody>\n",
       "</table>\n",
       "<p>3864 rows × 2 columns</p>\n",
       "</div>"
      ],
      "text/plain": [
       "      bathrooms  bathrooms_text\n",
       "0           NaN          1 bath\n",
       "1           NaN          1 bath\n",
       "2           NaN          1 bath\n",
       "3           NaN          1 bath\n",
       "4           NaN          1 bath\n",
       "...         ...             ...\n",
       "3859        NaN       1.5 baths\n",
       "3860        NaN   1 shared bath\n",
       "3861        NaN          1 bath\n",
       "3862        NaN  1 private bath\n",
       "3863        NaN         2 baths\n",
       "\n",
       "[3864 rows x 2 columns]"
      ]
     },
     "execution_count": 439,
     "metadata": {},
     "output_type": "execute_result"
    }
   ],
   "source": [
    "listings[['bathrooms', 'bathrooms_text']]"
   ]
  },
  {
   "cell_type": "code",
   "execution_count": 440,
   "id": "b1f1fa04-b3f9-4c8b-bc17-482f282c7142",
   "metadata": {},
   "outputs": [
    {
     "data": {
      "text/plain": [
       "bathrooms_text   \n",
       "1 bath               2000\n",
       "1 shared bath         494\n",
       "2 baths               449\n",
       "0 shared baths        204\n",
       "2 shared baths        182\n",
       "1 private bath        175\n",
       "1.5 baths             118\n",
       "1.5 shared baths       72\n",
       "2.5 baths              68\n",
       "3 baths                41\n",
       "2.5 shared baths       14\n",
       "3.5 baths              14\n",
       "3 shared baths          9\n",
       "4 baths                 5\n",
       "5 baths                 4\n",
       "4.5 baths               3\n",
       "6 baths                 3\n",
       "0 baths                 2\n",
       "4 shared baths          2\n",
       "3.5 shared baths        1\n",
       "Half-bath               1\n",
       "Private half-bath       1\n",
       "dtype: int64"
      ]
     },
     "execution_count": 440,
     "metadata": {},
     "output_type": "execute_result"
    }
   ],
   "source": [
    "listings[['bathrooms_text']].value_counts()"
   ]
  },
  {
   "cell_type": "markdown",
   "id": "8b2180df-ef27-4920-8548-da7e414de282",
   "metadata": {},
   "source": [
    "## Run a quick LR model for comparison"
   ]
  },
  {
   "cell_type": "code",
   "execution_count": 441,
   "id": "11abf6c9-f0ca-4118-bd29-9e1f21d71571",
   "metadata": {},
   "outputs": [],
   "source": [
    "# Imports\n",
    "\n",
    "from sklearn.linear_model import LinearRegression\n",
    "from sklearn.model_selection import train_test_split\n",
    "from sklearn.metrics import r2_score"
   ]
  },
  {
   "cell_type": "code",
   "execution_count": 442,
   "id": "ac1b571f-6faa-460f-a4b0-11b806865c1f",
   "metadata": {},
   "outputs": [
    {
     "data": {
      "text/plain": [
       "Index(['id', 'listing_url', 'scrape_id', 'last_scraped', 'source', 'name',\n",
       "       'description', 'neighborhood_overview', 'picture_url', 'host_id',\n",
       "       'host_url', 'host_name', 'host_since', 'host_location', 'host_about',\n",
       "       'host_response_time', 'host_response_rate', 'host_acceptance_rate',\n",
       "       'host_is_superhost', 'host_thumbnail_url', 'host_picture_url',\n",
       "       'host_neighbourhood', 'host_listings_count',\n",
       "       'host_total_listings_count', 'host_verifications',\n",
       "       'host_has_profile_pic', 'host_identity_verified', 'neighbourhood',\n",
       "       'neighbourhood_cleansed', 'neighbourhood_group_cleansed', 'latitude',\n",
       "       'longitude', 'property_type', 'room_type', 'accommodates', 'bathrooms',\n",
       "       'bathrooms_text', 'bedrooms', 'beds', 'amenities', 'price',\n",
       "       'minimum_nights', 'maximum_nights', 'minimum_minimum_nights',\n",
       "       'maximum_minimum_nights', 'minimum_maximum_nights',\n",
       "       'maximum_maximum_nights', 'minimum_nights_avg_ntm',\n",
       "       'maximum_nights_avg_ntm', 'calendar_updated', 'has_availability',\n",
       "       'availability_30', 'availability_60', 'availability_90',\n",
       "       'availability_365', 'calendar_last_scraped', 'number_of_reviews',\n",
       "       'number_of_reviews_ltm', 'number_of_reviews_l30d', 'first_review',\n",
       "       'last_review', 'review_scores_rating', 'review_scores_accuracy',\n",
       "       'review_scores_cleanliness', 'review_scores_checkin',\n",
       "       'review_scores_communication', 'review_scores_location',\n",
       "       'review_scores_value', 'license', 'instant_bookable',\n",
       "       'calculated_host_listings_count',\n",
       "       'calculated_host_listings_count_entire_homes',\n",
       "       'calculated_host_listings_count_private_rooms',\n",
       "       'calculated_host_listings_count_shared_rooms', 'reviews_per_month'],\n",
       "      dtype='object')"
      ]
     },
     "execution_count": 442,
     "metadata": {},
     "output_type": "execute_result"
    }
   ],
   "source": [
    "listings.columns"
   ]
  },
  {
   "cell_type": "code",
   "execution_count": 443,
   "id": "43a1623d-45e9-4ca6-8403-febf3c3abd33",
   "metadata": {},
   "outputs": [],
   "source": [
    "lstn = listings[['name',\n",
    "       'description', 'neighborhood_overview', 'host_id', 'host_since',\n",
    "       'host_response_time', 'host_response_rate', 'host_acceptance_rate',\n",
    "       'host_is_superhost', 'host_listings_count',\n",
    "       'host_total_listings_count', 'host_verifications',\n",
    "       'host_has_profile_pic', 'host_identity_verified',\n",
    "       'neighbourhood_cleansed', 'neighbourhood_group_cleansed', 'latitude',\n",
    "       'longitude', 'property_type', 'room_type', 'accommodates', 'bathrooms',\n",
    "       'bathrooms_text', 'bedrooms', 'beds', 'amenities', 'price',\n",
    "       'minimum_nights', 'maximum_nights', 'has_availability',\n",
    "       'availability_30', 'availability_60', 'availability_90',\n",
    "       'availability_365', 'number_of_reviews',\n",
    "       'number_of_reviews_ltm', 'number_of_reviews_l30d', 'first_review',\n",
    "       'last_review', 'review_scores_rating', 'review_scores_accuracy',\n",
    "       'review_scores_cleanliness', 'review_scores_checkin',\n",
    "       'review_scores_communication', 'review_scores_location',\n",
    "       'review_scores_value', 'instant_bookable',\n",
    "       'calculated_host_listings_count',\n",
    "       'calculated_host_listings_count_entire_homes',\n",
    "       'calculated_host_listings_count_private_rooms',\n",
    "       'calculated_host_listings_count_shared_rooms', 'reviews_per_month']]"
   ]
  },
  {
   "cell_type": "code",
   "execution_count": 444,
   "id": "059ae8bf-9c93-4524-b3cf-3ca2279aeb47",
   "metadata": {},
   "outputs": [
    {
     "name": "stdout",
     "output_type": "stream",
     "text": [
      "<class 'pandas.core.frame.DataFrame'>\n",
      "RangeIndex: 3864 entries, 0 to 3863\n",
      "Data columns (total 52 columns):\n",
      " #   Column                                        Non-Null Count  Dtype  \n",
      "---  ------                                        --------------  -----  \n",
      " 0   name                                          3864 non-null   object \n",
      " 1   description                                   3846 non-null   object \n",
      " 2   neighborhood_overview                         2497 non-null   object \n",
      " 3   host_id                                       3864 non-null   int64  \n",
      " 4   host_since                                    3864 non-null   object \n",
      " 5   host_response_time                            3344 non-null   object \n",
      " 6   host_response_rate                            3344 non-null   object \n",
      " 7   host_acceptance_rate                          3405 non-null   object \n",
      " 8   host_is_superhost                             3862 non-null   object \n",
      " 9   host_listings_count                           3864 non-null   int64  \n",
      " 10  host_total_listings_count                     3864 non-null   int64  \n",
      " 11  host_verifications                            3864 non-null   object \n",
      " 12  host_has_profile_pic                          3864 non-null   object \n",
      " 13  host_identity_verified                        3864 non-null   object \n",
      " 14  neighbourhood_cleansed                        3864 non-null   object \n",
      " 15  neighbourhood_group_cleansed                  0 non-null      float64\n",
      " 16  latitude                                      3864 non-null   float64\n",
      " 17  longitude                                     3864 non-null   float64\n",
      " 18  property_type                                 3864 non-null   object \n",
      " 19  room_type                                     3864 non-null   object \n",
      " 20  accommodates                                  3864 non-null   int64  \n",
      " 21  bathrooms                                     0 non-null      float64\n",
      " 22  bathrooms_text                                3862 non-null   object \n",
      " 23  bedrooms                                      3404 non-null   float64\n",
      " 24  beds                                          3784 non-null   float64\n",
      " 25  amenities                                     3864 non-null   object \n",
      " 26  price                                         3864 non-null   object \n",
      " 27  minimum_nights                                3864 non-null   int64  \n",
      " 28  maximum_nights                                3864 non-null   int64  \n",
      " 29  has_availability                              3864 non-null   object \n",
      " 30  availability_30                               3864 non-null   int64  \n",
      " 31  availability_60                               3864 non-null   int64  \n",
      " 32  availability_90                               3864 non-null   int64  \n",
      " 33  availability_365                              3864 non-null   int64  \n",
      " 34  number_of_reviews                             3864 non-null   int64  \n",
      " 35  number_of_reviews_ltm                         3864 non-null   int64  \n",
      " 36  number_of_reviews_l30d                        3864 non-null   int64  \n",
      " 37  first_review                                  2741 non-null   object \n",
      " 38  last_review                                   2741 non-null   object \n",
      " 39  review_scores_rating                          2741 non-null   float64\n",
      " 40  review_scores_accuracy                        2733 non-null   float64\n",
      " 41  review_scores_cleanliness                     2734 non-null   float64\n",
      " 42  review_scores_checkin                         2732 non-null   float64\n",
      " 43  review_scores_communication                   2734 non-null   float64\n",
      " 44  review_scores_location                        2732 non-null   float64\n",
      " 45  review_scores_value                           2732 non-null   float64\n",
      " 46  instant_bookable                              3864 non-null   object \n",
      " 47  calculated_host_listings_count                3864 non-null   int64  \n",
      " 48  calculated_host_listings_count_entire_homes   3864 non-null   int64  \n",
      " 49  calculated_host_listings_count_private_rooms  3864 non-null   int64  \n",
      " 50  calculated_host_listings_count_shared_rooms   3864 non-null   int64  \n",
      " 51  reviews_per_month                             2741 non-null   float64\n",
      "dtypes: float64(14), int64(17), object(21)\n",
      "memory usage: 1.5+ MB\n"
     ]
    }
   ],
   "source": [
    "lstn.info()"
   ]
  },
  {
   "cell_type": "code",
   "execution_count": 445,
   "id": "f2045a29-80fb-4116-9aec-c08fa7f291ce",
   "metadata": {},
   "outputs": [
    {
     "name": "stdout",
     "output_type": "stream",
     "text": [
      "<class 'pandas.core.frame.DataFrame'>\n",
      "RangeIndex: 3864 entries, 0 to 3863\n",
      "Data columns (total 31 columns):\n",
      " #   Column                                        Non-Null Count  Dtype  \n",
      "---  ------                                        --------------  -----  \n",
      " 0   host_id                                       3864 non-null   int64  \n",
      " 1   host_listings_count                           3864 non-null   int64  \n",
      " 2   host_total_listings_count                     3864 non-null   int64  \n",
      " 3   neighbourhood_group_cleansed                  0 non-null      float64\n",
      " 4   latitude                                      3864 non-null   float64\n",
      " 5   longitude                                     3864 non-null   float64\n",
      " 6   accommodates                                  3864 non-null   int64  \n",
      " 7   bathrooms                                     0 non-null      float64\n",
      " 8   bedrooms                                      3404 non-null   float64\n",
      " 9   beds                                          3784 non-null   float64\n",
      " 10  minimum_nights                                3864 non-null   int64  \n",
      " 11  maximum_nights                                3864 non-null   int64  \n",
      " 12  availability_30                               3864 non-null   int64  \n",
      " 13  availability_60                               3864 non-null   int64  \n",
      " 14  availability_90                               3864 non-null   int64  \n",
      " 15  availability_365                              3864 non-null   int64  \n",
      " 16  number_of_reviews                             3864 non-null   int64  \n",
      " 17  number_of_reviews_ltm                         3864 non-null   int64  \n",
      " 18  number_of_reviews_l30d                        3864 non-null   int64  \n",
      " 19  review_scores_rating                          2741 non-null   float64\n",
      " 20  review_scores_accuracy                        2733 non-null   float64\n",
      " 21  review_scores_cleanliness                     2734 non-null   float64\n",
      " 22  review_scores_checkin                         2732 non-null   float64\n",
      " 23  review_scores_communication                   2734 non-null   float64\n",
      " 24  review_scores_location                        2732 non-null   float64\n",
      " 25  review_scores_value                           2732 non-null   float64\n",
      " 26  calculated_host_listings_count                3864 non-null   int64  \n",
      " 27  calculated_host_listings_count_entire_homes   3864 non-null   int64  \n",
      " 28  calculated_host_listings_count_private_rooms  3864 non-null   int64  \n",
      " 29  calculated_host_listings_count_shared_rooms   3864 non-null   int64  \n",
      " 30  reviews_per_month                             2741 non-null   float64\n",
      "dtypes: float64(14), int64(17)\n",
      "memory usage: 935.9 KB\n"
     ]
    }
   ],
   "source": [
    "#  Source for this code: https://stackoverflow.com/questions/25039626/how-do-i-find-numeric-columns-in-pandas\n",
    "lstn_num = lstn._get_numeric_data()\n",
    "lstn_num.info()"
   ]
  },
  {
   "cell_type": "code",
   "execution_count": 446,
   "id": "81f90686-0511-40bf-af65-44658f688349",
   "metadata": {},
   "outputs": [],
   "source": [
    "lstn_num.drop(columns=['neighbourhood_group_cleansed', 'bathrooms'], inplace=True)"
   ]
  },
  {
   "cell_type": "code",
   "execution_count": 447,
   "id": "ab4395a2-8c8f-4c15-b95d-462dc7e9539b",
   "metadata": {},
   "outputs": [
    {
     "name": "stdout",
     "output_type": "stream",
     "text": [
      "<class 'pandas.core.frame.DataFrame'>\n",
      "RangeIndex: 3864 entries, 0 to 3863\n",
      "Data columns (total 29 columns):\n",
      " #   Column                                        Non-Null Count  Dtype  \n",
      "---  ------                                        --------------  -----  \n",
      " 0   host_id                                       3864 non-null   int64  \n",
      " 1   host_listings_count                           3864 non-null   int64  \n",
      " 2   host_total_listings_count                     3864 non-null   int64  \n",
      " 3   latitude                                      3864 non-null   float64\n",
      " 4   longitude                                     3864 non-null   float64\n",
      " 5   accommodates                                  3864 non-null   int64  \n",
      " 6   bedrooms                                      3404 non-null   float64\n",
      " 7   beds                                          3784 non-null   float64\n",
      " 8   minimum_nights                                3864 non-null   int64  \n",
      " 9   maximum_nights                                3864 non-null   int64  \n",
      " 10  availability_30                               3864 non-null   int64  \n",
      " 11  availability_60                               3864 non-null   int64  \n",
      " 12  availability_90                               3864 non-null   int64  \n",
      " 13  availability_365                              3864 non-null   int64  \n",
      " 14  number_of_reviews                             3864 non-null   int64  \n",
      " 15  number_of_reviews_ltm                         3864 non-null   int64  \n",
      " 16  number_of_reviews_l30d                        3864 non-null   int64  \n",
      " 17  review_scores_rating                          2741 non-null   float64\n",
      " 18  review_scores_accuracy                        2733 non-null   float64\n",
      " 19  review_scores_cleanliness                     2734 non-null   float64\n",
      " 20  review_scores_checkin                         2732 non-null   float64\n",
      " 21  review_scores_communication                   2734 non-null   float64\n",
      " 22  review_scores_location                        2732 non-null   float64\n",
      " 23  review_scores_value                           2732 non-null   float64\n",
      " 24  calculated_host_listings_count                3864 non-null   int64  \n",
      " 25  calculated_host_listings_count_entire_homes   3864 non-null   int64  \n",
      " 26  calculated_host_listings_count_private_rooms  3864 non-null   int64  \n",
      " 27  calculated_host_listings_count_shared_rooms   3864 non-null   int64  \n",
      " 28  reviews_per_month                             2741 non-null   float64\n",
      "dtypes: float64(12), int64(17)\n",
      "memory usage: 875.6 KB\n"
     ]
    }
   ],
   "source": [
    "lstn_num.info()"
   ]
  },
  {
   "cell_type": "code",
   "execution_count": 448,
   "id": "4d8cb4e3-e02a-470a-9932-6981f2cd7a1b",
   "metadata": {},
   "outputs": [
    {
     "data": {
      "text/plain": [
       "['number_of_reviews',\n",
       " 'number_of_reviews_ltm',\n",
       " 'number_of_reviews_l30d',\n",
       " 'review_scores_rating',\n",
       " 'review_scores_accuracy',\n",
       " 'review_scores_cleanliness',\n",
       " 'review_scores_checkin',\n",
       " 'review_scores_communication',\n",
       " 'review_scores_location',\n",
       " 'review_scores_value',\n",
       " 'reviews_per_month']"
      ]
     },
     "execution_count": 448,
     "metadata": {},
     "output_type": "execute_result"
    }
   ],
   "source": [
    "review_cols = [col for col in lstn_num.columns if 'review' in col]\n",
    "review_cols"
   ]
  },
  {
   "cell_type": "code",
   "execution_count": 449,
   "id": "8ceee363-2172-4a8b-8fcc-c79994237448",
   "metadata": {},
   "outputs": [
    {
     "name": "stdout",
     "output_type": "stream",
     "text": [
      "<class 'pandas.core.frame.DataFrame'>\n",
      "RangeIndex: 3864 entries, 0 to 3863\n",
      "Data columns (total 18 columns):\n",
      " #   Column                                        Non-Null Count  Dtype  \n",
      "---  ------                                        --------------  -----  \n",
      " 0   host_id                                       3864 non-null   int64  \n",
      " 1   host_listings_count                           3864 non-null   int64  \n",
      " 2   host_total_listings_count                     3864 non-null   int64  \n",
      " 3   latitude                                      3864 non-null   float64\n",
      " 4   longitude                                     3864 non-null   float64\n",
      " 5   accommodates                                  3864 non-null   int64  \n",
      " 6   bedrooms                                      3404 non-null   float64\n",
      " 7   beds                                          3784 non-null   float64\n",
      " 8   minimum_nights                                3864 non-null   int64  \n",
      " 9   maximum_nights                                3864 non-null   int64  \n",
      " 10  availability_30                               3864 non-null   int64  \n",
      " 11  availability_60                               3864 non-null   int64  \n",
      " 12  availability_90                               3864 non-null   int64  \n",
      " 13  availability_365                              3864 non-null   int64  \n",
      " 14  calculated_host_listings_count                3864 non-null   int64  \n",
      " 15  calculated_host_listings_count_entire_homes   3864 non-null   int64  \n",
      " 16  calculated_host_listings_count_private_rooms  3864 non-null   int64  \n",
      " 17  calculated_host_listings_count_shared_rooms   3864 non-null   int64  \n",
      "dtypes: float64(4), int64(14)\n",
      "memory usage: 543.5 KB\n"
     ]
    }
   ],
   "source": [
    "lstn_num_norev = lstn_num.drop(columns=review_cols)\n",
    "lstn_num_norev.info()"
   ]
  },
  {
   "cell_type": "code",
   "execution_count": 450,
   "id": "2d2c7ec3-6e50-473a-8119-7df8747003a8",
   "metadata": {},
   "outputs": [],
   "source": [
    "lstn_num_norev.dropna(inplace=True)"
   ]
  },
  {
   "cell_type": "code",
   "execution_count": 451,
   "id": "0b99235f-800d-41c9-9fd0-a501f4cb1ace",
   "metadata": {},
   "outputs": [
    {
     "name": "stdout",
     "output_type": "stream",
     "text": [
      "<class 'pandas.core.frame.DataFrame'>\n",
      "Int64Index: 3345 entries, 0 to 3863\n",
      "Data columns (total 18 columns):\n",
      " #   Column                                        Non-Null Count  Dtype  \n",
      "---  ------                                        --------------  -----  \n",
      " 0   host_id                                       3345 non-null   int64  \n",
      " 1   host_listings_count                           3345 non-null   int64  \n",
      " 2   host_total_listings_count                     3345 non-null   int64  \n",
      " 3   latitude                                      3345 non-null   float64\n",
      " 4   longitude                                     3345 non-null   float64\n",
      " 5   accommodates                                  3345 non-null   int64  \n",
      " 6   bedrooms                                      3345 non-null   float64\n",
      " 7   beds                                          3345 non-null   float64\n",
      " 8   minimum_nights                                3345 non-null   int64  \n",
      " 9   maximum_nights                                3345 non-null   int64  \n",
      " 10  availability_30                               3345 non-null   int64  \n",
      " 11  availability_60                               3345 non-null   int64  \n",
      " 12  availability_90                               3345 non-null   int64  \n",
      " 13  availability_365                              3345 non-null   int64  \n",
      " 14  calculated_host_listings_count                3345 non-null   int64  \n",
      " 15  calculated_host_listings_count_entire_homes   3345 non-null   int64  \n",
      " 16  calculated_host_listings_count_private_rooms  3345 non-null   int64  \n",
      " 17  calculated_host_listings_count_shared_rooms   3345 non-null   int64  \n",
      "dtypes: float64(4), int64(14)\n",
      "memory usage: 496.5 KB\n"
     ]
    }
   ],
   "source": [
    "lstn_num_norev.info()"
   ]
  },
  {
   "cell_type": "code",
   "execution_count": null,
   "id": "8ab6a9af-4143-467f-b61d-2a1b997b5779",
   "metadata": {},
   "outputs": [],
   "source": []
  },
  {
   "cell_type": "code",
   "execution_count": 452,
   "id": "e60d9e61-84d7-441b-a46c-c8100751ec77",
   "metadata": {},
   "outputs": [
    {
     "data": {
      "text/plain": [
       "132.0"
      ]
     },
     "execution_count": 452,
     "metadata": {},
     "output_type": "execute_result"
    }
   ],
   "source": [
    "float(listings.price[0].replace('$','').strip())"
   ]
  },
  {
   "cell_type": "code",
   "execution_count": 453,
   "id": "988be0b0-ef4e-4868-a43a-f6ca5a0e722f",
   "metadata": {},
   "outputs": [
    {
     "data": {
      "text/plain": [
       "0        132.0\n",
       "1        149.0\n",
       "2        179.0\n",
       "3         90.0\n",
       "4         98.0\n",
       "         ...  \n",
       "3859    1299.0\n",
       "3860      94.0\n",
       "3861     120.0\n",
       "3862      75.0\n",
       "3863     514.0\n",
       "Name: price, Length: 3864, dtype: float64"
      ]
     },
     "execution_count": 453,
     "metadata": {},
     "output_type": "execute_result"
    }
   ],
   "source": [
    "prices = listings.price.apply(lambda x: float(x.replace('$','').replace(',','').strip()))\n",
    "prices"
   ]
  },
  {
   "cell_type": "code",
   "execution_count": 454,
   "id": "f2e91d9b-a1de-4759-a767-e05de1a3b55d",
   "metadata": {},
   "outputs": [
    {
     "data": {
      "text/plain": [
       "Int64Index([   0,    1,    3,    5,    7,    8,    9,   10,   11,   12,\n",
       "            ...\n",
       "            3854, 3855, 3856, 3857, 3858, 3859, 3860, 3861, 3862, 3863],\n",
       "           dtype='int64', length=3345)"
      ]
     },
     "execution_count": 454,
     "metadata": {},
     "output_type": "execute_result"
    }
   ],
   "source": [
    "lstn_num_norev.index"
   ]
  },
  {
   "cell_type": "code",
   "execution_count": 455,
   "id": "8562d81f-8737-40e7-8643-4fdf6972eab4",
   "metadata": {},
   "outputs": [
    {
     "name": "stdout",
     "output_type": "stream",
     "text": [
      "<class 'pandas.core.series.Series'>\n",
      "RangeIndex: 3864 entries, 0 to 3863\n",
      "Series name: price\n",
      "Non-Null Count  Dtype  \n",
      "--------------  -----  \n",
      "3864 non-null   float64\n",
      "dtypes: float64(1)\n",
      "memory usage: 30.3 KB\n"
     ]
    }
   ],
   "source": [
    "prices.info()"
   ]
  },
  {
   "cell_type": "code",
   "execution_count": 456,
   "id": "6ffa8a52-6dd4-4dcf-8cf7-98ec811d1844",
   "metadata": {},
   "outputs": [],
   "source": [
    "y = prices[lstn_num_norev.index]"
   ]
  },
  {
   "cell_type": "code",
   "execution_count": 457,
   "id": "99601817-b1e7-4dda-92c9-17a40587b820",
   "metadata": {},
   "outputs": [
    {
     "data": {
      "text/plain": [
       "Int64Index([   0,    1,    3,    5,    7,    8,    9,   10,   11,   12,\n",
       "            ...\n",
       "            3854, 3855, 3856, 3857, 3858, 3859, 3860, 3861, 3862, 3863],\n",
       "           dtype='int64', length=3345)"
      ]
     },
     "execution_count": 457,
     "metadata": {},
     "output_type": "execute_result"
    }
   ],
   "source": [
    "y.index"
   ]
  },
  {
   "cell_type": "code",
   "execution_count": 458,
   "id": "09045bed-9a02-4abd-bf9e-1df729587d9b",
   "metadata": {},
   "outputs": [],
   "source": [
    "X = lstn_num_norev"
   ]
  },
  {
   "cell_type": "code",
   "execution_count": 459,
   "id": "f7eac5ab-056f-4350-aa84-818f92de2832",
   "metadata": {},
   "outputs": [],
   "source": [
    "X_train, X_test, y_train, y_test = train_test_split(X, y, train_size=0.8, random_state=42)"
   ]
  },
  {
   "cell_type": "code",
   "execution_count": 460,
   "id": "dddee685-f17a-4af0-ac86-0836df463b56",
   "metadata": {},
   "outputs": [
    {
     "data": {
      "text/html": [
       "<style>#sk-container-id-7 {color: black;background-color: white;}#sk-container-id-7 pre{padding: 0;}#sk-container-id-7 div.sk-toggleable {background-color: white;}#sk-container-id-7 label.sk-toggleable__label {cursor: pointer;display: block;width: 100%;margin-bottom: 0;padding: 0.3em;box-sizing: border-box;text-align: center;}#sk-container-id-7 label.sk-toggleable__label-arrow:before {content: \"▸\";float: left;margin-right: 0.25em;color: #696969;}#sk-container-id-7 label.sk-toggleable__label-arrow:hover:before {color: black;}#sk-container-id-7 div.sk-estimator:hover label.sk-toggleable__label-arrow:before {color: black;}#sk-container-id-7 div.sk-toggleable__content {max-height: 0;max-width: 0;overflow: hidden;text-align: left;background-color: #f0f8ff;}#sk-container-id-7 div.sk-toggleable__content pre {margin: 0.2em;color: black;border-radius: 0.25em;background-color: #f0f8ff;}#sk-container-id-7 input.sk-toggleable__control:checked~div.sk-toggleable__content {max-height: 200px;max-width: 100%;overflow: auto;}#sk-container-id-7 input.sk-toggleable__control:checked~label.sk-toggleable__label-arrow:before {content: \"▾\";}#sk-container-id-7 div.sk-estimator input.sk-toggleable__control:checked~label.sk-toggleable__label {background-color: #d4ebff;}#sk-container-id-7 div.sk-label input.sk-toggleable__control:checked~label.sk-toggleable__label {background-color: #d4ebff;}#sk-container-id-7 input.sk-hidden--visually {border: 0;clip: rect(1px 1px 1px 1px);clip: rect(1px, 1px, 1px, 1px);height: 1px;margin: -1px;overflow: hidden;padding: 0;position: absolute;width: 1px;}#sk-container-id-7 div.sk-estimator {font-family: monospace;background-color: #f0f8ff;border: 1px dotted black;border-radius: 0.25em;box-sizing: border-box;margin-bottom: 0.5em;}#sk-container-id-7 div.sk-estimator:hover {background-color: #d4ebff;}#sk-container-id-7 div.sk-parallel-item::after {content: \"\";width: 100%;border-bottom: 1px solid gray;flex-grow: 1;}#sk-container-id-7 div.sk-label:hover label.sk-toggleable__label {background-color: #d4ebff;}#sk-container-id-7 div.sk-serial::before {content: \"\";position: absolute;border-left: 1px solid gray;box-sizing: border-box;top: 0;bottom: 0;left: 50%;z-index: 0;}#sk-container-id-7 div.sk-serial {display: flex;flex-direction: column;align-items: center;background-color: white;padding-right: 0.2em;padding-left: 0.2em;position: relative;}#sk-container-id-7 div.sk-item {position: relative;z-index: 1;}#sk-container-id-7 div.sk-parallel {display: flex;align-items: stretch;justify-content: center;background-color: white;position: relative;}#sk-container-id-7 div.sk-item::before, #sk-container-id-7 div.sk-parallel-item::before {content: \"\";position: absolute;border-left: 1px solid gray;box-sizing: border-box;top: 0;bottom: 0;left: 50%;z-index: -1;}#sk-container-id-7 div.sk-parallel-item {display: flex;flex-direction: column;z-index: 1;position: relative;background-color: white;}#sk-container-id-7 div.sk-parallel-item:first-child::after {align-self: flex-end;width: 50%;}#sk-container-id-7 div.sk-parallel-item:last-child::after {align-self: flex-start;width: 50%;}#sk-container-id-7 div.sk-parallel-item:only-child::after {width: 0;}#sk-container-id-7 div.sk-dashed-wrapped {border: 1px dashed gray;margin: 0 0.4em 0.5em 0.4em;box-sizing: border-box;padding-bottom: 0.4em;background-color: white;}#sk-container-id-7 div.sk-label label {font-family: monospace;font-weight: bold;display: inline-block;line-height: 1.2em;}#sk-container-id-7 div.sk-label-container {text-align: center;}#sk-container-id-7 div.sk-container {/* jupyter's `normalize.less` sets `[hidden] { display: none; }` but bootstrap.min.css set `[hidden] { display: none !important; }` so we also need the `!important` here to be able to override the default hidden behavior on the sphinx rendered scikit-learn.org. See: https://github.com/scikit-learn/scikit-learn/issues/21755 */display: inline-block !important;position: relative;}#sk-container-id-7 div.sk-text-repr-fallback {display: none;}</style><div id=\"sk-container-id-7\" class=\"sk-top-container\"><div class=\"sk-text-repr-fallback\"><pre>LinearRegression()</pre><b>In a Jupyter environment, please rerun this cell to show the HTML representation or trust the notebook. <br />On GitHub, the HTML representation is unable to render, please try loading this page with nbviewer.org.</b></div><div class=\"sk-container\" hidden><div class=\"sk-item\"><div class=\"sk-estimator sk-toggleable\"><input class=\"sk-toggleable__control sk-hidden--visually\" id=\"sk-estimator-id-7\" type=\"checkbox\" checked><label for=\"sk-estimator-id-7\" class=\"sk-toggleable__label sk-toggleable__label-arrow\">LinearRegression</label><div class=\"sk-toggleable__content\"><pre>LinearRegression()</pre></div></div></div></div></div>"
      ],
      "text/plain": [
       "LinearRegression()"
      ]
     },
     "execution_count": 460,
     "metadata": {},
     "output_type": "execute_result"
    }
   ],
   "source": [
    "lr = LinearRegression()\n",
    "\n",
    "lr.fit(X_train, y_train)"
   ]
  },
  {
   "cell_type": "code",
   "execution_count": 461,
   "id": "dfa438a6-eda5-4762-8ae6-77c5e35840b3",
   "metadata": {},
   "outputs": [],
   "source": [
    "preds = lr.predict(X_test)"
   ]
  },
  {
   "cell_type": "code",
   "execution_count": 462,
   "id": "2fde5c14-d3dd-4c0e-a151-62bd00f26842",
   "metadata": {},
   "outputs": [
    {
     "data": {
      "text/plain": [
       "669"
      ]
     },
     "execution_count": 462,
     "metadata": {},
     "output_type": "execute_result"
    }
   ],
   "source": [
    "len(preds)"
   ]
  },
  {
   "cell_type": "code",
   "execution_count": 463,
   "id": "58dbc31a-7a20-4d69-ae0f-7c66aa336d98",
   "metadata": {},
   "outputs": [
    {
     "data": {
      "text/plain": [
       "669"
      ]
     },
     "execution_count": 463,
     "metadata": {},
     "output_type": "execute_result"
    }
   ],
   "source": [
    "len(X_test)"
   ]
  },
  {
   "cell_type": "code",
   "execution_count": 464,
   "id": "5f1efb4e-bc8a-42b6-a72f-1336725b7d9a",
   "metadata": {},
   "outputs": [
    {
     "data": {
      "text/plain": [
       "array([ True,  True,  True,  True,  True,  True,  True,  True,  True,\n",
       "        True,  True,  True,  True,  True,  True,  True,  True,  True])"
      ]
     },
     "execution_count": 464,
     "metadata": {},
     "output_type": "execute_result"
    }
   ],
   "source": [
    "X_train.columns == X_test.columns"
   ]
  },
  {
   "cell_type": "code",
   "execution_count": 465,
   "id": "e52712a9-c406-4a01-820c-d0766e81bff3",
   "metadata": {},
   "outputs": [
    {
     "data": {
      "text/plain": [
       "1236     80.0\n",
       "2655    321.0\n",
       "1784    125.0\n",
       "1387    155.0\n",
       "1423     72.0\n",
       "        ...  \n",
       "1201    152.0\n",
       "1870    120.0\n",
       "2241    147.0\n",
       "386      60.0\n",
       "80       59.0\n",
       "Name: price, Length: 669, dtype: float64"
      ]
     },
     "execution_count": 465,
     "metadata": {},
     "output_type": "execute_result"
    }
   ],
   "source": [
    "y_test"
   ]
  },
  {
   "cell_type": "code",
   "execution_count": 466,
   "id": "e1ef67f7-20ef-4f34-9fe8-6842caf0996c",
   "metadata": {},
   "outputs": [
    {
     "data": {
      "text/plain": [
       "0.33299569468858026"
      ]
     },
     "execution_count": 466,
     "metadata": {},
     "output_type": "execute_result"
    }
   ],
   "source": [
    "lr.score(X_train, y_train)"
   ]
  },
  {
   "cell_type": "code",
   "execution_count": 467,
   "id": "1356cbb1-10b7-47b5-b3fd-b4fcc2da544e",
   "metadata": {},
   "outputs": [
    {
     "data": {
      "text/plain": [
       "0.062416630329894196"
      ]
     },
     "execution_count": 467,
     "metadata": {},
     "output_type": "execute_result"
    }
   ],
   "source": [
    "lr.score(X_test, y_test)"
   ]
  },
  {
   "cell_type": "code",
   "execution_count": 468,
   "id": "56526b5b-1364-4640-a64a-f65412390784",
   "metadata": {},
   "outputs": [
    {
     "data": {
      "text/plain": [
       "0.062416630329894196"
      ]
     },
     "execution_count": 468,
     "metadata": {},
     "output_type": "execute_result"
    }
   ],
   "source": [
    "r2_score(y_test, preds)"
   ]
  },
  {
   "cell_type": "markdown",
   "id": "6491844d-3232-43e3-a56c-96db9b383c8a",
   "metadata": {},
   "source": [
    "# Do a better job on the LR model this time"
   ]
  },
  {
   "cell_type": "code",
   "execution_count": 469,
   "id": "c1741d37-0637-4e0c-bf74-20913d25f0c9",
   "metadata": {},
   "outputs": [
    {
     "name": "stdout",
     "output_type": "stream",
     "text": [
      "<class 'pandas.core.frame.DataFrame'>\n",
      "RangeIndex: 3864 entries, 0 to 3863\n",
      "Data columns (total 52 columns):\n",
      " #   Column                                        Non-Null Count  Dtype  \n",
      "---  ------                                        --------------  -----  \n",
      " 0   name                                          3864 non-null   object \n",
      " 1   description                                   3846 non-null   object \n",
      " 2   neighborhood_overview                         2497 non-null   object \n",
      " 3   host_id                                       3864 non-null   int64  \n",
      " 4   host_since                                    3864 non-null   object \n",
      " 5   host_response_time                            3344 non-null   object \n",
      " 6   host_response_rate                            3344 non-null   object \n",
      " 7   host_acceptance_rate                          3405 non-null   object \n",
      " 8   host_is_superhost                             3862 non-null   object \n",
      " 9   host_listings_count                           3864 non-null   int64  \n",
      " 10  host_total_listings_count                     3864 non-null   int64  \n",
      " 11  host_verifications                            3864 non-null   object \n",
      " 12  host_has_profile_pic                          3864 non-null   object \n",
      " 13  host_identity_verified                        3864 non-null   object \n",
      " 14  neighbourhood_cleansed                        3864 non-null   object \n",
      " 15  neighbourhood_group_cleansed                  0 non-null      float64\n",
      " 16  latitude                                      3864 non-null   float64\n",
      " 17  longitude                                     3864 non-null   float64\n",
      " 18  property_type                                 3864 non-null   object \n",
      " 19  room_type                                     3864 non-null   object \n",
      " 20  accommodates                                  3864 non-null   int64  \n",
      " 21  bathrooms                                     0 non-null      float64\n",
      " 22  bathrooms_text                                3862 non-null   object \n",
      " 23  bedrooms                                      3404 non-null   float64\n",
      " 24  beds                                          3784 non-null   float64\n",
      " 25  amenities                                     3864 non-null   object \n",
      " 26  price                                         3864 non-null   object \n",
      " 27  minimum_nights                                3864 non-null   int64  \n",
      " 28  maximum_nights                                3864 non-null   int64  \n",
      " 29  has_availability                              3864 non-null   object \n",
      " 30  availability_30                               3864 non-null   int64  \n",
      " 31  availability_60                               3864 non-null   int64  \n",
      " 32  availability_90                               3864 non-null   int64  \n",
      " 33  availability_365                              3864 non-null   int64  \n",
      " 34  number_of_reviews                             3864 non-null   int64  \n",
      " 35  number_of_reviews_ltm                         3864 non-null   int64  \n",
      " 36  number_of_reviews_l30d                        3864 non-null   int64  \n",
      " 37  first_review                                  2741 non-null   object \n",
      " 38  last_review                                   2741 non-null   object \n",
      " 39  review_scores_rating                          2741 non-null   float64\n",
      " 40  review_scores_accuracy                        2733 non-null   float64\n",
      " 41  review_scores_cleanliness                     2734 non-null   float64\n",
      " 42  review_scores_checkin                         2732 non-null   float64\n",
      " 43  review_scores_communication                   2734 non-null   float64\n",
      " 44  review_scores_location                        2732 non-null   float64\n",
      " 45  review_scores_value                           2732 non-null   float64\n",
      " 46  instant_bookable                              3864 non-null   object \n",
      " 47  calculated_host_listings_count                3864 non-null   int64  \n",
      " 48  calculated_host_listings_count_entire_homes   3864 non-null   int64  \n",
      " 49  calculated_host_listings_count_private_rooms  3864 non-null   int64  \n",
      " 50  calculated_host_listings_count_shared_rooms   3864 non-null   int64  \n",
      " 51  reviews_per_month                             2741 non-null   float64\n",
      "dtypes: float64(14), int64(17), object(21)\n",
      "memory usage: 1.5+ MB\n"
     ]
    }
   ],
   "source": [
    "lstn.info()"
   ]
  },
  {
   "cell_type": "code",
   "execution_count": 470,
   "id": "0532bc91-5698-4b93-bdf9-ef20b2590ab7",
   "metadata": {},
   "outputs": [
    {
     "name": "stderr",
     "output_type": "stream",
     "text": [
      "C:\\Users\\Dan\\AppData\\Local\\Temp\\ipykernel_25412\\1579926181.py:1: SettingWithCopyWarning: \n",
      "A value is trying to be set on a copy of a slice from a DataFrame\n",
      "\n",
      "See the caveats in the documentation: https://pandas.pydata.org/pandas-docs/stable/user_guide/indexing.html#returning-a-view-versus-a-copy\n",
      "  lstn.drop(columns=review_cols, inplace = True)\n"
     ]
    }
   ],
   "source": [
    "lstn.drop(columns=review_cols, inplace = True)"
   ]
  },
  {
   "cell_type": "code",
   "execution_count": 471,
   "id": "92727a3e-ef38-4793-80ea-508294cd627f",
   "metadata": {},
   "outputs": [
    {
     "name": "stdout",
     "output_type": "stream",
     "text": [
      "<class 'pandas.core.frame.DataFrame'>\n",
      "RangeIndex: 3864 entries, 0 to 3863\n",
      "Data columns (total 41 columns):\n",
      " #   Column                                        Non-Null Count  Dtype  \n",
      "---  ------                                        --------------  -----  \n",
      " 0   name                                          3864 non-null   object \n",
      " 1   description                                   3846 non-null   object \n",
      " 2   neighborhood_overview                         2497 non-null   object \n",
      " 3   host_id                                       3864 non-null   int64  \n",
      " 4   host_since                                    3864 non-null   object \n",
      " 5   host_response_time                            3344 non-null   object \n",
      " 6   host_response_rate                            3344 non-null   object \n",
      " 7   host_acceptance_rate                          3405 non-null   object \n",
      " 8   host_is_superhost                             3862 non-null   object \n",
      " 9   host_listings_count                           3864 non-null   int64  \n",
      " 10  host_total_listings_count                     3864 non-null   int64  \n",
      " 11  host_verifications                            3864 non-null   object \n",
      " 12  host_has_profile_pic                          3864 non-null   object \n",
      " 13  host_identity_verified                        3864 non-null   object \n",
      " 14  neighbourhood_cleansed                        3864 non-null   object \n",
      " 15  neighbourhood_group_cleansed                  0 non-null      float64\n",
      " 16  latitude                                      3864 non-null   float64\n",
      " 17  longitude                                     3864 non-null   float64\n",
      " 18  property_type                                 3864 non-null   object \n",
      " 19  room_type                                     3864 non-null   object \n",
      " 20  accommodates                                  3864 non-null   int64  \n",
      " 21  bathrooms                                     0 non-null      float64\n",
      " 22  bathrooms_text                                3862 non-null   object \n",
      " 23  bedrooms                                      3404 non-null   float64\n",
      " 24  beds                                          3784 non-null   float64\n",
      " 25  amenities                                     3864 non-null   object \n",
      " 26  price                                         3864 non-null   object \n",
      " 27  minimum_nights                                3864 non-null   int64  \n",
      " 28  maximum_nights                                3864 non-null   int64  \n",
      " 29  has_availability                              3864 non-null   object \n",
      " 30  availability_30                               3864 non-null   int64  \n",
      " 31  availability_60                               3864 non-null   int64  \n",
      " 32  availability_90                               3864 non-null   int64  \n",
      " 33  availability_365                              3864 non-null   int64  \n",
      " 34  first_review                                  2741 non-null   object \n",
      " 35  last_review                                   2741 non-null   object \n",
      " 36  instant_bookable                              3864 non-null   object \n",
      " 37  calculated_host_listings_count                3864 non-null   int64  \n",
      " 38  calculated_host_listings_count_entire_homes   3864 non-null   int64  \n",
      " 39  calculated_host_listings_count_private_rooms  3864 non-null   int64  \n",
      " 40  calculated_host_listings_count_shared_rooms   3864 non-null   int64  \n",
      "dtypes: float64(6), int64(14), object(21)\n",
      "memory usage: 1.2+ MB\n"
     ]
    }
   ],
   "source": [
    "lstn.info()"
   ]
  },
  {
   "cell_type": "code",
   "execution_count": 472,
   "id": "c1353a09-af63-40da-a53b-813bc17bb636",
   "metadata": {},
   "outputs": [
    {
     "data": {
      "text/plain": [
       "Index(['name', 'description', 'neighborhood_overview', 'host_id', 'host_since',\n",
       "       'host_response_time', 'host_response_rate', 'host_acceptance_rate',\n",
       "       'host_is_superhost', 'host_listings_count', 'host_total_listings_count',\n",
       "       'host_verifications', 'host_has_profile_pic', 'host_identity_verified',\n",
       "       'neighbourhood_cleansed', 'neighbourhood_group_cleansed', 'latitude',\n",
       "       'longitude', 'property_type', 'room_type', 'accommodates', 'bathrooms',\n",
       "       'bathrooms_text', 'bedrooms', 'beds', 'amenities', 'price',\n",
       "       'minimum_nights', 'maximum_nights', 'has_availability',\n",
       "       'availability_30', 'availability_60', 'availability_90',\n",
       "       'availability_365', 'first_review', 'last_review', 'instant_bookable',\n",
       "       'calculated_host_listings_count',\n",
       "       'calculated_host_listings_count_entire_homes',\n",
       "       'calculated_host_listings_count_private_rooms',\n",
       "       'calculated_host_listings_count_shared_rooms'],\n",
       "      dtype='object')"
      ]
     },
     "execution_count": 472,
     "metadata": {},
     "output_type": "execute_result"
    }
   ],
   "source": [
    "lstn.columns"
   ]
  },
  {
   "cell_type": "code",
   "execution_count": 473,
   "id": "0bd7ba7e-5648-4275-acaf-23d4d4ec9c4a",
   "metadata": {},
   "outputs": [],
   "source": [
    "keep_cols = ['host_identity_verified',\n",
    "       'neighbourhood_cleansed', 'latitude',\n",
    "       'longitude', 'property_type', 'room_type', 'accommodates', \n",
    "       'bathrooms_text', 'bedrooms', 'beds', 'amenities', 'price',\n",
    "       'minimum_nights', 'maximum_nights', 'has_availability',\n",
    "       'availability_30', 'availability_60', 'availability_90',\n",
    "       'availability_365', 'calculated_host_listings_count',\n",
    "            \n",
    "            'calculated_host_listings_count_entire_homes',\n",
    " 'calculated_host_listings_count_private_rooms',\n",
    " 'calculated_host_listings_count_shared_rooms',\n",
    " 'host_id',\n",
    " 'host_listings_count',\n",
    " 'host_total_listings_count']"
   ]
  },
  {
   "cell_type": "code",
   "execution_count": 474,
   "id": "7b7b424e-4e3d-40a0-82a8-b4200ac5ead0",
   "metadata": {},
   "outputs": [
    {
     "name": "stdout",
     "output_type": "stream",
     "text": [
      "<class 'pandas.core.frame.DataFrame'>\n",
      "RangeIndex: 3864 entries, 0 to 3863\n",
      "Data columns (total 26 columns):\n",
      " #   Column                                        Non-Null Count  Dtype  \n",
      "---  ------                                        --------------  -----  \n",
      " 0   host_identity_verified                        3864 non-null   object \n",
      " 1   neighbourhood_cleansed                        3864 non-null   object \n",
      " 2   latitude                                      3864 non-null   float64\n",
      " 3   longitude                                     3864 non-null   float64\n",
      " 4   property_type                                 3864 non-null   object \n",
      " 5   room_type                                     3864 non-null   object \n",
      " 6   accommodates                                  3864 non-null   int64  \n",
      " 7   bathrooms_text                                3862 non-null   object \n",
      " 8   bedrooms                                      3404 non-null   float64\n",
      " 9   beds                                          3784 non-null   float64\n",
      " 10  amenities                                     3864 non-null   object \n",
      " 11  price                                         3864 non-null   object \n",
      " 12  minimum_nights                                3864 non-null   int64  \n",
      " 13  maximum_nights                                3864 non-null   int64  \n",
      " 14  has_availability                              3864 non-null   object \n",
      " 15  availability_30                               3864 non-null   int64  \n",
      " 16  availability_60                               3864 non-null   int64  \n",
      " 17  availability_90                               3864 non-null   int64  \n",
      " 18  availability_365                              3864 non-null   int64  \n",
      " 19  calculated_host_listings_count                3864 non-null   int64  \n",
      " 20  calculated_host_listings_count_entire_homes   3864 non-null   int64  \n",
      " 21  calculated_host_listings_count_private_rooms  3864 non-null   int64  \n",
      " 22  calculated_host_listings_count_shared_rooms   3864 non-null   int64  \n",
      " 23  host_id                                       3864 non-null   int64  \n",
      " 24  host_listings_count                           3864 non-null   int64  \n",
      " 25  host_total_listings_count                     3864 non-null   int64  \n",
      "dtypes: float64(4), int64(14), object(8)\n",
      "memory usage: 785.0+ KB\n"
     ]
    }
   ],
   "source": [
    "lstn_new = lstn[keep_cols].copy()\n",
    "lstn_new.info()"
   ]
  },
  {
   "cell_type": "code",
   "execution_count": 475,
   "id": "ee383b50-5e11-48bd-bfbc-ce52ee6225ad",
   "metadata": {},
   "outputs": [],
   "source": [
    "lstn_new.price = lstn_new.price.apply(lambda x: float(x.replace('$','').replace(',','').strip()))"
   ]
  },
  {
   "cell_type": "code",
   "execution_count": 476,
   "id": "ac929461-16b0-4997-a99d-5ed805dfca8d",
   "metadata": {},
   "outputs": [
    {
     "name": "stdout",
     "output_type": "stream",
     "text": [
      "<class 'pandas.core.frame.DataFrame'>\n",
      "RangeIndex: 3864 entries, 0 to 3863\n",
      "Data columns (total 26 columns):\n",
      " #   Column                                        Non-Null Count  Dtype  \n",
      "---  ------                                        --------------  -----  \n",
      " 0   host_identity_verified                        3864 non-null   object \n",
      " 1   neighbourhood_cleansed                        3864 non-null   object \n",
      " 2   latitude                                      3864 non-null   float64\n",
      " 3   longitude                                     3864 non-null   float64\n",
      " 4   property_type                                 3864 non-null   object \n",
      " 5   room_type                                     3864 non-null   object \n",
      " 6   accommodates                                  3864 non-null   int64  \n",
      " 7   bathrooms_text                                3862 non-null   object \n",
      " 8   bedrooms                                      3404 non-null   float64\n",
      " 9   beds                                          3784 non-null   float64\n",
      " 10  amenities                                     3864 non-null   object \n",
      " 11  price                                         3864 non-null   float64\n",
      " 12  minimum_nights                                3864 non-null   int64  \n",
      " 13  maximum_nights                                3864 non-null   int64  \n",
      " 14  has_availability                              3864 non-null   object \n",
      " 15  availability_30                               3864 non-null   int64  \n",
      " 16  availability_60                               3864 non-null   int64  \n",
      " 17  availability_90                               3864 non-null   int64  \n",
      " 18  availability_365                              3864 non-null   int64  \n",
      " 19  calculated_host_listings_count                3864 non-null   int64  \n",
      " 20  calculated_host_listings_count_entire_homes   3864 non-null   int64  \n",
      " 21  calculated_host_listings_count_private_rooms  3864 non-null   int64  \n",
      " 22  calculated_host_listings_count_shared_rooms   3864 non-null   int64  \n",
      " 23  host_id                                       3864 non-null   int64  \n",
      " 24  host_listings_count                           3864 non-null   int64  \n",
      " 25  host_total_listings_count                     3864 non-null   int64  \n",
      "dtypes: float64(5), int64(14), object(7)\n",
      "memory usage: 785.0+ KB\n"
     ]
    }
   ],
   "source": [
    "lstn_new.info()"
   ]
  },
  {
   "cell_type": "code",
   "execution_count": 477,
   "id": "d9766690-9702-49b9-a6ca-a27976354109",
   "metadata": {},
   "outputs": [],
   "source": [
    "'''\n",
    " 0   host_identity_verified          3864 non-null   object  >>>>>>  DONE --------map funciton \n",
    " 1   neighbourhood_cleansed          3864 non-null   object  >>>>>>  OHE (get dummies)\n",
    " 4   property_type                   3864 non-null   object  >>>>>>  DROP THIS----Filter then OHE\n",
    " 5   room_type                       3864 non-null   object  >>>>>>  OHE\n",
    " 7   bathrooms_text                  3862 non-null   object  >>>>>>  OHE to start, otherwise use RE to split up\n",
    " 10  amenities                       3864 non-null   object  >>>>>>  DROP this for now:  cannot be count vectorized...need to do something different\n",
    " 14  has_availability                3864 non-null   object  >>>>>>  DONE --------map function\n",
    "\n",
    "\n",
    "''';"
   ]
  },
  {
   "cell_type": "code",
   "execution_count": 478,
   "id": "16776f41-b989-4a20-abd4-b20d41dc147c",
   "metadata": {},
   "outputs": [],
   "source": [
    "lstn_new.host_identity_verified = lstn_new.host_identity_verified.map({'t':1, 'f':0})\n",
    "lstn_new.has_availability = lstn_new.has_availability.map({'t':1, 'f':0})"
   ]
  },
  {
   "cell_type": "code",
   "execution_count": 479,
   "id": "76cd4a1c-b051-47ef-8256-a2464407160e",
   "metadata": {},
   "outputs": [
    {
     "data": {
      "text/plain": [
       "Entire home/apt    2528\n",
       "Private room       1299\n",
       "Hotel room           21\n",
       "Shared room          16\n",
       "Name: room_type, dtype: int64"
      ]
     },
     "execution_count": 479,
     "metadata": {},
     "output_type": "execute_result"
    }
   ],
   "source": [
    "lstn_new.room_type.value_counts()"
   ]
  },
  {
   "cell_type": "code",
   "execution_count": 480,
   "id": "db17d07d-e26d-4f59-9f17-b2685d0e3875",
   "metadata": {},
   "outputs": [],
   "source": [
    "lstn_new.drop(columns='property_type', inplace = True)"
   ]
  },
  {
   "cell_type": "code",
   "execution_count": 481,
   "id": "25650d4b-4b08-49ff-8498-4345827c4fc5",
   "metadata": {},
   "outputs": [
    {
     "name": "stdout",
     "output_type": "stream",
     "text": [
      "<class 'pandas.core.frame.DataFrame'>\n",
      "RangeIndex: 3864 entries, 0 to 3863\n",
      "Data columns (total 25 columns):\n",
      " #   Column                                        Non-Null Count  Dtype  \n",
      "---  ------                                        --------------  -----  \n",
      " 0   host_identity_verified                        3864 non-null   int64  \n",
      " 1   neighbourhood_cleansed                        3864 non-null   object \n",
      " 2   latitude                                      3864 non-null   float64\n",
      " 3   longitude                                     3864 non-null   float64\n",
      " 4   room_type                                     3864 non-null   object \n",
      " 5   accommodates                                  3864 non-null   int64  \n",
      " 6   bathrooms_text                                3862 non-null   object \n",
      " 7   bedrooms                                      3404 non-null   float64\n",
      " 8   beds                                          3784 non-null   float64\n",
      " 9   amenities                                     3864 non-null   object \n",
      " 10  price                                         3864 non-null   float64\n",
      " 11  minimum_nights                                3864 non-null   int64  \n",
      " 12  maximum_nights                                3864 non-null   int64  \n",
      " 13  has_availability                              3864 non-null   int64  \n",
      " 14  availability_30                               3864 non-null   int64  \n",
      " 15  availability_60                               3864 non-null   int64  \n",
      " 16  availability_90                               3864 non-null   int64  \n",
      " 17  availability_365                              3864 non-null   int64  \n",
      " 18  calculated_host_listings_count                3864 non-null   int64  \n",
      " 19  calculated_host_listings_count_entire_homes   3864 non-null   int64  \n",
      " 20  calculated_host_listings_count_private_rooms  3864 non-null   int64  \n",
      " 21  calculated_host_listings_count_shared_rooms   3864 non-null   int64  \n",
      " 22  host_id                                       3864 non-null   int64  \n",
      " 23  host_listings_count                           3864 non-null   int64  \n",
      " 24  host_total_listings_count                     3864 non-null   int64  \n",
      "dtypes: float64(5), int64(16), object(4)\n",
      "memory usage: 754.8+ KB\n"
     ]
    }
   ],
   "source": [
    "lstn_new.info()"
   ]
  },
  {
   "cell_type": "code",
   "execution_count": 482,
   "id": "d7d01e15-9d51-4ee8-98cc-bd94602a9f5a",
   "metadata": {},
   "outputs": [
    {
     "data": {
      "text/plain": [
       "0       [\"Wifi\", \"Stove\", \"Kitchen\", \"Dishwasher\", \"Fr...\n",
       "1       [\"Wifi\", \"Keypad\", \"Free street parking\", \"Fir...\n",
       "2       [\"Wifi\", \"Stove\", \"Keypad\", \"Kitchen\", \"Dishwa...\n",
       "3       [\"Wifi\", \"Stove\", \"Kitchen\", \"Refrigerator\", \"...\n",
       "4       [\"Wifi\", \"Kitchen\", \"Window AC unit\", \"Free st...\n",
       "                              ...                        \n",
       "3859    [\"Wifi\", \"TV with standard cable\", \"Carbon mon...\n",
       "3860    [\"Wifi\", \"City skyline view\", \"Kitchen\", \"Dish...\n",
       "3861    [\"Wifi\", \"Stove\", \"Kitchen\", \"Dishwasher\", \"Fr...\n",
       "3862    [\"Wifi\", \"Keypad\", \"Free street parking\", \"Loc...\n",
       "3863    [\"Wifi\", \"Public or shared beach access\", \"Kit...\n",
       "Name: amenities, Length: 3864, dtype: object"
      ]
     },
     "execution_count": 482,
     "metadata": {},
     "output_type": "execute_result"
    }
   ],
   "source": [
    "lstn_new.amenities"
   ]
  },
  {
   "cell_type": "code",
   "execution_count": 483,
   "id": "e91cb4fb-31ce-45d0-acfc-8314c7ec1dc7",
   "metadata": {},
   "outputs": [],
   "source": [
    "lstn_new.drop(columns='amenities', inplace=True)"
   ]
  },
  {
   "cell_type": "code",
   "execution_count": 484,
   "id": "a2876d5e-16dd-4449-a044-c7e0cf59cb4d",
   "metadata": {},
   "outputs": [
    {
     "name": "stdout",
     "output_type": "stream",
     "text": [
      "<class 'pandas.core.frame.DataFrame'>\n",
      "RangeIndex: 3864 entries, 0 to 3863\n",
      "Data columns (total 24 columns):\n",
      " #   Column                                        Non-Null Count  Dtype  \n",
      "---  ------                                        --------------  -----  \n",
      " 0   host_identity_verified                        3864 non-null   int64  \n",
      " 1   neighbourhood_cleansed                        3864 non-null   object \n",
      " 2   latitude                                      3864 non-null   float64\n",
      " 3   longitude                                     3864 non-null   float64\n",
      " 4   room_type                                     3864 non-null   object \n",
      " 5   accommodates                                  3864 non-null   int64  \n",
      " 6   bathrooms_text                                3862 non-null   object \n",
      " 7   bedrooms                                      3404 non-null   float64\n",
      " 8   beds                                          3784 non-null   float64\n",
      " 9   price                                         3864 non-null   float64\n",
      " 10  minimum_nights                                3864 non-null   int64  \n",
      " 11  maximum_nights                                3864 non-null   int64  \n",
      " 12  has_availability                              3864 non-null   int64  \n",
      " 13  availability_30                               3864 non-null   int64  \n",
      " 14  availability_60                               3864 non-null   int64  \n",
      " 15  availability_90                               3864 non-null   int64  \n",
      " 16  availability_365                              3864 non-null   int64  \n",
      " 17  calculated_host_listings_count                3864 non-null   int64  \n",
      " 18  calculated_host_listings_count_entire_homes   3864 non-null   int64  \n",
      " 19  calculated_host_listings_count_private_rooms  3864 non-null   int64  \n",
      " 20  calculated_host_listings_count_shared_rooms   3864 non-null   int64  \n",
      " 21  host_id                                       3864 non-null   int64  \n",
      " 22  host_listings_count                           3864 non-null   int64  \n",
      " 23  host_total_listings_count                     3864 non-null   int64  \n",
      "dtypes: float64(5), int64(16), object(3)\n",
      "memory usage: 724.6+ KB\n"
     ]
    }
   ],
   "source": [
    "lstn_new.info()"
   ]
  },
  {
   "cell_type": "code",
   "execution_count": 485,
   "id": "5f4ca568-fe88-4f1d-9202-a1e39b622a58",
   "metadata": {},
   "outputs": [],
   "source": [
    "lstn_new = pd.get_dummies(lstn_new, columns=['neighbourhood_cleansed', 'room_type', 'bathrooms_text'], drop_first=True)"
   ]
  },
  {
   "cell_type": "code",
   "execution_count": 486,
   "id": "754f3ca7-aa2f-4011-b314-d6d82ce0a027",
   "metadata": {},
   "outputs": [],
   "source": [
    "lstn_new.bedrooms.fillna(0, inplace=True)\n",
    "lstn_new.beds.fillna(0, inplace=True)"
   ]
  },
  {
   "cell_type": "code",
   "execution_count": 487,
   "id": "30364050-b846-4ad0-9ce0-262be694edba",
   "metadata": {},
   "outputs": [],
   "source": [
    "lstn_new.dropna(inplace=True)"
   ]
  },
  {
   "cell_type": "code",
   "execution_count": 488,
   "id": "84f130aa-489e-491f-8b6b-23dcf2ccc201",
   "metadata": {},
   "outputs": [
    {
     "name": "stdout",
     "output_type": "stream",
     "text": [
      "<class 'pandas.core.frame.DataFrame'>\n",
      "RangeIndex: 3864 entries, 0 to 3863\n",
      "Data columns (total 69 columns):\n",
      " #   Column                                          Non-Null Count  Dtype  \n",
      "---  ------                                          --------------  -----  \n",
      " 0   host_identity_verified                          3864 non-null   int64  \n",
      " 1   latitude                                        3864 non-null   float64\n",
      " 2   longitude                                       3864 non-null   float64\n",
      " 3   accommodates                                    3864 non-null   int64  \n",
      " 4   bedrooms                                        3864 non-null   float64\n",
      " 5   beds                                            3864 non-null   float64\n",
      " 6   price                                           3864 non-null   float64\n",
      " 7   minimum_nights                                  3864 non-null   int64  \n",
      " 8   maximum_nights                                  3864 non-null   int64  \n",
      " 9   has_availability                                3864 non-null   int64  \n",
      " 10  availability_30                                 3864 non-null   int64  \n",
      " 11  availability_60                                 3864 non-null   int64  \n",
      " 12  availability_90                                 3864 non-null   int64  \n",
      " 13  availability_365                                3864 non-null   int64  \n",
      " 14  calculated_host_listings_count                  3864 non-null   int64  \n",
      " 15  calculated_host_listings_count_entire_homes     3864 non-null   int64  \n",
      " 16  calculated_host_listings_count_private_rooms    3864 non-null   int64  \n",
      " 17  calculated_host_listings_count_shared_rooms     3864 non-null   int64  \n",
      " 18  host_id                                         3864 non-null   int64  \n",
      " 19  host_listings_count                             3864 non-null   int64  \n",
      " 20  host_total_listings_count                       3864 non-null   int64  \n",
      " 21  neighbourhood_cleansed_Back Bay                 3864 non-null   uint8  \n",
      " 22  neighbourhood_cleansed_Bay Village              3864 non-null   uint8  \n",
      " 23  neighbourhood_cleansed_Beacon Hill              3864 non-null   uint8  \n",
      " 24  neighbourhood_cleansed_Brighton                 3864 non-null   uint8  \n",
      " 25  neighbourhood_cleansed_Charlestown              3864 non-null   uint8  \n",
      " 26  neighbourhood_cleansed_Chinatown                3864 non-null   uint8  \n",
      " 27  neighbourhood_cleansed_Dorchester               3864 non-null   uint8  \n",
      " 28  neighbourhood_cleansed_Downtown                 3864 non-null   uint8  \n",
      " 29  neighbourhood_cleansed_East Boston              3864 non-null   uint8  \n",
      " 30  neighbourhood_cleansed_Fenway                   3864 non-null   uint8  \n",
      " 31  neighbourhood_cleansed_Hyde Park                3864 non-null   uint8  \n",
      " 32  neighbourhood_cleansed_Jamaica Plain            3864 non-null   uint8  \n",
      " 33  neighbourhood_cleansed_Leather District         3864 non-null   uint8  \n",
      " 34  neighbourhood_cleansed_Longwood Medical Area    3864 non-null   uint8  \n",
      " 35  neighbourhood_cleansed_Mattapan                 3864 non-null   uint8  \n",
      " 36  neighbourhood_cleansed_Mission Hill             3864 non-null   uint8  \n",
      " 37  neighbourhood_cleansed_North End                3864 non-null   uint8  \n",
      " 38  neighbourhood_cleansed_Roslindale               3864 non-null   uint8  \n",
      " 39  neighbourhood_cleansed_Roxbury                  3864 non-null   uint8  \n",
      " 40  neighbourhood_cleansed_South Boston             3864 non-null   uint8  \n",
      " 41  neighbourhood_cleansed_South Boston Waterfront  3864 non-null   uint8  \n",
      " 42  neighbourhood_cleansed_South End                3864 non-null   uint8  \n",
      " 43  neighbourhood_cleansed_West End                 3864 non-null   uint8  \n",
      " 44  neighbourhood_cleansed_West Roxbury             3864 non-null   uint8  \n",
      " 45  room_type_Hotel room                            3864 non-null   uint8  \n",
      " 46  room_type_Private room                          3864 non-null   uint8  \n",
      " 47  room_type_Shared room                           3864 non-null   uint8  \n",
      " 48  bathrooms_text_0 shared baths                   3864 non-null   uint8  \n",
      " 49  bathrooms_text_1 bath                           3864 non-null   uint8  \n",
      " 50  bathrooms_text_1 private bath                   3864 non-null   uint8  \n",
      " 51  bathrooms_text_1 shared bath                    3864 non-null   uint8  \n",
      " 52  bathrooms_text_1.5 baths                        3864 non-null   uint8  \n",
      " 53  bathrooms_text_1.5 shared baths                 3864 non-null   uint8  \n",
      " 54  bathrooms_text_2 baths                          3864 non-null   uint8  \n",
      " 55  bathrooms_text_2 shared baths                   3864 non-null   uint8  \n",
      " 56  bathrooms_text_2.5 baths                        3864 non-null   uint8  \n",
      " 57  bathrooms_text_2.5 shared baths                 3864 non-null   uint8  \n",
      " 58  bathrooms_text_3 baths                          3864 non-null   uint8  \n",
      " 59  bathrooms_text_3 shared baths                   3864 non-null   uint8  \n",
      " 60  bathrooms_text_3.5 baths                        3864 non-null   uint8  \n",
      " 61  bathrooms_text_3.5 shared baths                 3864 non-null   uint8  \n",
      " 62  bathrooms_text_4 baths                          3864 non-null   uint8  \n",
      " 63  bathrooms_text_4 shared baths                   3864 non-null   uint8  \n",
      " 64  bathrooms_text_4.5 baths                        3864 non-null   uint8  \n",
      " 65  bathrooms_text_5 baths                          3864 non-null   uint8  \n",
      " 66  bathrooms_text_6 baths                          3864 non-null   uint8  \n",
      " 67  bathrooms_text_Half-bath                        3864 non-null   uint8  \n",
      " 68  bathrooms_text_Private half-bath                3864 non-null   uint8  \n",
      "dtypes: float64(5), int64(16), uint8(48)\n",
      "memory usage: 815.2 KB\n"
     ]
    }
   ],
   "source": [
    "lstn_new.info()"
   ]
  },
  {
   "cell_type": "code",
   "execution_count": 489,
   "id": "95b31f64-14e7-4dab-8f78-aa4d3668a532",
   "metadata": {},
   "outputs": [],
   "source": [
    "lr1 = LinearRegression()"
   ]
  },
  {
   "cell_type": "code",
   "execution_count": 490,
   "id": "d677a906-cd69-4a34-a2ae-bf8c2f91ebb0",
   "metadata": {
    "tags": []
   },
   "outputs": [],
   "source": [
    "X = lstn_new.drop(columns='price')\n",
    "y = lstn_new.price"
   ]
  },
  {
   "cell_type": "code",
   "execution_count": 491,
   "id": "64d507ac-9f79-45b8-8d67-58a74347757c",
   "metadata": {},
   "outputs": [],
   "source": [
    "X_train, X_test, y_train, y_test = train_test_split(X, y, train_size=0.8, random_state=42)"
   ]
  },
  {
   "cell_type": "code",
   "execution_count": 492,
   "id": "987d55eb-97fa-400c-8f46-dbb09bde2b17",
   "metadata": {},
   "outputs": [
    {
     "data": {
      "text/html": [
       "<style>#sk-container-id-8 {color: black;background-color: white;}#sk-container-id-8 pre{padding: 0;}#sk-container-id-8 div.sk-toggleable {background-color: white;}#sk-container-id-8 label.sk-toggleable__label {cursor: pointer;display: block;width: 100%;margin-bottom: 0;padding: 0.3em;box-sizing: border-box;text-align: center;}#sk-container-id-8 label.sk-toggleable__label-arrow:before {content: \"▸\";float: left;margin-right: 0.25em;color: #696969;}#sk-container-id-8 label.sk-toggleable__label-arrow:hover:before {color: black;}#sk-container-id-8 div.sk-estimator:hover label.sk-toggleable__label-arrow:before {color: black;}#sk-container-id-8 div.sk-toggleable__content {max-height: 0;max-width: 0;overflow: hidden;text-align: left;background-color: #f0f8ff;}#sk-container-id-8 div.sk-toggleable__content pre {margin: 0.2em;color: black;border-radius: 0.25em;background-color: #f0f8ff;}#sk-container-id-8 input.sk-toggleable__control:checked~div.sk-toggleable__content {max-height: 200px;max-width: 100%;overflow: auto;}#sk-container-id-8 input.sk-toggleable__control:checked~label.sk-toggleable__label-arrow:before {content: \"▾\";}#sk-container-id-8 div.sk-estimator input.sk-toggleable__control:checked~label.sk-toggleable__label {background-color: #d4ebff;}#sk-container-id-8 div.sk-label input.sk-toggleable__control:checked~label.sk-toggleable__label {background-color: #d4ebff;}#sk-container-id-8 input.sk-hidden--visually {border: 0;clip: rect(1px 1px 1px 1px);clip: rect(1px, 1px, 1px, 1px);height: 1px;margin: -1px;overflow: hidden;padding: 0;position: absolute;width: 1px;}#sk-container-id-8 div.sk-estimator {font-family: monospace;background-color: #f0f8ff;border: 1px dotted black;border-radius: 0.25em;box-sizing: border-box;margin-bottom: 0.5em;}#sk-container-id-8 div.sk-estimator:hover {background-color: #d4ebff;}#sk-container-id-8 div.sk-parallel-item::after {content: \"\";width: 100%;border-bottom: 1px solid gray;flex-grow: 1;}#sk-container-id-8 div.sk-label:hover label.sk-toggleable__label {background-color: #d4ebff;}#sk-container-id-8 div.sk-serial::before {content: \"\";position: absolute;border-left: 1px solid gray;box-sizing: border-box;top: 0;bottom: 0;left: 50%;z-index: 0;}#sk-container-id-8 div.sk-serial {display: flex;flex-direction: column;align-items: center;background-color: white;padding-right: 0.2em;padding-left: 0.2em;position: relative;}#sk-container-id-8 div.sk-item {position: relative;z-index: 1;}#sk-container-id-8 div.sk-parallel {display: flex;align-items: stretch;justify-content: center;background-color: white;position: relative;}#sk-container-id-8 div.sk-item::before, #sk-container-id-8 div.sk-parallel-item::before {content: \"\";position: absolute;border-left: 1px solid gray;box-sizing: border-box;top: 0;bottom: 0;left: 50%;z-index: -1;}#sk-container-id-8 div.sk-parallel-item {display: flex;flex-direction: column;z-index: 1;position: relative;background-color: white;}#sk-container-id-8 div.sk-parallel-item:first-child::after {align-self: flex-end;width: 50%;}#sk-container-id-8 div.sk-parallel-item:last-child::after {align-self: flex-start;width: 50%;}#sk-container-id-8 div.sk-parallel-item:only-child::after {width: 0;}#sk-container-id-8 div.sk-dashed-wrapped {border: 1px dashed gray;margin: 0 0.4em 0.5em 0.4em;box-sizing: border-box;padding-bottom: 0.4em;background-color: white;}#sk-container-id-8 div.sk-label label {font-family: monospace;font-weight: bold;display: inline-block;line-height: 1.2em;}#sk-container-id-8 div.sk-label-container {text-align: center;}#sk-container-id-8 div.sk-container {/* jupyter's `normalize.less` sets `[hidden] { display: none; }` but bootstrap.min.css set `[hidden] { display: none !important; }` so we also need the `!important` here to be able to override the default hidden behavior on the sphinx rendered scikit-learn.org. See: https://github.com/scikit-learn/scikit-learn/issues/21755 */display: inline-block !important;position: relative;}#sk-container-id-8 div.sk-text-repr-fallback {display: none;}</style><div id=\"sk-container-id-8\" class=\"sk-top-container\"><div class=\"sk-text-repr-fallback\"><pre>LinearRegression()</pre><b>In a Jupyter environment, please rerun this cell to show the HTML representation or trust the notebook. <br />On GitHub, the HTML representation is unable to render, please try loading this page with nbviewer.org.</b></div><div class=\"sk-container\" hidden><div class=\"sk-item\"><div class=\"sk-estimator sk-toggleable\"><input class=\"sk-toggleable__control sk-hidden--visually\" id=\"sk-estimator-id-8\" type=\"checkbox\" checked><label for=\"sk-estimator-id-8\" class=\"sk-toggleable__label sk-toggleable__label-arrow\">LinearRegression</label><div class=\"sk-toggleable__content\"><pre>LinearRegression()</pre></div></div></div></div></div>"
      ],
      "text/plain": [
       "LinearRegression()"
      ]
     },
     "execution_count": 492,
     "metadata": {},
     "output_type": "execute_result"
    }
   ],
   "source": [
    "lr1.fit(X_train, y_train)"
   ]
  },
  {
   "cell_type": "code",
   "execution_count": 493,
   "id": "b1f243ad-18ee-4e2e-93db-70b78e95d9c4",
   "metadata": {},
   "outputs": [
    {
     "data": {
      "text/plain": [
       "0.24689750800594856"
      ]
     },
     "execution_count": 493,
     "metadata": {},
     "output_type": "execute_result"
    }
   ],
   "source": [
    "lr1.score(X_train, y_train)"
   ]
  },
  {
   "cell_type": "code",
   "execution_count": 494,
   "id": "4e542729-3588-4fca-b5fd-9d10535ff1b1",
   "metadata": {},
   "outputs": [
    {
     "data": {
      "text/plain": [
       "0.4012557045926609"
      ]
     },
     "execution_count": 494,
     "metadata": {},
     "output_type": "execute_result"
    }
   ],
   "source": [
    "lr1.score(X_test, y_test)"
   ]
  },
  {
   "cell_type": "code",
   "execution_count": 495,
   "id": "44516a99-b1a0-400d-8293-2b1f082c297d",
   "metadata": {},
   "outputs": [
    {
     "data": {
      "text/plain": [
       "set()"
      ]
     },
     "execution_count": 495,
     "metadata": {},
     "output_type": "execute_result"
    }
   ],
   "source": [
    "set(lstn_num_norev.columns) - set(lstn_new.columns)"
   ]
  },
  {
   "cell_type": "markdown",
   "id": "26e7ade6-f8a2-45c2-b1a7-338c6c7d0e64",
   "metadata": {},
   "source": [
    "# OK, how about we try to predict ratings???"
   ]
  },
  {
   "cell_type": "code",
   "execution_count": 530,
   "id": "2ec452c4-46a5-4527-a23c-b26e4a452ad3",
   "metadata": {},
   "outputs": [],
   "source": [
    "lstn = listings[['name',\n",
    "       'description', 'neighborhood_overview', 'host_id', 'host_since',\n",
    "       'host_response_time', 'host_response_rate', 'host_acceptance_rate',\n",
    "       'host_is_superhost', 'host_listings_count',\n",
    "       'host_total_listings_count', 'host_verifications',\n",
    "       'host_has_profile_pic', 'host_identity_verified',\n",
    "       'neighbourhood_cleansed', 'neighbourhood_group_cleansed', 'latitude',\n",
    "       'longitude', 'property_type', 'room_type', 'accommodates', 'bathrooms',\n",
    "       'bathrooms_text', 'bedrooms', 'beds', 'amenities', 'price',\n",
    "       'minimum_nights', 'maximum_nights', 'has_availability',\n",
    "       'availability_30', 'availability_60', 'availability_90',\n",
    "       'availability_365', 'number_of_reviews',\n",
    "       'number_of_reviews_ltm', 'number_of_reviews_l30d', 'first_review',\n",
    "       'last_review', 'review_scores_rating', 'review_scores_accuracy',\n",
    "       'review_scores_cleanliness', 'review_scores_checkin',\n",
    "       'review_scores_communication', 'review_scores_location',\n",
    "       'review_scores_value', 'instant_bookable',\n",
    "       'calculated_host_listings_count',\n",
    "       'calculated_host_listings_count_entire_homes',\n",
    "       'calculated_host_listings_count_private_rooms',\n",
    "       'calculated_host_listings_count_shared_rooms', 'reviews_per_month']]"
   ]
  },
  {
   "cell_type": "code",
   "execution_count": 531,
   "id": "eea8cc87-caeb-43fa-a746-bf3f3412de41",
   "metadata": {},
   "outputs": [
    {
     "name": "stdout",
     "output_type": "stream",
     "text": [
      "<class 'pandas.core.frame.DataFrame'>\n",
      "RangeIndex: 3864 entries, 0 to 3863\n",
      "Data columns (total 52 columns):\n",
      " #   Column                                        Non-Null Count  Dtype  \n",
      "---  ------                                        --------------  -----  \n",
      " 0   name                                          3864 non-null   object \n",
      " 1   description                                   3846 non-null   object \n",
      " 2   neighborhood_overview                         2497 non-null   object \n",
      " 3   host_id                                       3864 non-null   int64  \n",
      " 4   host_since                                    3864 non-null   object \n",
      " 5   host_response_time                            3344 non-null   object \n",
      " 6   host_response_rate                            3344 non-null   object \n",
      " 7   host_acceptance_rate                          3405 non-null   object \n",
      " 8   host_is_superhost                             3862 non-null   object \n",
      " 9   host_listings_count                           3864 non-null   int64  \n",
      " 10  host_total_listings_count                     3864 non-null   int64  \n",
      " 11  host_verifications                            3864 non-null   object \n",
      " 12  host_has_profile_pic                          3864 non-null   object \n",
      " 13  host_identity_verified                        3864 non-null   object \n",
      " 14  neighbourhood_cleansed                        3864 non-null   object \n",
      " 15  neighbourhood_group_cleansed                  0 non-null      float64\n",
      " 16  latitude                                      3864 non-null   float64\n",
      " 17  longitude                                     3864 non-null   float64\n",
      " 18  property_type                                 3864 non-null   object \n",
      " 19  room_type                                     3864 non-null   object \n",
      " 20  accommodates                                  3864 non-null   int64  \n",
      " 21  bathrooms                                     0 non-null      float64\n",
      " 22  bathrooms_text                                3862 non-null   object \n",
      " 23  bedrooms                                      3404 non-null   float64\n",
      " 24  beds                                          3784 non-null   float64\n",
      " 25  amenities                                     3864 non-null   object \n",
      " 26  price                                         3864 non-null   object \n",
      " 27  minimum_nights                                3864 non-null   int64  \n",
      " 28  maximum_nights                                3864 non-null   int64  \n",
      " 29  has_availability                              3864 non-null   object \n",
      " 30  availability_30                               3864 non-null   int64  \n",
      " 31  availability_60                               3864 non-null   int64  \n",
      " 32  availability_90                               3864 non-null   int64  \n",
      " 33  availability_365                              3864 non-null   int64  \n",
      " 34  number_of_reviews                             3864 non-null   int64  \n",
      " 35  number_of_reviews_ltm                         3864 non-null   int64  \n",
      " 36  number_of_reviews_l30d                        3864 non-null   int64  \n",
      " 37  first_review                                  2741 non-null   object \n",
      " 38  last_review                                   2741 non-null   object \n",
      " 39  review_scores_rating                          2741 non-null   float64\n",
      " 40  review_scores_accuracy                        2733 non-null   float64\n",
      " 41  review_scores_cleanliness                     2734 non-null   float64\n",
      " 42  review_scores_checkin                         2732 non-null   float64\n",
      " 43  review_scores_communication                   2734 non-null   float64\n",
      " 44  review_scores_location                        2732 non-null   float64\n",
      " 45  review_scores_value                           2732 non-null   float64\n",
      " 46  instant_bookable                              3864 non-null   object \n",
      " 47  calculated_host_listings_count                3864 non-null   int64  \n",
      " 48  calculated_host_listings_count_entire_homes   3864 non-null   int64  \n",
      " 49  calculated_host_listings_count_private_rooms  3864 non-null   int64  \n",
      " 50  calculated_host_listings_count_shared_rooms   3864 non-null   int64  \n",
      " 51  reviews_per_month                             2741 non-null   float64\n",
      "dtypes: float64(14), int64(17), object(21)\n",
      "memory usage: 1.5+ MB\n"
     ]
    }
   ],
   "source": [
    "lstn.info()"
   ]
  },
  {
   "cell_type": "code",
   "execution_count": 532,
   "id": "2580afd2-15c7-45bf-8337-ab0445422796",
   "metadata": {},
   "outputs": [
    {
     "data": {
      "text/html": [
       "<div>\n",
       "<style scoped>\n",
       "    .dataframe tbody tr th:only-of-type {\n",
       "        vertical-align: middle;\n",
       "    }\n",
       "\n",
       "    .dataframe tbody tr th {\n",
       "        vertical-align: top;\n",
       "    }\n",
       "\n",
       "    .dataframe thead th {\n",
       "        text-align: right;\n",
       "    }\n",
       "</style>\n",
       "<table border=\"1\" class=\"dataframe\">\n",
       "  <thead>\n",
       "    <tr style=\"text-align: right;\">\n",
       "      <th></th>\n",
       "      <th>host_since</th>\n",
       "      <th>host_response_time</th>\n",
       "      <th>host_response_rate</th>\n",
       "      <th>host_acceptance_rate</th>\n",
       "      <th>host_is_superhost</th>\n",
       "      <th>host_listings_count</th>\n",
       "      <th>host_total_listings_count</th>\n",
       "      <th>host_verifications</th>\n",
       "      <th>host_has_profile_pic</th>\n",
       "      <th>host_identity_verified</th>\n",
       "    </tr>\n",
       "  </thead>\n",
       "  <tbody>\n",
       "    <tr>\n",
       "      <th>0</th>\n",
       "      <td>2008-12-03</td>\n",
       "      <td>within a day</td>\n",
       "      <td>89%</td>\n",
       "      <td>22%</td>\n",
       "      <td>t</td>\n",
       "      <td>4</td>\n",
       "      <td>5</td>\n",
       "      <td>['email', 'phone']</td>\n",
       "      <td>t</td>\n",
       "      <td>f</td>\n",
       "    </tr>\n",
       "    <tr>\n",
       "      <th>1</th>\n",
       "      <td>2009-02-19</td>\n",
       "      <td>within an hour</td>\n",
       "      <td>100%</td>\n",
       "      <td>100%</td>\n",
       "      <td>t</td>\n",
       "      <td>11</td>\n",
       "      <td>14</td>\n",
       "      <td>['email', 'phone']</td>\n",
       "      <td>t</td>\n",
       "      <td>t</td>\n",
       "    </tr>\n",
       "    <tr>\n",
       "      <th>2</th>\n",
       "      <td>2009-02-19</td>\n",
       "      <td>within an hour</td>\n",
       "      <td>100%</td>\n",
       "      <td>100%</td>\n",
       "      <td>t</td>\n",
       "      <td>11</td>\n",
       "      <td>14</td>\n",
       "      <td>['email', 'phone']</td>\n",
       "      <td>t</td>\n",
       "      <td>t</td>\n",
       "    </tr>\n",
       "    <tr>\n",
       "      <th>3</th>\n",
       "      <td>2009-07-22</td>\n",
       "      <td>within a day</td>\n",
       "      <td>82%</td>\n",
       "      <td>55%</td>\n",
       "      <td>f</td>\n",
       "      <td>12</td>\n",
       "      <td>30</td>\n",
       "      <td>['email', 'phone']</td>\n",
       "      <td>t</td>\n",
       "      <td>t</td>\n",
       "    </tr>\n",
       "    <tr>\n",
       "      <th>4</th>\n",
       "      <td>2014-12-07</td>\n",
       "      <td>within an hour</td>\n",
       "      <td>100%</td>\n",
       "      <td>100%</td>\n",
       "      <td>t</td>\n",
       "      <td>1</td>\n",
       "      <td>1</td>\n",
       "      <td>['email', 'phone']</td>\n",
       "      <td>t</td>\n",
       "      <td>t</td>\n",
       "    </tr>\n",
       "    <tr>\n",
       "      <th>...</th>\n",
       "      <td>...</td>\n",
       "      <td>...</td>\n",
       "      <td>...</td>\n",
       "      <td>...</td>\n",
       "      <td>...</td>\n",
       "      <td>...</td>\n",
       "      <td>...</td>\n",
       "      <td>...</td>\n",
       "      <td>...</td>\n",
       "      <td>...</td>\n",
       "    </tr>\n",
       "    <tr>\n",
       "      <th>3859</th>\n",
       "      <td>2013-10-24</td>\n",
       "      <td>NaN</td>\n",
       "      <td>NaN</td>\n",
       "      <td>NaN</td>\n",
       "      <td>f</td>\n",
       "      <td>1</td>\n",
       "      <td>1</td>\n",
       "      <td>['email', 'phone']</td>\n",
       "      <td>t</td>\n",
       "      <td>t</td>\n",
       "    </tr>\n",
       "    <tr>\n",
       "      <th>3860</th>\n",
       "      <td>2013-11-09</td>\n",
       "      <td>within a day</td>\n",
       "      <td>95%</td>\n",
       "      <td>79%</td>\n",
       "      <td>f</td>\n",
       "      <td>5</td>\n",
       "      <td>5</td>\n",
       "      <td>['email', 'phone']</td>\n",
       "      <td>t</td>\n",
       "      <td>t</td>\n",
       "    </tr>\n",
       "    <tr>\n",
       "      <th>3861</th>\n",
       "      <td>2012-04-16</td>\n",
       "      <td>NaN</td>\n",
       "      <td>NaN</td>\n",
       "      <td>NaN</td>\n",
       "      <td>f</td>\n",
       "      <td>1</td>\n",
       "      <td>1</td>\n",
       "      <td>['email', 'phone']</td>\n",
       "      <td>t</td>\n",
       "      <td>t</td>\n",
       "    </tr>\n",
       "    <tr>\n",
       "      <th>3862</th>\n",
       "      <td>2011-12-20</td>\n",
       "      <td>within an hour</td>\n",
       "      <td>100%</td>\n",
       "      <td>98%</td>\n",
       "      <td>f</td>\n",
       "      <td>2</td>\n",
       "      <td>3</td>\n",
       "      <td>['email', 'phone']</td>\n",
       "      <td>t</td>\n",
       "      <td>t</td>\n",
       "    </tr>\n",
       "    <tr>\n",
       "      <th>3863</th>\n",
       "      <td>2013-11-22</td>\n",
       "      <td>within an hour</td>\n",
       "      <td>100%</td>\n",
       "      <td>70%</td>\n",
       "      <td>f</td>\n",
       "      <td>5</td>\n",
       "      <td>5</td>\n",
       "      <td>['email', 'phone']</td>\n",
       "      <td>t</td>\n",
       "      <td>t</td>\n",
       "    </tr>\n",
       "  </tbody>\n",
       "</table>\n",
       "<p>3864 rows × 10 columns</p>\n",
       "</div>"
      ],
      "text/plain": [
       "      host_since host_response_time host_response_rate host_acceptance_rate  \\\n",
       "0     2008-12-03       within a day                89%                  22%   \n",
       "1     2009-02-19     within an hour               100%                 100%   \n",
       "2     2009-02-19     within an hour               100%                 100%   \n",
       "3     2009-07-22       within a day                82%                  55%   \n",
       "4     2014-12-07     within an hour               100%                 100%   \n",
       "...          ...                ...                ...                  ...   \n",
       "3859  2013-10-24                NaN                NaN                  NaN   \n",
       "3860  2013-11-09       within a day                95%                  79%   \n",
       "3861  2012-04-16                NaN                NaN                  NaN   \n",
       "3862  2011-12-20     within an hour               100%                  98%   \n",
       "3863  2013-11-22     within an hour               100%                  70%   \n",
       "\n",
       "     host_is_superhost  host_listings_count  host_total_listings_count  \\\n",
       "0                    t                    4                          5   \n",
       "1                    t                   11                         14   \n",
       "2                    t                   11                         14   \n",
       "3                    f                   12                         30   \n",
       "4                    t                    1                          1   \n",
       "...                ...                  ...                        ...   \n",
       "3859                 f                    1                          1   \n",
       "3860                 f                    5                          5   \n",
       "3861                 f                    1                          1   \n",
       "3862                 f                    2                          3   \n",
       "3863                 f                    5                          5   \n",
       "\n",
       "      host_verifications host_has_profile_pic host_identity_verified  \n",
       "0     ['email', 'phone']                    t                      f  \n",
       "1     ['email', 'phone']                    t                      t  \n",
       "2     ['email', 'phone']                    t                      t  \n",
       "3     ['email', 'phone']                    t                      t  \n",
       "4     ['email', 'phone']                    t                      t  \n",
       "...                  ...                  ...                    ...  \n",
       "3859  ['email', 'phone']                    t                      t  \n",
       "3860  ['email', 'phone']                    t                      t  \n",
       "3861  ['email', 'phone']                    t                      t  \n",
       "3862  ['email', 'phone']                    t                      t  \n",
       "3863  ['email', 'phone']                    t                      t  \n",
       "\n",
       "[3864 rows x 10 columns]"
      ]
     },
     "execution_count": 532,
     "metadata": {},
     "output_type": "execute_result"
    }
   ],
   "source": [
    "lstn[['host_since',\n",
    "       'host_response_time', 'host_response_rate', 'host_acceptance_rate',\n",
    "       'host_is_superhost', 'host_listings_count', 'host_total_listings_count',\n",
    "       'host_verifications', 'host_has_profile_pic', 'host_identity_verified']]"
   ]
  },
  {
   "cell_type": "code",
   "execution_count": 533,
   "id": "bb7a6f82-c102-4606-855d-2d1ed2efd2a0",
   "metadata": {},
   "outputs": [
    {
     "data": {
      "text/plain": [
       "within an hour        2589\n",
       "within a few hours     553\n",
       "within a day           182\n",
       "a few days or more      20\n",
       "Name: host_response_time, dtype: int64"
      ]
     },
     "execution_count": 533,
     "metadata": {},
     "output_type": "execute_result"
    }
   ],
   "source": [
    "lstn.host_response_time.value_counts()"
   ]
  },
  {
   "cell_type": "code",
   "execution_count": 534,
   "id": "98ab49e5-20ff-48bc-bff4-c4dec20e5b5e",
   "metadata": {},
   "outputs": [
    {
     "data": {
      "text/plain": [
       "Index(['name', 'description', 'neighborhood_overview', 'host_id', 'host_since',\n",
       "       'host_response_time', 'host_response_rate', 'host_acceptance_rate',\n",
       "       'host_is_superhost', 'host_listings_count', 'host_total_listings_count',\n",
       "       'host_verifications', 'host_has_profile_pic', 'host_identity_verified',\n",
       "       'neighbourhood_cleansed', 'neighbourhood_group_cleansed', 'latitude',\n",
       "       'longitude', 'property_type', 'room_type', 'accommodates', 'bathrooms',\n",
       "       'bathrooms_text', 'bedrooms', 'beds', 'amenities', 'price',\n",
       "       'minimum_nights', 'maximum_nights', 'has_availability',\n",
       "       'availability_30', 'availability_60', 'availability_90',\n",
       "       'availability_365', 'number_of_reviews', 'number_of_reviews_ltm',\n",
       "       'number_of_reviews_l30d', 'first_review', 'last_review',\n",
       "       'review_scores_rating', 'review_scores_accuracy',\n",
       "       'review_scores_cleanliness', 'review_scores_checkin',\n",
       "       'review_scores_communication', 'review_scores_location',\n",
       "       'review_scores_value', 'instant_bookable',\n",
       "       'calculated_host_listings_count',\n",
       "       'calculated_host_listings_count_entire_homes',\n",
       "       'calculated_host_listings_count_private_rooms',\n",
       "       'calculated_host_listings_count_shared_rooms', 'reviews_per_month'],\n",
       "      dtype='object')"
      ]
     },
     "execution_count": 534,
     "metadata": {},
     "output_type": "execute_result"
    }
   ],
   "source": [
    "lstn.columns"
   ]
  },
  {
   "cell_type": "code",
   "execution_count": 535,
   "id": "a072a5d0-cb74-4fc7-8233-ef7c8057d809",
   "metadata": {},
   "outputs": [],
   "source": [
    "keep_cols = ['host_identity_verified',\n",
    "       'neighbourhood_cleansed', 'latitude',\n",
    "       'longitude', 'property_type', 'room_type', 'accommodates', \n",
    "       'bathrooms_text', 'bedrooms', 'beds', 'amenities', 'price',\n",
    "       'minimum_nights', 'maximum_nights', 'has_availability',\n",
    "       'availability_30', 'availability_60', 'availability_90',\n",
    "       'availability_365', 'calculated_host_listings_count',\n",
    "            \n",
    "            'calculated_host_listings_count_entire_homes',\n",
    " 'calculated_host_listings_count_private_rooms',\n",
    " 'calculated_host_listings_count_shared_rooms',\n",
    " 'host_id',\n",
    " 'host_listings_count', 'host_response_time', 'host_response_rate', 'host_acceptance_rate',\n",
    " 'host_total_listings_count', 'review_scores_rating']"
   ]
  },
  {
   "cell_type": "code",
   "execution_count": 536,
   "id": "bc8c3022-9f13-4d9b-9213-c42372ad2749",
   "metadata": {},
   "outputs": [
    {
     "name": "stdout",
     "output_type": "stream",
     "text": [
      "<class 'pandas.core.frame.DataFrame'>\n",
      "RangeIndex: 3864 entries, 0 to 3863\n",
      "Data columns (total 30 columns):\n",
      " #   Column                                        Non-Null Count  Dtype  \n",
      "---  ------                                        --------------  -----  \n",
      " 0   host_identity_verified                        3864 non-null   object \n",
      " 1   neighbourhood_cleansed                        3864 non-null   object \n",
      " 2   latitude                                      3864 non-null   float64\n",
      " 3   longitude                                     3864 non-null   float64\n",
      " 4   property_type                                 3864 non-null   object \n",
      " 5   room_type                                     3864 non-null   object \n",
      " 6   accommodates                                  3864 non-null   int64  \n",
      " 7   bathrooms_text                                3862 non-null   object \n",
      " 8   bedrooms                                      3404 non-null   float64\n",
      " 9   beds                                          3784 non-null   float64\n",
      " 10  amenities                                     3864 non-null   object \n",
      " 11  price                                         3864 non-null   object \n",
      " 12  minimum_nights                                3864 non-null   int64  \n",
      " 13  maximum_nights                                3864 non-null   int64  \n",
      " 14  has_availability                              3864 non-null   object \n",
      " 15  availability_30                               3864 non-null   int64  \n",
      " 16  availability_60                               3864 non-null   int64  \n",
      " 17  availability_90                               3864 non-null   int64  \n",
      " 18  availability_365                              3864 non-null   int64  \n",
      " 19  calculated_host_listings_count                3864 non-null   int64  \n",
      " 20  calculated_host_listings_count_entire_homes   3864 non-null   int64  \n",
      " 21  calculated_host_listings_count_private_rooms  3864 non-null   int64  \n",
      " 22  calculated_host_listings_count_shared_rooms   3864 non-null   int64  \n",
      " 23  host_id                                       3864 non-null   int64  \n",
      " 24  host_listings_count                           3864 non-null   int64  \n",
      " 25  host_response_time                            3344 non-null   object \n",
      " 26  host_response_rate                            3344 non-null   object \n",
      " 27  host_acceptance_rate                          3405 non-null   object \n",
      " 28  host_total_listings_count                     3864 non-null   int64  \n",
      " 29  review_scores_rating                          2741 non-null   float64\n",
      "dtypes: float64(5), int64(14), object(11)\n",
      "memory usage: 905.8+ KB\n"
     ]
    }
   ],
   "source": [
    "lstn_new = lstn[keep_cols].copy()\n",
    "lstn_new.info()"
   ]
  },
  {
   "cell_type": "code",
   "execution_count": 537,
   "id": "6474baa6-667c-4d34-b979-e090547af819",
   "metadata": {},
   "outputs": [],
   "source": [
    "lstn_new.price = lstn_new.price.apply(lambda x: float(x.replace('$','').replace(',','').strip()))"
   ]
  },
  {
   "cell_type": "code",
   "execution_count": 552,
   "id": "139c8ace-bb4d-412f-a22c-c59f1d3bc836",
   "metadata": {},
   "outputs": [
    {
     "name": "stdout",
     "output_type": "stream",
     "text": [
      "<class 'pandas.core.frame.DataFrame'>\n",
      "RangeIndex: 3864 entries, 0 to 3863\n",
      "Data columns (total 30 columns):\n",
      " #   Column                                        Non-Null Count  Dtype  \n",
      "---  ------                                        --------------  -----  \n",
      " 0   host_identity_verified                        3864 non-null   object \n",
      " 1   neighbourhood_cleansed                        3864 non-null   object \n",
      " 2   latitude                                      3864 non-null   float64\n",
      " 3   longitude                                     3864 non-null   float64\n",
      " 4   property_type                                 3864 non-null   object \n",
      " 5   room_type                                     3864 non-null   object \n",
      " 6   accommodates                                  3864 non-null   int64  \n",
      " 7   bathrooms_text                                3862 non-null   object \n",
      " 8   bedrooms                                      3404 non-null   float64\n",
      " 9   beds                                          3784 non-null   float64\n",
      " 10  amenities                                     3864 non-null   object \n",
      " 11  price                                         3864 non-null   float64\n",
      " 12  minimum_nights                                3864 non-null   int64  \n",
      " 13  maximum_nights                                3864 non-null   int64  \n",
      " 14  has_availability                              3864 non-null   object \n",
      " 15  availability_30                               3864 non-null   int64  \n",
      " 16  availability_60                               3864 non-null   int64  \n",
      " 17  availability_90                               3864 non-null   int64  \n",
      " 18  availability_365                              3864 non-null   int64  \n",
      " 19  calculated_host_listings_count                3864 non-null   int64  \n",
      " 20  calculated_host_listings_count_entire_homes   3864 non-null   int64  \n",
      " 21  calculated_host_listings_count_private_rooms  3864 non-null   int64  \n",
      " 22  calculated_host_listings_count_shared_rooms   3864 non-null   int64  \n",
      " 23  host_id                                       3864 non-null   int64  \n",
      " 24  host_listings_count                           3864 non-null   int64  \n",
      " 25  host_response_time                            3344 non-null   object \n",
      " 26  host_response_rate                            3344 non-null   object \n",
      " 27  host_acceptance_rate                          3405 non-null   object \n",
      " 28  host_total_listings_count                     3864 non-null   int64  \n",
      " 29  review_scores_rating                          2741 non-null   float64\n",
      "dtypes: float64(6), int64(14), object(10)\n",
      "memory usage: 905.8+ KB\n"
     ]
    }
   ],
   "source": [
    "lstn_new.info()"
   ]
  },
  {
   "cell_type": "code",
   "execution_count": 553,
   "id": "72e0b2e0-9fbf-405a-ae51-4ca83a6548e4",
   "metadata": {},
   "outputs": [],
   "source": [
    "'''\n",
    " 0   host_identity_verified          3864 non-null   object  >>>>>>  DONE --------map funciton \n",
    " 1   neighbourhood_cleansed          3864 non-null   object  >>>>>>  OHE (get dummies)\n",
    " 4   property_type                   3864 non-null   object  >>>>>>  DROP THIS----Filter then OHE\n",
    " 5   room_type                       3864 non-null   object  >>>>>>  OHE\n",
    " 7   bathrooms_text                  3862 non-null   object  >>>>>>  OHE to start, otherwise use RE to split up\n",
    " 10  amenities                       3864 non-null   object  >>>>>>  DROP this for now:  cannot be count vectorized...need to do something different\n",
    " 14  has_availability                3864 non-null   object  >>>>>>  DONE --------map function\n",
    "\n",
    "\n",
    "''';"
   ]
  },
  {
   "cell_type": "code",
   "execution_count": 554,
   "id": "0889617f-7d08-4ccd-9fca-225503dce69a",
   "metadata": {},
   "outputs": [],
   "source": [
    "lstn_new.host_identity_verified = lstn_new.host_identity_verified.map({'t':1, 'f':0})\n",
    "lstn_new.has_availability = lstn_new.has_availability.map({'t':1, 'f':0})"
   ]
  },
  {
   "cell_type": "code",
   "execution_count": 555,
   "id": "75ab3504-12b9-40f7-9f92-883fbe46a7f6",
   "metadata": {},
   "outputs": [
    {
     "data": {
      "text/plain": [
       "Entire home/apt    2528\n",
       "Private room       1299\n",
       "Hotel room           21\n",
       "Shared room          16\n",
       "Name: room_type, dtype: int64"
      ]
     },
     "execution_count": 555,
     "metadata": {},
     "output_type": "execute_result"
    }
   ],
   "source": [
    "lstn_new.room_type.value_counts()"
   ]
  },
  {
   "cell_type": "code",
   "execution_count": 556,
   "id": "76d575a8-f258-4de7-8bce-f9cf4de1fe65",
   "metadata": {},
   "outputs": [],
   "source": [
    "lstn_new.drop(columns='property_type', inplace = True)"
   ]
  },
  {
   "cell_type": "code",
   "execution_count": 557,
   "id": "ed13a01c-16d0-4bcd-bd0e-e0426f4f229f",
   "metadata": {},
   "outputs": [
    {
     "name": "stdout",
     "output_type": "stream",
     "text": [
      "<class 'pandas.core.frame.DataFrame'>\n",
      "RangeIndex: 3864 entries, 0 to 3863\n",
      "Data columns (total 29 columns):\n",
      " #   Column                                        Non-Null Count  Dtype  \n",
      "---  ------                                        --------------  -----  \n",
      " 0   host_identity_verified                        3864 non-null   int64  \n",
      " 1   neighbourhood_cleansed                        3864 non-null   object \n",
      " 2   latitude                                      3864 non-null   float64\n",
      " 3   longitude                                     3864 non-null   float64\n",
      " 4   room_type                                     3864 non-null   object \n",
      " 5   accommodates                                  3864 non-null   int64  \n",
      " 6   bathrooms_text                                3862 non-null   object \n",
      " 7   bedrooms                                      3404 non-null   float64\n",
      " 8   beds                                          3784 non-null   float64\n",
      " 9   amenities                                     3864 non-null   object \n",
      " 10  price                                         3864 non-null   float64\n",
      " 11  minimum_nights                                3864 non-null   int64  \n",
      " 12  maximum_nights                                3864 non-null   int64  \n",
      " 13  has_availability                              3864 non-null   int64  \n",
      " 14  availability_30                               3864 non-null   int64  \n",
      " 15  availability_60                               3864 non-null   int64  \n",
      " 16  availability_90                               3864 non-null   int64  \n",
      " 17  availability_365                              3864 non-null   int64  \n",
      " 18  calculated_host_listings_count                3864 non-null   int64  \n",
      " 19  calculated_host_listings_count_entire_homes   3864 non-null   int64  \n",
      " 20  calculated_host_listings_count_private_rooms  3864 non-null   int64  \n",
      " 21  calculated_host_listings_count_shared_rooms   3864 non-null   int64  \n",
      " 22  host_id                                       3864 non-null   int64  \n",
      " 23  host_listings_count                           3864 non-null   int64  \n",
      " 24  host_response_time                            3344 non-null   object \n",
      " 25  host_response_rate                            3344 non-null   object \n",
      " 26  host_acceptance_rate                          3405 non-null   object \n",
      " 27  host_total_listings_count                     3864 non-null   int64  \n",
      " 28  review_scores_rating                          2741 non-null   float64\n",
      "dtypes: float64(6), int64(16), object(7)\n",
      "memory usage: 875.6+ KB\n"
     ]
    }
   ],
   "source": [
    "lstn_new.info()"
   ]
  },
  {
   "cell_type": "code",
   "execution_count": 558,
   "id": "dec9c124-481c-4940-835a-fcd6ce262b34",
   "metadata": {},
   "outputs": [
    {
     "data": {
      "text/plain": [
       "0       [\"Wifi\", \"Stove\", \"Kitchen\", \"Dishwasher\", \"Fr...\n",
       "1       [\"Wifi\", \"Keypad\", \"Free street parking\", \"Fir...\n",
       "2       [\"Wifi\", \"Stove\", \"Keypad\", \"Kitchen\", \"Dishwa...\n",
       "3       [\"Wifi\", \"Stove\", \"Kitchen\", \"Refrigerator\", \"...\n",
       "4       [\"Wifi\", \"Kitchen\", \"Window AC unit\", \"Free st...\n",
       "                              ...                        \n",
       "3859    [\"Wifi\", \"TV with standard cable\", \"Carbon mon...\n",
       "3860    [\"Wifi\", \"City skyline view\", \"Kitchen\", \"Dish...\n",
       "3861    [\"Wifi\", \"Stove\", \"Kitchen\", \"Dishwasher\", \"Fr...\n",
       "3862    [\"Wifi\", \"Keypad\", \"Free street parking\", \"Loc...\n",
       "3863    [\"Wifi\", \"Public or shared beach access\", \"Kit...\n",
       "Name: amenities, Length: 3864, dtype: object"
      ]
     },
     "execution_count": 558,
     "metadata": {},
     "output_type": "execute_result"
    }
   ],
   "source": [
    "lstn_new.amenities"
   ]
  },
  {
   "cell_type": "code",
   "execution_count": 559,
   "id": "beaa2597-267c-43ca-852a-4b58cca5fdc4",
   "metadata": {},
   "outputs": [],
   "source": [
    "lstn_new.drop(columns='amenities', inplace=True)"
   ]
  },
  {
   "cell_type": "code",
   "execution_count": 560,
   "id": "91b0bc3b-0d71-4146-833f-08a8d592bc1d",
   "metadata": {},
   "outputs": [
    {
     "name": "stdout",
     "output_type": "stream",
     "text": [
      "<class 'pandas.core.frame.DataFrame'>\n",
      "RangeIndex: 3864 entries, 0 to 3863\n",
      "Data columns (total 28 columns):\n",
      " #   Column                                        Non-Null Count  Dtype  \n",
      "---  ------                                        --------------  -----  \n",
      " 0   host_identity_verified                        3864 non-null   int64  \n",
      " 1   neighbourhood_cleansed                        3864 non-null   object \n",
      " 2   latitude                                      3864 non-null   float64\n",
      " 3   longitude                                     3864 non-null   float64\n",
      " 4   room_type                                     3864 non-null   object \n",
      " 5   accommodates                                  3864 non-null   int64  \n",
      " 6   bathrooms_text                                3862 non-null   object \n",
      " 7   bedrooms                                      3404 non-null   float64\n",
      " 8   beds                                          3784 non-null   float64\n",
      " 9   price                                         3864 non-null   float64\n",
      " 10  minimum_nights                                3864 non-null   int64  \n",
      " 11  maximum_nights                                3864 non-null   int64  \n",
      " 12  has_availability                              3864 non-null   int64  \n",
      " 13  availability_30                               3864 non-null   int64  \n",
      " 14  availability_60                               3864 non-null   int64  \n",
      " 15  availability_90                               3864 non-null   int64  \n",
      " 16  availability_365                              3864 non-null   int64  \n",
      " 17  calculated_host_listings_count                3864 non-null   int64  \n",
      " 18  calculated_host_listings_count_entire_homes   3864 non-null   int64  \n",
      " 19  calculated_host_listings_count_private_rooms  3864 non-null   int64  \n",
      " 20  calculated_host_listings_count_shared_rooms   3864 non-null   int64  \n",
      " 21  host_id                                       3864 non-null   int64  \n",
      " 22  host_listings_count                           3864 non-null   int64  \n",
      " 23  host_response_time                            3344 non-null   object \n",
      " 24  host_response_rate                            3344 non-null   object \n",
      " 25  host_acceptance_rate                          3405 non-null   object \n",
      " 26  host_total_listings_count                     3864 non-null   int64  \n",
      " 27  review_scores_rating                          2741 non-null   float64\n",
      "dtypes: float64(6), int64(16), object(6)\n",
      "memory usage: 845.4+ KB\n"
     ]
    }
   ],
   "source": [
    "lstn_new.info()"
   ]
  },
  {
   "cell_type": "code",
   "execution_count": 561,
   "id": "94a3160b-c6d1-4011-85ec-2cab1f663172",
   "metadata": {},
   "outputs": [],
   "source": [
    "lstn_new = pd.get_dummies(lstn_new, columns=['neighbourhood_cleansed', 'room_type', 'bathrooms_text'], drop_first=True)"
   ]
  },
  {
   "cell_type": "code",
   "execution_count": 562,
   "id": "6cae3fff-fd0a-41b8-9f08-2a4243d9b11b",
   "metadata": {},
   "outputs": [],
   "source": [
    "lstn_new.bedrooms.fillna(0, inplace=True)\n",
    "lstn_new.beds.fillna(0, inplace=True)"
   ]
  },
  {
   "cell_type": "code",
   "execution_count": 563,
   "id": "bbb4dd67-c5e0-4e4e-ab61-f66edc757489",
   "metadata": {},
   "outputs": [
    {
     "name": "stdout",
     "output_type": "stream",
     "text": [
      "<class 'pandas.core.frame.DataFrame'>\n",
      "RangeIndex: 3864 entries, 0 to 3863\n",
      "Data columns (total 73 columns):\n",
      " #   Column                                          Non-Null Count  Dtype  \n",
      "---  ------                                          --------------  -----  \n",
      " 0   host_identity_verified                          3864 non-null   int64  \n",
      " 1   latitude                                        3864 non-null   float64\n",
      " 2   longitude                                       3864 non-null   float64\n",
      " 3   accommodates                                    3864 non-null   int64  \n",
      " 4   bedrooms                                        3864 non-null   float64\n",
      " 5   beds                                            3864 non-null   float64\n",
      " 6   price                                           3864 non-null   float64\n",
      " 7   minimum_nights                                  3864 non-null   int64  \n",
      " 8   maximum_nights                                  3864 non-null   int64  \n",
      " 9   has_availability                                3864 non-null   int64  \n",
      " 10  availability_30                                 3864 non-null   int64  \n",
      " 11  availability_60                                 3864 non-null   int64  \n",
      " 12  availability_90                                 3864 non-null   int64  \n",
      " 13  availability_365                                3864 non-null   int64  \n",
      " 14  calculated_host_listings_count                  3864 non-null   int64  \n",
      " 15  calculated_host_listings_count_entire_homes     3864 non-null   int64  \n",
      " 16  calculated_host_listings_count_private_rooms    3864 non-null   int64  \n",
      " 17  calculated_host_listings_count_shared_rooms     3864 non-null   int64  \n",
      " 18  host_id                                         3864 non-null   int64  \n",
      " 19  host_listings_count                             3864 non-null   int64  \n",
      " 20  host_response_time                              3344 non-null   object \n",
      " 21  host_response_rate                              3344 non-null   object \n",
      " 22  host_acceptance_rate                            3405 non-null   object \n",
      " 23  host_total_listings_count                       3864 non-null   int64  \n",
      " 24  review_scores_rating                            2741 non-null   float64\n",
      " 25  neighbourhood_cleansed_Back Bay                 3864 non-null   uint8  \n",
      " 26  neighbourhood_cleansed_Bay Village              3864 non-null   uint8  \n",
      " 27  neighbourhood_cleansed_Beacon Hill              3864 non-null   uint8  \n",
      " 28  neighbourhood_cleansed_Brighton                 3864 non-null   uint8  \n",
      " 29  neighbourhood_cleansed_Charlestown              3864 non-null   uint8  \n",
      " 30  neighbourhood_cleansed_Chinatown                3864 non-null   uint8  \n",
      " 31  neighbourhood_cleansed_Dorchester               3864 non-null   uint8  \n",
      " 32  neighbourhood_cleansed_Downtown                 3864 non-null   uint8  \n",
      " 33  neighbourhood_cleansed_East Boston              3864 non-null   uint8  \n",
      " 34  neighbourhood_cleansed_Fenway                   3864 non-null   uint8  \n",
      " 35  neighbourhood_cleansed_Hyde Park                3864 non-null   uint8  \n",
      " 36  neighbourhood_cleansed_Jamaica Plain            3864 non-null   uint8  \n",
      " 37  neighbourhood_cleansed_Leather District         3864 non-null   uint8  \n",
      " 38  neighbourhood_cleansed_Longwood Medical Area    3864 non-null   uint8  \n",
      " 39  neighbourhood_cleansed_Mattapan                 3864 non-null   uint8  \n",
      " 40  neighbourhood_cleansed_Mission Hill             3864 non-null   uint8  \n",
      " 41  neighbourhood_cleansed_North End                3864 non-null   uint8  \n",
      " 42  neighbourhood_cleansed_Roslindale               3864 non-null   uint8  \n",
      " 43  neighbourhood_cleansed_Roxbury                  3864 non-null   uint8  \n",
      " 44  neighbourhood_cleansed_South Boston             3864 non-null   uint8  \n",
      " 45  neighbourhood_cleansed_South Boston Waterfront  3864 non-null   uint8  \n",
      " 46  neighbourhood_cleansed_South End                3864 non-null   uint8  \n",
      " 47  neighbourhood_cleansed_West End                 3864 non-null   uint8  \n",
      " 48  neighbourhood_cleansed_West Roxbury             3864 non-null   uint8  \n",
      " 49  room_type_Hotel room                            3864 non-null   uint8  \n",
      " 50  room_type_Private room                          3864 non-null   uint8  \n",
      " 51  room_type_Shared room                           3864 non-null   uint8  \n",
      " 52  bathrooms_text_0 shared baths                   3864 non-null   uint8  \n",
      " 53  bathrooms_text_1 bath                           3864 non-null   uint8  \n",
      " 54  bathrooms_text_1 private bath                   3864 non-null   uint8  \n",
      " 55  bathrooms_text_1 shared bath                    3864 non-null   uint8  \n",
      " 56  bathrooms_text_1.5 baths                        3864 non-null   uint8  \n",
      " 57  bathrooms_text_1.5 shared baths                 3864 non-null   uint8  \n",
      " 58  bathrooms_text_2 baths                          3864 non-null   uint8  \n",
      " 59  bathrooms_text_2 shared baths                   3864 non-null   uint8  \n",
      " 60  bathrooms_text_2.5 baths                        3864 non-null   uint8  \n",
      " 61  bathrooms_text_2.5 shared baths                 3864 non-null   uint8  \n",
      " 62  bathrooms_text_3 baths                          3864 non-null   uint8  \n",
      " 63  bathrooms_text_3 shared baths                   3864 non-null   uint8  \n",
      " 64  bathrooms_text_3.5 baths                        3864 non-null   uint8  \n",
      " 65  bathrooms_text_3.5 shared baths                 3864 non-null   uint8  \n",
      " 66  bathrooms_text_4 baths                          3864 non-null   uint8  \n",
      " 67  bathrooms_text_4 shared baths                   3864 non-null   uint8  \n",
      " 68  bathrooms_text_4.5 baths                        3864 non-null   uint8  \n",
      " 69  bathrooms_text_5 baths                          3864 non-null   uint8  \n",
      " 70  bathrooms_text_6 baths                          3864 non-null   uint8  \n",
      " 71  bathrooms_text_Half-bath                        3864 non-null   uint8  \n",
      " 72  bathrooms_text_Private half-bath                3864 non-null   uint8  \n",
      "dtypes: float64(6), int64(16), object(3), uint8(48)\n",
      "memory usage: 935.9+ KB\n"
     ]
    }
   ],
   "source": [
    "lstn_new.info()"
   ]
  },
  {
   "cell_type": "code",
   "execution_count": 564,
   "id": "3e8e83f5-2ab2-4a18-b443-1da54c4752d2",
   "metadata": {},
   "outputs": [],
   "source": [
    "lstn_new.dropna(inplace=True)"
   ]
  },
  {
   "cell_type": "code",
   "execution_count": 565,
   "id": "58f33e4c-9c12-4be2-b4e5-ce6c45c4f085",
   "metadata": {},
   "outputs": [
    {
     "name": "stdout",
     "output_type": "stream",
     "text": [
      "<class 'pandas.core.frame.DataFrame'>\n",
      "Int64Index: 2346 entries, 0 to 3863\n",
      "Data columns (total 73 columns):\n",
      " #   Column                                          Non-Null Count  Dtype  \n",
      "---  ------                                          --------------  -----  \n",
      " 0   host_identity_verified                          2346 non-null   int64  \n",
      " 1   latitude                                        2346 non-null   float64\n",
      " 2   longitude                                       2346 non-null   float64\n",
      " 3   accommodates                                    2346 non-null   int64  \n",
      " 4   bedrooms                                        2346 non-null   float64\n",
      " 5   beds                                            2346 non-null   float64\n",
      " 6   price                                           2346 non-null   float64\n",
      " 7   minimum_nights                                  2346 non-null   int64  \n",
      " 8   maximum_nights                                  2346 non-null   int64  \n",
      " 9   has_availability                                2346 non-null   int64  \n",
      " 10  availability_30                                 2346 non-null   int64  \n",
      " 11  availability_60                                 2346 non-null   int64  \n",
      " 12  availability_90                                 2346 non-null   int64  \n",
      " 13  availability_365                                2346 non-null   int64  \n",
      " 14  calculated_host_listings_count                  2346 non-null   int64  \n",
      " 15  calculated_host_listings_count_entire_homes     2346 non-null   int64  \n",
      " 16  calculated_host_listings_count_private_rooms    2346 non-null   int64  \n",
      " 17  calculated_host_listings_count_shared_rooms     2346 non-null   int64  \n",
      " 18  host_id                                         2346 non-null   int64  \n",
      " 19  host_listings_count                             2346 non-null   int64  \n",
      " 20  host_response_time                              2346 non-null   object \n",
      " 21  host_response_rate                              2346 non-null   object \n",
      " 22  host_acceptance_rate                            2346 non-null   object \n",
      " 23  host_total_listings_count                       2346 non-null   int64  \n",
      " 24  review_scores_rating                            2346 non-null   float64\n",
      " 25  neighbourhood_cleansed_Back Bay                 2346 non-null   uint8  \n",
      " 26  neighbourhood_cleansed_Bay Village              2346 non-null   uint8  \n",
      " 27  neighbourhood_cleansed_Beacon Hill              2346 non-null   uint8  \n",
      " 28  neighbourhood_cleansed_Brighton                 2346 non-null   uint8  \n",
      " 29  neighbourhood_cleansed_Charlestown              2346 non-null   uint8  \n",
      " 30  neighbourhood_cleansed_Chinatown                2346 non-null   uint8  \n",
      " 31  neighbourhood_cleansed_Dorchester               2346 non-null   uint8  \n",
      " 32  neighbourhood_cleansed_Downtown                 2346 non-null   uint8  \n",
      " 33  neighbourhood_cleansed_East Boston              2346 non-null   uint8  \n",
      " 34  neighbourhood_cleansed_Fenway                   2346 non-null   uint8  \n",
      " 35  neighbourhood_cleansed_Hyde Park                2346 non-null   uint8  \n",
      " 36  neighbourhood_cleansed_Jamaica Plain            2346 non-null   uint8  \n",
      " 37  neighbourhood_cleansed_Leather District         2346 non-null   uint8  \n",
      " 38  neighbourhood_cleansed_Longwood Medical Area    2346 non-null   uint8  \n",
      " 39  neighbourhood_cleansed_Mattapan                 2346 non-null   uint8  \n",
      " 40  neighbourhood_cleansed_Mission Hill             2346 non-null   uint8  \n",
      " 41  neighbourhood_cleansed_North End                2346 non-null   uint8  \n",
      " 42  neighbourhood_cleansed_Roslindale               2346 non-null   uint8  \n",
      " 43  neighbourhood_cleansed_Roxbury                  2346 non-null   uint8  \n",
      " 44  neighbourhood_cleansed_South Boston             2346 non-null   uint8  \n",
      " 45  neighbourhood_cleansed_South Boston Waterfront  2346 non-null   uint8  \n",
      " 46  neighbourhood_cleansed_South End                2346 non-null   uint8  \n",
      " 47  neighbourhood_cleansed_West End                 2346 non-null   uint8  \n",
      " 48  neighbourhood_cleansed_West Roxbury             2346 non-null   uint8  \n",
      " 49  room_type_Hotel room                            2346 non-null   uint8  \n",
      " 50  room_type_Private room                          2346 non-null   uint8  \n",
      " 51  room_type_Shared room                           2346 non-null   uint8  \n",
      " 52  bathrooms_text_0 shared baths                   2346 non-null   uint8  \n",
      " 53  bathrooms_text_1 bath                           2346 non-null   uint8  \n",
      " 54  bathrooms_text_1 private bath                   2346 non-null   uint8  \n",
      " 55  bathrooms_text_1 shared bath                    2346 non-null   uint8  \n",
      " 56  bathrooms_text_1.5 baths                        2346 non-null   uint8  \n",
      " 57  bathrooms_text_1.5 shared baths                 2346 non-null   uint8  \n",
      " 58  bathrooms_text_2 baths                          2346 non-null   uint8  \n",
      " 59  bathrooms_text_2 shared baths                   2346 non-null   uint8  \n",
      " 60  bathrooms_text_2.5 baths                        2346 non-null   uint8  \n",
      " 61  bathrooms_text_2.5 shared baths                 2346 non-null   uint8  \n",
      " 62  bathrooms_text_3 baths                          2346 non-null   uint8  \n",
      " 63  bathrooms_text_3 shared baths                   2346 non-null   uint8  \n",
      " 64  bathrooms_text_3.5 baths                        2346 non-null   uint8  \n",
      " 65  bathrooms_text_3.5 shared baths                 2346 non-null   uint8  \n",
      " 66  bathrooms_text_4 baths                          2346 non-null   uint8  \n",
      " 67  bathrooms_text_4 shared baths                   2346 non-null   uint8  \n",
      " 68  bathrooms_text_4.5 baths                        2346 non-null   uint8  \n",
      " 69  bathrooms_text_5 baths                          2346 non-null   uint8  \n",
      " 70  bathrooms_text_6 baths                          2346 non-null   uint8  \n",
      " 71  bathrooms_text_Half-bath                        2346 non-null   uint8  \n",
      " 72  bathrooms_text_Private half-bath                2346 non-null   uint8  \n",
      "dtypes: float64(6), int64(16), object(3), uint8(48)\n",
      "memory usage: 586.5+ KB\n"
     ]
    }
   ],
   "source": [
    "lstn_new.info()"
   ]
  },
  {
   "cell_type": "code",
   "execution_count": 567,
   "id": "38441331-690b-4976-bb14-b709b3773888",
   "metadata": {},
   "outputs": [],
   "source": [
    "lstn_new.host_response_rate = lstn_new.host_response_rate.apply(lambda x: (float(x.replace('%', '').strip())))\n",
    "lstn_new.host_acceptance_rate = lstn_new.host_acceptance_rate.apply(lambda x: (float(x.replace('%', '').strip())))"
   ]
  },
  {
   "cell_type": "code",
   "execution_count": 569,
   "id": "b84fcd37-33e3-491b-a9f9-c89cde29a8b5",
   "metadata": {},
   "outputs": [],
   "source": [
    "lstn_new = pd.get_dummies(lstn_new, columns=['host_response_time'], drop_first=True)"
   ]
  },
  {
   "cell_type": "code",
   "execution_count": 571,
   "id": "597feefb-48e9-4056-85f4-78f11afd3375",
   "metadata": {},
   "outputs": [
    {
     "name": "stdout",
     "output_type": "stream",
     "text": [
      "<class 'pandas.core.frame.DataFrame'>\n",
      "Int64Index: 2346 entries, 0 to 3863\n",
      "Data columns (total 75 columns):\n",
      " #   Column                                          Non-Null Count  Dtype  \n",
      "---  ------                                          --------------  -----  \n",
      " 0   host_identity_verified                          2346 non-null   int64  \n",
      " 1   latitude                                        2346 non-null   float64\n",
      " 2   longitude                                       2346 non-null   float64\n",
      " 3   accommodates                                    2346 non-null   int64  \n",
      " 4   bedrooms                                        2346 non-null   float64\n",
      " 5   beds                                            2346 non-null   float64\n",
      " 6   price                                           2346 non-null   float64\n",
      " 7   minimum_nights                                  2346 non-null   int64  \n",
      " 8   maximum_nights                                  2346 non-null   int64  \n",
      " 9   has_availability                                2346 non-null   int64  \n",
      " 10  availability_30                                 2346 non-null   int64  \n",
      " 11  availability_60                                 2346 non-null   int64  \n",
      " 12  availability_90                                 2346 non-null   int64  \n",
      " 13  availability_365                                2346 non-null   int64  \n",
      " 14  calculated_host_listings_count                  2346 non-null   int64  \n",
      " 15  calculated_host_listings_count_entire_homes     2346 non-null   int64  \n",
      " 16  calculated_host_listings_count_private_rooms    2346 non-null   int64  \n",
      " 17  calculated_host_listings_count_shared_rooms     2346 non-null   int64  \n",
      " 18  host_id                                         2346 non-null   int64  \n",
      " 19  host_listings_count                             2346 non-null   int64  \n",
      " 20  host_response_rate                              2346 non-null   float64\n",
      " 21  host_acceptance_rate                            2346 non-null   float64\n",
      " 22  host_total_listings_count                       2346 non-null   int64  \n",
      " 23  review_scores_rating                            2346 non-null   float64\n",
      " 24  neighbourhood_cleansed_Back Bay                 2346 non-null   uint8  \n",
      " 25  neighbourhood_cleansed_Bay Village              2346 non-null   uint8  \n",
      " 26  neighbourhood_cleansed_Beacon Hill              2346 non-null   uint8  \n",
      " 27  neighbourhood_cleansed_Brighton                 2346 non-null   uint8  \n",
      " 28  neighbourhood_cleansed_Charlestown              2346 non-null   uint8  \n",
      " 29  neighbourhood_cleansed_Chinatown                2346 non-null   uint8  \n",
      " 30  neighbourhood_cleansed_Dorchester               2346 non-null   uint8  \n",
      " 31  neighbourhood_cleansed_Downtown                 2346 non-null   uint8  \n",
      " 32  neighbourhood_cleansed_East Boston              2346 non-null   uint8  \n",
      " 33  neighbourhood_cleansed_Fenway                   2346 non-null   uint8  \n",
      " 34  neighbourhood_cleansed_Hyde Park                2346 non-null   uint8  \n",
      " 35  neighbourhood_cleansed_Jamaica Plain            2346 non-null   uint8  \n",
      " 36  neighbourhood_cleansed_Leather District         2346 non-null   uint8  \n",
      " 37  neighbourhood_cleansed_Longwood Medical Area    2346 non-null   uint8  \n",
      " 38  neighbourhood_cleansed_Mattapan                 2346 non-null   uint8  \n",
      " 39  neighbourhood_cleansed_Mission Hill             2346 non-null   uint8  \n",
      " 40  neighbourhood_cleansed_North End                2346 non-null   uint8  \n",
      " 41  neighbourhood_cleansed_Roslindale               2346 non-null   uint8  \n",
      " 42  neighbourhood_cleansed_Roxbury                  2346 non-null   uint8  \n",
      " 43  neighbourhood_cleansed_South Boston             2346 non-null   uint8  \n",
      " 44  neighbourhood_cleansed_South Boston Waterfront  2346 non-null   uint8  \n",
      " 45  neighbourhood_cleansed_South End                2346 non-null   uint8  \n",
      " 46  neighbourhood_cleansed_West End                 2346 non-null   uint8  \n",
      " 47  neighbourhood_cleansed_West Roxbury             2346 non-null   uint8  \n",
      " 48  room_type_Hotel room                            2346 non-null   uint8  \n",
      " 49  room_type_Private room                          2346 non-null   uint8  \n",
      " 50  room_type_Shared room                           2346 non-null   uint8  \n",
      " 51  bathrooms_text_0 shared baths                   2346 non-null   uint8  \n",
      " 52  bathrooms_text_1 bath                           2346 non-null   uint8  \n",
      " 53  bathrooms_text_1 private bath                   2346 non-null   uint8  \n",
      " 54  bathrooms_text_1 shared bath                    2346 non-null   uint8  \n",
      " 55  bathrooms_text_1.5 baths                        2346 non-null   uint8  \n",
      " 56  bathrooms_text_1.5 shared baths                 2346 non-null   uint8  \n",
      " 57  bathrooms_text_2 baths                          2346 non-null   uint8  \n",
      " 58  bathrooms_text_2 shared baths                   2346 non-null   uint8  \n",
      " 59  bathrooms_text_2.5 baths                        2346 non-null   uint8  \n",
      " 60  bathrooms_text_2.5 shared baths                 2346 non-null   uint8  \n",
      " 61  bathrooms_text_3 baths                          2346 non-null   uint8  \n",
      " 62  bathrooms_text_3 shared baths                   2346 non-null   uint8  \n",
      " 63  bathrooms_text_3.5 baths                        2346 non-null   uint8  \n",
      " 64  bathrooms_text_3.5 shared baths                 2346 non-null   uint8  \n",
      " 65  bathrooms_text_4 baths                          2346 non-null   uint8  \n",
      " 66  bathrooms_text_4 shared baths                   2346 non-null   uint8  \n",
      " 67  bathrooms_text_4.5 baths                        2346 non-null   uint8  \n",
      " 68  bathrooms_text_5 baths                          2346 non-null   uint8  \n",
      " 69  bathrooms_text_6 baths                          2346 non-null   uint8  \n",
      " 70  bathrooms_text_Half-bath                        2346 non-null   uint8  \n",
      " 71  bathrooms_text_Private half-bath                2346 non-null   uint8  \n",
      " 72  host_response_time_within a day                 2346 non-null   uint8  \n",
      " 73  host_response_time_within a few hours           2346 non-null   uint8  \n",
      " 74  host_response_time_within an hour               2346 non-null   uint8  \n",
      "dtypes: float64(8), int64(16), uint8(51)\n",
      "memory usage: 575.0 KB\n"
     ]
    }
   ],
   "source": [
    "lstn_new.info()"
   ]
  },
  {
   "cell_type": "code",
   "execution_count": null,
   "id": "2ce571e5-1930-4443-b60b-aedf7f18eb03",
   "metadata": {},
   "outputs": [],
   "source": []
  },
  {
   "cell_type": "code",
   "execution_count": null,
   "id": "bc17104c-be0e-4f30-bfad-60c09c3229c2",
   "metadata": {},
   "outputs": [],
   "source": []
  },
  {
   "cell_type": "code",
   "execution_count": 572,
   "id": "8efc4e3a-5b95-43e5-8a48-9300af0d1782",
   "metadata": {},
   "outputs": [],
   "source": [
    "lr_rev = LinearRegression()"
   ]
  },
  {
   "cell_type": "code",
   "execution_count": 573,
   "id": "b46d79cc-471b-44b4-82b0-3e2bd277e4fa",
   "metadata": {
    "tags": []
   },
   "outputs": [],
   "source": [
    "X = lstn_new.drop(columns='review_scores_rating')\n",
    "y = lstn_new.review_scores_rating"
   ]
  },
  {
   "cell_type": "code",
   "execution_count": 574,
   "id": "53fcdc6b-cd5f-4a24-b031-78fc16db8873",
   "metadata": {},
   "outputs": [],
   "source": [
    "X_train, X_test, y_train, y_test = train_test_split(X, y, train_size=0.8, random_state=42)"
   ]
  },
  {
   "cell_type": "code",
   "execution_count": 575,
   "id": "f281f40f-65cf-42d2-b101-981be37f9e1b",
   "metadata": {},
   "outputs": [
    {
     "data": {
      "text/html": [
       "<style>#sk-container-id-10 {color: black;background-color: white;}#sk-container-id-10 pre{padding: 0;}#sk-container-id-10 div.sk-toggleable {background-color: white;}#sk-container-id-10 label.sk-toggleable__label {cursor: pointer;display: block;width: 100%;margin-bottom: 0;padding: 0.3em;box-sizing: border-box;text-align: center;}#sk-container-id-10 label.sk-toggleable__label-arrow:before {content: \"▸\";float: left;margin-right: 0.25em;color: #696969;}#sk-container-id-10 label.sk-toggleable__label-arrow:hover:before {color: black;}#sk-container-id-10 div.sk-estimator:hover label.sk-toggleable__label-arrow:before {color: black;}#sk-container-id-10 div.sk-toggleable__content {max-height: 0;max-width: 0;overflow: hidden;text-align: left;background-color: #f0f8ff;}#sk-container-id-10 div.sk-toggleable__content pre {margin: 0.2em;color: black;border-radius: 0.25em;background-color: #f0f8ff;}#sk-container-id-10 input.sk-toggleable__control:checked~div.sk-toggleable__content {max-height: 200px;max-width: 100%;overflow: auto;}#sk-container-id-10 input.sk-toggleable__control:checked~label.sk-toggleable__label-arrow:before {content: \"▾\";}#sk-container-id-10 div.sk-estimator input.sk-toggleable__control:checked~label.sk-toggleable__label {background-color: #d4ebff;}#sk-container-id-10 div.sk-label input.sk-toggleable__control:checked~label.sk-toggleable__label {background-color: #d4ebff;}#sk-container-id-10 input.sk-hidden--visually {border: 0;clip: rect(1px 1px 1px 1px);clip: rect(1px, 1px, 1px, 1px);height: 1px;margin: -1px;overflow: hidden;padding: 0;position: absolute;width: 1px;}#sk-container-id-10 div.sk-estimator {font-family: monospace;background-color: #f0f8ff;border: 1px dotted black;border-radius: 0.25em;box-sizing: border-box;margin-bottom: 0.5em;}#sk-container-id-10 div.sk-estimator:hover {background-color: #d4ebff;}#sk-container-id-10 div.sk-parallel-item::after {content: \"\";width: 100%;border-bottom: 1px solid gray;flex-grow: 1;}#sk-container-id-10 div.sk-label:hover label.sk-toggleable__label {background-color: #d4ebff;}#sk-container-id-10 div.sk-serial::before {content: \"\";position: absolute;border-left: 1px solid gray;box-sizing: border-box;top: 0;bottom: 0;left: 50%;z-index: 0;}#sk-container-id-10 div.sk-serial {display: flex;flex-direction: column;align-items: center;background-color: white;padding-right: 0.2em;padding-left: 0.2em;position: relative;}#sk-container-id-10 div.sk-item {position: relative;z-index: 1;}#sk-container-id-10 div.sk-parallel {display: flex;align-items: stretch;justify-content: center;background-color: white;position: relative;}#sk-container-id-10 div.sk-item::before, #sk-container-id-10 div.sk-parallel-item::before {content: \"\";position: absolute;border-left: 1px solid gray;box-sizing: border-box;top: 0;bottom: 0;left: 50%;z-index: -1;}#sk-container-id-10 div.sk-parallel-item {display: flex;flex-direction: column;z-index: 1;position: relative;background-color: white;}#sk-container-id-10 div.sk-parallel-item:first-child::after {align-self: flex-end;width: 50%;}#sk-container-id-10 div.sk-parallel-item:last-child::after {align-self: flex-start;width: 50%;}#sk-container-id-10 div.sk-parallel-item:only-child::after {width: 0;}#sk-container-id-10 div.sk-dashed-wrapped {border: 1px dashed gray;margin: 0 0.4em 0.5em 0.4em;box-sizing: border-box;padding-bottom: 0.4em;background-color: white;}#sk-container-id-10 div.sk-label label {font-family: monospace;font-weight: bold;display: inline-block;line-height: 1.2em;}#sk-container-id-10 div.sk-label-container {text-align: center;}#sk-container-id-10 div.sk-container {/* jupyter's `normalize.less` sets `[hidden] { display: none; }` but bootstrap.min.css set `[hidden] { display: none !important; }` so we also need the `!important` here to be able to override the default hidden behavior on the sphinx rendered scikit-learn.org. See: https://github.com/scikit-learn/scikit-learn/issues/21755 */display: inline-block !important;position: relative;}#sk-container-id-10 div.sk-text-repr-fallback {display: none;}</style><div id=\"sk-container-id-10\" class=\"sk-top-container\"><div class=\"sk-text-repr-fallback\"><pre>LinearRegression()</pre><b>In a Jupyter environment, please rerun this cell to show the HTML representation or trust the notebook. <br />On GitHub, the HTML representation is unable to render, please try loading this page with nbviewer.org.</b></div><div class=\"sk-container\" hidden><div class=\"sk-item\"><div class=\"sk-estimator sk-toggleable\"><input class=\"sk-toggleable__control sk-hidden--visually\" id=\"sk-estimator-id-10\" type=\"checkbox\" checked><label for=\"sk-estimator-id-10\" class=\"sk-toggleable__label sk-toggleable__label-arrow\">LinearRegression</label><div class=\"sk-toggleable__content\"><pre>LinearRegression()</pre></div></div></div></div></div>"
      ],
      "text/plain": [
       "LinearRegression()"
      ]
     },
     "execution_count": 575,
     "metadata": {},
     "output_type": "execute_result"
    }
   ],
   "source": [
    "lr_rev.fit(X_train, y_train)"
   ]
  },
  {
   "cell_type": "code",
   "execution_count": 576,
   "id": "49669587-f94a-47e9-943c-2e1716b9ff67",
   "metadata": {},
   "outputs": [
    {
     "data": {
      "text/plain": [
       "0.16616027512558496"
      ]
     },
     "execution_count": 576,
     "metadata": {},
     "output_type": "execute_result"
    }
   ],
   "source": [
    "lr_rev.score(X_train, y_train)"
   ]
  },
  {
   "cell_type": "code",
   "execution_count": 577,
   "id": "09b43aef-2d42-4f8d-a4e3-b0fb7e55ad68",
   "metadata": {},
   "outputs": [
    {
     "data": {
      "text/plain": [
       "0.14842426024217248"
      ]
     },
     "execution_count": 577,
     "metadata": {},
     "output_type": "execute_result"
    }
   ],
   "source": [
    "lr_rev.score(X_test, y_test)"
   ]
  },
  {
   "cell_type": "code",
   "execution_count": 578,
   "id": "ad52806b-981f-413b-88e6-47812cf5c777",
   "metadata": {},
   "outputs": [
    {
     "data": {
      "text/plain": [
       "<matplotlib.collections.PathCollection at 0x2e20676bd60>"
      ]
     },
     "execution_count": 578,
     "metadata": {},
     "output_type": "execute_result"
    },
    {
     "data": {
      "image/png": "[encoded data removed]",
      "text/plain": [
       "<Figure size 640x480 with 1 Axes>"
      ]
     },
     "metadata": {},
     "output_type": "display_data"
    }
   ],
   "source": [
    "plt.scatter(y_test, lr_rev.predict(X_test))"
   ]
  },
  {
   "cell_type": "code",
   "execution_count": 523,
   "id": "586a1d81-fa62-40eb-b214-df330064ba8c",
   "metadata": {},
   "outputs": [],
   "source": [
    "preds = lr_rev.predict(X_test)"
   ]
  },
  {
   "cell_type": "code",
   "execution_count": 524,
   "id": "c3961e3d-4506-4a18-bb6d-2cffdf4a43ba",
   "metadata": {},
   "outputs": [
    {
     "data": {
      "text/plain": [
       "549"
      ]
     },
     "execution_count": 524,
     "metadata": {},
     "output_type": "execute_result"
    }
   ],
   "source": [
    "len(y_test)"
   ]
  },
  {
   "cell_type": "code",
   "execution_count": 525,
   "id": "5cea9538-9586-4c9b-a4a8-be3493cf7c4b",
   "metadata": {},
   "outputs": [
    {
     "data": {
      "text/html": [
       "<div>\n",
       "<style scoped>\n",
       "    .dataframe tbody tr th:only-of-type {\n",
       "        vertical-align: middle;\n",
       "    }\n",
       "\n",
       "    .dataframe tbody tr th {\n",
       "        vertical-align: top;\n",
       "    }\n",
       "\n",
       "    .dataframe thead th {\n",
       "        text-align: right;\n",
       "    }\n",
       "</style>\n",
       "<table border=\"1\" class=\"dataframe\">\n",
       "  <thead>\n",
       "    <tr style=\"text-align: right;\">\n",
       "      <th></th>\n",
       "      <th>0</th>\n",
       "      <th>1</th>\n",
       "    </tr>\n",
       "  </thead>\n",
       "  <tbody>\n",
       "    <tr>\n",
       "      <th>0</th>\n",
       "      <td>1.000000</td>\n",
       "      <td>0.306372</td>\n",
       "    </tr>\n",
       "    <tr>\n",
       "      <th>1</th>\n",
       "      <td>0.306372</td>\n",
       "      <td>1.000000</td>\n",
       "    </tr>\n",
       "  </tbody>\n",
       "</table>\n",
       "</div>"
      ],
      "text/plain": [
       "          0         1\n",
       "0  1.000000  0.306372\n",
       "1  0.306372  1.000000"
      ]
     },
     "execution_count": 525,
     "metadata": {},
     "output_type": "execute_result"
    }
   ],
   "source": [
    "pd.DataFrame([list(y_test), lr_rev.predict(X_test)]).T.corr()"
   ]
  },
  {
   "cell_type": "code",
   "execution_count": null,
   "id": "fe7d4458-9f62-4737-8900-dbd4b8d92602",
   "metadata": {},
   "outputs": [],
   "source": []
  },
  {
   "cell_type": "code",
   "execution_count": null,
   "id": "7df21664-8961-4cf1-bcd4-b05d64c80352",
   "metadata": {},
   "outputs": [],
   "source": []
  },
  {
   "cell_type": "code",
   "execution_count": null,
   "id": "4782bb6b-f39c-44e2-8a10-30863ffe566e",
   "metadata": {},
   "outputs": [],
   "source": []
  },
  {
   "cell_type": "code",
   "execution_count": null,
   "id": "d0e4d5f3-cd05-4dad-82ac-d04edf01ea45",
   "metadata": {},
   "outputs": [],
   "source": []
  },
  {
   "cell_type": "code",
   "execution_count": null,
   "id": "af8192bf-a4b5-4149-bd01-1ac117d0222a",
   "metadata": {},
   "outputs": [],
   "source": []
  },
  {
   "cell_type": "code",
   "execution_count": null,
   "id": "7957dea9-1897-4983-b8b4-9106c2b8acca",
   "metadata": {},
   "outputs": [],
   "source": []
  },
  {
   "cell_type": "code",
   "execution_count": null,
   "id": "3f903747-730c-4d69-b0e9-ba5e70a4cdad",
   "metadata": {},
   "outputs": [],
   "source": []
  },
  {
   "cell_type": "code",
   "execution_count": null,
   "id": "a2c457a5-e3c0-45b0-92b9-d6e3fdfdb08e",
   "metadata": {},
   "outputs": [],
   "source": []
  },
  {
   "cell_type": "code",
   "execution_count": null,
   "id": "6bb1c98b-81cc-4d58-8c7e-77ca80cf37d6",
   "metadata": {},
   "outputs": [],
   "source": []
  },
  {
   "cell_type": "code",
   "execution_count": null,
   "id": "db23aaef-b060-4bb3-b7ca-c493766d7f81",
   "metadata": {},
   "outputs": [],
   "source": []
  },
  {
   "cell_type": "code",
   "execution_count": null,
   "id": "4380fa31-4b4d-4cef-8255-4df4c23eeb80",
   "metadata": {},
   "outputs": [],
   "source": []
  },
  {
   "cell_type": "code",
   "execution_count": null,
   "id": "44f03ae0-a71a-4546-8662-73b61e996c9d",
   "metadata": {},
   "outputs": [],
   "source": []
  },
  {
   "cell_type": "code",
   "execution_count": null,
   "id": "8e73d89e-74de-4e84-bc3d-56825e63ceb2",
   "metadata": {},
   "outputs": [],
   "source": []
  },
  {
   "cell_type": "markdown",
   "id": "7b55e5ab-6547-4efd-b926-f39b65e7c6b1",
   "metadata": {},
   "source": [
    "# Calendar Quick check"
   ]
  },
  {
   "cell_type": "code",
   "execution_count": 9,
   "id": "7cfe3a91-d9d3-4f28-933a-70f6bae5cde2",
   "metadata": {},
   "outputs": [],
   "source": [
    "calendar = pd.read_csv('../data/calendar.csv')"
   ]
  },
  {
   "cell_type": "code",
   "execution_count": 10,
   "id": "2cc1a3a0-70fd-4be7-ad61-c02c94d285f4",
   "metadata": {},
   "outputs": [
    {
     "data": {
      "text/html": [
       "<div>\n",
       "<style scoped>\n",
       "    .dataframe tbody tr th:only-of-type {\n",
       "        vertical-align: middle;\n",
       "    }\n",
       "\n",
       "    .dataframe tbody tr th {\n",
       "        vertical-align: top;\n",
       "    }\n",
       "\n",
       "    .dataframe thead th {\n",
       "        text-align: right;\n",
       "    }\n",
       "</style>\n",
       "<table border=\"1\" class=\"dataframe\">\n",
       "  <thead>\n",
       "    <tr style=\"text-align: right;\">\n",
       "      <th></th>\n",
       "      <th>listing_id</th>\n",
       "      <th>date</th>\n",
       "      <th>available</th>\n",
       "      <th>price</th>\n",
       "      <th>adjusted_price</th>\n",
       "      <th>minimum_nights</th>\n",
       "      <th>maximum_nights</th>\n",
       "    </tr>\n",
       "  </thead>\n",
       "  <tbody>\n",
       "    <tr>\n",
       "      <th>0</th>\n",
       "      <td>3781</td>\n",
       "      <td>2023-03-19</td>\n",
       "      <td>f</td>\n",
       "      <td>$125.00</td>\n",
       "      <td>$125.00</td>\n",
       "      <td>32.0</td>\n",
       "      <td>1125.0</td>\n",
       "    </tr>\n",
       "    <tr>\n",
       "      <th>1</th>\n",
       "      <td>3781</td>\n",
       "      <td>2023-03-20</td>\n",
       "      <td>f</td>\n",
       "      <td>$125.00</td>\n",
       "      <td>$125.00</td>\n",
       "      <td>32.0</td>\n",
       "      <td>1125.0</td>\n",
       "    </tr>\n",
       "    <tr>\n",
       "      <th>2</th>\n",
       "      <td>3781</td>\n",
       "      <td>2023-03-21</td>\n",
       "      <td>f</td>\n",
       "      <td>$125.00</td>\n",
       "      <td>$125.00</td>\n",
       "      <td>32.0</td>\n",
       "      <td>1125.0</td>\n",
       "    </tr>\n",
       "    <tr>\n",
       "      <th>3</th>\n",
       "      <td>3781</td>\n",
       "      <td>2023-03-22</td>\n",
       "      <td>f</td>\n",
       "      <td>$125.00</td>\n",
       "      <td>$125.00</td>\n",
       "      <td>32.0</td>\n",
       "      <td>1125.0</td>\n",
       "    </tr>\n",
       "    <tr>\n",
       "      <th>4</th>\n",
       "      <td>3781</td>\n",
       "      <td>2023-03-23</td>\n",
       "      <td>f</td>\n",
       "      <td>$125.00</td>\n",
       "      <td>$125.00</td>\n",
       "      <td>32.0</td>\n",
       "      <td>1125.0</td>\n",
       "    </tr>\n",
       "  </tbody>\n",
       "</table>\n",
       "</div>"
      ],
      "text/plain": [
       "   listing_id        date available    price adjusted_price  minimum_nights  \\\n",
       "0        3781  2023-03-19         f  $125.00        $125.00            32.0   \n",
       "1        3781  2023-03-20         f  $125.00        $125.00            32.0   \n",
       "2        3781  2023-03-21         f  $125.00        $125.00            32.0   \n",
       "3        3781  2023-03-22         f  $125.00        $125.00            32.0   \n",
       "4        3781  2023-03-23         f  $125.00        $125.00            32.0   \n",
       "\n",
       "   maximum_nights  \n",
       "0          1125.0  \n",
       "1          1125.0  \n",
       "2          1125.0  \n",
       "3          1125.0  \n",
       "4          1125.0  "
      ]
     },
     "execution_count": 10,
     "metadata": {},
     "output_type": "execute_result"
    }
   ],
   "source": [
    "calendar.head()"
   ]
  },
  {
   "cell_type": "code",
   "execution_count": 29,
   "id": "59213379-9674-4017-889b-87d02b4814d8",
   "metadata": {},
   "outputs": [
    {
     "data": {
      "text/plain": [
       "(1410023, 7)"
      ]
     },
     "execution_count": 29,
     "metadata": {},
     "output_type": "execute_result"
    }
   ],
   "source": [
    "calendar.shape"
   ]
  },
  {
   "cell_type": "code",
   "execution_count": 11,
   "id": "767d8dc9-2eda-4455-a5a2-c218b503cce8",
   "metadata": {},
   "outputs": [
    {
     "data": {
      "text/plain": [
       "3863"
      ]
     },
     "execution_count": 11,
     "metadata": {},
     "output_type": "execute_result"
    }
   ],
   "source": [
    "calendar['listing_id'].nunique()"
   ]
  },
  {
   "cell_type": "code",
   "execution_count": 30,
   "id": "e6794411-6d80-4e55-acd0-12c5a570478a",
   "metadata": {},
   "outputs": [
    {
     "data": {
      "text/plain": [
       "365.00724825265337"
      ]
     },
     "execution_count": 30,
     "metadata": {},
     "output_type": "execute_result"
    }
   ],
   "source": [
    "1410023/3863"
   ]
  },
  {
   "cell_type": "code",
   "execution_count": 15,
   "id": "b4413b25-5e8c-45ad-97d3-3ede576e4150",
   "metadata": {},
   "outputs": [
    {
     "data": {
      "text/plain": [
       "{46232976}"
      ]
     },
     "execution_count": 15,
     "metadata": {},
     "output_type": "execute_result"
    }
   ],
   "source": [
    "set(listings['id']) - set(calendar['listing_id'])"
   ]
  },
  {
   "cell_type": "code",
   "execution_count": 20,
   "id": "320223e3-b65c-4b5e-a9b7-d9500b9e3933",
   "metadata": {},
   "outputs": [
    {
     "data": {
      "text/plain": [
       "2741"
      ]
     },
     "execution_count": 20,
     "metadata": {},
     "output_type": "execute_result"
    }
   ],
   "source": [
    "# Set intersection:  https://www.w3schools.com/python/ref_set_intersection.asp\n",
    "\n",
    "len(set(listings['id']).intersection(set(df['listing_id'])))"
   ]
  },
  {
   "cell_type": "code",
   "execution_count": 21,
   "id": "4dabf198-80d6-4286-a6ec-46e22a1ee3e7",
   "metadata": {},
   "outputs": [
    {
     "data": {
      "text/plain": [
       "True"
      ]
     },
     "execution_count": 21,
     "metadata": {},
     "output_type": "execute_result"
    }
   ],
   "source": [
    "set(listings['id']).intersection(set(df['listing_id'])) == set(df['listing_id'])"
   ]
  },
  {
   "cell_type": "code",
   "execution_count": 23,
   "id": "bbf6a511-e672-467d-85b1-3340c05d2333",
   "metadata": {},
   "outputs": [
    {
     "data": {
      "text/plain": [
       "True"
      ]
     },
     "execution_count": 23,
     "metadata": {},
     "output_type": "execute_result"
    }
   ],
   "source": [
    "set(listings['id']).intersection(set(calendar['listing_id'])) == set(calendar['listing_id'])"
   ]
  },
  {
   "cell_type": "code",
   "execution_count": 24,
   "id": "d0b2e89f-6262-440c-9335-959381ce1cd6",
   "metadata": {},
   "outputs": [
    {
     "data": {
      "text/plain": [
       "0      1123\n",
       "1       293\n",
       "2       161\n",
       "3       110\n",
       "4        92\n",
       "       ... \n",
       "320       1\n",
       "647       1\n",
       "198       1\n",
       "227       1\n",
       "280       1\n",
       "Name: number_of_reviews, Length: 328, dtype: int64"
      ]
     },
     "execution_count": 24,
     "metadata": {},
     "output_type": "execute_result"
    }
   ],
   "source": [
    "listings['number_of_reviews'].value_counts()"
   ]
  },
  {
   "cell_type": "code",
   "execution_count": 28,
   "id": "39e88802-bbd0-40af-bd43-11dea800c15c",
   "metadata": {},
   "outputs": [
    {
     "data": {
      "text/plain": [
       "True"
      ]
     },
     "execution_count": 28,
     "metadata": {},
     "output_type": "execute_result"
    }
   ],
   "source": [
    "set(listings[listings['number_of_reviews'] != 0]['id']) == set(df['listing_id'])"
   ]
  }
 ],
 "metadata": {
  "kernelspec": {
   "display_name": "Python 3 (ipykernel)",
   "language": "python",
   "name": "python3"
  },
  "language_info": {
   "codemirror_mode": {
    "name": "ipython",
    "version": 3
   },
   "file_extension": ".py",
   "mimetype": "text/x-python",
   "name": "python",
   "nbconvert_exporter": "python",
   "pygments_lexer": "ipython3",
   "version": "3.10.9"
  }
 },
 "nbformat": 4,
 "nbformat_minor": 5
}
