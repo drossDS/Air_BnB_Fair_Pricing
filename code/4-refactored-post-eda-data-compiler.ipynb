{
 "cells": [
  {
   "cell_type": "code",
   "execution_count": 87,
   "id": "8823ede5-8674-46fa-9790-46af979d8fa6",
   "metadata": {},
   "outputs": [],
   "source": [
    "# Basic Imports\n",
    "import pandas as pd\n",
    "import numpy as np\n",
    "import matplotlib.pyplot as plt\n",
    "import seaborn as sns\n",
    "\n",
    "# For tesxt:\n",
    "import re\n",
    "\n",
    "# For times:\n",
    "import time\n",
    "\n",
    "# Set a random seed for imputation\n",
    "#  Source:  https://numpy.org/doc/stable/reference/random/generated/numpy.random.seed.html\n",
    "np.random.seed(42)\n",
    "\n",
    "# Sklearn\n",
    "from sklearn.model_selection import train_test_split\n",
    "from sklearn.impute import SimpleImputer\n",
    "from sklearn.feature_extraction.text import CountVectorizer\n",
    "from sklearn.preprocessing import OneHotEncoder\n"
   ]
  },
  {
   "cell_type": "markdown",
   "id": "818cfdc1-de00-41a8-9ed2-927ddec24c8b",
   "metadata": {},
   "source": [
    "# Read-in Data"
   ]
  },
  {
   "cell_type": "code",
   "execution_count": 2,
   "id": "33d00783-8649-4dd6-91d7-876943982bf7",
   "metadata": {},
   "outputs": [],
   "source": [
    "# Import the Training Data\n",
    "lstn = pd.read_csv('../data/listings_train.csv')"
   ]
  },
  {
   "cell_type": "code",
   "execution_count": 3,
   "id": "04e79290-03e3-462e-b8ad-130dc7c8c03e",
   "metadata": {},
   "outputs": [],
   "source": [
    "# Note, this file has been added to the gitignore file and is NOT located in the repository\n",
    "geodata = pd.read_csv('../data/lat_lng_data.csv')\n",
    "\n",
    "latitudes = list(geodata.lat)\n",
    "longitudes = list(geodata.long)"
   ]
  },
  {
   "cell_type": "markdown",
   "id": "e2194d96-0848-4b94-9ad0-c4ba11c058a3",
   "metadata": {
    "tags": []
   },
   "source": [
    "# Drop Un-needed Columns"
   ]
  },
  {
   "cell_type": "code",
   "execution_count": 4,
   "id": "2494824a-083e-4b90-a6b3-5bc320603d6a",
   "metadata": {},
   "outputs": [],
   "source": [
    "def col_dropper(data_frame):\n",
    "    data_frame.drop(columns = [\n",
    "        'listing_url', 'scrape_id', 'last_scraped', 'source',\n",
    "        'picture_url', 'host_url', 'host_name', 'host_thumbnail_url', 'host_picture_url',\n",
    "        'neighbourhood','neighbourhood_group_cleansed', 'minimum_minimum_nights',\n",
    "        'maximum_minimum_nights', 'minimum_maximum_nights', 'maximum_maximum_nights', \n",
    "        'minimum_nights_avg_ntm', 'maximum_nights_avg_ntm', 'calendar_updated',\n",
    "        'calendar_last_scraped', 'bathrooms', 'first_review', 'last_review',\n",
    "        'id', 'host_id',\n",
    "    ], inplace = True)\n",
    "\n",
    "    # For now, these columsn will also be dropped unless time allows for them to be processed:\n",
    "    data_frame.drop(columns = [\n",
    "        'host_location', 'host_neighbourhood', 'review_scores_rating', 'review_scores_accuracy',\n",
    "        'review_scores_cleanliness', 'review_scores_checkin', 'review_scores_communication',\n",
    "        'review_scores_location', 'review_scores_value', 'license'\n",
    "    ], inplace = True)\n",
    "    \n",
    "    # No need to reutrn the dataframe as the inplace functions carry over to the input dataframe"
   ]
  },
  {
   "cell_type": "markdown",
   "id": "b71f6646-3453-4b85-bc57-02ac131f1ffb",
   "metadata": {},
   "source": [
    "# Fix Datatypes"
   ]
  },
  {
   "cell_type": "code",
   "execution_count": 6,
   "id": "1f6e20e3-fd0f-4884-933c-2fcde3858fcd",
   "metadata": {},
   "outputs": [],
   "source": [
    "'''\n",
    "Since the null values are not a very big percentage of the total data (though not a small percentage either),\n",
    "the data will be imputed with the median value.\n",
    "\n",
    "In order to do that, the percetnages need to be convereted where possible, so that the nulls can be imputed\n",
    "with the median value.\n",
    "\n",
    "The pcnt_floater functionwill be copied over here.  This is necessary as there are null values in these columns\n",
    "which cannot be simply converted within the lambda function because there is no percentage sign.\n",
    "'''\n",
    "\n",
    "# This function will attempt to convert a string percentage value into a float\n",
    "#  Source for help:  https://www.w3schools.com/python/python_try_except.asp\n",
    "def pcnt_floater(x):\n",
    "    try:\n",
    "        return float(x.replace('%', '').strip())\n",
    "    except:\n",
    "        return x"
   ]
  },
  {
   "cell_type": "code",
   "execution_count": 7,
   "id": "2ea8d2bc-8076-442b-972a-a6e0ede289b4",
   "metadata": {},
   "outputs": [],
   "source": [
    "def data_fixer(data_frame):\n",
    "\n",
    "# FIX PRICE:  The dolar signs must be removed from the prices and numbers converted to float values\n",
    "    data_frame.price = data_frame.price.apply(lambda x: float(x.replace('$','').replace(',','').strip()))\n",
    "\n",
    "    # FIX HOST SINCE:  Convert to datetime then to epoch time in days\n",
    "    '''\n",
    "    The method used below to convert to epoch time was discovered with the help of ChatGPT.\n",
    "    Per the lead instructor, it is ok to use ChatGPT is a search tool provided that we provide the\n",
    "    question that was asked:\n",
    "\n",
    "    Question:  'in python, I want to convert a pandas datetime object to epoch time'\n",
    "\n",
    "    Additional help from:  https://pandas.pydata.org/docs/reference/api/pandas.to_datetime.html\n",
    "    '''\n",
    "\n",
    "    # The strings are converted to date time, then to epoch time with '.timestamp()'\n",
    "    # The epoch time is then divided by the product the number of hours and seconds per day\n",
    "    #   to get the number of days since the epoch time origin \n",
    "    data_frame['host_since'] = pd.to_datetime(data_frame['host_since']).apply(lambda x: x.timestamp()/(3600*24))\n",
    "\n",
    "    # FIX RESPONSE & ACCEPTANCE RATES:  Remove percentages\n",
    "    # Convert percentages where they can be converted\n",
    "    data_frame.host_acceptance_rate = data_frame.host_acceptance_rate.apply(lambda x: pcnt_floater(x))\n",
    "    data_frame.host_response_rate = data_frame.host_response_rate.apply(lambda x: pcnt_floater(x))"
   ]
  },
  {
   "cell_type": "markdown",
   "id": "b4fae4b4-de3c-4a51-9219-b9864f0f1147",
   "metadata": {},
   "source": [
    "# Impute Missing Data"
   ]
  },
  {
   "cell_type": "code",
   "execution_count": 9,
   "id": "db115cfb-62c6-43e0-a7c8-4b3cd3bea169",
   "metadata": {},
   "outputs": [],
   "source": [
    "def data_imputer(data_frame):\n",
    "    # Impute missing text information with 'no_text_entered' into the following columns\n",
    "    nte_cols = ['description', 'neighborhood_overview','host_about', 'host_response_time']\n",
    "\n",
    "    for col in nte_cols:\n",
    "        data_frame[col].fillna('no_text_entered', inplace = True)\n",
    "\n",
    "    # Impute missing data with the median in the following columns\n",
    "    median_cols = ['host_response_rate', 'host_acceptance_rate', 'bedrooms', 'beds']\n",
    "\n",
    "    for col in median_cols:\n",
    "        data_frame[col].fillna(data_frame[col].median(), inplace = True)\n",
    "\n",
    "    # Impute missing values with the mode in the following columns\n",
    "    data_frame.host_is_superhost.fillna(data_frame.host_is_superhost.mode()[0], inplace = True)\n",
    "    data_frame.bathrooms_text.fillna(data_frame.bathrooms_text.mode()[0], inplace = True)\n",
    "\n",
    "    # Impute missing data with 0 in reviews per month\n",
    "    data_frame.reviews_per_month.fillna(0, inplace = True)"
   ]
  },
  {
   "cell_type": "code",
   "execution_count": 11,
   "id": "6fa3f762-c42e-4967-8c5a-0fdecb1560d1",
   "metadata": {},
   "outputs": [
    {
     "data": {
      "text/plain": [
       "0"
      ]
     },
     "execution_count": 11,
     "metadata": {},
     "output_type": "execute_result"
    }
   ],
   "source": [
    "# Verify imputation\n",
    "sum(lstn.isnull().sum() != 0)"
   ]
  },
  {
   "cell_type": "markdown",
   "id": "d99dab65-a769-4a5f-b7cb-e9e576d2a5a5",
   "metadata": {},
   "source": [
    "# Create Simple Numerical Features"
   ]
  },
  {
   "cell_type": "code",
   "execution_count": 12,
   "id": "93d007ca-317c-456f-acb9-834858054ca6",
   "metadata": {},
   "outputs": [],
   "source": [
    "def simp_num_ft(data_frame):\n",
    "    # Create percentage columns for the calculated listings by listing type\n",
    "    data_frame['pcnt_ent_homes'] = round(data_frame['calculated_host_listings_count_entire_homes'] / data_frame['calculated_host_listings_count'], 3)\n",
    "    data_frame['pcnt_private'] = round(data_frame['calculated_host_listings_count_private_rooms'] / data_frame['calculated_host_listings_count'], 3)\n",
    "    data_frame['pcnt_shared'] = round(data_frame['calculated_host_listings_count_shared_rooms'] / data_frame['calculated_host_listings_count'], 3)"
   ]
  },
  {
   "cell_type": "markdown",
   "id": "14d8a3d1-4fac-4cc9-8607-5fc57c86db61",
   "metadata": {},
   "source": [
    "## Add T-Stop Distnace Data"
   ]
  },
  {
   "cell_type": "code",
   "execution_count": 14,
   "id": "1f0e77c8-999e-4fd7-9043-90d207678ba9",
   "metadata": {},
   "outputs": [],
   "source": [
    "# This funciton was written around the following source:\n",
    "# https://towardsdatascience.com/create-new-column-based-on-other-columns-pandas-5586d87de73d\n",
    "\n",
    "def min_dist(fn_lat, fn_lng, lat_data, lng_data):\n",
    "    \n",
    "    # Set a minimum distnace well beyond anything that would be derived\n",
    "    min_dist = 90\n",
    "    \n",
    "    # Write a loop to find the minimum (euclidean) distance to every T-stop\n",
    "    for n in range(len(latitudes)):\n",
    "        dist = ((fn_lat - lat_data[n])**2 + (fn_lng - lng_data[n])**2)**0.5\n",
    "        \n",
    "        # Store this distance if smaller than min distance\n",
    "        if dist < min_dist:\n",
    "            min_dist = dist\n",
    "    \n",
    "    return min_dist"
   ]
  },
  {
   "cell_type": "code",
   "execution_count": 15,
   "id": "ce236d8d-e4bd-41bb-8d5e-756285ae7393",
   "metadata": {},
   "outputs": [],
   "source": [
    "def dist_ft_adder(data_frame):\n",
    "    \n",
    "\n",
    "\n",
    "    # Crate a new column with the minimum distance to any T-stop\n",
    "    #  The following source was used to help write this code (note axis = 1 is KEY!):\n",
    "        # https://towardsdatascience.com/create-new-column-based-on-other-columns-pandas-5586d87de73d\n",
    "    data_frame['min_distance'] = data_frame.apply(lambda x: min_dist(x.latitude, x.longitude, latitudes, longitudes), axis = 1)"
   ]
  },
  {
   "cell_type": "markdown",
   "id": "c2f02535-a716-4953-b428-309d23421646",
   "metadata": {
    "tags": []
   },
   "source": [
    "# Create Log Features"
   ]
  },
  {
   "cell_type": "code",
   "execution_count": 17,
   "id": "35d4d080-0a58-4205-98ab-12c1b638048e",
   "metadata": {},
   "outputs": [
    {
     "data": {
      "text/html": [
       "<div>\n",
       "<style scoped>\n",
       "    .dataframe tbody tr th:only-of-type {\n",
       "        vertical-align: middle;\n",
       "    }\n",
       "\n",
       "    .dataframe tbody tr th {\n",
       "        vertical-align: top;\n",
       "    }\n",
       "\n",
       "    .dataframe thead th {\n",
       "        text-align: right;\n",
       "    }\n",
       "</style>\n",
       "<table border=\"1\" class=\"dataframe\">\n",
       "  <thead>\n",
       "    <tr style=\"text-align: right;\">\n",
       "      <th></th>\n",
       "      <th>count</th>\n",
       "      <th>mean</th>\n",
       "      <th>std</th>\n",
       "      <th>min</th>\n",
       "      <th>25%</th>\n",
       "      <th>50%</th>\n",
       "      <th>75%</th>\n",
       "      <th>max</th>\n",
       "    </tr>\n",
       "  </thead>\n",
       "  <tbody>\n",
       "    <tr>\n",
       "      <th>host_since</th>\n",
       "      <td>3477.0</td>\n",
       "      <td>17138.849871</td>\n",
       "      <td>1079.936868</td>\n",
       "      <td>14216.000000</td>\n",
       "      <td>16352.000000</td>\n",
       "      <td>17151.000000</td>\n",
       "      <td>18090.000000</td>\n",
       "      <td>19422.000000</td>\n",
       "    </tr>\n",
       "    <tr>\n",
       "      <th>host_response_rate</th>\n",
       "      <td>3477.0</td>\n",
       "      <td>97.487489</td>\n",
       "      <td>9.035327</td>\n",
       "      <td>0.000000</td>\n",
       "      <td>100.000000</td>\n",
       "      <td>100.000000</td>\n",
       "      <td>100.000000</td>\n",
       "      <td>100.000000</td>\n",
       "    </tr>\n",
       "    <tr>\n",
       "      <th>host_acceptance_rate</th>\n",
       "      <td>3477.0</td>\n",
       "      <td>88.469083</td>\n",
       "      <td>20.483848</td>\n",
       "      <td>0.000000</td>\n",
       "      <td>92.000000</td>\n",
       "      <td>97.000000</td>\n",
       "      <td>100.000000</td>\n",
       "      <td>100.000000</td>\n",
       "    </tr>\n",
       "    <tr>\n",
       "      <th>host_listings_count</th>\n",
       "      <td>3477.0</td>\n",
       "      <td>478.265746</td>\n",
       "      <td>1349.140443</td>\n",
       "      <td>1.000000</td>\n",
       "      <td>2.000000</td>\n",
       "      <td>12.000000</td>\n",
       "      <td>84.000000</td>\n",
       "      <td>4807.000000</td>\n",
       "    </tr>\n",
       "    <tr>\n",
       "      <th>host_total_listings_count</th>\n",
       "      <td>3477.0</td>\n",
       "      <td>636.246189</td>\n",
       "      <td>1517.960227</td>\n",
       "      <td>1.000000</td>\n",
       "      <td>3.000000</td>\n",
       "      <td>17.000000</td>\n",
       "      <td>127.000000</td>\n",
       "      <td>5358.000000</td>\n",
       "    </tr>\n",
       "    <tr>\n",
       "      <th>latitude</th>\n",
       "      <td>3477.0</td>\n",
       "      <td>42.337493</td>\n",
       "      <td>0.027111</td>\n",
       "      <td>42.235300</td>\n",
       "      <td>42.321870</td>\n",
       "      <td>42.344720</td>\n",
       "      <td>42.354310</td>\n",
       "      <td>42.392280</td>\n",
       "    </tr>\n",
       "    <tr>\n",
       "      <th>longitude</th>\n",
       "      <td>3477.0</td>\n",
       "      <td>-71.082429</td>\n",
       "      <td>0.033393</td>\n",
       "      <td>-71.173486</td>\n",
       "      <td>-71.100490</td>\n",
       "      <td>-71.073160</td>\n",
       "      <td>-71.060810</td>\n",
       "      <td>-70.996000</td>\n",
       "    </tr>\n",
       "    <tr>\n",
       "      <th>accommodates</th>\n",
       "      <td>3477.0</td>\n",
       "      <td>3.181478</td>\n",
       "      <td>2.206180</td>\n",
       "      <td>1.000000</td>\n",
       "      <td>2.000000</td>\n",
       "      <td>2.000000</td>\n",
       "      <td>4.000000</td>\n",
       "      <td>16.000000</td>\n",
       "    </tr>\n",
       "    <tr>\n",
       "      <th>bedrooms</th>\n",
       "      <td>3477.0</td>\n",
       "      <td>1.659477</td>\n",
       "      <td>1.155218</td>\n",
       "      <td>1.000000</td>\n",
       "      <td>1.000000</td>\n",
       "      <td>1.000000</td>\n",
       "      <td>2.000000</td>\n",
       "      <td>13.000000</td>\n",
       "    </tr>\n",
       "    <tr>\n",
       "      <th>beds</th>\n",
       "      <td>3477.0</td>\n",
       "      <td>1.777107</td>\n",
       "      <td>1.427401</td>\n",
       "      <td>1.000000</td>\n",
       "      <td>1.000000</td>\n",
       "      <td>1.000000</td>\n",
       "      <td>2.000000</td>\n",
       "      <td>22.000000</td>\n",
       "    </tr>\n",
       "    <tr>\n",
       "      <th>price</th>\n",
       "      <td>3477.0</td>\n",
       "      <td>191.704918</td>\n",
       "      <td>260.634048</td>\n",
       "      <td>0.000000</td>\n",
       "      <td>85.000000</td>\n",
       "      <td>149.000000</td>\n",
       "      <td>226.000000</td>\n",
       "      <td>10000.000000</td>\n",
       "    </tr>\n",
       "    <tr>\n",
       "      <th>minimum_nights</th>\n",
       "      <td>3477.0</td>\n",
       "      <td>30.772505</td>\n",
       "      <td>39.852328</td>\n",
       "      <td>1.000000</td>\n",
       "      <td>2.000000</td>\n",
       "      <td>25.000000</td>\n",
       "      <td>32.000000</td>\n",
       "      <td>600.000000</td>\n",
       "    </tr>\n",
       "    <tr>\n",
       "      <th>maximum_nights</th>\n",
       "      <td>3477.0</td>\n",
       "      <td>670.524878</td>\n",
       "      <td>452.549044</td>\n",
       "      <td>2.000000</td>\n",
       "      <td>365.000000</td>\n",
       "      <td>366.000000</td>\n",
       "      <td>1125.000000</td>\n",
       "      <td>1125.000000</td>\n",
       "    </tr>\n",
       "    <tr>\n",
       "      <th>availability_30</th>\n",
       "      <td>3477.0</td>\n",
       "      <td>10.251654</td>\n",
       "      <td>10.903632</td>\n",
       "      <td>0.000000</td>\n",
       "      <td>0.000000</td>\n",
       "      <td>7.000000</td>\n",
       "      <td>19.000000</td>\n",
       "      <td>30.000000</td>\n",
       "    </tr>\n",
       "    <tr>\n",
       "      <th>availability_60</th>\n",
       "      <td>3477.0</td>\n",
       "      <td>24.823411</td>\n",
       "      <td>21.914007</td>\n",
       "      <td>0.000000</td>\n",
       "      <td>0.000000</td>\n",
       "      <td>23.000000</td>\n",
       "      <td>45.000000</td>\n",
       "      <td>60.000000</td>\n",
       "    </tr>\n",
       "    <tr>\n",
       "      <th>availability_90</th>\n",
       "      <td>3477.0</td>\n",
       "      <td>41.029911</td>\n",
       "      <td>32.187244</td>\n",
       "      <td>0.000000</td>\n",
       "      <td>7.000000</td>\n",
       "      <td>41.000000</td>\n",
       "      <td>70.000000</td>\n",
       "      <td>90.000000</td>\n",
       "    </tr>\n",
       "    <tr>\n",
       "      <th>availability_365</th>\n",
       "      <td>3477.0</td>\n",
       "      <td>199.492091</td>\n",
       "      <td>130.245463</td>\n",
       "      <td>0.000000</td>\n",
       "      <td>79.000000</td>\n",
       "      <td>220.000000</td>\n",
       "      <td>322.000000</td>\n",
       "      <td>365.000000</td>\n",
       "    </tr>\n",
       "    <tr>\n",
       "      <th>number_of_reviews</th>\n",
       "      <td>3477.0</td>\n",
       "      <td>41.285016</td>\n",
       "      <td>81.300715</td>\n",
       "      <td>0.000000</td>\n",
       "      <td>0.000000</td>\n",
       "      <td>7.000000</td>\n",
       "      <td>44.000000</td>\n",
       "      <td>821.000000</td>\n",
       "    </tr>\n",
       "    <tr>\n",
       "      <th>number_of_reviews_ltm</th>\n",
       "      <td>3477.0</td>\n",
       "      <td>11.892148</td>\n",
       "      <td>21.423483</td>\n",
       "      <td>0.000000</td>\n",
       "      <td>0.000000</td>\n",
       "      <td>1.000000</td>\n",
       "      <td>15.000000</td>\n",
       "      <td>212.000000</td>\n",
       "    </tr>\n",
       "    <tr>\n",
       "      <th>number_of_reviews_l30d</th>\n",
       "      <td>3477.0</td>\n",
       "      <td>0.626977</td>\n",
       "      <td>1.500593</td>\n",
       "      <td>0.000000</td>\n",
       "      <td>0.000000</td>\n",
       "      <td>0.000000</td>\n",
       "      <td>1.000000</td>\n",
       "      <td>22.000000</td>\n",
       "    </tr>\n",
       "    <tr>\n",
       "      <th>calculated_host_listings_count</th>\n",
       "      <td>3477.0</td>\n",
       "      <td>62.846995</td>\n",
       "      <td>111.228102</td>\n",
       "      <td>1.000000</td>\n",
       "      <td>2.000000</td>\n",
       "      <td>8.000000</td>\n",
       "      <td>47.000000</td>\n",
       "      <td>340.000000</td>\n",
       "    </tr>\n",
       "    <tr>\n",
       "      <th>calculated_host_listings_count_entire_homes</th>\n",
       "      <td>3477.0</td>\n",
       "      <td>40.063273</td>\n",
       "      <td>94.479776</td>\n",
       "      <td>0.000000</td>\n",
       "      <td>1.000000</td>\n",
       "      <td>4.000000</td>\n",
       "      <td>22.000000</td>\n",
       "      <td>340.000000</td>\n",
       "    </tr>\n",
       "    <tr>\n",
       "      <th>calculated_host_listings_count_private_rooms</th>\n",
       "      <td>3477.0</td>\n",
       "      <td>22.719011</td>\n",
       "      <td>70.786244</td>\n",
       "      <td>0.000000</td>\n",
       "      <td>0.000000</td>\n",
       "      <td>0.000000</td>\n",
       "      <td>3.000000</td>\n",
       "      <td>274.000000</td>\n",
       "    </tr>\n",
       "    <tr>\n",
       "      <th>calculated_host_listings_count_shared_rooms</th>\n",
       "      <td>3477.0</td>\n",
       "      <td>0.018407</td>\n",
       "      <td>0.168611</td>\n",
       "      <td>0.000000</td>\n",
       "      <td>0.000000</td>\n",
       "      <td>0.000000</td>\n",
       "      <td>0.000000</td>\n",
       "      <td>4.000000</td>\n",
       "    </tr>\n",
       "    <tr>\n",
       "      <th>reviews_per_month</th>\n",
       "      <td>3477.0</td>\n",
       "      <td>1.199600</td>\n",
       "      <td>1.783768</td>\n",
       "      <td>0.000000</td>\n",
       "      <td>0.000000</td>\n",
       "      <td>0.360000</td>\n",
       "      <td>1.730000</td>\n",
       "      <td>16.290000</td>\n",
       "    </tr>\n",
       "    <tr>\n",
       "      <th>pcnt_ent_homes</th>\n",
       "      <td>3477.0</td>\n",
       "      <td>0.656339</td>\n",
       "      <td>0.440554</td>\n",
       "      <td>0.000000</td>\n",
       "      <td>0.018000</td>\n",
       "      <td>1.000000</td>\n",
       "      <td>1.000000</td>\n",
       "      <td>1.000000</td>\n",
       "    </tr>\n",
       "    <tr>\n",
       "      <th>pcnt_private</th>\n",
       "      <td>3477.0</td>\n",
       "      <td>0.334393</td>\n",
       "      <td>0.434991</td>\n",
       "      <td>0.000000</td>\n",
       "      <td>0.000000</td>\n",
       "      <td>0.000000</td>\n",
       "      <td>0.857000</td>\n",
       "      <td>1.000000</td>\n",
       "    </tr>\n",
       "    <tr>\n",
       "      <th>pcnt_shared</th>\n",
       "      <td>3477.0</td>\n",
       "      <td>0.003970</td>\n",
       "      <td>0.051903</td>\n",
       "      <td>0.000000</td>\n",
       "      <td>0.000000</td>\n",
       "      <td>0.000000</td>\n",
       "      <td>0.000000</td>\n",
       "      <td>1.000000</td>\n",
       "    </tr>\n",
       "    <tr>\n",
       "      <th>min_distance</th>\n",
       "      <td>3477.0</td>\n",
       "      <td>0.006668</td>\n",
       "      <td>0.007694</td>\n",
       "      <td>0.000084</td>\n",
       "      <td>0.002272</td>\n",
       "      <td>0.004103</td>\n",
       "      <td>0.008165</td>\n",
       "      <td>0.063652</td>\n",
       "    </tr>\n",
       "  </tbody>\n",
       "</table>\n",
       "</div>"
      ],
      "text/plain": [
       "                                               count          mean  \\\n",
       "host_since                                    3477.0  17138.849871   \n",
       "host_response_rate                            3477.0     97.487489   \n",
       "host_acceptance_rate                          3477.0     88.469083   \n",
       "host_listings_count                           3477.0    478.265746   \n",
       "host_total_listings_count                     3477.0    636.246189   \n",
       "latitude                                      3477.0     42.337493   \n",
       "longitude                                     3477.0    -71.082429   \n",
       "accommodates                                  3477.0      3.181478   \n",
       "bedrooms                                      3477.0      1.659477   \n",
       "beds                                          3477.0      1.777107   \n",
       "price                                         3477.0    191.704918   \n",
       "minimum_nights                                3477.0     30.772505   \n",
       "maximum_nights                                3477.0    670.524878   \n",
       "availability_30                               3477.0     10.251654   \n",
       "availability_60                               3477.0     24.823411   \n",
       "availability_90                               3477.0     41.029911   \n",
       "availability_365                              3477.0    199.492091   \n",
       "number_of_reviews                             3477.0     41.285016   \n",
       "number_of_reviews_ltm                         3477.0     11.892148   \n",
       "number_of_reviews_l30d                        3477.0      0.626977   \n",
       "calculated_host_listings_count                3477.0     62.846995   \n",
       "calculated_host_listings_count_entire_homes   3477.0     40.063273   \n",
       "calculated_host_listings_count_private_rooms  3477.0     22.719011   \n",
       "calculated_host_listings_count_shared_rooms   3477.0      0.018407   \n",
       "reviews_per_month                             3477.0      1.199600   \n",
       "pcnt_ent_homes                                3477.0      0.656339   \n",
       "pcnt_private                                  3477.0      0.334393   \n",
       "pcnt_shared                                   3477.0      0.003970   \n",
       "min_distance                                  3477.0      0.006668   \n",
       "\n",
       "                                                      std           min  \\\n",
       "host_since                                    1079.936868  14216.000000   \n",
       "host_response_rate                               9.035327      0.000000   \n",
       "host_acceptance_rate                            20.483848      0.000000   \n",
       "host_listings_count                           1349.140443      1.000000   \n",
       "host_total_listings_count                     1517.960227      1.000000   \n",
       "latitude                                         0.027111     42.235300   \n",
       "longitude                                        0.033393    -71.173486   \n",
       "accommodates                                     2.206180      1.000000   \n",
       "bedrooms                                         1.155218      1.000000   \n",
       "beds                                             1.427401      1.000000   \n",
       "price                                          260.634048      0.000000   \n",
       "minimum_nights                                  39.852328      1.000000   \n",
       "maximum_nights                                 452.549044      2.000000   \n",
       "availability_30                                 10.903632      0.000000   \n",
       "availability_60                                 21.914007      0.000000   \n",
       "availability_90                                 32.187244      0.000000   \n",
       "availability_365                               130.245463      0.000000   \n",
       "number_of_reviews                               81.300715      0.000000   \n",
       "number_of_reviews_ltm                           21.423483      0.000000   \n",
       "number_of_reviews_l30d                           1.500593      0.000000   \n",
       "calculated_host_listings_count                 111.228102      1.000000   \n",
       "calculated_host_listings_count_entire_homes     94.479776      0.000000   \n",
       "calculated_host_listings_count_private_rooms    70.786244      0.000000   \n",
       "calculated_host_listings_count_shared_rooms      0.168611      0.000000   \n",
       "reviews_per_month                                1.783768      0.000000   \n",
       "pcnt_ent_homes                                   0.440554      0.000000   \n",
       "pcnt_private                                     0.434991      0.000000   \n",
       "pcnt_shared                                      0.051903      0.000000   \n",
       "min_distance                                     0.007694      0.000084   \n",
       "\n",
       "                                                       25%           50%  \\\n",
       "host_since                                    16352.000000  17151.000000   \n",
       "host_response_rate                              100.000000    100.000000   \n",
       "host_acceptance_rate                             92.000000     97.000000   \n",
       "host_listings_count                               2.000000     12.000000   \n",
       "host_total_listings_count                         3.000000     17.000000   \n",
       "latitude                                         42.321870     42.344720   \n",
       "longitude                                       -71.100490    -71.073160   \n",
       "accommodates                                      2.000000      2.000000   \n",
       "bedrooms                                          1.000000      1.000000   \n",
       "beds                                              1.000000      1.000000   \n",
       "price                                            85.000000    149.000000   \n",
       "minimum_nights                                    2.000000     25.000000   \n",
       "maximum_nights                                  365.000000    366.000000   \n",
       "availability_30                                   0.000000      7.000000   \n",
       "availability_60                                   0.000000     23.000000   \n",
       "availability_90                                   7.000000     41.000000   \n",
       "availability_365                                 79.000000    220.000000   \n",
       "number_of_reviews                                 0.000000      7.000000   \n",
       "number_of_reviews_ltm                             0.000000      1.000000   \n",
       "number_of_reviews_l30d                            0.000000      0.000000   \n",
       "calculated_host_listings_count                    2.000000      8.000000   \n",
       "calculated_host_listings_count_entire_homes       1.000000      4.000000   \n",
       "calculated_host_listings_count_private_rooms      0.000000      0.000000   \n",
       "calculated_host_listings_count_shared_rooms       0.000000      0.000000   \n",
       "reviews_per_month                                 0.000000      0.360000   \n",
       "pcnt_ent_homes                                    0.018000      1.000000   \n",
       "pcnt_private                                      0.000000      0.000000   \n",
       "pcnt_shared                                       0.000000      0.000000   \n",
       "min_distance                                      0.002272      0.004103   \n",
       "\n",
       "                                                       75%           max  \n",
       "host_since                                    18090.000000  19422.000000  \n",
       "host_response_rate                              100.000000    100.000000  \n",
       "host_acceptance_rate                            100.000000    100.000000  \n",
       "host_listings_count                              84.000000   4807.000000  \n",
       "host_total_listings_count                       127.000000   5358.000000  \n",
       "latitude                                         42.354310     42.392280  \n",
       "longitude                                       -71.060810    -70.996000  \n",
       "accommodates                                      4.000000     16.000000  \n",
       "bedrooms                                          2.000000     13.000000  \n",
       "beds                                              2.000000     22.000000  \n",
       "price                                           226.000000  10000.000000  \n",
       "minimum_nights                                   32.000000    600.000000  \n",
       "maximum_nights                                 1125.000000   1125.000000  \n",
       "availability_30                                  19.000000     30.000000  \n",
       "availability_60                                  45.000000     60.000000  \n",
       "availability_90                                  70.000000     90.000000  \n",
       "availability_365                                322.000000    365.000000  \n",
       "number_of_reviews                                44.000000    821.000000  \n",
       "number_of_reviews_ltm                            15.000000    212.000000  \n",
       "number_of_reviews_l30d                            1.000000     22.000000  \n",
       "calculated_host_listings_count                   47.000000    340.000000  \n",
       "calculated_host_listings_count_entire_homes      22.000000    340.000000  \n",
       "calculated_host_listings_count_private_rooms      3.000000    274.000000  \n",
       "calculated_host_listings_count_shared_rooms       0.000000      4.000000  \n",
       "reviews_per_month                                 1.730000     16.290000  \n",
       "pcnt_ent_homes                                    1.000000      1.000000  \n",
       "pcnt_private                                      0.857000      1.000000  \n",
       "pcnt_shared                                       0.000000      1.000000  \n",
       "min_distance                                      0.008165      0.063652  "
      ]
     },
     "execution_count": 17,
     "metadata": {},
     "output_type": "execute_result"
    }
   ],
   "source": [
    "lstn._get_numeric_data().describe().T"
   ]
  },
  {
   "cell_type": "code",
   "execution_count": 18,
   "id": "b6e9f019-0e88-4e20-880e-a0dde33f005c",
   "metadata": {},
   "outputs": [],
   "source": [
    "'''\n",
    "The col_logger function will need to be brough in from the other notebooks\n",
    "\n",
    "This has been modified to include a 0 imputation value n such that transforamtion\n",
    "occurs on log(n) and not log(0) which is undefined.\n",
    "'''\n",
    "\n",
    "def col_logger(data_column, zero_imp = 1):\n",
    "    # Since log(0) is undefined, 0's must be treated as log(1)\n",
    "    return data_column.apply(lambda x: np.log(zero_imp) if x==0 else np.log(x))"
   ]
  },
  {
   "cell_type": "code",
   "execution_count": 19,
   "id": "86081c09-6489-4a08-a952-305c59e5b349",
   "metadata": {},
   "outputs": [],
   "source": [
    "def log_ft_maker(data_frame):\n",
    "    # Create a list of numerical columns\n",
    "    num_cols = list(data_frame._get_numeric_data().columns)\n",
    "\n",
    "    # Remove latitiude and longitude data as they were used previously to create distances\n",
    "    num_cols.remove('latitude')\n",
    "    num_cols.remove('longitude')\n",
    "\n",
    "    for col in num_cols:\n",
    "\n",
    "        # Find columsn with values between 0 and 1\n",
    "        if len(data_frame[col][(data_frame[col] < 1) & (data_frame[col] > 0)]) > 0:\n",
    "\n",
    "            # Determine the minimum value in that column, if it's 0, base the minimum\n",
    "            #  value off of the second smallest value in the column\n",
    "\n",
    "            if min(data_frame[col]) < 0:\n",
    "                print('CANT LOGARITHM A NEGATIVE NUMBER')\n",
    "                break\n",
    "\n",
    "            elif min(data_frame[col]) == 0:\n",
    "                # second smallest value\n",
    "                min_col_val = data_frame[col].sort_values().unique()[1]\n",
    "\n",
    "            else:\n",
    "                min_col_val = min(data_frame[col][(data_frame[col] < 1) & (data_frame[col] > 0)])\n",
    "\n",
    "            # Calculate a zero imputation value for use in the col_logger function\n",
    "            #  Take the natural log of the minimum value and round down\n",
    "            '''\n",
    "            This last step ensures that any zero values will be less than any positive\n",
    "            values after a log transformation.\n",
    "            '''\n",
    "            z_imp = np.exp(np.floor(np.log(min_col_val)))\n",
    "\n",
    "            # Transform the column:\n",
    "            data_frame[f'log_{col}'] = col_logger(data_frame[col], z_imp)\n",
    "\n",
    "        else:\n",
    "            # Otherwise, simply use defulat zero_imputation value of 1\n",
    "            data_frame[f'log_{col}'] = col_logger(data_frame[col])"
   ]
  },
  {
   "cell_type": "code",
   "execution_count": 21,
   "id": "dd1c90e2-6514-4228-82f9-bf7bb294fe1a",
   "metadata": {},
   "outputs": [
    {
     "name": "stdout",
     "output_type": "stream",
     "text": [
      "<class 'pandas.core.frame.DataFrame'>\n",
      "RangeIndex: 3477 entries, 0 to 3476\n",
      "Data columns (total 72 columns):\n",
      " #   Column                                            Non-Null Count  Dtype  \n",
      "---  ------                                            --------------  -----  \n",
      " 0   name                                              3477 non-null   object \n",
      " 1   description                                       3477 non-null   object \n",
      " 2   neighborhood_overview                             3477 non-null   object \n",
      " 3   host_since                                        3477 non-null   float64\n",
      " 4   host_about                                        3477 non-null   object \n",
      " 5   host_response_time                                3477 non-null   object \n",
      " 6   host_response_rate                                3477 non-null   float64\n",
      " 7   host_acceptance_rate                              3477 non-null   float64\n",
      " 8   host_is_superhost                                 3477 non-null   object \n",
      " 9   host_listings_count                               3477 non-null   int64  \n",
      " 10  host_total_listings_count                         3477 non-null   int64  \n",
      " 11  host_verifications                                3477 non-null   object \n",
      " 12  host_has_profile_pic                              3477 non-null   object \n",
      " 13  host_identity_verified                            3477 non-null   object \n",
      " 14  neighbourhood_cleansed                            3477 non-null   object \n",
      " 15  latitude                                          3477 non-null   float64\n",
      " 16  longitude                                         3477 non-null   float64\n",
      " 17  property_type                                     3477 non-null   object \n",
      " 18  room_type                                         3477 non-null   object \n",
      " 19  accommodates                                      3477 non-null   int64  \n",
      " 20  bathrooms_text                                    3477 non-null   object \n",
      " 21  bedrooms                                          3477 non-null   float64\n",
      " 22  beds                                              3477 non-null   float64\n",
      " 23  amenities                                         3477 non-null   object \n",
      " 24  price                                             3477 non-null   float64\n",
      " 25  minimum_nights                                    3477 non-null   int64  \n",
      " 26  maximum_nights                                    3477 non-null   int64  \n",
      " 27  has_availability                                  3477 non-null   object \n",
      " 28  availability_30                                   3477 non-null   int64  \n",
      " 29  availability_60                                   3477 non-null   int64  \n",
      " 30  availability_90                                   3477 non-null   int64  \n",
      " 31  availability_365                                  3477 non-null   int64  \n",
      " 32  number_of_reviews                                 3477 non-null   int64  \n",
      " 33  number_of_reviews_ltm                             3477 non-null   int64  \n",
      " 34  number_of_reviews_l30d                            3477 non-null   int64  \n",
      " 35  instant_bookable                                  3477 non-null   object \n",
      " 36  calculated_host_listings_count                    3477 non-null   int64  \n",
      " 37  calculated_host_listings_count_entire_homes       3477 non-null   int64  \n",
      " 38  calculated_host_listings_count_private_rooms      3477 non-null   int64  \n",
      " 39  calculated_host_listings_count_shared_rooms       3477 non-null   int64  \n",
      " 40  reviews_per_month                                 3477 non-null   float64\n",
      " 41  pcnt_ent_homes                                    3477 non-null   float64\n",
      " 42  pcnt_private                                      3477 non-null   float64\n",
      " 43  pcnt_shared                                       3477 non-null   float64\n",
      " 44  min_distance                                      3477 non-null   float64\n",
      " 45  log_host_since                                    3477 non-null   float64\n",
      " 46  log_host_response_rate                            3477 non-null   float64\n",
      " 47  log_host_acceptance_rate                          3477 non-null   float64\n",
      " 48  log_host_listings_count                           3477 non-null   float64\n",
      " 49  log_host_total_listings_count                     3477 non-null   float64\n",
      " 50  log_accommodates                                  3477 non-null   float64\n",
      " 51  log_bedrooms                                      3477 non-null   float64\n",
      " 52  log_beds                                          3477 non-null   float64\n",
      " 53  log_price                                         3477 non-null   float64\n",
      " 54  log_minimum_nights                                3477 non-null   float64\n",
      " 55  log_maximum_nights                                3477 non-null   float64\n",
      " 56  log_availability_30                               3477 non-null   float64\n",
      " 57  log_availability_60                               3477 non-null   float64\n",
      " 58  log_availability_90                               3477 non-null   float64\n",
      " 59  log_availability_365                              3477 non-null   float64\n",
      " 60  log_number_of_reviews                             3477 non-null   float64\n",
      " 61  log_number_of_reviews_ltm                         3477 non-null   float64\n",
      " 62  log_number_of_reviews_l30d                        3477 non-null   float64\n",
      " 63  log_calculated_host_listings_count                3477 non-null   float64\n",
      " 64  log_calculated_host_listings_count_entire_homes   3477 non-null   float64\n",
      " 65  log_calculated_host_listings_count_private_rooms  3477 non-null   float64\n",
      " 66  log_calculated_host_listings_count_shared_rooms   3477 non-null   float64\n",
      " 67  log_reviews_per_month                             3477 non-null   float64\n",
      " 68  log_pcnt_ent_homes                                3477 non-null   float64\n",
      " 69  log_pcnt_private                                  3477 non-null   float64\n",
      " 70  log_pcnt_shared                                   3477 non-null   float64\n",
      " 71  log_min_distance                                  3477 non-null   float64\n",
      "dtypes: float64(40), int64(16), object(16)\n",
      "memory usage: 1.9+ MB\n"
     ]
    }
   ],
   "source": [
    "lstn.info()"
   ]
  },
  {
   "cell_type": "code",
   "execution_count": 22,
   "id": "be9567c4-7ebd-472e-a8ef-d5468f756242",
   "metadata": {},
   "outputs": [
    {
     "data": {
      "text/plain": [
       "0"
      ]
     },
     "execution_count": 22,
     "metadata": {},
     "output_type": "execute_result"
    }
   ],
   "source": [
    "# Check for null values to verify proper feature creation\n",
    "sum(lstn.isnull().sum())"
   ]
  },
  {
   "cell_type": "markdown",
   "id": "0753a598-26fb-443f-a5c9-9ff65090ffbd",
   "metadata": {
    "tags": []
   },
   "source": [
    "# One Hot Encoding"
   ]
  },
  {
   "cell_type": "code",
   "execution_count": 23,
   "id": "62213c88-fb87-4adb-ae1e-481c863b6b4d",
   "metadata": {},
   "outputs": [],
   "source": [
    "def ohe_fn(data_frame):\n",
    "    # Find the remaining categorical columns:\n",
    "    cat_cols = list(data_frame.columns)\n",
    "    num_cols = list(data_frame._get_numeric_data().columns)\n",
    "    \n",
    "    for col in num_cols:\n",
    "        cat_cols.remove(col)\n",
    "\n",
    "    # Some of these columns must be removed to be handled separately in advanced processing\n",
    "    remove_cols = ['amenities', 'host_about', 'name', 'neighborhood_overview', 'description']\n",
    "\n",
    "    for col in remove_cols:\n",
    "        cat_cols.remove(col)\n",
    "\n",
    "    # Merge the lstn dataframe with the one hot encoded values\n",
    "    return pd.get_dummies(data_frame, columns = cat_cols, drop_first=True)"
   ]
  },
  {
   "cell_type": "code",
   "execution_count": 25,
   "id": "7068d007-efc5-48ae-9f92-4a10a645deb4",
   "metadata": {},
   "outputs": [
    {
     "data": {
      "text/plain": [
       "(3477, 160)"
      ]
     },
     "execution_count": 25,
     "metadata": {},
     "output_type": "execute_result"
    }
   ],
   "source": [
    "lstn.shape"
   ]
  },
  {
   "cell_type": "markdown",
   "id": "4ae31b4e-7ebb-463d-a9b5-f19118bb5c4c",
   "metadata": {},
   "source": [
    "# Advanced Processing"
   ]
  },
  {
   "cell_type": "markdown",
   "id": "768b9b15-600f-4167-beea-a55e0d705a30",
   "metadata": {},
   "source": [
    "## Amenities"
   ]
  },
  {
   "cell_type": "code",
   "execution_count": 26,
   "id": "51c4bb45-0145-4a16-ac27-ab8ccc600451",
   "metadata": {},
   "outputs": [],
   "source": [
    "# Prior to merging, add a prefix to the column names since it is text data and words tokenized from\n",
    "#  one column could overwrite with those of another.\n",
    "\n",
    "# Make a function to do this for all dataframes.\n",
    "\n",
    "def col_renamer(df, prefix):\n",
    "    new_names = [f'{prefix}_{col}' for col in df.columns]\n",
    "    df.columns = new_names"
   ]
  },
  {
   "cell_type": "code",
   "execution_count": 27,
   "id": "89fe73ea-5551-4358-a4c8-1a046a4f2f95",
   "metadata": {},
   "outputs": [],
   "source": [
    "def amentiy_count_maker(data_frame):\n",
    "    # Use a regular expression to extract the amenities which are between quotes.\n",
    "    #  Code adapted from this source: https://stackoverflow.com/questions/1454913/regular-expression-to-find-a-string-included-between-two-characters-while-exclud\n",
    "    # Also helpful:  https://regex101.com/\n",
    "    regex_string = '(?<=\")[^\"]+(?=\"[,\\]])'\n",
    "    \n",
    "    # Using regex as before, find the number of amenities for every listing and store to a new column\n",
    "    data_frame['amen_cnt'] = data_frame.amenities.apply(lambda x: len(re.findall(regex_string, x)))\n",
    "\n",
    "    # Create a log transformed column, setting the zero imputation value to e^-1\n",
    "    data_frame['log_amen_cnt'] = col_logger(data_frame['amen_cnt'], np.exp(-1))"
   ]
  },
  {
   "cell_type": "code",
   "execution_count": 29,
   "id": "58d4db92-bec8-42a7-b264-6e2ed19ac8e2",
   "metadata": {},
   "outputs": [],
   "source": [
    "def amenity_maker(data_frame, training_data):\n",
    "    # Use a regular expression to extract the amenities which are between quotes.\n",
    "    #  Code adapted from this source: https://stackoverflow.com/questions/1454913/regular-expression-to-find-a-string-included-between-two-characters-while-exclud\n",
    "    # Also helpful:  https://regex101.com/\n",
    "    regex_string = '(?<=\")[^\"]+(?=\"[,\\]])'\n",
    "\n",
    "    amn_lst = []\n",
    "\n",
    "    for string_lists in data_frame.amenities:\n",
    "        a_list = re.findall(regex_string, string_lists)\n",
    "        for amenity in a_list:\n",
    "            amn_lst.append(amenity)\n",
    "\n",
    "    # Create a pandas series of all amenities and their number of occurences\n",
    "    amn_counts = pd.Series(amn_lst).value_counts(ascending=False)\n",
    "\n",
    "    # Filter the datafarme to use only words that appear in 99% of posts\n",
    "    #  THIS IS REQUIRED GIVEN THAT min_df IS IGNORED BY COUNT VECTORISZER WITH CUSTOM DICTIONARIES\n",
    "    #  Create a vocab variable by using the index attribute to get the list of amenities\n",
    "    amn_vocab = amn_counts[amn_counts >= 35].index\n",
    "\n",
    "    if training_data == True:\n",
    "        # Use countevectorizer to one hot encode all the amenities\n",
    "        #  Use the vocab to get only the amenities encoded\n",
    "        #  NOTE:  Set the 'token_pattern' to the regex string so it finds the exact same tokens as were found previously\n",
    "        globals()[f'cvec_amen'] = CountVectorizer(lowercase=False,\n",
    "                               vocabulary=amn_vocab,\n",
    "                               ngram_range=(1, 1),\n",
    "                               token_pattern=regex_string,\n",
    "                              )\n",
    "\n",
    "        # Create a new dataframe with the count vectorized data from the amenities column\n",
    "        amen_df = pd.DataFrame(globals()[f'cvec_amen'].fit_transform(data_frame.amenities).todense(), \n",
    "                     columns = globals()[f'cvec_amen'].get_feature_names_out())\n",
    "    \n",
    "    else:\n",
    "        # Create a new dataframe with the count vectorized data from the amenities column\n",
    "        amen_df = pd.DataFrame(globals()[f'cvec_amen'].transform(data_frame.amenities).todense(), \n",
    "                     columns = globals()[f'cvec_amen'].get_feature_names_out())\n",
    "        \n",
    "    # Rename the columns of amen_df\n",
    "    col_renamer(amen_df, 'amen')\n",
    "    \n",
    "    # Merge amen_df into the lstn dataframe\n",
    "    return pd.merge(left = data_frame, \n",
    "                    right = amen_df, \n",
    "                    left_index=True, right_index=True, \n",
    "                    how = 'outer')"
   ]
  },
  {
   "cell_type": "markdown",
   "id": "3b06e100-9cfb-49d3-a28e-16ff9129ee9a",
   "metadata": {},
   "source": [
    "## Count Vectorize and Add Columns for Name, Description, Neigb. Overview, and Host About"
   ]
  },
  {
   "cell_type": "code",
   "execution_count": 31,
   "id": "d7ab2670-1668-4b9e-8f68-23eb180aff92",
   "metadata": {},
   "outputs": [],
   "source": [
    "'''\n",
    "Write a function that will:\n",
    "* vectorize the columns\n",
    "* create a new df for those columns\n",
    "* rename those columns\n",
    "* merge into lstn\n",
    "* Store the count vectorizer objects so that .transform can be later \n",
    "run on testing/validation datasets\n",
    "'''\n",
    "\n",
    "def text_col_cvec(data_frame, training_data):\n",
    "    \n",
    "    # Provide all the columns that need to be word vectorized\n",
    "    text_cols = ['name', 'description', 'host_about', 'neighborhood_overview']\n",
    "    \n",
    "    for col in text_cols:\n",
    "        # print(f'before: {data_frame.shape}')\n",
    "        \n",
    "        # Create a temporary variable to establish the pandas series based on the list\n",
    "        column_data = data_frame[col]\n",
    "        \n",
    "        # Do fit_transform only if training_data = True\n",
    "        if training_data == True:\n",
    "            \n",
    "            # Instantiate count vectorizer\n",
    "            globals()[f'cvec_{col}'] = CountVectorizer(ngram_range=(1, 4), min_df=0.01)\n",
    "\n",
    "            # Create a new dataframe with the count vectorized data from the selected column\n",
    "            cvec_df = pd.DataFrame(globals()[f'cvec_{col}'].fit_transform(column_data).todense(), \n",
    "                         columns = globals()[f'cvec_{col}'].get_feature_names_out())\n",
    "            \n",
    "        else:\n",
    "            # Create a new dataframe with the count vectorized data from the selected column\n",
    "            cvec_df = pd.DataFrame(globals()[f'cvec_{col}'].transform(column_data).todense(), \n",
    "                         columns = globals()[f'cvec_{col}'].get_feature_names_out())\n",
    "\n",
    "        # Rename the columns\n",
    "        col_renamer(cvec_df, col)\n",
    "        \n",
    "        # print(cvec_df.shape)\n",
    "\n",
    "        # Merge into the main dataframe\n",
    "        data_frame = pd.merge(left = data_frame, \n",
    "             right = cvec_df, \n",
    "             left_index=True, right_index=True, \n",
    "             how = 'outer')\n",
    "        \n",
    "        # print(f'after: {data_frame.shape} \\n')\n",
    "        \n",
    "    return data_frame"
   ]
  },
  {
   "cell_type": "code",
   "execution_count": null,
   "id": "92eb656f-486d-430a-bfa7-87bb4046e0d4",
   "metadata": {},
   "outputs": [],
   "source": []
  },
  {
   "cell_type": "code",
   "execution_count": 46,
   "id": "28e248dd-ca8b-42ef-84d3-bca134fae247",
   "metadata": {},
   "outputs": [],
   "source": [
    "# Import the Training Data\n",
    "does_ist_work = pd.read_csv('../data/listings_train.csv')"
   ]
  },
  {
   "cell_type": "code",
   "execution_count": null,
   "id": "0ef1eaaf-191f-4211-a6f1-453125ec47ae",
   "metadata": {},
   "outputs": [],
   "source": []
  },
  {
   "cell_type": "code",
   "execution_count": null,
   "id": "a35794c6-043c-402a-86f2-b214363e8b50",
   "metadata": {},
   "outputs": [],
   "source": []
  },
  {
   "cell_type": "code",
   "execution_count": 47,
   "id": "3a8f1073-17ca-4a2c-b65e-25945c438313",
   "metadata": {},
   "outputs": [],
   "source": [
    "col_dropper(does_ist_work)"
   ]
  },
  {
   "cell_type": "code",
   "execution_count": 48,
   "id": "37d59f22-456b-405a-8a0a-1023790bc7d8",
   "metadata": {},
   "outputs": [],
   "source": [
    "data_fixer(does_ist_work)"
   ]
  },
  {
   "cell_type": "code",
   "execution_count": 49,
   "id": "9cd3d536-eaa9-4346-80ec-c5f6d4127ad6",
   "metadata": {},
   "outputs": [],
   "source": [
    "data_imputer(does_ist_work)"
   ]
  },
  {
   "cell_type": "code",
   "execution_count": 50,
   "id": "bd11df8a-3ac8-4120-92ef-a816ba057823",
   "metadata": {},
   "outputs": [],
   "source": [
    "simp_num_ft(does_ist_work)"
   ]
  },
  {
   "cell_type": "code",
   "execution_count": 51,
   "id": "1e2d2eca-0d42-4e92-bffd-d681fc72a5a7",
   "metadata": {},
   "outputs": [],
   "source": [
    "dist_ft_adder(does_ist_work)"
   ]
  },
  {
   "cell_type": "code",
   "execution_count": 52,
   "id": "9640e69a-0e6d-4708-ada2-d817e994739c",
   "metadata": {},
   "outputs": [],
   "source": [
    "log_ft_maker(does_ist_work)"
   ]
  },
  {
   "cell_type": "code",
   "execution_count": 53,
   "id": "9450dacf-fc0a-4643-9c84-afb2bfb74caf",
   "metadata": {},
   "outputs": [],
   "source": [
    "does_ist_work = ohe_fn(does_ist_work)"
   ]
  },
  {
   "cell_type": "code",
   "execution_count": 54,
   "id": "59b0d2e9-8de6-4f2e-bde0-cf36549d9065",
   "metadata": {},
   "outputs": [],
   "source": [
    "amentiy_count_maker(does_ist_work)"
   ]
  },
  {
   "cell_type": "code",
   "execution_count": 55,
   "id": "70acb6f8-606e-4f01-9abe-02cd0b633c65",
   "metadata": {},
   "outputs": [],
   "source": [
    "does_ist_work = amenity_maker(does_ist_work, True)"
   ]
  },
  {
   "cell_type": "code",
   "execution_count": 56,
   "id": "4cb843b1-12b3-4e5e-bdf5-15dd5c0d4f52",
   "metadata": {},
   "outputs": [],
   "source": [
    "# Redefine the dataframe with all new columns\n",
    "does_ist_work = text_col_cvec(does_ist_work, True)"
   ]
  },
  {
   "cell_type": "code",
   "execution_count": null,
   "id": "d77d1a0c-46f8-42f5-a71c-df1d321eacee",
   "metadata": {},
   "outputs": [],
   "source": []
  },
  {
   "cell_type": "code",
   "execution_count": 60,
   "id": "41ac0e5b-b3c1-4bb9-97b9-8b8bf70717ee",
   "metadata": {},
   "outputs": [
    {
     "data": {
      "text/plain": [
       "44943702"
      ]
     },
     "execution_count": 60,
     "metadata": {},
     "output_type": "execute_result"
    }
   ],
   "source": [
    "sum(sum(np.array(does_ist_work == lstn)))"
   ]
  },
  {
   "cell_type": "code",
   "execution_count": 61,
   "id": "0b485d6a-4a5f-4851-8ac3-2abe6daa6e4e",
   "metadata": {},
   "outputs": [
    {
     "data": {
      "text/plain": [
       "44943702"
      ]
     },
     "execution_count": 61,
     "metadata": {},
     "output_type": "execute_result"
    }
   ],
   "source": [
    "lstn.shape[0] * lstn.shape[1]"
   ]
  },
  {
   "cell_type": "code",
   "execution_count": null,
   "id": "ef6e8677-c5e4-42f1-bd19-8a67ddb22c6f",
   "metadata": {},
   "outputs": [],
   "source": []
  },
  {
   "cell_type": "code",
   "execution_count": null,
   "id": "cdaced50-3f7c-4d62-8347-b86cdf75d527",
   "metadata": {},
   "outputs": [],
   "source": []
  },
  {
   "cell_type": "code",
   "execution_count": 84,
   "id": "378ee131-9d80-4427-9ef2-884efece8a47",
   "metadata": {},
   "outputs": [],
   "source": [
    "def master_formatter(data_frame, training_data):\n",
    "    print(f'start: {data_frame.shape[1]}')\n",
    "    \n",
    "    col_dropper(data_frame)\n",
    "    print(f'col_dropper: {data_frame.shape[1]}')\n",
    "\n",
    "    data_fixer(data_frame)\n",
    "    print(f'data_fixer: {data_frame.shape[1]}')\n",
    "\n",
    "    data_imputer(data_frame)\n",
    "    print(f'data_imputer: {data_frame.shape[1]}')\n",
    "\n",
    "    simp_num_ft(data_frame)\n",
    "    print(f'simp_num_ft: {data_frame.shape[1]}')\n",
    "\n",
    "    dist_ft_adder(data_frame)\n",
    "    print(f'dist_ft_adder: {data_frame.shape[1]}')\n",
    "\n",
    "    log_ft_maker(data_frame)\n",
    "    print(f'log_ft_maker: {data_frame.shape[1]}')\n",
    "\n",
    "    data_frame = ohe_fn(data_frame)\n",
    "    print(f'ohe_fn: {data_frame.shape[1]}')\n",
    "\n",
    "    amentiy_count_maker(data_frame)\n",
    "    print(f'amentiy_count_maker: {data_frame.shape[1]}')\n",
    "\n",
    "    data_frame = amenity_maker(data_frame, training_data)\n",
    "    print(f'amenity_maker: {data_frame.shape[1]}')\n",
    "\n",
    "    data_frame = text_col_cvec(data_frame, training_data)\n",
    "    print(f'text_col_cvec: {data_frame.shape[1]}')\n",
    "    \n",
    "    return data_frame"
   ]
  },
  {
   "cell_type": "code",
   "execution_count": 85,
   "id": "77f6d4b6-7163-4427-baf4-507d4db93045",
   "metadata": {},
   "outputs": [
    {
     "name": "stdout",
     "output_type": "stream",
     "text": [
      "start: 75\n",
      "col_dropper: 41\n",
      "data_fixer: 41\n",
      "data_imputer: 41\n",
      "simp_num_ft: 44\n",
      "dist_ft_adder: 45\n",
      "log_ft_maker: 72\n",
      "ohe_fn: 160\n",
      "amentiy_count_maker: 162\n",
      "amenity_maker: 315\n",
      "text_col_cvec: 12926\n"
     ]
    }
   ],
   "source": [
    "# Import the Training Data\n",
    "how_now = pd.read_csv('../data/listings_train.csv')\n",
    "\n",
    "about_now = master_formatter(how_now, True)"
   ]
  },
  {
   "cell_type": "code",
   "execution_count": 73,
   "id": "fdb59e11-4edc-44c7-bc8b-a75970f8e55f",
   "metadata": {},
   "outputs": [
    {
     "data": {
      "text/plain": [
       "44943702"
      ]
     },
     "execution_count": 73,
     "metadata": {},
     "output_type": "execute_result"
    }
   ],
   "source": [
    "sum(sum(np.array(about_now == lstn)))"
   ]
  },
  {
   "cell_type": "code",
   "execution_count": null,
   "id": "41cd2ad1-7964-4175-81e3-fa7033220df8",
   "metadata": {},
   "outputs": [],
   "source": []
  },
  {
   "cell_type": "code",
   "execution_count": 86,
   "id": "3a9a0292-c226-4102-8110-f2ea7f1e8a5e",
   "metadata": {},
   "outputs": [
    {
     "name": "stdout",
     "output_type": "stream",
     "text": [
      "start: 75\n",
      "col_dropper: 41\n",
      "data_fixer: 41\n",
      "data_imputer: 41\n",
      "simp_num_ft: 44\n",
      "dist_ft_adder: 45\n",
      "log_ft_maker: 72\n",
      "ohe_fn: 127\n",
      "amentiy_count_maker: 129\n",
      "amenity_maker: 282\n",
      "text_col_cvec: 12893\n"
     ]
    }
   ],
   "source": [
    "testing = pd.read_csv('../data/listings_test.csv')\n",
    "testing_now = master_formatter(testing, False)"
   ]
  },
  {
   "cell_type": "code",
   "execution_count": 75,
   "id": "b7891134-8c44-4c9f-8f16-4e2659ce782d",
   "metadata": {},
   "outputs": [],
   "source": [
    "testing_now = master_formatter(testing, False)"
   ]
  },
  {
   "cell_type": "code",
   "execution_count": 76,
   "id": "59af5783-4171-4711-b380-1524140f94cf",
   "metadata": {},
   "outputs": [
    {
     "data": {
      "text/plain": [
       "(387, 12893)"
      ]
     },
     "execution_count": 76,
     "metadata": {},
     "output_type": "execute_result"
    }
   ],
   "source": [
    "testing_now.shape"
   ]
  },
  {
   "cell_type": "code",
   "execution_count": null,
   "id": "0fa981d6-b6d5-4dea-9a61-cb08e9031c08",
   "metadata": {},
   "outputs": [],
   "source": [
    "testing_now"
   ]
  },
  {
   "cell_type": "markdown",
   "id": "cd33a13c-6a38-4377-8147-bd052f31656f",
   "metadata": {},
   "source": [
    "---\n",
    "---\n"
   ]
  },
  {
   "cell_type": "code",
   "execution_count": 165,
   "id": "3287d6d4-6a71-4fa6-96bf-f468f65addc9",
   "metadata": {},
   "outputs": [],
   "source": [
    "def ohe_fn_2(data_frame, training_data):\n",
    "    # Find the remaining categorical columns:\n",
    "    cat_cols = list(data_frame.columns)\n",
    "    num_cols = list(data_frame._get_numeric_data().columns)\n",
    "\n",
    "    for col in num_cols:\n",
    "        cat_cols.remove(col)\n",
    "\n",
    "    # Some of these columns must be removed to be handled separately in advanced processing\n",
    "    remove_cols = ['amenities', 'host_about', 'name', 'neighborhood_overview', 'description']\n",
    "\n",
    "    for col in remove_cols:\n",
    "        cat_cols.remove(col)\n",
    "\n",
    "    # Create a new temporary dataframe with just the columns taht nee to be one hot encoded\n",
    "    #  otherwise, it will try to OHE the whole thing...\n",
    "    data_frame_temp = data_frame[cat_cols]\n",
    "\n",
    "\n",
    "    # The instance of onehotencoder must be created as aglabal variable\n",
    "    globals()['ohe_inst'] = OneHotEncoder(sparse_output = False, drop = 'first')\n",
    "    \n",
    "    # Add an if statment to fit_transform only if it's the training data:\n",
    "    if training_data == True:\n",
    "        \n",
    "        # Create the ohe array from the temporary dataframe (fitted and transformed)\n",
    "        ohe_array = ohe_inst.fit_transform(data_frame_temp)\n",
    "\n",
    "    else:\n",
    "        # Create the ohe array from the temporary dataframe (transformed only)\n",
    "        ohe_array = ohe_inst.transform(data_frame_temp)\n",
    "    \n",
    "    # Make a dataframe from the array with the proper columns\n",
    "    ohe_array_df = pd.DataFrame(ohe_array, columns=ohe_inst.get_feature_names_out())\n",
    "    \n",
    "    # Drop the original cat_col columns in the original dataframe\n",
    "    data_frame.drop(columns=cat_cols, inplace=True)\n",
    "    \n",
    "    # Merge the OHE data into the new dataframe\n",
    "    data_frame = pd.merge(left = data_frame, \n",
    "                 right = ohe_array_df, \n",
    "                 left_index=True, right_index=True, \n",
    "                 how = 'outer')\n",
    "    \n",
    "    # Return the dataframe\n",
    "    return data_frame"
   ]
  },
  {
   "cell_type": "code",
   "execution_count": 164,
   "id": "0ea67319-2f7f-43ca-8ec5-61937446f72a",
   "metadata": {},
   "outputs": [],
   "source": [
    "def master_formatter_2(data_frame, training_data):\n",
    "    print(f'start: {data_frame.shape[1]}')\n",
    "    \n",
    "    col_dropper(data_frame)\n",
    "    print(f'col_dropper: {data_frame.shape[1]}')\n",
    "\n",
    "    data_fixer(data_frame)\n",
    "    print(f'data_fixer: {data_frame.shape[1]}')\n",
    "\n",
    "    data_imputer(data_frame)\n",
    "    print(f'data_imputer: {data_frame.shape[1]}')\n",
    "\n",
    "    simp_num_ft(data_frame)\n",
    "    print(f'simp_num_ft: {data_frame.shape[1]}')\n",
    "\n",
    "    dist_ft_adder(data_frame)\n",
    "    print(f'dist_ft_adder: {data_frame.shape[1]}')\n",
    "\n",
    "    log_ft_maker(data_frame)\n",
    "    print(f'log_ft_maker: {data_frame.shape[1]}')\n",
    "\n",
    "    data_frame = ohe_fn_2(data_frame, True)\n",
    "    print(f'ohe_fn: {data_frame.shape[1]}')\n",
    "\n",
    "    amentiy_count_maker(data_frame)\n",
    "    print(f'amentiy_count_maker: {data_frame.shape[1]}')\n",
    "\n",
    "    data_frame = amenity_maker(data_frame, training_data)\n",
    "    print(f'amenity_maker: {data_frame.shape[1]}')\n",
    "\n",
    "    data_frame = text_col_cvec(data_frame, training_data)\n",
    "    print(f'text_col_cvec: {data_frame.shape[1]}')\n",
    "    \n",
    "    return data_frame"
   ]
  },
  {
   "cell_type": "code",
   "execution_count": 166,
   "id": "2f230d1c-7bff-4e99-866c-472aa3a2cf15",
   "metadata": {},
   "outputs": [
    {
     "name": "stdout",
     "output_type": "stream",
     "text": [
      "start: 75\n",
      "col_dropper: 41\n",
      "data_fixer: 41\n",
      "data_imputer: 41\n",
      "simp_num_ft: 44\n",
      "dist_ft_adder: 45\n",
      "log_ft_maker: 72\n",
      "ohe_fn: 160\n",
      "amentiy_count_maker: 162\n",
      "amenity_maker: 315\n",
      "text_col_cvec: 12926\n"
     ]
    },
    {
     "data": {
      "text/plain": [
       "(3477, 12926)"
      ]
     },
     "execution_count": 166,
     "metadata": {},
     "output_type": "execute_result"
    }
   ],
   "source": [
    "new_new = pd.read_csv('../data/listings_train.csv')\n",
    "\n",
    "new_new = master_formatter_2(new_new, True)\n",
    "\n",
    "new_new.shape"
   ]
  },
  {
   "cell_type": "code",
   "execution_count": 162,
   "id": "53532eb0-00b7-460f-9e45-9c81e480fef8",
   "metadata": {},
   "outputs": [],
   "source": [
    "new_new = ohe_fn_2(new_new, True)"
   ]
  },
  {
   "cell_type": "code",
   "execution_count": 167,
   "id": "0ec91f1b-c49e-4db6-b0bc-5a97cb3089b0",
   "metadata": {},
   "outputs": [
    {
     "data": {
      "text/plain": [
       "(3477, 12926)"
      ]
     },
     "execution_count": 167,
     "metadata": {},
     "output_type": "execute_result"
    }
   ],
   "source": [
    "new_new.shape"
   ]
  },
  {
   "cell_type": "code",
   "execution_count": 171,
   "id": "fea8a77a-e720-4d81-b3b3-77bb42919834",
   "metadata": {},
   "outputs": [
    {
     "data": {
      "text/plain": [
       "44943702"
      ]
     },
     "execution_count": 171,
     "metadata": {},
     "output_type": "execute_result"
    }
   ],
   "source": [
    "sum(sum(np.array(new_new == lstn)))"
   ]
  },
  {
   "cell_type": "code",
   "execution_count": 172,
   "id": "493a1b2a-9f74-457f-a737-c6a960753171",
   "metadata": {},
   "outputs": [
    {
     "data": {
      "text/plain": [
       "44943702"
      ]
     },
     "execution_count": 172,
     "metadata": {},
     "output_type": "execute_result"
    }
   ],
   "source": [
    "3477*12926"
   ]
  },
  {
   "cell_type": "code",
   "execution_count": null,
   "id": "278bf259-eb11-40b4-8b4e-fb5860fa30cf",
   "metadata": {},
   "outputs": [],
   "source": []
  },
  {
   "cell_type": "code",
   "execution_count": null,
   "id": "63b00917-543a-4be6-a3ec-ab9099abb7b2",
   "metadata": {},
   "outputs": [],
   "source": []
  },
  {
   "cell_type": "code",
   "execution_count": null,
   "id": "46f79562-f0d9-4411-b26d-63b2497e1d1d",
   "metadata": {},
   "outputs": [],
   "source": [
    "def ohe_fn_2(data_frame):\n",
    "    # Find the remaining categorical columns:\n",
    "    cat_cols = list(data_frame.columns)\n",
    "    num_cols = list(data_frame._get_numeric_data().columns)\n",
    "    \n",
    "    for col in num_cols:\n",
    "        cat_cols.remove(col)\n",
    "\n",
    "    # Some of these columns must be removed to be handled separately in advanced processing\n",
    "    remove_cols = ['amenities', 'host_about', 'name', 'neighborhood_overview', 'description']\n",
    "\n",
    "    for col in remove_cols:\n",
    "        cat_cols.remove(col)\n",
    "\n",
    "    # Merge the lstn dataframe with the one hot encoded values\n",
    "    return pd.get_dummies(data_frame, columns = cat_cols, drop_first=True)"
   ]
  },
  {
   "cell_type": "code",
   "execution_count": 142,
   "id": "e29a4e3d-ad5d-4ac7-b606-fa4dedb17971",
   "metadata": {},
   "outputs": [
    {
     "data": {
      "text/plain": [
       "99"
      ]
     },
     "execution_count": 142,
     "metadata": {},
     "output_type": "execute_result"
    }
   ],
   "source": [
    "len(lstn.columns[61:160])"
   ]
  },
  {
   "cell_type": "code",
   "execution_count": 146,
   "id": "e772aee3-4d61-44c8-9070-f167e977c321",
   "metadata": {},
   "outputs": [
    {
     "data": {
      "text/plain": [
       "99"
      ]
     },
     "execution_count": 146,
     "metadata": {},
     "output_type": "execute_result"
    }
   ],
   "source": [
    "sum(lstn.columns[61:160] == ohe_new.get_feature_names_out())"
   ]
  },
  {
   "cell_type": "code",
   "execution_count": null,
   "id": "0a35852d-1cda-427f-aef3-6a8d755e101b",
   "metadata": {},
   "outputs": [],
   "source": []
  },
  {
   "cell_type": "code",
   "execution_count": null,
   "id": "875eee3f-d201-41c2-a280-9a3634ca9cb2",
   "metadata": {},
   "outputs": [],
   "source": []
  },
  {
   "cell_type": "code",
   "execution_count": null,
   "id": "d4b332b4-68c4-4589-9bfa-365e9865e4ce",
   "metadata": {},
   "outputs": [],
   "source": []
  },
  {
   "cell_type": "code",
   "execution_count": null,
   "id": "c0799abe-a2ca-4b2e-ac21-ab882db92ab0",
   "metadata": {},
   "outputs": [],
   "source": []
  },
  {
   "cell_type": "code",
   "execution_count": null,
   "id": "72c00a73-f90f-4ac3-8988-adeec426b2bd",
   "metadata": {},
   "outputs": [],
   "source": []
  },
  {
   "cell_type": "code",
   "execution_count": null,
   "id": "a2b76673-d051-4472-8207-f17ecaff41bf",
   "metadata": {},
   "outputs": [],
   "source": []
  },
  {
   "cell_type": "code",
   "execution_count": null,
   "id": "32b3e5c9-eda8-4057-9fbf-bfbe7574cca6",
   "metadata": {},
   "outputs": [],
   "source": []
  },
  {
   "cell_type": "code",
   "execution_count": null,
   "id": "78c3e465-8ff0-4db4-a262-b9e07cdb8a68",
   "metadata": {},
   "outputs": [],
   "source": []
  },
  {
   "cell_type": "code",
   "execution_count": null,
   "id": "b19366e3-4f61-4cf7-afd0-e8fed7547f44",
   "metadata": {},
   "outputs": [],
   "source": []
  },
  {
   "cell_type": "code",
   "execution_count": null,
   "id": "38bf9258-caab-4461-8ade-408581d73099",
   "metadata": {},
   "outputs": [],
   "source": []
  },
  {
   "cell_type": "code",
   "execution_count": null,
   "id": "8fe97241-c9ce-4748-83ce-3d03aa6ef5b3",
   "metadata": {},
   "outputs": [],
   "source": []
  },
  {
   "cell_type": "code",
   "execution_count": null,
   "id": "c2788cf6-5b4e-42a8-8a25-038946e8d821",
   "metadata": {},
   "outputs": [],
   "source": []
  },
  {
   "cell_type": "code",
   "execution_count": null,
   "id": "c878da55-a8ab-428c-9c2e-306f98865de9",
   "metadata": {},
   "outputs": [],
   "source": []
  },
  {
   "cell_type": "code",
   "execution_count": null,
   "id": "4ed4fdd8-80da-415b-9725-fb627fcc2d73",
   "metadata": {},
   "outputs": [],
   "source": []
  },
  {
   "cell_type": "code",
   "execution_count": null,
   "id": "047829e0-1708-4cea-9a9a-ce3531cfe5a9",
   "metadata": {},
   "outputs": [],
   "source": []
  },
  {
   "cell_type": "code",
   "execution_count": null,
   "id": "b5d74ef2-ac2c-4163-8e09-a89c981dec93",
   "metadata": {},
   "outputs": [],
   "source": []
  },
  {
   "cell_type": "code",
   "execution_count": null,
   "id": "90de6b08-4087-4f1e-98ff-5f01f7d409c2",
   "metadata": {},
   "outputs": [],
   "source": []
  },
  {
   "cell_type": "code",
   "execution_count": null,
   "id": "63c27568-87bf-419d-bcac-ccd1e5d07f6c",
   "metadata": {},
   "outputs": [],
   "source": []
  },
  {
   "cell_type": "code",
   "execution_count": null,
   "id": "8dfa713f-17c4-4a03-b523-39dfe05a1da6",
   "metadata": {},
   "outputs": [],
   "source": []
  },
  {
   "cell_type": "code",
   "execution_count": null,
   "id": "6e9e87cd-7a15-4412-b7b6-81038e674c5f",
   "metadata": {},
   "outputs": [],
   "source": []
  },
  {
   "cell_type": "code",
   "execution_count": null,
   "id": "aba90ffd-6daa-48d7-bedb-d69145e04575",
   "metadata": {},
   "outputs": [],
   "source": []
  },
  {
   "cell_type": "code",
   "execution_count": null,
   "id": "ca2a3179-e391-431b-a5ba-048cb9f91c27",
   "metadata": {},
   "outputs": [],
   "source": []
  },
  {
   "cell_type": "code",
   "execution_count": null,
   "id": "0d72499f-02b5-40f9-b1e1-057392f96569",
   "metadata": {},
   "outputs": [],
   "source": []
  },
  {
   "cell_type": "code",
   "execution_count": null,
   "id": "c39ed47b-0b56-4363-b9fc-33c6cfb9be0c",
   "metadata": {},
   "outputs": [],
   "source": []
  },
  {
   "cell_type": "markdown",
   "id": "c02d5326-b0e0-476d-a184-728d380a2ad4",
   "metadata": {},
   "source": [
    "---\n",
    "---\n",
    "# Junk"
   ]
  },
  {
   "cell_type": "code",
   "execution_count": 33,
   "id": "8fc6b9e4-48d1-4c79-a766-02217ee424bf",
   "metadata": {},
   "outputs": [
    {
     "data": {
      "text/plain": [
       "(3477, 12926)"
      ]
     },
     "execution_count": 33,
     "metadata": {},
     "output_type": "execute_result"
    }
   ],
   "source": [
    "lstn.shape"
   ]
  },
  {
   "cell_type": "code",
   "execution_count": 34,
   "id": "10752cb1-4835-47f7-a967-91deb9bc57aa",
   "metadata": {},
   "outputs": [],
   "source": [
    "lstn.to_csv('../data/try_hard.csv')"
   ]
  },
  {
   "cell_type": "code",
   "execution_count": 35,
   "id": "c0cc2a6b-3a33-441f-b51d-42bc078753c4",
   "metadata": {},
   "outputs": [],
   "source": [
    "lstn2 = pd.read_csv('../data/try_hard2.csv')"
   ]
  },
  {
   "cell_type": "code",
   "execution_count": 36,
   "id": "304efe4b-4cd9-42e7-ad2c-8c6e7d92719a",
   "metadata": {},
   "outputs": [],
   "source": [
    "lstn_og = pd.read_csv('../data/try_hard.csv')"
   ]
  },
  {
   "cell_type": "code",
   "execution_count": 37,
   "id": "c30f3da5-6f06-4047-9fa1-818f5cf02dfc",
   "metadata": {},
   "outputs": [
    {
     "data": {
      "text/plain": [
       "((3477, 12927), (3477, 12927))"
      ]
     },
     "execution_count": 37,
     "metadata": {},
     "output_type": "execute_result"
    }
   ],
   "source": [
    "lstn_og.shape, lstn2.shape"
   ]
  },
  {
   "cell_type": "code",
   "execution_count": 38,
   "id": "63ddfea6-837c-4539-967b-001796c53d3b",
   "metadata": {},
   "outputs": [
    {
     "data": {
      "text/plain": [
       "12927"
      ]
     },
     "execution_count": 38,
     "metadata": {},
     "output_type": "execute_result"
    }
   ],
   "source": [
    "sum(lstn_og.columns == lstn2.columns)"
   ]
  },
  {
   "cell_type": "code",
   "execution_count": 39,
   "id": "4cbde63b-b39f-44c9-9ef1-2367007959e3",
   "metadata": {},
   "outputs": [
    {
     "data": {
      "text/plain": [
       "12927"
      ]
     },
     "execution_count": 39,
     "metadata": {},
     "output_type": "execute_result"
    }
   ],
   "source": [
    "len(sum(np.array(lstn_og == lstn2)))"
   ]
  },
  {
   "cell_type": "code",
   "execution_count": 40,
   "id": "b2de968c-a6e2-4650-b8b5-ce7efafe97ce",
   "metadata": {},
   "outputs": [
    {
     "data": {
      "text/plain": [
       "44947179"
      ]
     },
     "execution_count": 40,
     "metadata": {},
     "output_type": "execute_result"
    }
   ],
   "source": [
    "sum(sum(np.array(lstn2 == lstn2)))"
   ]
  },
  {
   "cell_type": "code",
   "execution_count": 41,
   "id": "70f589ab-870d-4c20-804e-68031bbaeb72",
   "metadata": {},
   "outputs": [
    {
     "data": {
      "text/plain": [
       "44947179"
      ]
     },
     "execution_count": 41,
     "metadata": {},
     "output_type": "execute_result"
    }
   ],
   "source": [
    "3477 * 12927"
   ]
  },
  {
   "cell_type": "code",
   "execution_count": 42,
   "id": "a511c3cd-412e-4acd-a606-bcb8004eef2b",
   "metadata": {},
   "outputs": [
    {
     "data": {
      "text/plain": [
       "3477"
      ]
     },
     "execution_count": 42,
     "metadata": {},
     "output_type": "execute_result"
    }
   ],
   "source": [
    "44947179 - 44943702"
   ]
  },
  {
   "cell_type": "code",
   "execution_count": 43,
   "id": "fff1cc55-21e1-495a-b92e-af8c51b0a43a",
   "metadata": {},
   "outputs": [],
   "source": [
    "truth_df = lstn_og == lstn2"
   ]
  },
  {
   "cell_type": "code",
   "execution_count": 44,
   "id": "a20a359d-1b28-47a9-b909-6eabdbd6da8b",
   "metadata": {},
   "outputs": [
    {
     "data": {
      "text/plain": [
       "3477"
      ]
     },
     "execution_count": 44,
     "metadata": {},
     "output_type": "execute_result"
    }
   ],
   "source": [
    "sum(truth_df.name)"
   ]
  },
  {
   "cell_type": "code",
   "execution_count": 45,
   "id": "acca2a0f-27a6-4da1-9e2a-7e2dd3821f02",
   "metadata": {
    "scrolled": true,
    "tags": []
   },
   "outputs": [],
   "source": [
    "for col in truth_df.columns:\n",
    "    if sum(truth_df[col]) != 3477:\n",
    "        print(col)"
   ]
  },
  {
   "cell_type": "code",
   "execution_count": null,
   "id": "40d10850-82dd-47f9-814a-d7b268506ea9",
   "metadata": {},
   "outputs": [],
   "source": []
  }
 ],
 "metadata": {
  "kernelspec": {
   "display_name": "Python 3 (ipykernel)",
   "language": "python",
   "name": "python3"
  },
  "language_info": {
   "codemirror_mode": {
    "name": "ipython",
    "version": 3
   },
   "file_extension": ".py",
   "mimetype": "text/x-python",
   "name": "python",
   "nbconvert_exporter": "python",
   "pygments_lexer": "ipython3",
   "version": "3.10.9"
  }
 },
 "nbformat": 4,
 "nbformat_minor": 5
}
