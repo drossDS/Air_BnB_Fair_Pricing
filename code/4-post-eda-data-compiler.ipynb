{
 "cells": [
  {
   "cell_type": "code",
   "execution_count": 2,
   "id": "8823ede5-8674-46fa-9790-46af979d8fa6",
   "metadata": {},
   "outputs": [],
   "source": [
    "# Basic Imports\n",
    "import pandas as pd\n",
    "import numpy as np\n",
    "import matplotlib.pyplot as plt\n",
    "import seaborn as sns\n",
    "\n",
    "# For tesxt:\n",
    "import re\n",
    "\n",
    "# For times:\n",
    "import time\n",
    "\n",
    "# Set a random seed for imputation\n",
    "#  Source:  https://numpy.org/doc/stable/reference/random/generated/numpy.random.seed.html\n",
    "np.random.seed(42)\n",
    "\n",
    "# Sklearn\n",
    "from sklearn.model_selection import train_test_split\n",
    "from sklearn.impute import SimpleImputer\n",
    "from sklearn.feature_extraction.text import CountVectorizer\n"
   ]
  },
  {
   "cell_type": "markdown",
   "id": "818cfdc1-de00-41a8-9ed2-927ddec24c8b",
   "metadata": {},
   "source": [
    "# Read-in Data"
   ]
  },
  {
   "cell_type": "code",
   "execution_count": 9,
   "id": "33d00783-8649-4dd6-91d7-876943982bf7",
   "metadata": {},
   "outputs": [],
   "source": [
    "# Import the Training Data\n",
    "lstn = pd.read_csv('../data/listings_train.csv')"
   ]
  },
  {
   "cell_type": "markdown",
   "id": "e2194d96-0848-4b94-9ad0-c4ba11c058a3",
   "metadata": {
    "tags": []
   },
   "source": [
    "# Drop Un-needed Columns"
   ]
  },
  {
   "cell_type": "code",
   "execution_count": 10,
   "id": "2494824a-083e-4b90-a6b3-5bc320603d6a",
   "metadata": {},
   "outputs": [],
   "source": [
    "lstn.drop(columns = [\n",
    "    'listing_url', 'scrape_id', 'last_scraped', 'source',\n",
    "    'picture_url', 'host_url', 'host_name', 'host_thumbnail_url', 'host_picture_url',\n",
    "    'neighbourhood','neighbourhood_group_cleansed', 'minimum_minimum_nights',\n",
    "    'maximum_minimum_nights', 'minimum_maximum_nights', 'maximum_maximum_nights', \n",
    "    'minimum_nights_avg_ntm', 'maximum_nights_avg_ntm', 'calendar_updated',\n",
    "    'calendar_last_scraped', 'bathrooms', 'first_review', 'last_review',\n",
    "    'id', 'host_id',\n",
    "], inplace = True)\n",
    "\n",
    "# For now, these columsn will also be dropped unless time allows for them to be processed:\n",
    "lstn.drop(columns = [\n",
    "    'host_location', 'host_neighbourhood', 'review_scores_rating', 'review_scores_accuracy',\n",
    "    'review_scores_cleanliness', 'review_scores_checkin', 'review_scores_communication',\n",
    "    'review_scores_location', 'review_scores_value', 'license'\n",
    "], inplace = True)"
   ]
  },
  {
   "cell_type": "code",
   "execution_count": 11,
   "id": "ae1b8afb-96d8-4250-9cc2-9907a02fbf0d",
   "metadata": {},
   "outputs": [
    {
     "name": "stdout",
     "output_type": "stream",
     "text": [
      "<class 'pandas.core.frame.DataFrame'>\n",
      "RangeIndex: 3477 entries, 0 to 3476\n",
      "Data columns (total 41 columns):\n",
      " #   Column                                        Non-Null Count  Dtype  \n",
      "---  ------                                        --------------  -----  \n",
      " 0   name                                          3477 non-null   object \n",
      " 1   description                                   3464 non-null   object \n",
      " 2   neighborhood_overview                         2245 non-null   object \n",
      " 3   host_since                                    3477 non-null   object \n",
      " 4   host_about                                    2463 non-null   object \n",
      " 5   host_response_time                            3011 non-null   object \n",
      " 6   host_response_rate                            3011 non-null   object \n",
      " 7   host_acceptance_rate                          3067 non-null   object \n",
      " 8   host_is_superhost                             3476 non-null   object \n",
      " 9   host_listings_count                           3477 non-null   int64  \n",
      " 10  host_total_listings_count                     3477 non-null   int64  \n",
      " 11  host_verifications                            3477 non-null   object \n",
      " 12  host_has_profile_pic                          3477 non-null   object \n",
      " 13  host_identity_verified                        3477 non-null   object \n",
      " 14  neighbourhood_cleansed                        3477 non-null   object \n",
      " 15  latitude                                      3477 non-null   float64\n",
      " 16  longitude                                     3477 non-null   float64\n",
      " 17  property_type                                 3477 non-null   object \n",
      " 18  room_type                                     3477 non-null   object \n",
      " 19  accommodates                                  3477 non-null   int64  \n",
      " 20  bathrooms_text                                3476 non-null   object \n",
      " 21  bedrooms                                      3061 non-null   float64\n",
      " 22  beds                                          3399 non-null   float64\n",
      " 23  amenities                                     3477 non-null   object \n",
      " 24  price                                         3477 non-null   object \n",
      " 25  minimum_nights                                3477 non-null   int64  \n",
      " 26  maximum_nights                                3477 non-null   int64  \n",
      " 27  has_availability                              3477 non-null   object \n",
      " 28  availability_30                               3477 non-null   int64  \n",
      " 29  availability_60                               3477 non-null   int64  \n",
      " 30  availability_90                               3477 non-null   int64  \n",
      " 31  availability_365                              3477 non-null   int64  \n",
      " 32  number_of_reviews                             3477 non-null   int64  \n",
      " 33  number_of_reviews_ltm                         3477 non-null   int64  \n",
      " 34  number_of_reviews_l30d                        3477 non-null   int64  \n",
      " 35  instant_bookable                              3477 non-null   object \n",
      " 36  calculated_host_listings_count                3477 non-null   int64  \n",
      " 37  calculated_host_listings_count_entire_homes   3477 non-null   int64  \n",
      " 38  calculated_host_listings_count_private_rooms  3477 non-null   int64  \n",
      " 39  calculated_host_listings_count_shared_rooms   3477 non-null   int64  \n",
      " 40  reviews_per_month                             2462 non-null   float64\n",
      "dtypes: float64(5), int64(16), object(20)\n",
      "memory usage: 1.1+ MB\n"
     ]
    }
   ],
   "source": [
    "lstn.info()"
   ]
  },
  {
   "cell_type": "code",
   "execution_count": 12,
   "id": "1e919cb4-1fb5-47ad-b398-28c20e64f17e",
   "metadata": {},
   "outputs": [
    {
     "data": {
      "text/plain": [
       "Index(['name', 'description', 'neighborhood_overview', 'host_since',\n",
       "       'host_about', 'host_response_time', 'host_response_rate',\n",
       "       'host_acceptance_rate', 'host_is_superhost', 'host_listings_count',\n",
       "       'host_total_listings_count', 'host_verifications',\n",
       "       'host_has_profile_pic', 'host_identity_verified',\n",
       "       'neighbourhood_cleansed', 'latitude', 'longitude', 'property_type',\n",
       "       'room_type', 'accommodates', 'bathrooms_text', 'bedrooms', 'beds',\n",
       "       'amenities', 'price', 'minimum_nights', 'maximum_nights',\n",
       "       'has_availability', 'availability_30', 'availability_60',\n",
       "       'availability_90', 'availability_365', 'number_of_reviews',\n",
       "       'number_of_reviews_ltm', 'number_of_reviews_l30d', 'instant_bookable',\n",
       "       'calculated_host_listings_count',\n",
       "       'calculated_host_listings_count_entire_homes',\n",
       "       'calculated_host_listings_count_private_rooms',\n",
       "       'calculated_host_listings_count_shared_rooms', 'reviews_per_month'],\n",
       "      dtype='object')"
      ]
     },
     "execution_count": 12,
     "metadata": {},
     "output_type": "execute_result"
    }
   ],
   "source": [
    "lstn.columns"
   ]
  },
  {
   "cell_type": "markdown",
   "id": "b71f6646-3453-4b85-bc57-02ac131f1ffb",
   "metadata": {},
   "source": [
    "# Fix Datatypes"
   ]
  },
  {
   "cell_type": "code",
   "execution_count": 16,
   "id": "2ea8d2bc-8076-442b-972a-a6e0ede289b4",
   "metadata": {},
   "outputs": [],
   "source": [
    "# FIX PRICE:  The dolar signs must be removed from the prices and numbers converted to float values\n",
    "lstn.price = lstn.price.apply(lambda x: float(x.replace('$','').replace(',','').strip()))"
   ]
  },
  {
   "cell_type": "code",
   "execution_count": 17,
   "id": "37d59f22-456b-405a-8a0a-1023790bc7d8",
   "metadata": {},
   "outputs": [],
   "source": [
    "# FIX HOST SINCE:  Convert to datetime then to epoch time in days\n",
    "\n",
    "'''\n",
    "The method used below to convert to epoch time was discovered with the help of ChatGPT.\n",
    "Per the lead instructor, it is ok to use ChatGPT is a search tool provided that we provide the\n",
    "question that was asked:\n",
    "\n",
    "Question:  'in python, I want to convert a pandas datetime object to epoch time'\n",
    "\n",
    "Additional help from:  https://pandas.pydata.org/docs/reference/api/pandas.to_datetime.html\n",
    "'''\n",
    "\n",
    "# The strings are converted to date time, then to epoch time with '.timestamp()'\n",
    "# The epoch time is then divided by the product the number of hours and seconds per day\n",
    "#   to get the number of days since the epoch time origin \n",
    "lstn['host_since'] = pd.to_datetime(lstn['host_since']).apply(lambda x: x.timestamp()/(3600*24))"
   ]
  },
  {
   "cell_type": "code",
   "execution_count": 20,
   "id": "26e33f54-1157-4a6f-bd4f-454d486bb642",
   "metadata": {},
   "outputs": [],
   "source": [
    "# FIX RESPONSE & ACCEPTANCE RATES:  Remove percentages\n",
    "\n",
    "'''\n",
    "Since the null values are not a very big percentage of the total data (though not a small percentage either),\n",
    "the data will be imputed with the median value\n",
    "'''\n",
    "\n",
    "'''\n",
    "The pcnt_floater functionwill be copied over here.  This is necessary as there are null values in these columns\n",
    "which cannot be simply converted within the lambda function because there is no percentage sign.\n",
    "'''\n",
    "\n",
    "# This function will attempt to convert a string percentage value into a float\n",
    "#  Source for help:  https://www.w3schools.com/python/python_try_except.asp\n",
    "def pcnt_floater(x):\n",
    "    try:\n",
    "        return float(x.replace('%', '').strip())\n",
    "    except:\n",
    "        return x\n",
    "\n",
    "# Convert percentages where they can be converted\n",
    "lstn.host_acceptance_rate = lstn.host_acceptance_rate.apply(lambda x: pcnt_floater(x))\n",
    "lstn.host_response_rate = lstn.host_response_rate.apply(lambda x: pcnt_floater(x))"
   ]
  },
  {
   "cell_type": "code",
   "execution_count": null,
   "id": "68f51c2d-52fe-4767-b84b-29de6b7dcbc3",
   "metadata": {},
   "outputs": [],
   "source": []
  },
  {
   "cell_type": "code",
   "execution_count": null,
   "id": "95c6c828-71cb-468f-925d-ce143ef63788",
   "metadata": {},
   "outputs": [],
   "source": []
  },
  {
   "cell_type": "markdown",
   "id": "b4fae4b4-de3c-4a51-9219-b9864f0f1147",
   "metadata": {},
   "source": [
    "# Impute Missing Data"
   ]
  },
  {
   "cell_type": "code",
   "execution_count": 14,
   "id": "db115cfb-62c6-43e0-a7c8-4b3cd3bea169",
   "metadata": {},
   "outputs": [],
   "source": [
    "# Impute missing text information with 'no_text_entered' into the following columns\n",
    "nte_cols = ['description', 'neighborhood_overview','host_about', 'host_response_time']\n",
    "\n",
    "for col in nte_cols:\n",
    "    lstn[col].fillna('no_text_entered', inplace = True)"
   ]
  },
  {
   "cell_type": "code",
   "execution_count": 15,
   "id": "9cd3d536-eaa9-4346-80ec-c5f6d4127ad6",
   "metadata": {},
   "outputs": [
    {
     "ename": "TypeError",
     "evalue": "could not convert string to float: '100%'",
     "output_type": "error",
     "traceback": [
      "\u001b[1;31m---------------------------------------------------------------------------\u001b[0m",
      "\u001b[1;31mValueError\u001b[0m                                Traceback (most recent call last)",
      "File \u001b[1;32m~\\anaconda3\\lib\\site-packages\\pandas\\core\\nanops.py:760\u001b[0m, in \u001b[0;36mnanmedian\u001b[1;34m(values, axis, skipna, mask)\u001b[0m\n\u001b[0;32m    759\u001b[0m \u001b[38;5;28;01mtry\u001b[39;00m:\n\u001b[1;32m--> 760\u001b[0m     values \u001b[38;5;241m=\u001b[39m \u001b[43mvalues\u001b[49m\u001b[38;5;241;43m.\u001b[39;49m\u001b[43mastype\u001b[49m\u001b[43m(\u001b[49m\u001b[38;5;124;43m\"\u001b[39;49m\u001b[38;5;124;43mf8\u001b[39;49m\u001b[38;5;124;43m\"\u001b[39;49m\u001b[43m)\u001b[49m\n\u001b[0;32m    761\u001b[0m \u001b[38;5;28;01mexcept\u001b[39;00m \u001b[38;5;167;01mValueError\u001b[39;00m \u001b[38;5;28;01mas\u001b[39;00m err:\n\u001b[0;32m    762\u001b[0m     \u001b[38;5;66;03m# e.g. \"could not convert string to float: 'a'\"\u001b[39;00m\n",
      "\u001b[1;31mValueError\u001b[0m: could not convert string to float: '100%'",
      "\nThe above exception was the direct cause of the following exception:\n",
      "\u001b[1;31mTypeError\u001b[0m                                 Traceback (most recent call last)",
      "Cell \u001b[1;32mIn[15], line 5\u001b[0m\n\u001b[0;32m      2\u001b[0m median_cols \u001b[38;5;241m=\u001b[39m [\u001b[38;5;124m'\u001b[39m\u001b[38;5;124mhost_response_rate\u001b[39m\u001b[38;5;124m'\u001b[39m, \u001b[38;5;124m'\u001b[39m\u001b[38;5;124mhost_acceptance_rate\u001b[39m\u001b[38;5;124m'\u001b[39m, \u001b[38;5;124m'\u001b[39m\u001b[38;5;124mbedrooms\u001b[39m\u001b[38;5;124m'\u001b[39m, \u001b[38;5;124m'\u001b[39m\u001b[38;5;124mbeds\u001b[39m\u001b[38;5;124m'\u001b[39m]\n\u001b[0;32m      4\u001b[0m \u001b[38;5;28;01mfor\u001b[39;00m col \u001b[38;5;129;01min\u001b[39;00m median_cols:\n\u001b[1;32m----> 5\u001b[0m     lstn[col]\u001b[38;5;241m.\u001b[39mfillna(\u001b[43mlstn\u001b[49m\u001b[43m[\u001b[49m\u001b[43mcol\u001b[49m\u001b[43m]\u001b[49m\u001b[38;5;241;43m.\u001b[39;49m\u001b[43mmedian\u001b[49m\u001b[43m(\u001b[49m\u001b[43m)\u001b[49m, inplace \u001b[38;5;241m=\u001b[39m \u001b[38;5;28;01mFalse\u001b[39;00m)\n",
      "File \u001b[1;32m~\\anaconda3\\lib\\site-packages\\pandas\\core\\generic.py:11917\u001b[0m, in \u001b[0;36mNDFrame._add_numeric_operations.<locals>.median\u001b[1;34m(self, axis, skipna, level, numeric_only, **kwargs)\u001b[0m\n\u001b[0;32m  11899\u001b[0m \u001b[38;5;129m@doc\u001b[39m(\n\u001b[0;32m  11900\u001b[0m     _num_doc,\n\u001b[0;32m  11901\u001b[0m     desc\u001b[38;5;241m=\u001b[39m\u001b[38;5;124m\"\u001b[39m\u001b[38;5;124mReturn the median of the values over the requested axis.\u001b[39m\u001b[38;5;124m\"\u001b[39m,\n\u001b[1;32m   (...)\u001b[0m\n\u001b[0;32m  11915\u001b[0m     \u001b[38;5;241m*\u001b[39m\u001b[38;5;241m*\u001b[39mkwargs,\n\u001b[0;32m  11916\u001b[0m ):\n\u001b[1;32m> 11917\u001b[0m     \u001b[38;5;28;01mreturn\u001b[39;00m NDFrame\u001b[38;5;241m.\u001b[39mmedian(\u001b[38;5;28mself\u001b[39m, axis, skipna, level, numeric_only, \u001b[38;5;241m*\u001b[39m\u001b[38;5;241m*\u001b[39mkwargs)\n",
      "File \u001b[1;32m~\\anaconda3\\lib\\site-packages\\pandas\\core\\generic.py:11413\u001b[0m, in \u001b[0;36mNDFrame.median\u001b[1;34m(self, axis, skipna, level, numeric_only, **kwargs)\u001b[0m\n\u001b[0;32m  11405\u001b[0m \u001b[38;5;28;01mdef\u001b[39;00m \u001b[38;5;21mmedian\u001b[39m(\n\u001b[0;32m  11406\u001b[0m     \u001b[38;5;28mself\u001b[39m,\n\u001b[0;32m  11407\u001b[0m     axis: Axis \u001b[38;5;241m|\u001b[39m \u001b[38;5;28;01mNone\u001b[39;00m \u001b[38;5;241m|\u001b[39m lib\u001b[38;5;241m.\u001b[39mNoDefault \u001b[38;5;241m=\u001b[39m lib\u001b[38;5;241m.\u001b[39mno_default,\n\u001b[1;32m   (...)\u001b[0m\n\u001b[0;32m  11411\u001b[0m     \u001b[38;5;241m*\u001b[39m\u001b[38;5;241m*\u001b[39mkwargs,\n\u001b[0;32m  11412\u001b[0m ) \u001b[38;5;241m-\u001b[39m\u001b[38;5;241m>\u001b[39m Series \u001b[38;5;241m|\u001b[39m \u001b[38;5;28mfloat\u001b[39m:\n\u001b[1;32m> 11413\u001b[0m     \u001b[38;5;28;01mreturn\u001b[39;00m \u001b[38;5;28mself\u001b[39m\u001b[38;5;241m.\u001b[39m_stat_function(\n\u001b[0;32m  11414\u001b[0m         \u001b[38;5;124m\"\u001b[39m\u001b[38;5;124mmedian\u001b[39m\u001b[38;5;124m\"\u001b[39m, nanops\u001b[38;5;241m.\u001b[39mnanmedian, axis, skipna, level, numeric_only, \u001b[38;5;241m*\u001b[39m\u001b[38;5;241m*\u001b[39mkwargs\n\u001b[0;32m  11415\u001b[0m     )\n",
      "File \u001b[1;32m~\\anaconda3\\lib\\site-packages\\pandas\\core\\generic.py:11353\u001b[0m, in \u001b[0;36mNDFrame._stat_function\u001b[1;34m(self, name, func, axis, skipna, level, numeric_only, **kwargs)\u001b[0m\n\u001b[0;32m  11343\u001b[0m     warnings\u001b[38;5;241m.\u001b[39mwarn(\n\u001b[0;32m  11344\u001b[0m         \u001b[38;5;124m\"\u001b[39m\u001b[38;5;124mUsing the level keyword in DataFrame and Series aggregations is \u001b[39m\u001b[38;5;124m\"\u001b[39m\n\u001b[0;32m  11345\u001b[0m         \u001b[38;5;124m\"\u001b[39m\u001b[38;5;124mdeprecated and will be removed in a future version. Use groupby \u001b[39m\u001b[38;5;124m\"\u001b[39m\n\u001b[1;32m   (...)\u001b[0m\n\u001b[0;32m  11348\u001b[0m         stacklevel\u001b[38;5;241m=\u001b[39mfind_stack_level(),\n\u001b[0;32m  11349\u001b[0m     )\n\u001b[0;32m  11350\u001b[0m     \u001b[38;5;28;01mreturn\u001b[39;00m \u001b[38;5;28mself\u001b[39m\u001b[38;5;241m.\u001b[39m_agg_by_level(\n\u001b[0;32m  11351\u001b[0m         name, axis\u001b[38;5;241m=\u001b[39maxis, level\u001b[38;5;241m=\u001b[39mlevel, skipna\u001b[38;5;241m=\u001b[39mskipna, numeric_only\u001b[38;5;241m=\u001b[39mnumeric_only\n\u001b[0;32m  11352\u001b[0m     )\n\u001b[1;32m> 11353\u001b[0m \u001b[38;5;28;01mreturn\u001b[39;00m \u001b[38;5;28;43mself\u001b[39;49m\u001b[38;5;241;43m.\u001b[39;49m\u001b[43m_reduce\u001b[49m\u001b[43m(\u001b[49m\n\u001b[0;32m  11354\u001b[0m \u001b[43m    \u001b[49m\u001b[43mfunc\u001b[49m\u001b[43m,\u001b[49m\u001b[43m \u001b[49m\u001b[43mname\u001b[49m\u001b[38;5;241;43m=\u001b[39;49m\u001b[43mname\u001b[49m\u001b[43m,\u001b[49m\u001b[43m \u001b[49m\u001b[43maxis\u001b[49m\u001b[38;5;241;43m=\u001b[39;49m\u001b[43maxis\u001b[49m\u001b[43m,\u001b[49m\u001b[43m \u001b[49m\u001b[43mskipna\u001b[49m\u001b[38;5;241;43m=\u001b[39;49m\u001b[43mskipna\u001b[49m\u001b[43m,\u001b[49m\u001b[43m \u001b[49m\u001b[43mnumeric_only\u001b[49m\u001b[38;5;241;43m=\u001b[39;49m\u001b[43mnumeric_only\u001b[49m\n\u001b[0;32m  11355\u001b[0m \u001b[43m\u001b[49m\u001b[43m)\u001b[49m\n",
      "File \u001b[1;32m~\\anaconda3\\lib\\site-packages\\pandas\\core\\series.py:4816\u001b[0m, in \u001b[0;36mSeries._reduce\u001b[1;34m(self, op, name, axis, skipna, numeric_only, filter_type, **kwds)\u001b[0m\n\u001b[0;32m   4812\u001b[0m     \u001b[38;5;28;01mraise\u001b[39;00m \u001b[38;5;167;01mNotImplementedError\u001b[39;00m(\n\u001b[0;32m   4813\u001b[0m         \u001b[38;5;124mf\u001b[39m\u001b[38;5;124m\"\u001b[39m\u001b[38;5;124mSeries.\u001b[39m\u001b[38;5;132;01m{\u001b[39;00mname\u001b[38;5;132;01m}\u001b[39;00m\u001b[38;5;124m does not implement \u001b[39m\u001b[38;5;132;01m{\u001b[39;00mkwd_name\u001b[38;5;132;01m}\u001b[39;00m\u001b[38;5;124m.\u001b[39m\u001b[38;5;124m\"\u001b[39m\n\u001b[0;32m   4814\u001b[0m     )\n\u001b[0;32m   4815\u001b[0m \u001b[38;5;28;01mwith\u001b[39;00m np\u001b[38;5;241m.\u001b[39merrstate(\u001b[38;5;28mall\u001b[39m\u001b[38;5;241m=\u001b[39m\u001b[38;5;124m\"\u001b[39m\u001b[38;5;124mignore\u001b[39m\u001b[38;5;124m\"\u001b[39m):\n\u001b[1;32m-> 4816\u001b[0m     \u001b[38;5;28;01mreturn\u001b[39;00m op(delegate, skipna\u001b[38;5;241m=\u001b[39mskipna, \u001b[38;5;241m*\u001b[39m\u001b[38;5;241m*\u001b[39mkwds)\n",
      "File \u001b[1;32m~\\anaconda3\\lib\\site-packages\\pandas\\core\\nanops.py:155\u001b[0m, in \u001b[0;36mbottleneck_switch.__call__.<locals>.f\u001b[1;34m(values, axis, skipna, **kwds)\u001b[0m\n\u001b[0;32m    153\u001b[0m         result \u001b[38;5;241m=\u001b[39m alt(values, axis\u001b[38;5;241m=\u001b[39maxis, skipna\u001b[38;5;241m=\u001b[39mskipna, \u001b[38;5;241m*\u001b[39m\u001b[38;5;241m*\u001b[39mkwds)\n\u001b[0;32m    154\u001b[0m \u001b[38;5;28;01melse\u001b[39;00m:\n\u001b[1;32m--> 155\u001b[0m     result \u001b[38;5;241m=\u001b[39m alt(values, axis\u001b[38;5;241m=\u001b[39maxis, skipna\u001b[38;5;241m=\u001b[39mskipna, \u001b[38;5;241m*\u001b[39m\u001b[38;5;241m*\u001b[39mkwds)\n\u001b[0;32m    157\u001b[0m \u001b[38;5;28;01mreturn\u001b[39;00m result\n",
      "File \u001b[1;32m~\\anaconda3\\lib\\site-packages\\pandas\\core\\nanops.py:763\u001b[0m, in \u001b[0;36mnanmedian\u001b[1;34m(values, axis, skipna, mask)\u001b[0m\n\u001b[0;32m    760\u001b[0m     values \u001b[38;5;241m=\u001b[39m values\u001b[38;5;241m.\u001b[39mastype(\u001b[38;5;124m\"\u001b[39m\u001b[38;5;124mf8\u001b[39m\u001b[38;5;124m\"\u001b[39m)\n\u001b[0;32m    761\u001b[0m \u001b[38;5;28;01mexcept\u001b[39;00m \u001b[38;5;167;01mValueError\u001b[39;00m \u001b[38;5;28;01mas\u001b[39;00m err:\n\u001b[0;32m    762\u001b[0m     \u001b[38;5;66;03m# e.g. \"could not convert string to float: 'a'\"\u001b[39;00m\n\u001b[1;32m--> 763\u001b[0m     \u001b[38;5;28;01mraise\u001b[39;00m \u001b[38;5;167;01mTypeError\u001b[39;00m(\u001b[38;5;28mstr\u001b[39m(err)) \u001b[38;5;28;01mfrom\u001b[39;00m \u001b[38;5;21;01merr\u001b[39;00m\n\u001b[0;32m    764\u001b[0m \u001b[38;5;28;01mif\u001b[39;00m mask \u001b[38;5;129;01mis\u001b[39;00m \u001b[38;5;129;01mnot\u001b[39;00m \u001b[38;5;28;01mNone\u001b[39;00m:\n\u001b[0;32m    765\u001b[0m     values[mask] \u001b[38;5;241m=\u001b[39m np\u001b[38;5;241m.\u001b[39mnan\n",
      "\u001b[1;31mTypeError\u001b[0m: could not convert string to float: '100%'"
     ]
    }
   ],
   "source": [
    "# Impute missing data with the median in the following columns\n",
    "median_cols = ['host_response_rate', 'host_acceptance_rate', 'bedrooms', 'beds']\n",
    "\n",
    "for col in median_cols:\n",
    "    lstn[col].fillna(lstn[col].median(), inplace = False)"
   ]
  },
  {
   "cell_type": "code",
   "execution_count": null,
   "id": "99ce94bc-b33e-494e-8f79-dc234ba61abf",
   "metadata": {},
   "outputs": [],
   "source": []
  },
  {
   "cell_type": "code",
   "execution_count": null,
   "id": "d4de0a86-bf8d-4c5c-b8e2-b5c7cb9a6579",
   "metadata": {},
   "outputs": [],
   "source": []
  },
  {
   "cell_type": "code",
   "execution_count": null,
   "id": "6fa3f762-c42e-4967-8c5a-0fdecb1560d1",
   "metadata": {},
   "outputs": [],
   "source": []
  },
  {
   "cell_type": "code",
   "execution_count": null,
   "id": "5ec6f463-7dbb-4f1f-b43b-a44fd332fdfc",
   "metadata": {},
   "outputs": [],
   "source": []
  },
  {
   "cell_type": "code",
   "execution_count": null,
   "id": "2b96da0c-5a8d-46b7-bc9b-a28da27f24d6",
   "metadata": {},
   "outputs": [],
   "source": []
  },
  {
   "cell_type": "code",
   "execution_count": null,
   "id": "ab6f25f5-c32e-4da0-80c7-644a706dd9b8",
   "metadata": {},
   "outputs": [],
   "source": []
  },
  {
   "cell_type": "markdown",
   "id": "4ae31b4e-7ebb-463d-a9b5-f19118bb5c4c",
   "metadata": {},
   "source": [
    "# Advanced Processing"
   ]
  },
  {
   "cell_type": "code",
   "execution_count": null,
   "id": "94389489-4693-4809-a669-95b9659581f8",
   "metadata": {},
   "outputs": [],
   "source": []
  },
  {
   "cell_type": "code",
   "execution_count": null,
   "id": "a652bf8f-3bae-456f-92bc-7b8ebc7df593",
   "metadata": {},
   "outputs": [],
   "source": []
  },
  {
   "cell_type": "code",
   "execution_count": null,
   "id": "1577019a-137c-4d2c-90a5-ebed19768454",
   "metadata": {},
   "outputs": [],
   "source": []
  },
  {
   "cell_type": "code",
   "execution_count": null,
   "id": "d7ab2670-1668-4b9e-8f68-23eb180aff92",
   "metadata": {},
   "outputs": [],
   "source": []
  },
  {
   "cell_type": "markdown",
   "id": "ccbed6bc-c659-45b6-aa37-6e22dc0278ba",
   "metadata": {},
   "source": [
    "# Geocoding Data"
   ]
  },
  {
   "cell_type": "code",
   "execution_count": null,
   "id": "526d7d56-93af-4c03-91c7-98717a0b1149",
   "metadata": {},
   "outputs": [],
   "source": []
  },
  {
   "cell_type": "code",
   "execution_count": null,
   "id": "8e5d28b1-fe3f-475e-bc6a-002e51677c7f",
   "metadata": {},
   "outputs": [],
   "source": []
  }
 ],
 "metadata": {
  "kernelspec": {
   "display_name": "Python 3 (ipykernel)",
   "language": "python",
   "name": "python3"
  },
  "language_info": {
   "codemirror_mode": {
    "name": "ipython",
    "version": 3
   },
   "file_extension": ".py",
   "mimetype": "text/x-python",
   "name": "python",
   "nbconvert_exporter": "python",
   "pygments_lexer": "ipython3",
   "version": "3.10.9"
  }
 },
 "nbformat": 4,
 "nbformat_minor": 5
}
