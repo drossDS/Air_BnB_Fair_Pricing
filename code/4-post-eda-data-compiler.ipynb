{
 "cells": [
  {
   "cell_type": "code",
   "execution_count": null,
   "id": "8823ede5-8674-46fa-9790-46af979d8fa6",
   "metadata": {},
   "outputs": [],
   "source": [
    "# Basic Imports\n",
    "import pandas as pd\n",
    "import numpy as np\n",
    "import matplotlib.pyplot as plt\n",
    "import seaborn as sns\n",
    "\n",
    "# For tesxt:\n",
    "import re\n",
    "\n",
    "# For times:\n",
    "import time\n",
    "\n",
    "# Set a random seed for imputation\n",
    "#  Source:  https://numpy.org/doc/stable/reference/random/generated/numpy.random.seed.html\n",
    "np.random.seed(42)\n",
    "\n",
    "# Sklearn\n",
    "from sklearn.model_selection import train_test_split\n",
    "from sklearn.impute import SimpleImputer\n",
    "from sklearn.feature_extraction.text import CountVectorizer\n"
   ]
  },
  {
   "cell_type": "markdown",
   "id": "818cfdc1-de00-41a8-9ed2-927ddec24c8b",
   "metadata": {},
   "source": [
    "# Read-in Data"
   ]
  },
  {
   "cell_type": "code",
   "execution_count": null,
   "id": "33d00783-8649-4dd6-91d7-876943982bf7",
   "metadata": {},
   "outputs": [],
   "source": [
    "# Import the Training Data\n",
    "lstn = pd.read_csv('../data/listings_train.csv')"
   ]
  },
  {
   "cell_type": "markdown",
   "id": "e2194d96-0848-4b94-9ad0-c4ba11c058a3",
   "metadata": {
    "tags": []
   },
   "source": [
    "# Drop Un-needed Columns"
   ]
  },
  {
   "cell_type": "code",
   "execution_count": null,
   "id": "2494824a-083e-4b90-a6b3-5bc320603d6a",
   "metadata": {},
   "outputs": [],
   "source": [
    "lstn.drop(columns = [\n",
    "    'listing_url', 'scrape_id', 'last_scraped', 'source',\n",
    "    'picture_url', 'host_url', 'host_name', 'host_thumbnail_url', 'host_picture_url',\n",
    "    'neighbourhood','neighbourhood_group_cleansed', 'minimum_minimum_nights',\n",
    "    'maximum_minimum_nights', 'minimum_maximum_nights', 'maximum_maximum_nights', \n",
    "    'minimum_nights_avg_ntm', 'maximum_nights_avg_ntm', 'calendar_updated',\n",
    "    'calendar_last_scraped', 'bathrooms', 'first_review', 'last_review',\n",
    "    'id', 'host_id',\n",
    "], inplace = True)\n",
    "\n",
    "# For now, these columsn will also be dropped unless time allows for them to be processed:\n",
    "lstn.drop(columns = [\n",
    "    'host_location', 'host_neighbourhood', 'review_scores_rating', 'review_scores_accuracy',\n",
    "    'review_scores_cleanliness', 'review_scores_checkin', 'review_scores_communication',\n",
    "    'review_scores_location', 'review_scores_value', 'license'\n",
    "], inplace = True)"
   ]
  },
  {
   "cell_type": "code",
   "execution_count": null,
   "id": "ae1b8afb-96d8-4250-9cc2-9907a02fbf0d",
   "metadata": {},
   "outputs": [],
   "source": [
    "lstn.info()"
   ]
  },
  {
   "cell_type": "code",
   "execution_count": null,
   "id": "1e919cb4-1fb5-47ad-b398-28c20e64f17e",
   "metadata": {},
   "outputs": [],
   "source": [
    "lstn.columns"
   ]
  },
  {
   "cell_type": "markdown",
   "id": "b71f6646-3453-4b85-bc57-02ac131f1ffb",
   "metadata": {},
   "source": [
    "# Fix Datatypes"
   ]
  },
  {
   "cell_type": "code",
   "execution_count": null,
   "id": "2ea8d2bc-8076-442b-972a-a6e0ede289b4",
   "metadata": {},
   "outputs": [],
   "source": [
    "# FIX PRICE:  The dolar signs must be removed from the prices and numbers converted to float values\n",
    "lstn.price = lstn.price.apply(lambda x: float(x.replace('$','').replace(',','').strip()))"
   ]
  },
  {
   "cell_type": "code",
   "execution_count": null,
   "id": "37d59f22-456b-405a-8a0a-1023790bc7d8",
   "metadata": {},
   "outputs": [],
   "source": [
    "# FIX HOST SINCE:  Convert to datetime then to epoch time in days\n",
    "\n",
    "'''\n",
    "The method used below to convert to epoch time was discovered with the help of ChatGPT.\n",
    "Per the lead instructor, it is ok to use ChatGPT is a search tool provided that we provide the\n",
    "question that was asked:\n",
    "\n",
    "Question:  'in python, I want to convert a pandas datetime object to epoch time'\n",
    "\n",
    "Additional help from:  https://pandas.pydata.org/docs/reference/api/pandas.to_datetime.html\n",
    "'''\n",
    "\n",
    "# The strings are converted to date time, then to epoch time with '.timestamp()'\n",
    "# The epoch time is then divided by the product the number of hours and seconds per day\n",
    "#   to get the number of days since the epoch time origin \n",
    "lstn['host_since'] = pd.to_datetime(lstn['host_since']).apply(lambda x: x.timestamp()/(3600*24))"
   ]
  },
  {
   "cell_type": "code",
   "execution_count": null,
   "id": "26e33f54-1157-4a6f-bd4f-454d486bb642",
   "metadata": {},
   "outputs": [],
   "source": [
    "# FIX RESPONSE & ACCEPTANCE RATES:  Remove percentages\n",
    "\n",
    "'''\n",
    "Since the null values are not a very big percentage of the total data (though not a small percentage either),\n",
    "the data will be imputed with the median value\n",
    "'''\n",
    "\n",
    "'''\n",
    "The pcnt_floater functionwill be copied over here.  This is necessary as there are null values in these columns\n",
    "which cannot be simply converted within the lambda function because there is no percentage sign.\n",
    "'''\n",
    "\n",
    "# This function will attempt to convert a string percentage value into a float\n",
    "#  Source for help:  https://www.w3schools.com/python/python_try_except.asp\n",
    "def pcnt_floater(x):\n",
    "    try:\n",
    "        return float(x.replace('%', '').strip())\n",
    "    except:\n",
    "        return x\n",
    "\n",
    "# Convert percentages where they can be converted\n",
    "lstn.host_acceptance_rate = lstn.host_acceptance_rate.apply(lambda x: pcnt_floater(x))\n",
    "lstn.host_response_rate = lstn.host_response_rate.apply(lambda x: pcnt_floater(x))"
   ]
  },
  {
   "cell_type": "markdown",
   "id": "b4fae4b4-de3c-4a51-9219-b9864f0f1147",
   "metadata": {},
   "source": [
    "# Impute Missing Data"
   ]
  },
  {
   "cell_type": "code",
   "execution_count": null,
   "id": "db115cfb-62c6-43e0-a7c8-4b3cd3bea169",
   "metadata": {},
   "outputs": [],
   "source": [
    "# Impute missing text information with 'no_text_entered' into the following columns\n",
    "nte_cols = ['description', 'neighborhood_overview','host_about', 'host_response_time']\n",
    "\n",
    "for col in nte_cols:\n",
    "    lstn[col].fillna('no_text_entered', inplace = True)"
   ]
  },
  {
   "cell_type": "code",
   "execution_count": null,
   "id": "9cd3d536-eaa9-4346-80ec-c5f6d4127ad6",
   "metadata": {},
   "outputs": [],
   "source": [
    "# Impute missing data with the median in the following columns\n",
    "median_cols = ['host_response_rate', 'host_acceptance_rate', 'bedrooms', 'beds']\n",
    "\n",
    "for col in median_cols:\n",
    "    lstn[col].fillna(lstn[col].median(), inplace = True)"
   ]
  },
  {
   "cell_type": "code",
   "execution_count": null,
   "id": "99ce94bc-b33e-494e-8f79-dc234ba61abf",
   "metadata": {},
   "outputs": [],
   "source": [
    "# Impute missing values with the mode in the following columns\n",
    "lstn.host_is_superhost.fillna(lstn.host_is_superhost.mode()[0], inplace = True)\n",
    "lstn.bathrooms_text.fillna(lstn.bathrooms_text.mode()[0], inplace = True)"
   ]
  },
  {
   "cell_type": "code",
   "execution_count": null,
   "id": "d4de0a86-bf8d-4c5c-b8e2-b5c7cb9a6579",
   "metadata": {},
   "outputs": [],
   "source": [
    "# Impute missing data with 0 in reviews per month\n",
    "lstn.reviews_per_month.fillna(0, inplace = True)"
   ]
  },
  {
   "cell_type": "code",
   "execution_count": null,
   "id": "6fa3f762-c42e-4967-8c5a-0fdecb1560d1",
   "metadata": {},
   "outputs": [],
   "source": [
    "# Verify imputation\n",
    "sum(lstn.isnull().sum() != 0)"
   ]
  },
  {
   "cell_type": "markdown",
   "id": "d99dab65-a769-4a5f-b7cb-e9e576d2a5a5",
   "metadata": {},
   "source": [
    "# Create Simple Numerical Features"
   ]
  },
  {
   "cell_type": "code",
   "execution_count": null,
   "id": "93d007ca-317c-456f-acb9-834858054ca6",
   "metadata": {},
   "outputs": [],
   "source": [
    "# Create percentage columns for the calculated listings by listing type\n",
    "lstn['pcnt_ent_homes'] = round(lstn['calculated_host_listings_count_entire_homes'] / lstn['calculated_host_listings_count'], 3)\n",
    "lstn['pcnt_private'] = round(lstn['calculated_host_listings_count_private_rooms'] / lstn['calculated_host_listings_count'], 3)\n",
    "lstn['pcnt_shared'] = round(lstn['calculated_host_listings_count_shared_rooms'] / lstn['calculated_host_listings_count'], 3)"
   ]
  },
  {
   "cell_type": "markdown",
   "id": "14d8a3d1-4fac-4cc9-8607-5fc57c86db61",
   "metadata": {},
   "source": [
    "## Add T-Stop Distnace Data"
   ]
  },
  {
   "cell_type": "code",
   "execution_count": null,
   "id": "ce236d8d-e4bd-41bb-8d5e-756285ae7393",
   "metadata": {},
   "outputs": [],
   "source": [
    "# Note, this file has been added to the gitignore file and is NOT located in the repository\n",
    "geodata = pd.read_csv('../data/lat_lng_data.csv')\n",
    "\n",
    "latitudes = list(geodata.lat)\n",
    "longitudes = list(geodata.long)"
   ]
  },
  {
   "cell_type": "code",
   "execution_count": null,
   "id": "1f0e77c8-999e-4fd7-9043-90d207678ba9",
   "metadata": {},
   "outputs": [],
   "source": [
    "# This funciton was written around the following source:\n",
    "# https://towardsdatascience.com/create-new-column-based-on-other-columns-pandas-5586d87de73d\n",
    "\n",
    "def min_dist(fn_lat, fn_lng, lat_data, lng_data):\n",
    "    \n",
    "    # Set a minimum distnace well beyond anything that would be derived\n",
    "    min_dist = 90\n",
    "    \n",
    "    # Write a loop to find the minimum (euclidean) distance to every T-stop\n",
    "    for n in range(len(latitudes)):\n",
    "        dist = ((fn_lat - lat_data[n])**2 + (fn_lng - lng_data[n])**2)**0.5\n",
    "        \n",
    "        # Store this distance if smaller than min distance\n",
    "        if dist < min_dist:\n",
    "            min_dist = dist\n",
    "    \n",
    "    return min_dist"
   ]
  },
  {
   "cell_type": "code",
   "execution_count": null,
   "id": "1e2d2eca-0d42-4e92-bffd-d681fc72a5a7",
   "metadata": {},
   "outputs": [],
   "source": [
    "# Crate a new column with the minimum distance to any T-stop\n",
    "#  The following source was used to help write this code (note axis = 1 is KEY!):\n",
    "    # https://towardsdatascience.com/create-new-column-based-on-other-columns-pandas-5586d87de73d\n",
    "lstn['min_distance'] = lstn.apply(lambda x: min_dist(x.latitude, x.longitude, latitudes, longitudes), axis = 1)"
   ]
  },
  {
   "cell_type": "markdown",
   "id": "c2f02535-a716-4953-b428-309d23421646",
   "metadata": {},
   "source": [
    "# Create Log Features"
   ]
  },
  {
   "cell_type": "code",
   "execution_count": null,
   "id": "b6e9f019-0e88-4e20-880e-a0dde33f005c",
   "metadata": {},
   "outputs": [],
   "source": [
    "'''\n",
    "The col_logger function will need to be brough in from the other notebooks\n",
    "\n",
    "This has been modified to include a 0 imputation value n such that transforamtion\n",
    "occurs on log(n) and not log(0) which is undefined.\n",
    "'''\n",
    "\n",
    "def col_logger(data_column, zero_imp = 1):\n",
    "    # Since log(0) is undefined, 0's must be treated as log(1)\n",
    "    return data_column.apply(lambda x: np.log(zero_imp) if x==0 else np.log(x))"
   ]
  },
  {
   "cell_type": "code",
   "execution_count": null,
   "id": "35d4d080-0a58-4205-98ab-12c1b638048e",
   "metadata": {},
   "outputs": [],
   "source": [
    "lstn._get_numeric_data().describe().T"
   ]
  },
  {
   "cell_type": "code",
   "execution_count": null,
   "id": "866a63df-53b4-44f7-8843-68fda9ae29ff",
   "metadata": {},
   "outputs": [],
   "source": [
    "# Create a list of numerical columns\n",
    "num_cols = list(lstn._get_numeric_data().columns)\n",
    "\n",
    "# Remove latitiude and longitude data as they were used previously to create distances\n",
    "num_cols.remove('latitude')\n",
    "num_cols.remove('longitude')"
   ]
  },
  {
   "cell_type": "code",
   "execution_count": null,
   "id": "86081c09-6489-4a08-a952-305c59e5b349",
   "metadata": {},
   "outputs": [],
   "source": [
    "for col in num_cols:\n",
    "    \n",
    "    # Find columsn with values between 0 and 1\n",
    "    if len(lstn[col][(lstn[col] < 1) & (lstn[col] > 0)]) > 0:\n",
    "        \n",
    "        # Determine the minimum value in that column, if it's 0, base the minimum\n",
    "        #  value off of the second smallest value in the column\n",
    "        \n",
    "        if min(lstn[col]) < 0:\n",
    "            print('CANT LOGARITHM A NEGATIVE NUMBER')\n",
    "            break\n",
    "        \n",
    "        elif min(lstn[col]) == 0:\n",
    "            # second smallest value\n",
    "            min_col_val = lstn[col].sort_values().unique()[1]\n",
    "        \n",
    "        else:\n",
    "            min_col_val = min(lstn[col][(lstn[col] < 1) & (lstn[col] > 0)])\n",
    "        \n",
    "        # Calculate a zero imputation value for use in the col_logger function\n",
    "        #  Take the natural log of the minimum value and round down\n",
    "        '''\n",
    "        This last step ensures that any zero values will be less than any positive\n",
    "        values after a log transformation.\n",
    "        '''\n",
    "        z_imp = np.exp(np.floor(np.log(min_col_val)))\n",
    "        \n",
    "        # Transform the column:\n",
    "        lstn[f'log_{col}'] = col_logger(lstn[col], z_imp)\n",
    "    \n",
    "    else:\n",
    "        # Otherwise, simply use defulat zero_imputation value of 1\n",
    "        lstn[f'log_{col}'] = col_logger(lstn[col])"
   ]
  },
  {
   "cell_type": "code",
   "execution_count": null,
   "id": "be9567c4-7ebd-472e-a8ef-d5468f756242",
   "metadata": {},
   "outputs": [],
   "source": [
    "lstn.info()"
   ]
  },
  {
   "cell_type": "code",
   "execution_count": null,
   "id": "a67bc2a3-be43-405a-8bb4-c27ba7766637",
   "metadata": {},
   "outputs": [],
   "source": []
  },
  {
   "cell_type": "code",
   "execution_count": null,
   "id": "05ceadbe-4473-4d82-984b-c9d220556a2c",
   "metadata": {},
   "outputs": [],
   "source": []
  },
  {
   "cell_type": "markdown",
   "id": "0753a598-26fb-443f-a5c9-9ff65090ffbd",
   "metadata": {},
   "source": [
    "# One Hot Encoding"
   ]
  },
  {
   "cell_type": "code",
   "execution_count": null,
   "id": "62213c88-fb87-4adb-ae1e-481c863b6b4d",
   "metadata": {},
   "outputs": [],
   "source": []
  },
  {
   "cell_type": "code",
   "execution_count": null,
   "id": "9da674c3-df76-4f80-969e-3865c4c64dc6",
   "metadata": {},
   "outputs": [],
   "source": []
  },
  {
   "cell_type": "markdown",
   "id": "4ae31b4e-7ebb-463d-a9b5-f19118bb5c4c",
   "metadata": {},
   "source": [
    "# Advanced Processing"
   ]
  },
  {
   "cell_type": "code",
   "execution_count": null,
   "id": "94389489-4693-4809-a669-95b9659581f8",
   "metadata": {},
   "outputs": [],
   "source": []
  },
  {
   "cell_type": "code",
   "execution_count": null,
   "id": "a652bf8f-3bae-456f-92bc-7b8ebc7df593",
   "metadata": {},
   "outputs": [],
   "source": []
  },
  {
   "cell_type": "code",
   "execution_count": null,
   "id": "1577019a-137c-4d2c-90a5-ebed19768454",
   "metadata": {},
   "outputs": [],
   "source": []
  },
  {
   "cell_type": "code",
   "execution_count": null,
   "id": "d7ab2670-1668-4b9e-8f68-23eb180aff92",
   "metadata": {},
   "outputs": [],
   "source": []
  },
  {
   "cell_type": "code",
   "execution_count": null,
   "id": "526d7d56-93af-4c03-91c7-98717a0b1149",
   "metadata": {},
   "outputs": [],
   "source": []
  },
  {
   "cell_type": "code",
   "execution_count": null,
   "id": "8e5d28b1-fe3f-475e-bc6a-002e51677c7f",
   "metadata": {},
   "outputs": [],
   "source": []
  },
  {
   "cell_type": "code",
   "execution_count": null,
   "id": "48570659-87c7-4354-a327-39c9701d0653",
   "metadata": {},
   "outputs": [],
   "source": []
  },
  {
   "cell_type": "code",
   "execution_count": null,
   "id": "f6ffd122-2e25-4ec2-806a-674b857c0867",
   "metadata": {},
   "outputs": [],
   "source": []
  },
  {
   "cell_type": "code",
   "execution_count": null,
   "id": "6584a85c-d127-45a6-80d3-3a37364eb7c9",
   "metadata": {},
   "outputs": [],
   "source": []
  },
  {
   "cell_type": "code",
   "execution_count": null,
   "id": "10752cb1-4835-47f7-a967-91deb9bc57aa",
   "metadata": {},
   "outputs": [],
   "source": []
  },
  {
   "cell_type": "code",
   "execution_count": null,
   "id": "c0cc2a6b-3a33-441f-b51d-42bc078753c4",
   "metadata": {},
   "outputs": [],
   "source": []
  },
  {
   "cell_type": "code",
   "execution_count": null,
   "id": "4cbde63b-b39f-44c9-9ef1-2367007959e3",
   "metadata": {},
   "outputs": [],
   "source": []
  },
  {
   "cell_type": "code",
   "execution_count": null,
   "id": "f12d8dd2-a45d-421c-855d-a328dcbec4a1",
   "metadata": {},
   "outputs": [],
   "source": []
  },
  {
   "cell_type": "code",
   "execution_count": null,
   "id": "b1c9c7ac-53ac-4ff0-ac1d-205acf084e27",
   "metadata": {},
   "outputs": [],
   "source": [
    "for col in lstn._get_numeric_data().columns:\n",
    "    if len(lstn[col][(lstn[col] < 1) & (lstn[col] > 0)]) > 0:\n",
    "        print(col)\n",
    "        \n",
    "        min_vally = min(lstn[col][(lstn[col] < 1) & (lstn[col] > 0)])\n",
    "        print(min_vally)\n",
    "        print(np.exp(np.floor(np.log(min_vally))))"
   ]
  }
 ],
 "metadata": {
  "kernelspec": {
   "display_name": "Python 3 (ipykernel)",
   "language": "python",
   "name": "python3"
  },
  "language_info": {
   "codemirror_mode": {
    "name": "ipython",
    "version": 3
   },
   "file_extension": ".py",
   "mimetype": "text/x-python",
   "name": "python",
   "nbconvert_exporter": "python",
   "pygments_lexer": "ipython3",
   "version": "3.10.9"
  }
 },
 "nbformat": 4,
 "nbformat_minor": 5
}
