{
 "cells": [
  {
   "cell_type": "markdown",
   "id": "5019e62d-568a-4e4f-8a14-dd66d603790e",
   "metadata": {},
   "source": [
    "# Exploratory Data Analysis Part 1"
   ]
  },
  {
   "cell_type": "code",
   "execution_count": 1,
   "id": "78a6b0a3-3cdd-4ae4-b77d-107349196801",
   "metadata": {},
   "outputs": [],
   "source": [
    "import pandas as pd\n",
    "import numpy as np\n",
    "import matplotlib.pyplot as plt\n",
    "import seaborn as sns"
   ]
  },
  {
   "cell_type": "markdown",
   "id": "456bc131-87a0-4cea-9868-38edd6eb89a6",
   "metadata": {},
   "source": [
    "# Read Data and Examine Dataframe"
   ]
  },
  {
   "cell_type": "code",
   "execution_count": 2,
   "id": "13d5761e-27af-4ecb-8364-f0cc3ba43d0c",
   "metadata": {},
   "outputs": [
    {
     "data": {
      "text/html": [
       "<div>\n",
       "<style scoped>\n",
       "    .dataframe tbody tr th:only-of-type {\n",
       "        vertical-align: middle;\n",
       "    }\n",
       "\n",
       "    .dataframe tbody tr th {\n",
       "        vertical-align: top;\n",
       "    }\n",
       "\n",
       "    .dataframe thead th {\n",
       "        text-align: right;\n",
       "    }\n",
       "</style>\n",
       "<table border=\"1\" class=\"dataframe\">\n",
       "  <thead>\n",
       "    <tr style=\"text-align: right;\">\n",
       "      <th></th>\n",
       "      <th>id</th>\n",
       "      <th>listing_url</th>\n",
       "      <th>scrape_id</th>\n",
       "      <th>last_scraped</th>\n",
       "      <th>source</th>\n",
       "      <th>name</th>\n",
       "      <th>description</th>\n",
       "      <th>neighborhood_overview</th>\n",
       "      <th>picture_url</th>\n",
       "      <th>host_id</th>\n",
       "      <th>...</th>\n",
       "      <th>review_scores_communication</th>\n",
       "      <th>review_scores_location</th>\n",
       "      <th>review_scores_value</th>\n",
       "      <th>license</th>\n",
       "      <th>instant_bookable</th>\n",
       "      <th>calculated_host_listings_count</th>\n",
       "      <th>calculated_host_listings_count_entire_homes</th>\n",
       "      <th>calculated_host_listings_count_private_rooms</th>\n",
       "      <th>calculated_host_listings_count_shared_rooms</th>\n",
       "      <th>reviews_per_month</th>\n",
       "    </tr>\n",
       "  </thead>\n",
       "  <tbody>\n",
       "    <tr>\n",
       "      <th>0</th>\n",
       "      <td>3781</td>\n",
       "      <td>https://www.airbnb.com/rooms/3781</td>\n",
       "      <td>20230319180919</td>\n",
       "      <td>2023-03-19</td>\n",
       "      <td>city scrape</td>\n",
       "      <td>HARBORSIDE-Walk to subway</td>\n",
       "      <td>Fully separate apartment in a two apartment bu...</td>\n",
       "      <td>Mostly quiet ( no loud music, no crowed sidewa...</td>\n",
       "      <td>https://a0.muscache.com/pictures/24670/b2de044...</td>\n",
       "      <td>4804</td>\n",
       "      <td>...</td>\n",
       "      <td>4.96</td>\n",
       "      <td>4.88</td>\n",
       "      <td>4.92</td>\n",
       "      <td>NaN</td>\n",
       "      <td>f</td>\n",
       "      <td>1</td>\n",
       "      <td>1</td>\n",
       "      <td>0</td>\n",
       "      <td>0</td>\n",
       "      <td>0.26</td>\n",
       "    </tr>\n",
       "    <tr>\n",
       "      <th>1</th>\n",
       "      <td>5506</td>\n",
       "      <td>https://www.airbnb.com/rooms/5506</td>\n",
       "      <td>20230319180919</td>\n",
       "      <td>2023-03-19</td>\n",
       "      <td>city scrape</td>\n",
       "      <td>** Fort Hill Inn Private! Minutes to center!**</td>\n",
       "      <td>Private guest room with private bath, You do n...</td>\n",
       "      <td>Peaceful, Architecturally interesting, histori...</td>\n",
       "      <td>https://a0.muscache.com/pictures/miso/Hosting-...</td>\n",
       "      <td>8229</td>\n",
       "      <td>...</td>\n",
       "      <td>4.88</td>\n",
       "      <td>4.53</td>\n",
       "      <td>4.74</td>\n",
       "      <td>Approved by the government</td>\n",
       "      <td>f</td>\n",
       "      <td>10</td>\n",
       "      <td>10</td>\n",
       "      <td>0</td>\n",
       "      <td>0</td>\n",
       "      <td>0.69</td>\n",
       "    </tr>\n",
       "    <tr>\n",
       "      <th>2</th>\n",
       "      <td>6695</td>\n",
       "      <td>https://www.airbnb.com/rooms/6695</td>\n",
       "      <td>20230319180919</td>\n",
       "      <td>2023-03-19</td>\n",
       "      <td>city scrape</td>\n",
       "      <td>Fort Hill Inn *Sunny* 1 bedroom, condo duplex</td>\n",
       "      <td>Comfortable,  Fully Equipped private apartment...</td>\n",
       "      <td>Peaceful, Architecturally interesting, histori...</td>\n",
       "      <td>https://a0.muscache.com/pictures/38ac4797-e7a4...</td>\n",
       "      <td>8229</td>\n",
       "      <td>...</td>\n",
       "      <td>4.96</td>\n",
       "      <td>4.50</td>\n",
       "      <td>4.72</td>\n",
       "      <td>STR446650</td>\n",
       "      <td>f</td>\n",
       "      <td>10</td>\n",
       "      <td>10</td>\n",
       "      <td>0</td>\n",
       "      <td>0</td>\n",
       "      <td>0.74</td>\n",
       "    </tr>\n",
       "    <tr>\n",
       "      <th>3</th>\n",
       "      <td>8789</td>\n",
       "      <td>https://www.airbnb.com/rooms/8789</td>\n",
       "      <td>20230319180919</td>\n",
       "      <td>2023-03-20</td>\n",
       "      <td>city scrape</td>\n",
       "      <td>Curved Glass Studio/1bd facing Park</td>\n",
       "      <td>This unit is for sale. There will need to be o...</td>\n",
       "      <td>Beacon Hill is a historic neighborhood filled ...</td>\n",
       "      <td>https://a0.muscache.com/pictures/miso/Hosting-...</td>\n",
       "      <td>26988</td>\n",
       "      <td>...</td>\n",
       "      <td>4.96</td>\n",
       "      <td>4.96</td>\n",
       "      <td>4.56</td>\n",
       "      <td>NaN</td>\n",
       "      <td>f</td>\n",
       "      <td>7</td>\n",
       "      <td>7</td>\n",
       "      <td>0</td>\n",
       "      <td>0</td>\n",
       "      <td>0.24</td>\n",
       "    </tr>\n",
       "    <tr>\n",
       "      <th>4</th>\n",
       "      <td>4765070</td>\n",
       "      <td>https://www.airbnb.com/rooms/4765070</td>\n",
       "      <td>20230319180919</td>\n",
       "      <td>2023-03-19</td>\n",
       "      <td>city scrape</td>\n",
       "      <td>Studio w/ private entrance and bathroom</td>\n",
       "      <td>Private Studio located in Boston (town of Jama...</td>\n",
       "      <td>Jamaica Plain (JP) is an open, artsy, hip neig...</td>\n",
       "      <td>https://a0.muscache.com/pictures/miso/Hosting-...</td>\n",
       "      <td>24584716</td>\n",
       "      <td>...</td>\n",
       "      <td>4.85</td>\n",
       "      <td>4.48</td>\n",
       "      <td>4.69</td>\n",
       "      <td>str-416042</td>\n",
       "      <td>t</td>\n",
       "      <td>1</td>\n",
       "      <td>1</td>\n",
       "      <td>0</td>\n",
       "      <td>0</td>\n",
       "      <td>3.77</td>\n",
       "    </tr>\n",
       "  </tbody>\n",
       "</table>\n",
       "<p>5 rows × 75 columns</p>\n",
       "</div>"
      ],
      "text/plain": [
       "        id                           listing_url       scrape_id last_scraped  \\\n",
       "0     3781     https://www.airbnb.com/rooms/3781  20230319180919   2023-03-19   \n",
       "1     5506     https://www.airbnb.com/rooms/5506  20230319180919   2023-03-19   \n",
       "2     6695     https://www.airbnb.com/rooms/6695  20230319180919   2023-03-19   \n",
       "3     8789     https://www.airbnb.com/rooms/8789  20230319180919   2023-03-20   \n",
       "4  4765070  https://www.airbnb.com/rooms/4765070  20230319180919   2023-03-19   \n",
       "\n",
       "        source                                            name  \\\n",
       "0  city scrape                       HARBORSIDE-Walk to subway   \n",
       "1  city scrape  ** Fort Hill Inn Private! Minutes to center!**   \n",
       "2  city scrape   Fort Hill Inn *Sunny* 1 bedroom, condo duplex   \n",
       "3  city scrape             Curved Glass Studio/1bd facing Park   \n",
       "4  city scrape         Studio w/ private entrance and bathroom   \n",
       "\n",
       "                                         description  \\\n",
       "0  Fully separate apartment in a two apartment bu...   \n",
       "1  Private guest room with private bath, You do n...   \n",
       "2  Comfortable,  Fully Equipped private apartment...   \n",
       "3  This unit is for sale. There will need to be o...   \n",
       "4  Private Studio located in Boston (town of Jama...   \n",
       "\n",
       "                               neighborhood_overview  \\\n",
       "0  Mostly quiet ( no loud music, no crowed sidewa...   \n",
       "1  Peaceful, Architecturally interesting, histori...   \n",
       "2  Peaceful, Architecturally interesting, histori...   \n",
       "3  Beacon Hill is a historic neighborhood filled ...   \n",
       "4  Jamaica Plain (JP) is an open, artsy, hip neig...   \n",
       "\n",
       "                                         picture_url   host_id  ...  \\\n",
       "0  https://a0.muscache.com/pictures/24670/b2de044...      4804  ...   \n",
       "1  https://a0.muscache.com/pictures/miso/Hosting-...      8229  ...   \n",
       "2  https://a0.muscache.com/pictures/38ac4797-e7a4...      8229  ...   \n",
       "3  https://a0.muscache.com/pictures/miso/Hosting-...     26988  ...   \n",
       "4  https://a0.muscache.com/pictures/miso/Hosting-...  24584716  ...   \n",
       "\n",
       "  review_scores_communication review_scores_location review_scores_value  \\\n",
       "0                        4.96                   4.88                4.92   \n",
       "1                        4.88                   4.53                4.74   \n",
       "2                        4.96                   4.50                4.72   \n",
       "3                        4.96                   4.96                4.56   \n",
       "4                        4.85                   4.48                4.69   \n",
       "\n",
       "                      license instant_bookable calculated_host_listings_count  \\\n",
       "0                         NaN                f                              1   \n",
       "1  Approved by the government                f                             10   \n",
       "2                   STR446650                f                             10   \n",
       "3                         NaN                f                              7   \n",
       "4                  str-416042                t                              1   \n",
       "\n",
       "  calculated_host_listings_count_entire_homes  \\\n",
       "0                                           1   \n",
       "1                                          10   \n",
       "2                                          10   \n",
       "3                                           7   \n",
       "4                                           1   \n",
       "\n",
       "  calculated_host_listings_count_private_rooms  \\\n",
       "0                                            0   \n",
       "1                                            0   \n",
       "2                                            0   \n",
       "3                                            0   \n",
       "4                                            0   \n",
       "\n",
       "  calculated_host_listings_count_shared_rooms reviews_per_month  \n",
       "0                                           0              0.26  \n",
       "1                                           0              0.69  \n",
       "2                                           0              0.74  \n",
       "3                                           0              0.24  \n",
       "4                                           0              3.77  \n",
       "\n",
       "[5 rows x 75 columns]"
      ]
     },
     "execution_count": 2,
     "metadata": {},
     "output_type": "execute_result"
    }
   ],
   "source": [
    "listings = pd.read_csv('../data/listings.csv')\n",
    "listings.head()"
   ]
  },
  {
   "cell_type": "code",
   "execution_count": 3,
   "id": "a9916fd6-f84b-484d-bd47-f8acf674392d",
   "metadata": {},
   "outputs": [
    {
     "name": "stdout",
     "output_type": "stream",
     "text": [
      "<class 'pandas.core.frame.DataFrame'>\n",
      "RangeIndex: 3864 entries, 0 to 3863\n",
      "Data columns (total 75 columns):\n",
      " #   Column                                        Non-Null Count  Dtype  \n",
      "---  ------                                        --------------  -----  \n",
      " 0   id                                            3864 non-null   int64  \n",
      " 1   listing_url                                   3864 non-null   object \n",
      " 2   scrape_id                                     3864 non-null   int64  \n",
      " 3   last_scraped                                  3864 non-null   object \n",
      " 4   source                                        3864 non-null   object \n",
      " 5   name                                          3864 non-null   object \n",
      " 6   description                                   3846 non-null   object \n",
      " 7   neighborhood_overview                         2497 non-null   object \n",
      " 8   picture_url                                   3864 non-null   object \n",
      " 9   host_id                                       3864 non-null   int64  \n",
      " 10  host_url                                      3864 non-null   object \n",
      " 11  host_name                                     3864 non-null   object \n",
      " 12  host_since                                    3864 non-null   object \n",
      " 13  host_location                                 2982 non-null   object \n",
      " 14  host_about                                    2740 non-null   object \n",
      " 15  host_response_time                            3344 non-null   object \n",
      " 16  host_response_rate                            3344 non-null   object \n",
      " 17  host_acceptance_rate                          3405 non-null   object \n",
      " 18  host_is_superhost                             3862 non-null   object \n",
      " 19  host_thumbnail_url                            3864 non-null   object \n",
      " 20  host_picture_url                              3864 non-null   object \n",
      " 21  host_neighbourhood                            3735 non-null   object \n",
      " 22  host_listings_count                           3864 non-null   int64  \n",
      " 23  host_total_listings_count                     3864 non-null   int64  \n",
      " 24  host_verifications                            3864 non-null   object \n",
      " 25  host_has_profile_pic                          3864 non-null   object \n",
      " 26  host_identity_verified                        3864 non-null   object \n",
      " 27  neighbourhood                                 2497 non-null   object \n",
      " 28  neighbourhood_cleansed                        3864 non-null   object \n",
      " 29  neighbourhood_group_cleansed                  0 non-null      float64\n",
      " 30  latitude                                      3864 non-null   float64\n",
      " 31  longitude                                     3864 non-null   float64\n",
      " 32  property_type                                 3864 non-null   object \n",
      " 33  room_type                                     3864 non-null   object \n",
      " 34  accommodates                                  3864 non-null   int64  \n",
      " 35  bathrooms                                     0 non-null      float64\n",
      " 36  bathrooms_text                                3862 non-null   object \n",
      " 37  bedrooms                                      3404 non-null   float64\n",
      " 38  beds                                          3784 non-null   float64\n",
      " 39  amenities                                     3864 non-null   object \n",
      " 40  price                                         3864 non-null   object \n",
      " 41  minimum_nights                                3864 non-null   int64  \n",
      " 42  maximum_nights                                3864 non-null   int64  \n",
      " 43  minimum_minimum_nights                        3863 non-null   float64\n",
      " 44  maximum_minimum_nights                        3863 non-null   float64\n",
      " 45  minimum_maximum_nights                        3863 non-null   float64\n",
      " 46  maximum_maximum_nights                        3863 non-null   float64\n",
      " 47  minimum_nights_avg_ntm                        3863 non-null   float64\n",
      " 48  maximum_nights_avg_ntm                        3863 non-null   float64\n",
      " 49  calendar_updated                              0 non-null      float64\n",
      " 50  has_availability                              3864 non-null   object \n",
      " 51  availability_30                               3864 non-null   int64  \n",
      " 52  availability_60                               3864 non-null   int64  \n",
      " 53  availability_90                               3864 non-null   int64  \n",
      " 54  availability_365                              3864 non-null   int64  \n",
      " 55  calendar_last_scraped                         3864 non-null   object \n",
      " 56  number_of_reviews                             3864 non-null   int64  \n",
      " 57  number_of_reviews_ltm                         3864 non-null   int64  \n",
      " 58  number_of_reviews_l30d                        3864 non-null   int64  \n",
      " 59  first_review                                  2741 non-null   object \n",
      " 60  last_review                                   2741 non-null   object \n",
      " 61  review_scores_rating                          2741 non-null   float64\n",
      " 62  review_scores_accuracy                        2733 non-null   float64\n",
      " 63  review_scores_cleanliness                     2734 non-null   float64\n",
      " 64  review_scores_checkin                         2732 non-null   float64\n",
      " 65  review_scores_communication                   2734 non-null   float64\n",
      " 66  review_scores_location                        2732 non-null   float64\n",
      " 67  review_scores_value                           2732 non-null   float64\n",
      " 68  license                                       2305 non-null   object \n",
      " 69  instant_bookable                              3864 non-null   object \n",
      " 70  calculated_host_listings_count                3864 non-null   int64  \n",
      " 71  calculated_host_listings_count_entire_homes   3864 non-null   int64  \n",
      " 72  calculated_host_listings_count_private_rooms  3864 non-null   int64  \n",
      " 73  calculated_host_listings_count_shared_rooms   3864 non-null   int64  \n",
      " 74  reviews_per_month                             2741 non-null   float64\n",
      "dtypes: float64(21), int64(19), object(35)\n",
      "memory usage: 2.2+ MB\n"
     ]
    }
   ],
   "source": [
    "listings.info()"
   ]
  },
  {
   "cell_type": "code",
   "execution_count": 4,
   "id": "74752fac-3c30-4e1f-82f1-0db0f06cde22",
   "metadata": {},
   "outputs": [
    {
     "data": {
      "text/plain": [
       "Index(['id', 'listing_url', 'scrape_id', 'last_scraped', 'source', 'name',\n",
       "       'description', 'neighborhood_overview', 'picture_url', 'host_id',\n",
       "       'host_url', 'host_name', 'host_since', 'host_location', 'host_about',\n",
       "       'host_response_time', 'host_response_rate', 'host_acceptance_rate',\n",
       "       'host_is_superhost', 'host_thumbnail_url', 'host_picture_url',\n",
       "       'host_neighbourhood', 'host_listings_count',\n",
       "       'host_total_listings_count', 'host_verifications',\n",
       "       'host_has_profile_pic', 'host_identity_verified', 'neighbourhood',\n",
       "       'neighbourhood_cleansed', 'neighbourhood_group_cleansed', 'latitude',\n",
       "       'longitude', 'property_type', 'room_type', 'accommodates', 'bathrooms',\n",
       "       'bathrooms_text', 'bedrooms', 'beds', 'amenities', 'price',\n",
       "       'minimum_nights', 'maximum_nights', 'minimum_minimum_nights',\n",
       "       'maximum_minimum_nights', 'minimum_maximum_nights',\n",
       "       'maximum_maximum_nights', 'minimum_nights_avg_ntm',\n",
       "       'maximum_nights_avg_ntm', 'calendar_updated', 'has_availability',\n",
       "       'availability_30', 'availability_60', 'availability_90',\n",
       "       'availability_365', 'calendar_last_scraped', 'number_of_reviews',\n",
       "       'number_of_reviews_ltm', 'number_of_reviews_l30d', 'first_review',\n",
       "       'last_review', 'review_scores_rating', 'review_scores_accuracy',\n",
       "       'review_scores_cleanliness', 'review_scores_checkin',\n",
       "       'review_scores_communication', 'review_scores_location',\n",
       "       'review_scores_value', 'license', 'instant_bookable',\n",
       "       'calculated_host_listings_count',\n",
       "       'calculated_host_listings_count_entire_homes',\n",
       "       'calculated_host_listings_count_private_rooms',\n",
       "       'calculated_host_listings_count_shared_rooms', 'reviews_per_month'],\n",
       "      dtype='object')"
      ]
     },
     "execution_count": 4,
     "metadata": {},
     "output_type": "execute_result"
    }
   ],
   "source": [
    "# Print the colums for simple copy and paste\n",
    "listings.columns"
   ]
  },
  {
   "cell_type": "markdown",
   "id": "899ee6bc-1653-486e-9d39-2a6bf31eadd0",
   "metadata": {},
   "source": [
    "# Create EDA Functions"
   ]
  },
  {
   "cell_type": "code",
   "execution_count": 29,
   "id": "b0ae7153-fb23-4a5a-8fe7-098ccfd61d91",
   "metadata": {},
   "outputs": [],
   "source": [
    "# Create a histogram plotting function:\n",
    "def hist_plotter(data, title = None, x_lbl = None, y_lbl = 'Count',  size = (6,4), bins = None, log = False):\n",
    "    plt.figure(figsize = size)\n",
    "    plt.hist(data, bins = bins, log = log)\n",
    "    if title == None:\n",
    "        plt.title(f'{data.name}')\n",
    "    else:\n",
    "        plt.xlabel(title)\n",
    "    if x_lbl == None:\n",
    "        plt.xlabel(f'{data.name}')\n",
    "    else:\n",
    "        plt.title(x_lbl) \n",
    "    plt.ylabel(y_lbl)"
   ]
  },
  {
   "cell_type": "code",
   "execution_count": null,
   "id": "5cb524d4-9b7b-42db-889c-be9c9c6ea292",
   "metadata": {},
   "outputs": [],
   "source": []
  },
  {
   "cell_type": "markdown",
   "id": "5fdc8d74-2a3b-43d0-81b6-f0863c4ae8a0",
   "metadata": {},
   "source": [
    "## Data Dictionary Reivew and Initial Column Drop\n",
    "The data dictionary for this data can be found [here](https://docs.google.com/spreadsheets/d/1iWCNJcSutYqpULSQHlNyGInUvHg2BoUGoNRIGa6Szc4/edit#gid=1322284596).\n",
    "\n",
    "As the target variable is price, columns will be remvoed which:\n",
    "* Are clerical in nature\n",
    "* Could not possibly relate to the price in the state that they are in\n",
    "* Are mostly or entirely nulls values"
   ]
  },
  {
   "cell_type": "code",
   "execution_count": 5,
   "id": "992cdd1f-5542-411a-971e-0cbdd8b54615",
   "metadata": {},
   "outputs": [],
   "source": [
    "# Create a new dataframe with columns dropped\n",
    "# Make a copy so as not to affect the original data\n",
    "lstn = listings.drop(columns = [\n",
    "    'listing_url', 'scrape_id', 'last_scraped', 'source',\n",
    "    'picture_url', 'host_url', 'host_name', 'host_thumbnail_url', 'host_picture_url',\n",
    "    'neighbourhood','neighbourhood_group_cleansed', 'minimum_minimum_nights',\n",
    "    'maximum_minimum_nights', 'minimum_maximum_nights', 'maximum_maximum_nights', \n",
    "    'minimum_nights_avg_ntm', 'maximum_nights_avg_ntm', 'calendar_updated',\n",
    "    'calendar_last_scraped', 'bathrooms'\n",
    "]).copy()"
   ]
  },
  {
   "cell_type": "code",
   "execution_count": 6,
   "id": "34b11736-3df3-451e-a907-0903331d0929",
   "metadata": {},
   "outputs": [
    {
     "name": "stdout",
     "output_type": "stream",
     "text": [
      "<class 'pandas.core.frame.DataFrame'>\n",
      "RangeIndex: 3864 entries, 0 to 3863\n",
      "Data columns (total 55 columns):\n",
      " #   Column                                        Non-Null Count  Dtype  \n",
      "---  ------                                        --------------  -----  \n",
      " 0   id                                            3864 non-null   int64  \n",
      " 1   name                                          3864 non-null   object \n",
      " 2   description                                   3846 non-null   object \n",
      " 3   neighborhood_overview                         2497 non-null   object \n",
      " 4   host_id                                       3864 non-null   int64  \n",
      " 5   host_since                                    3864 non-null   object \n",
      " 6   host_location                                 2982 non-null   object \n",
      " 7   host_about                                    2740 non-null   object \n",
      " 8   host_response_time                            3344 non-null   object \n",
      " 9   host_response_rate                            3344 non-null   object \n",
      " 10  host_acceptance_rate                          3405 non-null   object \n",
      " 11  host_is_superhost                             3862 non-null   object \n",
      " 12  host_neighbourhood                            3735 non-null   object \n",
      " 13  host_listings_count                           3864 non-null   int64  \n",
      " 14  host_total_listings_count                     3864 non-null   int64  \n",
      " 15  host_verifications                            3864 non-null   object \n",
      " 16  host_has_profile_pic                          3864 non-null   object \n",
      " 17  host_identity_verified                        3864 non-null   object \n",
      " 18  neighbourhood_cleansed                        3864 non-null   object \n",
      " 19  latitude                                      3864 non-null   float64\n",
      " 20  longitude                                     3864 non-null   float64\n",
      " 21  property_type                                 3864 non-null   object \n",
      " 22  room_type                                     3864 non-null   object \n",
      " 23  accommodates                                  3864 non-null   int64  \n",
      " 24  bathrooms_text                                3862 non-null   object \n",
      " 25  bedrooms                                      3404 non-null   float64\n",
      " 26  beds                                          3784 non-null   float64\n",
      " 27  amenities                                     3864 non-null   object \n",
      " 28  price                                         3864 non-null   object \n",
      " 29  minimum_nights                                3864 non-null   int64  \n",
      " 30  maximum_nights                                3864 non-null   int64  \n",
      " 31  has_availability                              3864 non-null   object \n",
      " 32  availability_30                               3864 non-null   int64  \n",
      " 33  availability_60                               3864 non-null   int64  \n",
      " 34  availability_90                               3864 non-null   int64  \n",
      " 35  availability_365                              3864 non-null   int64  \n",
      " 36  number_of_reviews                             3864 non-null   int64  \n",
      " 37  number_of_reviews_ltm                         3864 non-null   int64  \n",
      " 38  number_of_reviews_l30d                        3864 non-null   int64  \n",
      " 39  first_review                                  2741 non-null   object \n",
      " 40  last_review                                   2741 non-null   object \n",
      " 41  review_scores_rating                          2741 non-null   float64\n",
      " 42  review_scores_accuracy                        2733 non-null   float64\n",
      " 43  review_scores_cleanliness                     2734 non-null   float64\n",
      " 44  review_scores_checkin                         2732 non-null   float64\n",
      " 45  review_scores_communication                   2734 non-null   float64\n",
      " 46  review_scores_location                        2732 non-null   float64\n",
      " 47  review_scores_value                           2732 non-null   float64\n",
      " 48  license                                       2305 non-null   object \n",
      " 49  instant_bookable                              3864 non-null   object \n",
      " 50  calculated_host_listings_count                3864 non-null   int64  \n",
      " 51  calculated_host_listings_count_entire_homes   3864 non-null   int64  \n",
      " 52  calculated_host_listings_count_private_rooms  3864 non-null   int64  \n",
      " 53  calculated_host_listings_count_shared_rooms   3864 non-null   int64  \n",
      " 54  reviews_per_month                             2741 non-null   float64\n",
      "dtypes: float64(12), int64(18), object(25)\n",
      "memory usage: 1.6+ MB\n"
     ]
    }
   ],
   "source": [
    "lstn.info()"
   ]
  },
  {
   "cell_type": "code",
   "execution_count": 7,
   "id": "f2fa99cb-fee5-42a5-bbba-065f98ec29f9",
   "metadata": {},
   "outputs": [
    {
     "data": {
      "text/plain": [
       "Index(['id', 'name', 'description', 'neighborhood_overview', 'host_id',\n",
       "       'host_since', 'host_location', 'host_about', 'host_response_time',\n",
       "       'host_response_rate', 'host_acceptance_rate', 'host_is_superhost',\n",
       "       'host_neighbourhood', 'host_listings_count',\n",
       "       'host_total_listings_count', 'host_verifications',\n",
       "       'host_has_profile_pic', 'host_identity_verified',\n",
       "       'neighbourhood_cleansed', 'latitude', 'longitude', 'property_type',\n",
       "       'room_type', 'accommodates', 'bathrooms_text', 'bedrooms', 'beds',\n",
       "       'amenities', 'price', 'minimum_nights', 'maximum_nights',\n",
       "       'has_availability', 'availability_30', 'availability_60',\n",
       "       'availability_90', 'availability_365', 'number_of_reviews',\n",
       "       'number_of_reviews_ltm', 'number_of_reviews_l30d', 'first_review',\n",
       "       'last_review', 'review_scores_rating', 'review_scores_accuracy',\n",
       "       'review_scores_cleanliness', 'review_scores_checkin',\n",
       "       'review_scores_communication', 'review_scores_location',\n",
       "       'review_scores_value', 'license', 'instant_bookable',\n",
       "       'calculated_host_listings_count',\n",
       "       'calculated_host_listings_count_entire_homes',\n",
       "       'calculated_host_listings_count_private_rooms',\n",
       "       'calculated_host_listings_count_shared_rooms', 'reviews_per_month'],\n",
       "      dtype='object')"
      ]
     },
     "execution_count": 7,
     "metadata": {},
     "output_type": "execute_result"
    }
   ],
   "source": [
    "# List the columns for easy copy and paste later\n",
    "lstn.columns"
   ]
  },
  {
   "cell_type": "markdown",
   "id": "b00bfeb5-c493-4317-b192-fc1c3117ed58",
   "metadata": {
    "tags": []
   },
   "source": [
    "## Explore the Target Varible:  Price"
   ]
  },
  {
   "cell_type": "code",
   "execution_count": 8,
   "id": "48a5d919-17de-4bf1-ac43-265040916f58",
   "metadata": {},
   "outputs": [
    {
     "data": {
      "text/plain": [
       "count        3864\n",
       "unique        515\n",
       "top       $150.00\n",
       "freq           65\n",
       "Name: price, dtype: object"
      ]
     },
     "execution_count": 8,
     "metadata": {},
     "output_type": "execute_result"
    }
   ],
   "source": [
    "lstn.price.describe()"
   ]
  },
  {
   "cell_type": "code",
   "execution_count": 9,
   "id": "1a16e6a8-8eb7-458a-8a47-b0aa0971a302",
   "metadata": {},
   "outputs": [],
   "source": [
    "# Right now, the price is encoded as an object.  Conver to float for stats analysis\n",
    "lstn.price = lstn.price.apply(lambda x: float(x.replace('$','').replace(',','').strip()))"
   ]
  },
  {
   "cell_type": "code",
   "execution_count": 10,
   "id": "3f394625-a9bb-46b0-8948-a4b1ef101adc",
   "metadata": {},
   "outputs": [
    {
     "data": {
      "text/plain": [
       "count     3864.000000\n",
       "mean       190.609990\n",
       "std        251.949604\n",
       "min          0.000000\n",
       "25%         85.000000\n",
       "50%        148.500000\n",
       "75%        225.000000\n",
       "max      10000.000000\n",
       "Name: price, dtype: float64"
      ]
     },
     "execution_count": 10,
     "metadata": {},
     "output_type": "execute_result"
    }
   ],
   "source": [
    "lstn.price.describe()"
   ]
  },
  {
   "cell_type": "code",
   "execution_count": 30,
   "id": "8d1a5f9e-d5ba-466b-9e7a-49543ed3fc22",
   "metadata": {},
   "outputs": [
    {
     "data": {
      "image/png": "[encoded data removed]",
      "text/plain": [
       "<Figure size 600x400 with 1 Axes>"
      ]
     },
     "metadata": {},
     "output_type": "display_data"
    }
   ],
   "source": [
    "# Plot a \n",
    "hist_plotter(lstn.price, bins = 100, log = True)"
   ]
  },
  {
   "cell_type": "code",
   "execution_count": null,
   "id": "d00a2e3c-f0d5-4d66-9cd0-08769e800eb4",
   "metadata": {},
   "outputs": [],
   "source": []
  },
  {
   "cell_type": "code",
   "execution_count": null,
   "id": "ed67f464-4473-4c34-acd1-7daf4f0555d1",
   "metadata": {},
   "outputs": [],
   "source": []
  },
  {
   "cell_type": "code",
   "execution_count": null,
   "id": "945c71ff-dd59-45d6-a1fc-2c9e06231535",
   "metadata": {},
   "outputs": [],
   "source": []
  },
  {
   "cell_type": "code",
   "execution_count": null,
   "id": "4440a3ab-afeb-43bf-9d15-050795d8d1c1",
   "metadata": {},
   "outputs": [],
   "source": []
  },
  {
   "cell_type": "code",
   "execution_count": null,
   "id": "1bc3185a-431c-4490-9edc-f1b1a26dc353",
   "metadata": {},
   "outputs": [],
   "source": []
  },
  {
   "cell_type": "code",
   "execution_count": null,
   "id": "f0bb8663-fa7c-4849-9913-be19e09a8799",
   "metadata": {},
   "outputs": [],
   "source": []
  },
  {
   "cell_type": "code",
   "execution_count": null,
   "id": "86b9d0bc-0abe-4849-9327-70ce7b854251",
   "metadata": {},
   "outputs": [],
   "source": []
  },
  {
   "cell_type": "code",
   "execution_count": null,
   "id": "b859eb89-6751-4757-b4b8-bb16555fc80e",
   "metadata": {},
   "outputs": [],
   "source": []
  },
  {
   "cell_type": "code",
   "execution_count": null,
   "id": "676a3bca-f6a5-40ff-a8b7-a87aa81da399",
   "metadata": {},
   "outputs": [],
   "source": []
  },
  {
   "cell_type": "code",
   "execution_count": null,
   "id": "b4a2d4c8-f7aa-4ab0-ae93-e3219621436a",
   "metadata": {},
   "outputs": [],
   "source": []
  },
  {
   "cell_type": "code",
   "execution_count": null,
   "id": "9c8962a2-6eff-43a5-99dc-61415e13e55a",
   "metadata": {},
   "outputs": [],
   "source": []
  },
  {
   "cell_type": "code",
   "execution_count": null,
   "id": "5af35410-5806-4fe9-b995-1eaefddec90e",
   "metadata": {},
   "outputs": [],
   "source": []
  },
  {
   "cell_type": "code",
   "execution_count": null,
   "id": "4a08cb9c-2d91-4db0-b8ba-b27fde5ad381",
   "metadata": {},
   "outputs": [],
   "source": []
  },
  {
   "cell_type": "code",
   "execution_count": null,
   "id": "21cefc2c-32dc-4ea6-a61f-11ca4ca0123d",
   "metadata": {},
   "outputs": [],
   "source": []
  },
  {
   "cell_type": "code",
   "execution_count": null,
   "id": "495cf8af-7f86-4aae-ae84-8e1a8bc06c09",
   "metadata": {},
   "outputs": [],
   "source": []
  },
  {
   "cell_type": "code",
   "execution_count": null,
   "id": "3a45c0f5-6fc0-4d6a-bc0b-2a387412aab5",
   "metadata": {},
   "outputs": [],
   "source": []
  },
  {
   "cell_type": "code",
   "execution_count": null,
   "id": "126c38b7-a8c7-4083-a9fd-fd89e1c07183",
   "metadata": {},
   "outputs": [],
   "source": []
  },
  {
   "cell_type": "code",
   "execution_count": null,
   "id": "a2da211f-15c0-4067-a32f-bea74160db6c",
   "metadata": {},
   "outputs": [],
   "source": []
  },
  {
   "cell_type": "code",
   "execution_count": null,
   "id": "d35afab2-7858-4157-9938-6210a55ee17a",
   "metadata": {},
   "outputs": [],
   "source": []
  },
  {
   "cell_type": "code",
   "execution_count": null,
   "id": "5921a4b9-b05c-45a4-97e2-0ec357cd1e6c",
   "metadata": {},
   "outputs": [],
   "source": []
  },
  {
   "cell_type": "code",
   "execution_count": null,
   "id": "d9c7daed-e30a-4b86-b31f-c00d95979881",
   "metadata": {},
   "outputs": [],
   "source": []
  },
  {
   "cell_type": "code",
   "execution_count": null,
   "id": "60ffce3a-489d-4aed-8053-569a341a0786",
   "metadata": {},
   "outputs": [],
   "source": []
  },
  {
   "cell_type": "code",
   "execution_count": null,
   "id": "23054752-6032-4bfa-9a0f-dad1edd6ea4c",
   "metadata": {},
   "outputs": [],
   "source": []
  },
  {
   "cell_type": "code",
   "execution_count": null,
   "id": "967f3b4a-f884-4cf8-b30c-7791f9662032",
   "metadata": {},
   "outputs": [],
   "source": []
  },
  {
   "cell_type": "code",
   "execution_count": null,
   "id": "c295430e-94e7-4d07-8478-ba351972e772",
   "metadata": {},
   "outputs": [],
   "source": []
  },
  {
   "cell_type": "code",
   "execution_count": null,
   "id": "bfa9aefa-e709-4c25-8243-298927b28855",
   "metadata": {},
   "outputs": [],
   "source": []
  },
  {
   "cell_type": "code",
   "execution_count": null,
   "id": "cbc94fe8-a30a-4773-a857-bc4f3eac65b1",
   "metadata": {},
   "outputs": [],
   "source": []
  },
  {
   "cell_type": "code",
   "execution_count": null,
   "id": "8edf8012-be6b-497e-8a82-125f2b55997d",
   "metadata": {},
   "outputs": [],
   "source": []
  },
  {
   "cell_type": "code",
   "execution_count": null,
   "id": "72967c7c-c12f-444e-b8b0-38db5ff15cef",
   "metadata": {},
   "outputs": [],
   "source": []
  },
  {
   "cell_type": "code",
   "execution_count": null,
   "id": "bc6b5580-1a07-4d96-b04e-ac05dd6d2da1",
   "metadata": {},
   "outputs": [],
   "source": []
  },
  {
   "cell_type": "code",
   "execution_count": null,
   "id": "58a2e867-5042-4e1c-9d51-91b1349d29ea",
   "metadata": {},
   "outputs": [],
   "source": []
  },
  {
   "cell_type": "code",
   "execution_count": null,
   "id": "afec0231-062f-4b4b-8530-67148d2f4033",
   "metadata": {},
   "outputs": [],
   "source": []
  }
 ],
 "metadata": {
  "kernelspec": {
   "display_name": "Python 3 (ipykernel)",
   "language": "python",
   "name": "python3"
  },
  "language_info": {
   "codemirror_mode": {
    "name": "ipython",
    "version": 3
   },
   "file_extension": ".py",
   "mimetype": "text/x-python",
   "name": "python",
   "nbconvert_exporter": "python",
   "pygments_lexer": "ipython3",
   "version": "3.10.9"
  }
 },
 "nbformat": 4,
 "nbformat_minor": 5
}
