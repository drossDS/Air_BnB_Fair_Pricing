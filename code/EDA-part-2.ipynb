{
 "cells": [
  {
   "cell_type": "markdown",
   "id": "fed2ce4c-11ae-4c51-b051-a45e7154ed99",
   "metadata": {
    "tags": []
   },
   "source": [
    "# Exploratory Data Analysis Part 2:\n",
    "## Feature Extraction\n",
    "\n",
    "From the previous notebook, a few features were ommited from analysis due to their complexity.  They will be evaluated here.\n",
    "\n",
    "Per the previous notebook:\n",
    "\n",
    "The remaining features which have not yet been investigated are provided as follows, along with a brief plan to evaluate each of those features:\n",
    "* amenities\n",
    "    * These need to be separated out into the individual amenties, counted up, and one hot encoded\n",
    "* description\n",
    "    * This will require some manual examination and NLP techniques to attmept to find useful features\n",
    "* host_about\n",
    "    * This will require some manual examination and NLP techniques to attmept to find useful features\n",
    "* name\n",
    "    * This will require some manual examination and NLP techniques to attmept to find useful features\n",
    "* neighborhood_overview\n",
    "    * This will require some manual examination and NLP techniques to attmept to find useful features\n",
    "* host_location\n",
    "    * This will need to be combined with host_neighbourhood and encoded accordingly\n",
    "* host_neighbourhood\n",
    "    * This will need to be combined with host_location and encoded accordingly\n"
   ]
  },
  {
   "cell_type": "code",
   "execution_count": 129,
   "id": "2079961f-7e4d-4c37-86ec-e72388bbad75",
   "metadata": {},
   "outputs": [],
   "source": [
    "# Basic Imports\n",
    "import pandas as pd\n",
    "import numpy as np\n",
    "import matplotlib.pyplot as plt\n",
    "import seaborn as sns\n",
    "\n",
    "# For tesxt:\n",
    "import re\n",
    "\n",
    "# For times:\n",
    "import time\n",
    "\n",
    "# Set a random seed for imputation\n",
    "#  Source:  https://numpy.org/doc/stable/reference/random/generated/numpy.random.seed.html\n",
    "np.random.seed(42)\n",
    "\n",
    "# Sklearn\n",
    "from sklearn.model_selection import train_test_split\n",
    "from sklearn.impute import SimpleImputer\n",
    "from sklearn.feature_extraction.text import CountVectorizer, TfidfVectorizer"
   ]
  },
  {
   "cell_type": "markdown",
   "id": "dc647cae-2c89-4f96-9210-e987e2a81da3",
   "metadata": {},
   "source": [
    "# Read Data and Examine Dataframe"
   ]
  },
  {
   "cell_type": "code",
   "execution_count": 8,
   "id": "836c6df1-42cc-47d3-97d3-a7219a6d2086",
   "metadata": {},
   "outputs": [],
   "source": [
    "# keep the same dataframe name as in the previous notebook\n",
    "lstn = pd.read_csv('../data/listings_train_2.csv')"
   ]
  },
  {
   "cell_type": "code",
   "execution_count": 9,
   "id": "69fc9432-4f58-4472-8169-404b2f85a1d9",
   "metadata": {},
   "outputs": [
    {
     "name": "stdout",
     "output_type": "stream",
     "text": [
      "<class 'pandas.core.frame.DataFrame'>\n",
      "RangeIndex: 3477 entries, 0 to 3476\n",
      "Data columns (total 56 columns):\n",
      " #   Column                                        Non-Null Count  Dtype  \n",
      "---  ------                                        --------------  -----  \n",
      " 0   id                                            3477 non-null   int64  \n",
      " 1   name                                          3477 non-null   object \n",
      " 2   description                                   3464 non-null   object \n",
      " 3   neighborhood_overview                         2245 non-null   object \n",
      " 4   host_id                                       3477 non-null   int64  \n",
      " 5   host_since                                    3477 non-null   float64\n",
      " 6   host_location                                 2683 non-null   object \n",
      " 7   host_about                                    2463 non-null   object \n",
      " 8   host_response_time                            3477 non-null   object \n",
      " 9   host_response_rate                            3477 non-null   float64\n",
      " 10  host_acceptance_rate                          3477 non-null   float64\n",
      " 11  host_is_superhost                             3477 non-null   object \n",
      " 12  host_neighbourhood                            3364 non-null   object \n",
      " 13  host_listings_count                           3477 non-null   int64  \n",
      " 14  host_total_listings_count                     3477 non-null   int64  \n",
      " 15  host_verifications                            3477 non-null   object \n",
      " 16  host_has_profile_pic                          3477 non-null   object \n",
      " 17  host_identity_verified                        3477 non-null   object \n",
      " 18  neighbourhood_cleansed                        3477 non-null   object \n",
      " 19  latitude                                      3477 non-null   float64\n",
      " 20  longitude                                     3477 non-null   float64\n",
      " 21  property_type                                 3477 non-null   object \n",
      " 22  room_type                                     3477 non-null   object \n",
      " 23  accommodates                                  3477 non-null   int64  \n",
      " 24  bathrooms_text                                3477 non-null   object \n",
      " 25  bedrooms                                      3061 non-null   float64\n",
      " 26  beds                                          3399 non-null   float64\n",
      " 27  amenities                                     3477 non-null   object \n",
      " 28  price                                         3477 non-null   float64\n",
      " 29  minimum_nights                                3477 non-null   int64  \n",
      " 30  maximum_nights                                3477 non-null   int64  \n",
      " 31  has_availability                              3477 non-null   object \n",
      " 32  availability_30                               3477 non-null   int64  \n",
      " 33  availability_60                               3477 non-null   int64  \n",
      " 34  availability_90                               3477 non-null   int64  \n",
      " 35  availability_365                              3477 non-null   int64  \n",
      " 36  number_of_reviews                             3477 non-null   int64  \n",
      " 37  number_of_reviews_ltm                         3477 non-null   int64  \n",
      " 38  number_of_reviews_l30d                        3477 non-null   int64  \n",
      " 39  review_scores_rating                          2462 non-null   float64\n",
      " 40  review_scores_accuracy                        2455 non-null   float64\n",
      " 41  review_scores_cleanliness                     2456 non-null   float64\n",
      " 42  review_scores_checkin                         2455 non-null   float64\n",
      " 43  review_scores_communication                   2456 non-null   float64\n",
      " 44  review_scores_location                        2455 non-null   float64\n",
      " 45  review_scores_value                           2455 non-null   float64\n",
      " 46  license                                       2071 non-null   object \n",
      " 47  instant_bookable                              3477 non-null   object \n",
      " 48  calculated_host_listings_count                3477 non-null   int64  \n",
      " 49  calculated_host_listings_count_entire_homes   3477 non-null   int64  \n",
      " 50  calculated_host_listings_count_private_rooms  3477 non-null   int64  \n",
      " 51  calculated_host_listings_count_shared_rooms   3477 non-null   int64  \n",
      " 52  reviews_per_month                             2462 non-null   float64\n",
      " 53  pcnt_ent_homes                                3477 non-null   float64\n",
      " 54  pcnt_private                                  3477 non-null   float64\n",
      " 55  pcnt_shared                                   3477 non-null   float64\n",
      "dtypes: float64(19), int64(18), object(19)\n",
      "memory usage: 1.5+ MB\n"
     ]
    }
   ],
   "source": [
    "lstn.info()"
   ]
  },
  {
   "cell_type": "markdown",
   "id": "bd9a0d76-fe2c-4926-9b42-74bfac5387c1",
   "metadata": {},
   "source": [
    "# Explore and Fxtract 'amenities'"
   ]
  },
  {
   "cell_type": "code",
   "execution_count": 11,
   "id": "c948200f-34da-4a5e-a779-59cf894c2480",
   "metadata": {},
   "outputs": [
    {
     "data": {
      "text/plain": [
       "0       [\"Shampoo\", \"Carbon monoxide alarm\", \"Wifi\", \"...\n",
       "1       [\"Wifi\", \"Carbon monoxide alarm\", \"Hot water\",...\n",
       "2       [\"Shampoo\", \"Carbon monoxide alarm\", \"Wifi\", \"...\n",
       "3       [\"Wifi\", \"Kitchen\", \"First aid kit\", \"Refriger...\n",
       "4       [\"Wifi\", \"Window guards\", \"Kitchen\", \"Long ter...\n",
       "                              ...                        \n",
       "3472    [\"Wifi\", \"Stove\", \"Kitchen\", \"Dishwasher\", \"Re...\n",
       "3473    [\"Wifi\", \"Stove\", \"Keypad\", \"Kitchen\", \"Dishwa...\n",
       "3474    [\"Wifi\", \"Stove\", \"Keypad\", \"Kitchen\", \"Dishwa...\n",
       "3475                        [\"Wifi\", \"Microwave\", \"Oven\"]\n",
       "3476    [\"Clothing storage: wardrobe and closet\", \"Cit...\n",
       "Name: amenities, Length: 3477, dtype: object"
      ]
     },
     "execution_count": 11,
     "metadata": {},
     "output_type": "execute_result"
    }
   ],
   "source": [
    "# View the data\n",
    "lstn.amenities"
   ]
  },
  {
   "cell_type": "code",
   "execution_count": 16,
   "id": "e14a41b7-6f89-4f75-814e-05eb4fb85c58",
   "metadata": {},
   "outputs": [
    {
     "data": {
      "text/plain": [
       "'[\"Shampoo\", \"Carbon monoxide alarm\", \"Wifi\", \"Washer\", \"Hair dryer\", \"Kitchen\", \"Smoke alarm\", \"Indoor fireplace\", \"Breakfast\", \"Free parking on premises\", \"Private entrance\", \"Hangers\", \"First aid kit\", \"TV\", \"Dryer\", \"Heating\", \"Air conditioning\", \"Fire extinguisher\", \"Essentials\", \"Iron\"]'"
      ]
     },
     "execution_count": 16,
     "metadata": {},
     "output_type": "execute_result"
    }
   ],
   "source": [
    "lstn.amenities[0]"
   ]
  },
  {
   "cell_type": "code",
   "execution_count": 17,
   "id": "ae6906f5-1af4-487d-9e53-61017f9f7d7c",
   "metadata": {},
   "outputs": [
    {
     "data": {
      "text/plain": [
       "'[\"Wifi\", \"Carbon monoxide alarm\", \"Washer\", \"Keypad\", \"Security cameras on property\", \"Dishes and silverware\", \"Kitchen\", \"Smoke alarm\", \"Self check-in\", \"TV\", \"Refrigerator\", \"Hot tub\", \"Heating\", \"Air conditioning\"]'"
      ]
     },
     "execution_count": 17,
     "metadata": {},
     "output_type": "execute_result"
    }
   ],
   "source": [
    "lstn.amenities[100]"
   ]
  },
  {
   "cell_type": "code",
   "execution_count": 12,
   "id": "5ba82168-12c0-4a34-92ac-4d0f5bf5b003",
   "metadata": {
    "tags": []
   },
   "outputs": [
    {
     "data": {
      "text/plain": [
       "str"
      ]
     },
     "execution_count": 12,
     "metadata": {},
     "output_type": "execute_result"
    }
   ],
   "source": [
    "type(lstn.amenities[0])"
   ]
  },
  {
   "cell_type": "code",
   "execution_count": 14,
   "id": "2fd8a71a-8a8f-4129-a0c5-d208a30cb104",
   "metadata": {},
   "outputs": [
    {
     "data": {
      "text/plain": [
       "2697"
      ]
     },
     "execution_count": 14,
     "metadata": {},
     "output_type": "execute_result"
    }
   ],
   "source": [
    "lstn.amenities.nunique()"
   ]
  },
  {
   "cell_type": "markdown",
   "id": "ab831ad2-99f7-4f94-88d0-d365bfc8b064",
   "metadata": {},
   "source": [
    "#### OBSERVATIONS:\n",
    "* There are many different combinations of amenities\n",
    "* Individual amenities appear to be part of a smaller list of identical terms\n",
    "* Each element in this column is actually list stored as a string\n",
    "\n",
    "These individual terms will need to be extracted and eventually one hot encoded."
   ]
  },
  {
   "cell_type": "code",
   "execution_count": 51,
   "id": "aafdea70-8b1c-4fec-9e10-02967fc92cd8",
   "metadata": {},
   "outputs": [
    {
     "data": {
      "text/plain": [
       "'[\"Shampoo\", \"Carbon monoxide alarm\", \"Wifi\", \"Washer\", \"Hair dryer\", \"Kitchen\", \"Smoke alarm\", \"Indoor fireplace\", \"Breakfast\", \"Free parking on premises\", \"Private entrance\", \"Hangers\", \"First aid kit\", \"TV\", \"Dryer\", \"Heating\", \"Air conditioning\", \"Fire extinguisher\", \"Essentials\", \"Iron\"]'"
      ]
     },
     "execution_count": 51,
     "metadata": {},
     "output_type": "execute_result"
    }
   ],
   "source": [
    "lstn.amenities[0]"
   ]
  },
  {
   "cell_type": "code",
   "execution_count": 73,
   "id": "f4ebef1b-ea3d-46bf-a6d0-935af988547f",
   "metadata": {},
   "outputs": [
    {
     "data": {
      "text/plain": [
       "1072"
      ]
     },
     "execution_count": 73,
     "metadata": {},
     "output_type": "execute_result"
    }
   ],
   "source": [
    "# Use a regular expression to extract the amenities which are between quotes.\n",
    "#  Code adapted from this source: https://stackoverflow.com/questions/1454913/regular-expression-to-find-a-string-included-between-two-characters-while-exclud\n",
    "# Also helpful:  https://regex101.com/\n",
    "regex_string = '(?<=\")[^\"]+(?=\",)'\n",
    "\n",
    "amn_lst = []\n",
    "\n",
    "for string_lists in lstn.amenities:\n",
    "    a_list = re.findall(regex_string, string_lists)\n",
    "    for amenity in a_list:\n",
    "        amn_lst.append(amenity)\n",
    "\n",
    "len(set(amn_lst))       "
   ]
  },
  {
   "cell_type": "code",
   "execution_count": 153,
   "id": "cd5345a5-d653-4d7d-9d1b-8fac2d3acb82",
   "metadata": {},
   "outputs": [
    {
     "name": "stdout",
     "output_type": "stream",
     "text": [
      "Wifi                                                3261\n",
      "Smoke alarm                                         3207\n",
      "Carbon monoxide alarm                               3051\n",
      "Kitchen                                             2976\n",
      "Essentials                                          2808\n",
      "                                                    ... \n",
      "Heating - split type ductless system                  39\n",
      "Free driveway parking on premises \\u2013 1 space      37\n",
      "Stainless steel electric stove                        37\n",
      "Baby safety gates                                     36\n",
      "HDTV                                                  36\n",
      "Length: 152, dtype: int64\n"
     ]
    }
   ],
   "source": [
    "# Create a pandas series of all amenities and their number of occurences\n",
    "amn_counts = pd.Series(amn_lst).value_counts(ascending=False)\n",
    "\n",
    "# Filter the datafarme to use only words that appear in 99% of posts\n",
    "print(amn_counts[amn_counts >= 35])\n",
    "\n",
    "#  Create a vocab variable by using the index attribute to get the list of amenities\n",
    "amn_vocab = amn_counts[amn_counts >= 35].index"
   ]
  },
  {
   "cell_type": "code",
   "execution_count": 157,
   "id": "0949a4ef-f050-4c89-b03a-e5a5d24e1dfc",
   "metadata": {},
   "outputs": [
    {
     "data": {
      "text/html": [
       "<div>\n",
       "<style scoped>\n",
       "    .dataframe tbody tr th:only-of-type {\n",
       "        vertical-align: middle;\n",
       "    }\n",
       "\n",
       "    .dataframe tbody tr th {\n",
       "        vertical-align: top;\n",
       "    }\n",
       "\n",
       "    .dataframe thead th {\n",
       "        text-align: right;\n",
       "    }\n",
       "</style>\n",
       "<table border=\"1\" class=\"dataframe\">\n",
       "  <thead>\n",
       "    <tr style=\"text-align: right;\">\n",
       "      <th></th>\n",
       "      <th>Wifi</th>\n",
       "      <th>Smoke alarm</th>\n",
       "      <th>Carbon monoxide alarm</th>\n",
       "      <th>Kitchen</th>\n",
       "      <th>Essentials</th>\n",
       "      <th>Hangers</th>\n",
       "      <th>Hair dryer</th>\n",
       "      <th>Heating</th>\n",
       "      <th>Hot water</th>\n",
       "      <th>Refrigerator</th>\n",
       "      <th>...</th>\n",
       "      <th>Mosquito net</th>\n",
       "      <th>Park view</th>\n",
       "      <th>Paid parking lot off premises</th>\n",
       "      <th>Pool table</th>\n",
       "      <th>Smoking allowed</th>\n",
       "      <th>Heating - split type ductless system</th>\n",
       "      <th>Free driveway parking on premises \\u2013 1 space</th>\n",
       "      <th>Stainless steel electric stove</th>\n",
       "      <th>Baby safety gates</th>\n",
       "      <th>HDTV</th>\n",
       "    </tr>\n",
       "  </thead>\n",
       "  <tbody>\n",
       "    <tr>\n",
       "      <th>0</th>\n",
       "      <td>1</td>\n",
       "      <td>0</td>\n",
       "      <td>0</td>\n",
       "      <td>1</td>\n",
       "      <td>1</td>\n",
       "      <td>1</td>\n",
       "      <td>0</td>\n",
       "      <td>1</td>\n",
       "      <td>0</td>\n",
       "      <td>0</td>\n",
       "      <td>...</td>\n",
       "      <td>0</td>\n",
       "      <td>0</td>\n",
       "      <td>0</td>\n",
       "      <td>0</td>\n",
       "      <td>0</td>\n",
       "      <td>0</td>\n",
       "      <td>0</td>\n",
       "      <td>0</td>\n",
       "      <td>0</td>\n",
       "      <td>0</td>\n",
       "    </tr>\n",
       "    <tr>\n",
       "      <th>1</th>\n",
       "      <td>1</td>\n",
       "      <td>0</td>\n",
       "      <td>0</td>\n",
       "      <td>1</td>\n",
       "      <td>0</td>\n",
       "      <td>1</td>\n",
       "      <td>0</td>\n",
       "      <td>1</td>\n",
       "      <td>0</td>\n",
       "      <td>0</td>\n",
       "      <td>...</td>\n",
       "      <td>0</td>\n",
       "      <td>0</td>\n",
       "      <td>0</td>\n",
       "      <td>0</td>\n",
       "      <td>0</td>\n",
       "      <td>0</td>\n",
       "      <td>0</td>\n",
       "      <td>0</td>\n",
       "      <td>0</td>\n",
       "      <td>0</td>\n",
       "    </tr>\n",
       "    <tr>\n",
       "      <th>2</th>\n",
       "      <td>1</td>\n",
       "      <td>0</td>\n",
       "      <td>0</td>\n",
       "      <td>0</td>\n",
       "      <td>1</td>\n",
       "      <td>0</td>\n",
       "      <td>0</td>\n",
       "      <td>1</td>\n",
       "      <td>0</td>\n",
       "      <td>1</td>\n",
       "      <td>...</td>\n",
       "      <td>0</td>\n",
       "      <td>0</td>\n",
       "      <td>0</td>\n",
       "      <td>0</td>\n",
       "      <td>0</td>\n",
       "      <td>0</td>\n",
       "      <td>0</td>\n",
       "      <td>0</td>\n",
       "      <td>0</td>\n",
       "      <td>0</td>\n",
       "    </tr>\n",
       "    <tr>\n",
       "      <th>3</th>\n",
       "      <td>1</td>\n",
       "      <td>0</td>\n",
       "      <td>0</td>\n",
       "      <td>1</td>\n",
       "      <td>1</td>\n",
       "      <td>1</td>\n",
       "      <td>0</td>\n",
       "      <td>1</td>\n",
       "      <td>0</td>\n",
       "      <td>1</td>\n",
       "      <td>...</td>\n",
       "      <td>0</td>\n",
       "      <td>0</td>\n",
       "      <td>0</td>\n",
       "      <td>0</td>\n",
       "      <td>0</td>\n",
       "      <td>0</td>\n",
       "      <td>0</td>\n",
       "      <td>0</td>\n",
       "      <td>0</td>\n",
       "      <td>0</td>\n",
       "    </tr>\n",
       "    <tr>\n",
       "      <th>4</th>\n",
       "      <td>1</td>\n",
       "      <td>0</td>\n",
       "      <td>0</td>\n",
       "      <td>1</td>\n",
       "      <td>1</td>\n",
       "      <td>1</td>\n",
       "      <td>0</td>\n",
       "      <td>1</td>\n",
       "      <td>0</td>\n",
       "      <td>1</td>\n",
       "      <td>...</td>\n",
       "      <td>0</td>\n",
       "      <td>0</td>\n",
       "      <td>0</td>\n",
       "      <td>0</td>\n",
       "      <td>0</td>\n",
       "      <td>0</td>\n",
       "      <td>0</td>\n",
       "      <td>0</td>\n",
       "      <td>0</td>\n",
       "      <td>1</td>\n",
       "    </tr>\n",
       "    <tr>\n",
       "      <th>...</th>\n",
       "      <td>...</td>\n",
       "      <td>...</td>\n",
       "      <td>...</td>\n",
       "      <td>...</td>\n",
       "      <td>...</td>\n",
       "      <td>...</td>\n",
       "      <td>...</td>\n",
       "      <td>...</td>\n",
       "      <td>...</td>\n",
       "      <td>...</td>\n",
       "      <td>...</td>\n",
       "      <td>...</td>\n",
       "      <td>...</td>\n",
       "      <td>...</td>\n",
       "      <td>...</td>\n",
       "      <td>...</td>\n",
       "      <td>...</td>\n",
       "      <td>...</td>\n",
       "      <td>...</td>\n",
       "      <td>...</td>\n",
       "      <td>...</td>\n",
       "    </tr>\n",
       "    <tr>\n",
       "      <th>3472</th>\n",
       "      <td>1</td>\n",
       "      <td>0</td>\n",
       "      <td>0</td>\n",
       "      <td>1</td>\n",
       "      <td>1</td>\n",
       "      <td>1</td>\n",
       "      <td>0</td>\n",
       "      <td>1</td>\n",
       "      <td>0</td>\n",
       "      <td>1</td>\n",
       "      <td>...</td>\n",
       "      <td>0</td>\n",
       "      <td>0</td>\n",
       "      <td>0</td>\n",
       "      <td>0</td>\n",
       "      <td>0</td>\n",
       "      <td>0</td>\n",
       "      <td>0</td>\n",
       "      <td>0</td>\n",
       "      <td>0</td>\n",
       "      <td>0</td>\n",
       "    </tr>\n",
       "    <tr>\n",
       "      <th>3473</th>\n",
       "      <td>1</td>\n",
       "      <td>0</td>\n",
       "      <td>0</td>\n",
       "      <td>1</td>\n",
       "      <td>1</td>\n",
       "      <td>0</td>\n",
       "      <td>0</td>\n",
       "      <td>1</td>\n",
       "      <td>0</td>\n",
       "      <td>1</td>\n",
       "      <td>...</td>\n",
       "      <td>0</td>\n",
       "      <td>0</td>\n",
       "      <td>0</td>\n",
       "      <td>0</td>\n",
       "      <td>0</td>\n",
       "      <td>0</td>\n",
       "      <td>0</td>\n",
       "      <td>0</td>\n",
       "      <td>0</td>\n",
       "      <td>0</td>\n",
       "    </tr>\n",
       "    <tr>\n",
       "      <th>3474</th>\n",
       "      <td>1</td>\n",
       "      <td>0</td>\n",
       "      <td>0</td>\n",
       "      <td>1</td>\n",
       "      <td>1</td>\n",
       "      <td>1</td>\n",
       "      <td>0</td>\n",
       "      <td>1</td>\n",
       "      <td>0</td>\n",
       "      <td>1</td>\n",
       "      <td>...</td>\n",
       "      <td>0</td>\n",
       "      <td>0</td>\n",
       "      <td>0</td>\n",
       "      <td>0</td>\n",
       "      <td>0</td>\n",
       "      <td>0</td>\n",
       "      <td>0</td>\n",
       "      <td>0</td>\n",
       "      <td>0</td>\n",
       "      <td>0</td>\n",
       "    </tr>\n",
       "    <tr>\n",
       "      <th>3475</th>\n",
       "      <td>1</td>\n",
       "      <td>0</td>\n",
       "      <td>0</td>\n",
       "      <td>0</td>\n",
       "      <td>0</td>\n",
       "      <td>0</td>\n",
       "      <td>0</td>\n",
       "      <td>0</td>\n",
       "      <td>0</td>\n",
       "      <td>0</td>\n",
       "      <td>...</td>\n",
       "      <td>0</td>\n",
       "      <td>0</td>\n",
       "      <td>0</td>\n",
       "      <td>0</td>\n",
       "      <td>0</td>\n",
       "      <td>0</td>\n",
       "      <td>0</td>\n",
       "      <td>0</td>\n",
       "      <td>0</td>\n",
       "      <td>0</td>\n",
       "    </tr>\n",
       "    <tr>\n",
       "      <th>3476</th>\n",
       "      <td>0</td>\n",
       "      <td>0</td>\n",
       "      <td>0</td>\n",
       "      <td>1</td>\n",
       "      <td>1</td>\n",
       "      <td>1</td>\n",
       "      <td>0</td>\n",
       "      <td>0</td>\n",
       "      <td>0</td>\n",
       "      <td>0</td>\n",
       "      <td>...</td>\n",
       "      <td>0</td>\n",
       "      <td>0</td>\n",
       "      <td>0</td>\n",
       "      <td>0</td>\n",
       "      <td>0</td>\n",
       "      <td>0</td>\n",
       "      <td>0</td>\n",
       "      <td>0</td>\n",
       "      <td>0</td>\n",
       "      <td>1</td>\n",
       "    </tr>\n",
       "  </tbody>\n",
       "</table>\n",
       "<p>3477 rows × 152 columns</p>\n",
       "</div>"
      ],
      "text/plain": [
       "      Wifi  Smoke alarm  Carbon monoxide alarm  Kitchen  Essentials  Hangers  \\\n",
       "0        1            0                      0        1           1        1   \n",
       "1        1            0                      0        1           0        1   \n",
       "2        1            0                      0        0           1        0   \n",
       "3        1            0                      0        1           1        1   \n",
       "4        1            0                      0        1           1        1   \n",
       "...    ...          ...                    ...      ...         ...      ...   \n",
       "3472     1            0                      0        1           1        1   \n",
       "3473     1            0                      0        1           1        0   \n",
       "3474     1            0                      0        1           1        1   \n",
       "3475     1            0                      0        0           0        0   \n",
       "3476     0            0                      0        1           1        1   \n",
       "\n",
       "      Hair dryer  Heating  Hot water  Refrigerator  ...  Mosquito net  \\\n",
       "0              0        1          0             0  ...             0   \n",
       "1              0        1          0             0  ...             0   \n",
       "2              0        1          0             1  ...             0   \n",
       "3              0        1          0             1  ...             0   \n",
       "4              0        1          0             1  ...             0   \n",
       "...          ...      ...        ...           ...  ...           ...   \n",
       "3472           0        1          0             1  ...             0   \n",
       "3473           0        1          0             1  ...             0   \n",
       "3474           0        1          0             1  ...             0   \n",
       "3475           0        0          0             0  ...             0   \n",
       "3476           0        0          0             0  ...             0   \n",
       "\n",
       "      Park view  Paid parking lot off premises  Pool table  Smoking allowed  \\\n",
       "0             0                              0           0                0   \n",
       "1             0                              0           0                0   \n",
       "2             0                              0           0                0   \n",
       "3             0                              0           0                0   \n",
       "4             0                              0           0                0   \n",
       "...         ...                            ...         ...              ...   \n",
       "3472          0                              0           0                0   \n",
       "3473          0                              0           0                0   \n",
       "3474          0                              0           0                0   \n",
       "3475          0                              0           0                0   \n",
       "3476          0                              0           0                0   \n",
       "\n",
       "      Heating - split type ductless system  \\\n",
       "0                                        0   \n",
       "1                                        0   \n",
       "2                                        0   \n",
       "3                                        0   \n",
       "4                                        0   \n",
       "...                                    ...   \n",
       "3472                                     0   \n",
       "3473                                     0   \n",
       "3474                                     0   \n",
       "3475                                     0   \n",
       "3476                                     0   \n",
       "\n",
       "      Free driveway parking on premises \\u2013 1 space  \\\n",
       "0                                                    0   \n",
       "1                                                    0   \n",
       "2                                                    0   \n",
       "3                                                    0   \n",
       "4                                                    0   \n",
       "...                                                ...   \n",
       "3472                                                 0   \n",
       "3473                                                 0   \n",
       "3474                                                 0   \n",
       "3475                                                 0   \n",
       "3476                                                 0   \n",
       "\n",
       "      Stainless steel electric stove  Baby safety gates  HDTV  \n",
       "0                                  0                  0     0  \n",
       "1                                  0                  0     0  \n",
       "2                                  0                  0     0  \n",
       "3                                  0                  0     0  \n",
       "4                                  0                  0     1  \n",
       "...                              ...                ...   ...  \n",
       "3472                               0                  0     0  \n",
       "3473                               0                  0     0  \n",
       "3474                               0                  0     0  \n",
       "3475                               0                  0     0  \n",
       "3476                               0                  0     1  \n",
       "\n",
       "[3477 rows x 152 columns]"
      ]
     },
     "execution_count": 157,
     "metadata": {},
     "output_type": "execute_result"
    }
   ],
   "source": [
    "# Use countevectorizer to one hot encode all the amenities\n",
    "#  Use the vocab to get only the amenities encoded\n",
    "cvec = CountVectorizer(lowercase=False, vocabulary=amn_vocab)\n",
    "\n",
    "# Create a new dataframe with the count vectorized data from the amenities column\n",
    "amen_df = pd.DataFrame(cvec.fit_transform(lstn.amenities).todense(), \n",
    "             columns = cvec.get_feature_names_out())\n",
    "\n",
    "amen_df"
   ]
  },
  {
   "cell_type": "code",
   "execution_count": 143,
   "id": "026add01-3d5a-4ec9-a41b-0647670adab6",
   "metadata": {},
   "outputs": [
    {
     "data": {
      "text/plain": [
       "<3477x773 sparse matrix of type '<class 'numpy.int64'>'\n",
       "\twith 191353 stored elements in Compressed Sparse Row format>"
      ]
     },
     "execution_count": 143,
     "metadata": {},
     "output_type": "execute_result"
    }
   ],
   "source": [
    "new_df\n"
   ]
  },
  {
   "cell_type": "code",
   "execution_count": 136,
   "id": "201b8a41-5700-43bc-a656-a1092ca60af4",
   "metadata": {},
   "outputs": [
    {
     "data": {
      "text/plain": [
       "matrix([[1]], dtype=int64)"
      ]
     },
     "execution_count": 136,
     "metadata": {},
     "output_type": "execute_result"
    }
   ],
   "source": [
    "new_df.todense()"
   ]
  },
  {
   "cell_type": "code",
   "execution_count": null,
   "id": "efc3e613-37a4-4e08-b4a6-52f43e6024d8",
   "metadata": {},
   "outputs": [],
   "source": []
  },
  {
   "cell_type": "code",
   "execution_count": null,
   "id": "f3697c56-a437-41eb-bce8-8a68bc9f4b42",
   "metadata": {},
   "outputs": [],
   "source": []
  },
  {
   "cell_type": "code",
   "execution_count": null,
   "id": "9ef1b1a5-b620-4aa9-b9fa-a0e6d3f64315",
   "metadata": {},
   "outputs": [],
   "source": []
  },
  {
   "cell_type": "code",
   "execution_count": null,
   "id": "ee928eaf-4ee8-483d-8e76-c1aaff4e3807",
   "metadata": {},
   "outputs": [],
   "source": []
  },
  {
   "cell_type": "code",
   "execution_count": null,
   "id": "b4cecbfd-90cf-493b-b100-36202ad741ac",
   "metadata": {},
   "outputs": [],
   "source": []
  },
  {
   "cell_type": "code",
   "execution_count": null,
   "id": "98f17840-5d0f-4a16-8cef-fe2dcd4900ad",
   "metadata": {},
   "outputs": [],
   "source": []
  },
  {
   "cell_type": "code",
   "execution_count": null,
   "id": "c1aeb573-cb91-4366-90ed-75d1d9833198",
   "metadata": {},
   "outputs": [],
   "source": []
  },
  {
   "cell_type": "code",
   "execution_count": null,
   "id": "b6d4087b-6980-4cc0-9fcf-3e5386cb7cce",
   "metadata": {},
   "outputs": [],
   "source": []
  },
  {
   "cell_type": "code",
   "execution_count": null,
   "id": "0b10033b-b7ca-41bf-984f-aee901498774",
   "metadata": {},
   "outputs": [],
   "source": []
  },
  {
   "cell_type": "code",
   "execution_count": null,
   "id": "eda90192-0bf4-4d4c-aa66-0be3d5614c5a",
   "metadata": {},
   "outputs": [],
   "source": []
  },
  {
   "cell_type": "code",
   "execution_count": null,
   "id": "3951c404-9cb3-431a-ac40-5756467c3a30",
   "metadata": {},
   "outputs": [],
   "source": []
  },
  {
   "cell_type": "code",
   "execution_count": null,
   "id": "d42cf482-385f-474e-a66f-645e11ac1b9a",
   "metadata": {},
   "outputs": [],
   "source": []
  },
  {
   "cell_type": "markdown",
   "id": "67408976-1561-469c-8a6e-26401868d61f",
   "metadata": {
    "tags": []
   },
   "source": [
    "# APPENDIX OR JUNK"
   ]
  },
  {
   "cell_type": "code",
   "execution_count": 117,
   "id": "a330795f-e313-4b2a-8416-018722da099a",
   "metadata": {},
   "outputs": [
    {
     "data": {
      "text/plain": [
       "'Pack \\\\u2019n p'"
      ]
     },
     "execution_count": 117,
     "metadata": {},
     "output_type": "execute_result"
    }
   ],
   "source": [
    "'Pack \\\\u2019n p'"
   ]
  },
  {
   "cell_type": "code",
   "execution_count": 120,
   "id": "29934ac9-4eec-4e87-9bde-b2b95a79723c",
   "metadata": {},
   "outputs": [
    {
     "data": {
      "text/plain": [
       "'Pack \\\\u2019n play/Travel crib - available upon request'"
      ]
     },
     "execution_count": 120,
     "metadata": {},
     "output_type": "execute_result"
    }
   ],
   "source": [
    "amn_counts[amn_counts >= 100].index[-1]"
   ]
  },
  {
   "cell_type": "code",
   "execution_count": 127,
   "id": "d035b417-420a-4736-b388-109f8e2ce416",
   "metadata": {},
   "outputs": [
    {
     "data": {
      "text/plain": [
       "382"
      ]
     },
     "execution_count": 127,
     "metadata": {},
     "output_type": "execute_result"
    }
   ],
   "source": [
    "len([i for i in lstn.amenities if '\\\\u2019n' in i])"
   ]
  },
  {
   "cell_type": "code",
   "execution_count": 140,
   "id": "e31be724-e131-4aca-a83b-a60701096e67",
   "metadata": {},
   "outputs": [],
   "source": [
    "df = lstn['amenities']"
   ]
  },
  {
   "cell_type": "code",
   "execution_count": 141,
   "id": "8339478a-6010-4b6d-b8b2-04d33f155301",
   "metadata": {},
   "outputs": [
    {
     "data": {
      "text/plain": [
       "0       [\"Shampoo\", \"Carbon monoxide alarm\", \"Wifi\", \"...\n",
       "1       [\"Wifi\", \"Carbon monoxide alarm\", \"Hot water\",...\n",
       "2       [\"Shampoo\", \"Carbon monoxide alarm\", \"Wifi\", \"...\n",
       "3       [\"Wifi\", \"Kitchen\", \"First aid kit\", \"Refriger...\n",
       "4       [\"Wifi\", \"Window guards\", \"Kitchen\", \"Long ter...\n",
       "                              ...                        \n",
       "3472    [\"Wifi\", \"Stove\", \"Kitchen\", \"Dishwasher\", \"Re...\n",
       "3473    [\"Wifi\", \"Stove\", \"Keypad\", \"Kitchen\", \"Dishwa...\n",
       "3474    [\"Wifi\", \"Stove\", \"Keypad\", \"Kitchen\", \"Dishwa...\n",
       "3475                        [\"Wifi\", \"Microwave\", \"Oven\"]\n",
       "3476    [\"Clothing storage: wardrobe and closet\", \"Cit...\n",
       "Name: amenities, Length: 3477, dtype: object"
      ]
     },
     "execution_count": 141,
     "metadata": {},
     "output_type": "execute_result"
    }
   ],
   "source": [
    "df"
   ]
  }
 ],
 "metadata": {
  "kernelspec": {
   "display_name": "Python 3 (ipykernel)",
   "language": "python",
   "name": "python3"
  },
  "language_info": {
   "codemirror_mode": {
    "name": "ipython",
    "version": 3
   },
   "file_extension": ".py",
   "mimetype": "text/x-python",
   "name": "python",
   "nbconvert_exporter": "python",
   "pygments_lexer": "ipython3",
   "version": "3.10.9"
  }
 },
 "nbformat": 4,
 "nbformat_minor": 5
}
