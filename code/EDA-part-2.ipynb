{
 "cells": [
  {
   "cell_type": "markdown",
   "id": "fed2ce4c-11ae-4c51-b051-a45e7154ed99",
   "metadata": {
    "tags": []
   },
   "source": [
    "# Exploratory Data Analysis Part 2:\n",
    "## Feature Extraction\n",
    "\n",
    "From the previous notebook, a few features were ommited from analysis due to their complexity.  They will be evaluated here.\n",
    "\n",
    "Per the previous notebook:\n",
    "\n",
    "The remaining features which have not yet been investigated are provided as follows, along with a brief plan to evaluate each of those features:\n",
    "* amenities\n",
    "    * These need to be separated out into the individual amenties, counted up, and one hot encoded\n",
    "* description\n",
    "    * This will require some manual examination and NLP techniques to attmept to find useful features\n",
    "* host_about\n",
    "    * This will require some manual examination and NLP techniques to attmept to find useful features\n",
    "* name\n",
    "    * This will require some manual examination and NLP techniques to attmept to find useful features\n",
    "* neighborhood_overview\n",
    "    * This will require some manual examination and NLP techniques to attmept to find useful features\n",
    "* host_location\n",
    "    * This will need to be combined with host_neighbourhood and encoded accordingly\n",
    "* host_neighbourhood\n",
    "    * This will need to be combined with host_location and encoded accordingly\n"
   ]
  },
  {
   "cell_type": "code",
   "execution_count": 20,
   "id": "2079961f-7e4d-4c37-86ec-e72388bbad75",
   "metadata": {},
   "outputs": [],
   "source": [
    "# Basic Imports\n",
    "import pandas as pd\n",
    "import numpy as np\n",
    "import matplotlib.pyplot as plt\n",
    "import seaborn as sns\n",
    "\n",
    "# For tesxt:\n",
    "import re\n",
    "\n",
    "# For times:\n",
    "import time\n",
    "\n",
    "# Set a random seed for imputation\n",
    "#  Source:  https://numpy.org/doc/stable/reference/random/generated/numpy.random.seed.html\n",
    "np.random.seed(42)\n",
    "\n",
    "# Sklearn\n",
    "from sklearn.model_selection import train_test_split\n",
    "from sklearn.impute import SimpleImputer\n"
   ]
  },
  {
   "cell_type": "markdown",
   "id": "dc647cae-2c89-4f96-9210-e987e2a81da3",
   "metadata": {},
   "source": [
    "# Read Data and Examine Dataframe"
   ]
  },
  {
   "cell_type": "code",
   "execution_count": 8,
   "id": "836c6df1-42cc-47d3-97d3-a7219a6d2086",
   "metadata": {},
   "outputs": [],
   "source": [
    "# keep the same dataframe name as in the previous notebook\n",
    "lstn = pd.read_csv('../data/listings_train_2.csv')"
   ]
  },
  {
   "cell_type": "code",
   "execution_count": 9,
   "id": "69fc9432-4f58-4472-8169-404b2f85a1d9",
   "metadata": {},
   "outputs": [
    {
     "name": "stdout",
     "output_type": "stream",
     "text": [
      "<class 'pandas.core.frame.DataFrame'>\n",
      "RangeIndex: 3477 entries, 0 to 3476\n",
      "Data columns (total 56 columns):\n",
      " #   Column                                        Non-Null Count  Dtype  \n",
      "---  ------                                        --------------  -----  \n",
      " 0   id                                            3477 non-null   int64  \n",
      " 1   name                                          3477 non-null   object \n",
      " 2   description                                   3464 non-null   object \n",
      " 3   neighborhood_overview                         2245 non-null   object \n",
      " 4   host_id                                       3477 non-null   int64  \n",
      " 5   host_since                                    3477 non-null   float64\n",
      " 6   host_location                                 2683 non-null   object \n",
      " 7   host_about                                    2463 non-null   object \n",
      " 8   host_response_time                            3477 non-null   object \n",
      " 9   host_response_rate                            3477 non-null   float64\n",
      " 10  host_acceptance_rate                          3477 non-null   float64\n",
      " 11  host_is_superhost                             3477 non-null   object \n",
      " 12  host_neighbourhood                            3364 non-null   object \n",
      " 13  host_listings_count                           3477 non-null   int64  \n",
      " 14  host_total_listings_count                     3477 non-null   int64  \n",
      " 15  host_verifications                            3477 non-null   object \n",
      " 16  host_has_profile_pic                          3477 non-null   object \n",
      " 17  host_identity_verified                        3477 non-null   object \n",
      " 18  neighbourhood_cleansed                        3477 non-null   object \n",
      " 19  latitude                                      3477 non-null   float64\n",
      " 20  longitude                                     3477 non-null   float64\n",
      " 21  property_type                                 3477 non-null   object \n",
      " 22  room_type                                     3477 non-null   object \n",
      " 23  accommodates                                  3477 non-null   int64  \n",
      " 24  bathrooms_text                                3477 non-null   object \n",
      " 25  bedrooms                                      3061 non-null   float64\n",
      " 26  beds                                          3399 non-null   float64\n",
      " 27  amenities                                     3477 non-null   object \n",
      " 28  price                                         3477 non-null   float64\n",
      " 29  minimum_nights                                3477 non-null   int64  \n",
      " 30  maximum_nights                                3477 non-null   int64  \n",
      " 31  has_availability                              3477 non-null   object \n",
      " 32  availability_30                               3477 non-null   int64  \n",
      " 33  availability_60                               3477 non-null   int64  \n",
      " 34  availability_90                               3477 non-null   int64  \n",
      " 35  availability_365                              3477 non-null   int64  \n",
      " 36  number_of_reviews                             3477 non-null   int64  \n",
      " 37  number_of_reviews_ltm                         3477 non-null   int64  \n",
      " 38  number_of_reviews_l30d                        3477 non-null   int64  \n",
      " 39  review_scores_rating                          2462 non-null   float64\n",
      " 40  review_scores_accuracy                        2455 non-null   float64\n",
      " 41  review_scores_cleanliness                     2456 non-null   float64\n",
      " 42  review_scores_checkin                         2455 non-null   float64\n",
      " 43  review_scores_communication                   2456 non-null   float64\n",
      " 44  review_scores_location                        2455 non-null   float64\n",
      " 45  review_scores_value                           2455 non-null   float64\n",
      " 46  license                                       2071 non-null   object \n",
      " 47  instant_bookable                              3477 non-null   object \n",
      " 48  calculated_host_listings_count                3477 non-null   int64  \n",
      " 49  calculated_host_listings_count_entire_homes   3477 non-null   int64  \n",
      " 50  calculated_host_listings_count_private_rooms  3477 non-null   int64  \n",
      " 51  calculated_host_listings_count_shared_rooms   3477 non-null   int64  \n",
      " 52  reviews_per_month                             2462 non-null   float64\n",
      " 53  pcnt_ent_homes                                3477 non-null   float64\n",
      " 54  pcnt_private                                  3477 non-null   float64\n",
      " 55  pcnt_shared                                   3477 non-null   float64\n",
      "dtypes: float64(19), int64(18), object(19)\n",
      "memory usage: 1.5+ MB\n"
     ]
    }
   ],
   "source": [
    "lstn.info()"
   ]
  },
  {
   "cell_type": "markdown",
   "id": "bd9a0d76-fe2c-4926-9b42-74bfac5387c1",
   "metadata": {},
   "source": [
    "# Explore and Fxtract 'amenities'"
   ]
  },
  {
   "cell_type": "code",
   "execution_count": 11,
   "id": "c948200f-34da-4a5e-a779-59cf894c2480",
   "metadata": {},
   "outputs": [
    {
     "data": {
      "text/plain": [
       "0       [\"Shampoo\", \"Carbon monoxide alarm\", \"Wifi\", \"...\n",
       "1       [\"Wifi\", \"Carbon monoxide alarm\", \"Hot water\",...\n",
       "2       [\"Shampoo\", \"Carbon monoxide alarm\", \"Wifi\", \"...\n",
       "3       [\"Wifi\", \"Kitchen\", \"First aid kit\", \"Refriger...\n",
       "4       [\"Wifi\", \"Window guards\", \"Kitchen\", \"Long ter...\n",
       "                              ...                        \n",
       "3472    [\"Wifi\", \"Stove\", \"Kitchen\", \"Dishwasher\", \"Re...\n",
       "3473    [\"Wifi\", \"Stove\", \"Keypad\", \"Kitchen\", \"Dishwa...\n",
       "3474    [\"Wifi\", \"Stove\", \"Keypad\", \"Kitchen\", \"Dishwa...\n",
       "3475                        [\"Wifi\", \"Microwave\", \"Oven\"]\n",
       "3476    [\"Clothing storage: wardrobe and closet\", \"Cit...\n",
       "Name: amenities, Length: 3477, dtype: object"
      ]
     },
     "execution_count": 11,
     "metadata": {},
     "output_type": "execute_result"
    }
   ],
   "source": [
    "# View the data\n",
    "lstn.amenities"
   ]
  },
  {
   "cell_type": "code",
   "execution_count": 16,
   "id": "e14a41b7-6f89-4f75-814e-05eb4fb85c58",
   "metadata": {},
   "outputs": [
    {
     "data": {
      "text/plain": [
       "'[\"Shampoo\", \"Carbon monoxide alarm\", \"Wifi\", \"Washer\", \"Hair dryer\", \"Kitchen\", \"Smoke alarm\", \"Indoor fireplace\", \"Breakfast\", \"Free parking on premises\", \"Private entrance\", \"Hangers\", \"First aid kit\", \"TV\", \"Dryer\", \"Heating\", \"Air conditioning\", \"Fire extinguisher\", \"Essentials\", \"Iron\"]'"
      ]
     },
     "execution_count": 16,
     "metadata": {},
     "output_type": "execute_result"
    }
   ],
   "source": [
    "lstn.amenities[0]"
   ]
  },
  {
   "cell_type": "code",
   "execution_count": 17,
   "id": "ae6906f5-1af4-487d-9e53-61017f9f7d7c",
   "metadata": {},
   "outputs": [
    {
     "data": {
      "text/plain": [
       "'[\"Wifi\", \"Carbon monoxide alarm\", \"Washer\", \"Keypad\", \"Security cameras on property\", \"Dishes and silverware\", \"Kitchen\", \"Smoke alarm\", \"Self check-in\", \"TV\", \"Refrigerator\", \"Hot tub\", \"Heating\", \"Air conditioning\"]'"
      ]
     },
     "execution_count": 17,
     "metadata": {},
     "output_type": "execute_result"
    }
   ],
   "source": [
    "lstn.amenities[100]"
   ]
  },
  {
   "cell_type": "code",
   "execution_count": 12,
   "id": "5ba82168-12c0-4a34-92ac-4d0f5bf5b003",
   "metadata": {
    "tags": []
   },
   "outputs": [
    {
     "data": {
      "text/plain": [
       "str"
      ]
     },
     "execution_count": 12,
     "metadata": {},
     "output_type": "execute_result"
    }
   ],
   "source": [
    "type(lstn.amenities[0])"
   ]
  },
  {
   "cell_type": "code",
   "execution_count": 14,
   "id": "2fd8a71a-8a8f-4129-a0c5-d208a30cb104",
   "metadata": {},
   "outputs": [
    {
     "data": {
      "text/plain": [
       "2697"
      ]
     },
     "execution_count": 14,
     "metadata": {},
     "output_type": "execute_result"
    }
   ],
   "source": [
    "lstn.amenities.nunique()"
   ]
  },
  {
   "cell_type": "markdown",
   "id": "ab831ad2-99f7-4f94-88d0-d365bfc8b064",
   "metadata": {},
   "source": [
    "#### OBSERVATIONS:\n",
    "* There are many different combinations of amenities\n",
    "* Individual amenities appear to be part of a smaller list of identical terms\n",
    "* Each element in this column is actually list stored as a string\n",
    "\n",
    "These individual terms will need to be extracted and eventually one hot encoded."
   ]
  },
  {
   "cell_type": "code",
   "execution_count": 51,
   "id": "aafdea70-8b1c-4fec-9e10-02967fc92cd8",
   "metadata": {},
   "outputs": [
    {
     "data": {
      "text/plain": [
       "'[\"Shampoo\", \"Carbon monoxide alarm\", \"Wifi\", \"Washer\", \"Hair dryer\", \"Kitchen\", \"Smoke alarm\", \"Indoor fireplace\", \"Breakfast\", \"Free parking on premises\", \"Private entrance\", \"Hangers\", \"First aid kit\", \"TV\", \"Dryer\", \"Heating\", \"Air conditioning\", \"Fire extinguisher\", \"Essentials\", \"Iron\"]'"
      ]
     },
     "execution_count": 51,
     "metadata": {},
     "output_type": "execute_result"
    }
   ],
   "source": [
    "lstn.amenities[0]"
   ]
  },
  {
   "cell_type": "code",
   "execution_count": 67,
   "id": "b5076fcf-c722-44bc-a917-eada6b32dc88",
   "metadata": {},
   "outputs": [
    {
     "data": {
      "text/plain": [
       "['Shampoo',\n",
       " 'Carbon monoxide alarm',\n",
       " 'Wifi',\n",
       " 'Washer',\n",
       " 'Hair dryer',\n",
       " 'Kitchen',\n",
       " 'Smoke alarm',\n",
       " 'Indoor fireplace',\n",
       " 'Breakfast',\n",
       " 'Free parking on premises',\n",
       " 'Private entrance',\n",
       " 'Hangers',\n",
       " 'First aid kit',\n",
       " 'TV',\n",
       " 'Dryer',\n",
       " 'Heating',\n",
       " 'Air conditioning',\n",
       " 'Fire extinguisher',\n",
       " 'Essentials']"
      ]
     },
     "execution_count": 67,
     "metadata": {},
     "output_type": "execute_result"
    }
   ],
   "source": [
    "# Use a regular expression to extract the amenities which are between quotes.\n",
    "#  Code adapted from this source: https://stackoverflow.com/questions/1454913/regular-expression-to-find-a-string-included-between-two-characters-while-exclud\n",
    "# Also helpful:  https://regex101.com/\n",
    "regex_string = '(?<=\")[^\"]+(?=\",)'\n",
    "\n",
    "test_str = lstn.amenities[0]\n",
    "#'\"fun\", \"times for\", \"all\"' #\n",
    "\n",
    "test_list = re.findall(regex_string, test_str)\n",
    "test_list"
   ]
  },
  {
   "cell_type": "code",
   "execution_count": 73,
   "id": "f4ebef1b-ea3d-46bf-a6d0-935af988547f",
   "metadata": {},
   "outputs": [
    {
     "data": {
      "text/plain": [
       "1072"
      ]
     },
     "execution_count": 73,
     "metadata": {},
     "output_type": "execute_result"
    }
   ],
   "source": [
    "# Use a regular expression to extract the amenities which are between quotes.\n",
    "#  Code adapted from this source: https://stackoverflow.com/questions/1454913/regular-expression-to-find-a-string-included-between-two-characters-while-exclud\n",
    "# Also helpful:  https://regex101.com/\n",
    "regex_string = '(?<=\")[^\"]+(?=\",)'\n",
    "\n",
    "amn_lst = []\n",
    "\n",
    "for string_lists in lstn.amenities:\n",
    "    a_list = re.findall(regex_string, string_lists)\n",
    "    for amenity in a_list:\n",
    "        amn_lst.append(amenity)\n",
    "\n",
    "len(set(amn_lst))       "
   ]
  },
  {
   "cell_type": "code",
   "execution_count": null,
   "id": "6397b0ca-9ffd-4d4e-878f-31d8dcb72f3e",
   "metadata": {},
   "outputs": [],
   "source": []
  },
  {
   "cell_type": "code",
   "execution_count": null,
   "id": "7e41eebd-1cd7-4ff8-9c60-5e020fc51ba4",
   "metadata": {},
   "outputs": [],
   "source": []
  },
  {
   "cell_type": "code",
   "execution_count": null,
   "id": "e31be724-e131-4aca-a83b-a60701096e67",
   "metadata": {},
   "outputs": [],
   "source": []
  },
  {
   "cell_type": "code",
   "execution_count": 72,
   "id": "cdf9bdac-8961-4f74-acb1-9d2ba09cd8a4",
   "metadata": {},
   "outputs": [
    {
     "data": {
      "text/plain": [
       "1"
      ]
     },
     "execution_count": 72,
     "metadata": {},
     "output_type": "execute_result"
    }
   ],
   "source": [
    "['a', 'a', 'b'].count('b')"
   ]
  },
  {
   "cell_type": "code",
   "execution_count": null,
   "id": "0949a4ef-f050-4c89-b03a-e5a5d24e1dfc",
   "metadata": {},
   "outputs": [],
   "source": []
  },
  {
   "cell_type": "code",
   "execution_count": null,
   "id": "026add01-3d5a-4ec9-a41b-0647670adab6",
   "metadata": {},
   "outputs": [],
   "source": []
  },
  {
   "cell_type": "code",
   "execution_count": null,
   "id": "201b8a41-5700-43bc-a656-a1092ca60af4",
   "metadata": {},
   "outputs": [],
   "source": []
  },
  {
   "cell_type": "code",
   "execution_count": null,
   "id": "efc3e613-37a4-4e08-b4a6-52f43e6024d8",
   "metadata": {},
   "outputs": [],
   "source": []
  },
  {
   "cell_type": "code",
   "execution_count": null,
   "id": "f3697c56-a437-41eb-bce8-8a68bc9f4b42",
   "metadata": {},
   "outputs": [],
   "source": []
  },
  {
   "cell_type": "code",
   "execution_count": null,
   "id": "9ef1b1a5-b620-4aa9-b9fa-a0e6d3f64315",
   "metadata": {},
   "outputs": [],
   "source": []
  },
  {
   "cell_type": "code",
   "execution_count": null,
   "id": "ee928eaf-4ee8-483d-8e76-c1aaff4e3807",
   "metadata": {},
   "outputs": [],
   "source": []
  },
  {
   "cell_type": "code",
   "execution_count": null,
   "id": "b4cecbfd-90cf-493b-b100-36202ad741ac",
   "metadata": {},
   "outputs": [],
   "source": []
  },
  {
   "cell_type": "code",
   "execution_count": null,
   "id": "98f17840-5d0f-4a16-8cef-fe2dcd4900ad",
   "metadata": {},
   "outputs": [],
   "source": []
  },
  {
   "cell_type": "code",
   "execution_count": null,
   "id": "c1aeb573-cb91-4366-90ed-75d1d9833198",
   "metadata": {},
   "outputs": [],
   "source": []
  },
  {
   "cell_type": "code",
   "execution_count": null,
   "id": "b6d4087b-6980-4cc0-9fcf-3e5386cb7cce",
   "metadata": {},
   "outputs": [],
   "source": []
  },
  {
   "cell_type": "code",
   "execution_count": null,
   "id": "0b10033b-b7ca-41bf-984f-aee901498774",
   "metadata": {},
   "outputs": [],
   "source": []
  },
  {
   "cell_type": "code",
   "execution_count": null,
   "id": "eda90192-0bf4-4d4c-aa66-0be3d5614c5a",
   "metadata": {},
   "outputs": [],
   "source": []
  },
  {
   "cell_type": "code",
   "execution_count": null,
   "id": "3951c404-9cb3-431a-ac40-5756467c3a30",
   "metadata": {},
   "outputs": [],
   "source": []
  },
  {
   "cell_type": "code",
   "execution_count": null,
   "id": "d42cf482-385f-474e-a66f-645e11ac1b9a",
   "metadata": {},
   "outputs": [],
   "source": []
  },
  {
   "cell_type": "code",
   "execution_count": null,
   "id": "bda3ac61-fa8e-4d05-87ce-d714ffc6dd1f",
   "metadata": {},
   "outputs": [],
   "source": []
  }
 ],
 "metadata": {
  "kernelspec": {
   "display_name": "Python 3 (ipykernel)",
   "language": "python",
   "name": "python3"
  },
  "language_info": {
   "codemirror_mode": {
    "name": "ipython",
    "version": 3
   },
   "file_extension": ".py",
   "mimetype": "text/x-python",
   "name": "python",
   "nbconvert_exporter": "python",
   "pygments_lexer": "ipython3",
   "version": "3.10.9"
  }
 },
 "nbformat": 4,
 "nbformat_minor": 5
}
