{
 "cells": [
  {
   "cell_type": "markdown",
   "id": "fed2ce4c-11ae-4c51-b051-a45e7154ed99",
   "metadata": {
    "tags": []
   },
   "source": [
    "# Exploratory Data Analysis Part 2:\n",
    "## Feature Extraction\n",
    "\n",
    "From the previous notebook, a few features were ommited from analysis due to their complexity.  They will be evaluated here.\n",
    "\n",
    "Per the previous notebook:\n",
    "\n",
    "The remaining features which have not yet been investigated are provided as follows, along with a brief plan to evaluate each of those features:\n",
    "* amenities\n",
    "    * These need to be separated out into the individual amenties, counted up, and one hot encoded\n",
    "* description\n",
    "    * This will require some manual examination and NLP techniques to attmept to find useful features\n",
    "* host_about\n",
    "    * This will require some manual examination and NLP techniques to attmept to find useful features\n",
    "* name\n",
    "    * This will require some manual examination and NLP techniques to attmept to find useful features\n",
    "* neighborhood_overview\n",
    "    * This will require some manual examination and NLP techniques to attmept to find useful features\n",
    "* host_location\n",
    "    * This will need to be combined with host_neighbourhood and encoded accordingly\n",
    "* host_neighbourhood\n",
    "    * This will need to be combined with host_location and encoded accordingly\n"
   ]
  },
  {
   "cell_type": "code",
   "execution_count": 1,
   "id": "2079961f-7e4d-4c37-86ec-e72388bbad75",
   "metadata": {},
   "outputs": [],
   "source": [
    "# Basic Imports\n",
    "import pandas as pd\n",
    "import numpy as np\n",
    "import matplotlib.pyplot as plt\n",
    "import seaborn as sns\n",
    "\n",
    "# For times:\n",
    "import time\n",
    "\n",
    "# Set a random seed for imputation\n",
    "#  Source:  https://numpy.org/doc/stable/reference/random/generated/numpy.random.seed.html\n",
    "np.random.seed(42)\n",
    "\n",
    "# Sklearn\n",
    "from sklearn.model_selection import train_test_split\n",
    "from sklearn.impute import SimpleImputer\n"
   ]
  },
  {
   "cell_type": "markdown",
   "id": "dc647cae-2c89-4f96-9210-e987e2a81da3",
   "metadata": {},
   "source": [
    "# Read Data and Examine Dataframe"
   ]
  },
  {
   "cell_type": "code",
   "execution_count": 8,
   "id": "836c6df1-42cc-47d3-97d3-a7219a6d2086",
   "metadata": {},
   "outputs": [],
   "source": [
    "# keep the same dataframe name as in the previous notebook\n",
    "lstn = pd.read_csv('../data/listings_train_2.csv')"
   ]
  },
  {
   "cell_type": "code",
   "execution_count": 9,
   "id": "69fc9432-4f58-4472-8169-404b2f85a1d9",
   "metadata": {},
   "outputs": [
    {
     "name": "stdout",
     "output_type": "stream",
     "text": [
      "<class 'pandas.core.frame.DataFrame'>\n",
      "RangeIndex: 3477 entries, 0 to 3476\n",
      "Data columns (total 56 columns):\n",
      " #   Column                                        Non-Null Count  Dtype  \n",
      "---  ------                                        --------------  -----  \n",
      " 0   id                                            3477 non-null   int64  \n",
      " 1   name                                          3477 non-null   object \n",
      " 2   description                                   3464 non-null   object \n",
      " 3   neighborhood_overview                         2245 non-null   object \n",
      " 4   host_id                                       3477 non-null   int64  \n",
      " 5   host_since                                    3477 non-null   float64\n",
      " 6   host_location                                 2683 non-null   object \n",
      " 7   host_about                                    2463 non-null   object \n",
      " 8   host_response_time                            3477 non-null   object \n",
      " 9   host_response_rate                            3477 non-null   float64\n",
      " 10  host_acceptance_rate                          3477 non-null   float64\n",
      " 11  host_is_superhost                             3477 non-null   object \n",
      " 12  host_neighbourhood                            3364 non-null   object \n",
      " 13  host_listings_count                           3477 non-null   int64  \n",
      " 14  host_total_listings_count                     3477 non-null   int64  \n",
      " 15  host_verifications                            3477 non-null   object \n",
      " 16  host_has_profile_pic                          3477 non-null   object \n",
      " 17  host_identity_verified                        3477 non-null   object \n",
      " 18  neighbourhood_cleansed                        3477 non-null   object \n",
      " 19  latitude                                      3477 non-null   float64\n",
      " 20  longitude                                     3477 non-null   float64\n",
      " 21  property_type                                 3477 non-null   object \n",
      " 22  room_type                                     3477 non-null   object \n",
      " 23  accommodates                                  3477 non-null   int64  \n",
      " 24  bathrooms_text                                3477 non-null   object \n",
      " 25  bedrooms                                      3061 non-null   float64\n",
      " 26  beds                                          3399 non-null   float64\n",
      " 27  amenities                                     3477 non-null   object \n",
      " 28  price                                         3477 non-null   float64\n",
      " 29  minimum_nights                                3477 non-null   int64  \n",
      " 30  maximum_nights                                3477 non-null   int64  \n",
      " 31  has_availability                              3477 non-null   object \n",
      " 32  availability_30                               3477 non-null   int64  \n",
      " 33  availability_60                               3477 non-null   int64  \n",
      " 34  availability_90                               3477 non-null   int64  \n",
      " 35  availability_365                              3477 non-null   int64  \n",
      " 36  number_of_reviews                             3477 non-null   int64  \n",
      " 37  number_of_reviews_ltm                         3477 non-null   int64  \n",
      " 38  number_of_reviews_l30d                        3477 non-null   int64  \n",
      " 39  review_scores_rating                          2462 non-null   float64\n",
      " 40  review_scores_accuracy                        2455 non-null   float64\n",
      " 41  review_scores_cleanliness                     2456 non-null   float64\n",
      " 42  review_scores_checkin                         2455 non-null   float64\n",
      " 43  review_scores_communication                   2456 non-null   float64\n",
      " 44  review_scores_location                        2455 non-null   float64\n",
      " 45  review_scores_value                           2455 non-null   float64\n",
      " 46  license                                       2071 non-null   object \n",
      " 47  instant_bookable                              3477 non-null   object \n",
      " 48  calculated_host_listings_count                3477 non-null   int64  \n",
      " 49  calculated_host_listings_count_entire_homes   3477 non-null   int64  \n",
      " 50  calculated_host_listings_count_private_rooms  3477 non-null   int64  \n",
      " 51  calculated_host_listings_count_shared_rooms   3477 non-null   int64  \n",
      " 52  reviews_per_month                             2462 non-null   float64\n",
      " 53  pcnt_ent_homes                                3477 non-null   float64\n",
      " 54  pcnt_private                                  3477 non-null   float64\n",
      " 55  pcnt_shared                                   3477 non-null   float64\n",
      "dtypes: float64(19), int64(18), object(19)\n",
      "memory usage: 1.5+ MB\n"
     ]
    }
   ],
   "source": [
    "lstn.info()"
   ]
  },
  {
   "cell_type": "code",
   "execution_count": null,
   "id": "de6cb8dd-b6e5-4c1d-a8e2-a6905a1e6377",
   "metadata": {},
   "outputs": [],
   "source": []
  },
  {
   "cell_type": "code",
   "execution_count": null,
   "id": "c948200f-34da-4a5e-a779-59cf894c2480",
   "metadata": {},
   "outputs": [],
   "source": []
  },
  {
   "cell_type": "code",
   "execution_count": null,
   "id": "5ba82168-12c0-4a34-92ac-4d0f5bf5b003",
   "metadata": {},
   "outputs": [],
   "source": []
  },
  {
   "cell_type": "code",
   "execution_count": null,
   "id": "b6c9c8ff-9832-4e45-b1d5-6173969c66a5",
   "metadata": {},
   "outputs": [],
   "source": []
  },
  {
   "cell_type": "code",
   "execution_count": null,
   "id": "aafdea70-8b1c-4fec-9e10-02967fc92cd8",
   "metadata": {},
   "outputs": [],
   "source": []
  },
  {
   "cell_type": "code",
   "execution_count": null,
   "id": "3db64e9b-1ffb-4336-9832-9d34fe9a6f73",
   "metadata": {},
   "outputs": [],
   "source": []
  },
  {
   "cell_type": "code",
   "execution_count": null,
   "id": "2bab95cb-3691-4bde-b0e8-5e36d58fe8f9",
   "metadata": {},
   "outputs": [],
   "source": []
  },
  {
   "cell_type": "code",
   "execution_count": null,
   "id": "702910b5-a7b5-4a4c-aaf4-8aa6ce22a422",
   "metadata": {},
   "outputs": [],
   "source": []
  },
  {
   "cell_type": "code",
   "execution_count": null,
   "id": "f4ebef1b-ea3d-46bf-a6d0-935af988547f",
   "metadata": {},
   "outputs": [],
   "source": []
  },
  {
   "cell_type": "code",
   "execution_count": null,
   "id": "cdf9bdac-8961-4f74-acb1-9d2ba09cd8a4",
   "metadata": {},
   "outputs": [],
   "source": []
  },
  {
   "cell_type": "code",
   "execution_count": null,
   "id": "0949a4ef-f050-4c89-b03a-e5a5d24e1dfc",
   "metadata": {},
   "outputs": [],
   "source": []
  },
  {
   "cell_type": "code",
   "execution_count": null,
   "id": "026add01-3d5a-4ec9-a41b-0647670adab6",
   "metadata": {},
   "outputs": [],
   "source": []
  },
  {
   "cell_type": "code",
   "execution_count": null,
   "id": "201b8a41-5700-43bc-a656-a1092ca60af4",
   "metadata": {},
   "outputs": [],
   "source": []
  },
  {
   "cell_type": "code",
   "execution_count": null,
   "id": "efc3e613-37a4-4e08-b4a6-52f43e6024d8",
   "metadata": {},
   "outputs": [],
   "source": []
  },
  {
   "cell_type": "code",
   "execution_count": null,
   "id": "f3697c56-a437-41eb-bce8-8a68bc9f4b42",
   "metadata": {},
   "outputs": [],
   "source": []
  },
  {
   "cell_type": "code",
   "execution_count": null,
   "id": "9ef1b1a5-b620-4aa9-b9fa-a0e6d3f64315",
   "metadata": {},
   "outputs": [],
   "source": []
  },
  {
   "cell_type": "code",
   "execution_count": null,
   "id": "ee928eaf-4ee8-483d-8e76-c1aaff4e3807",
   "metadata": {},
   "outputs": [],
   "source": []
  },
  {
   "cell_type": "code",
   "execution_count": null,
   "id": "b4cecbfd-90cf-493b-b100-36202ad741ac",
   "metadata": {},
   "outputs": [],
   "source": []
  },
  {
   "cell_type": "code",
   "execution_count": null,
   "id": "98f17840-5d0f-4a16-8cef-fe2dcd4900ad",
   "metadata": {},
   "outputs": [],
   "source": []
  },
  {
   "cell_type": "code",
   "execution_count": null,
   "id": "c1aeb573-cb91-4366-90ed-75d1d9833198",
   "metadata": {},
   "outputs": [],
   "source": []
  },
  {
   "cell_type": "code",
   "execution_count": null,
   "id": "b6d4087b-6980-4cc0-9fcf-3e5386cb7cce",
   "metadata": {},
   "outputs": [],
   "source": []
  },
  {
   "cell_type": "code",
   "execution_count": null,
   "id": "0b10033b-b7ca-41bf-984f-aee901498774",
   "metadata": {},
   "outputs": [],
   "source": []
  },
  {
   "cell_type": "code",
   "execution_count": null,
   "id": "eda90192-0bf4-4d4c-aa66-0be3d5614c5a",
   "metadata": {},
   "outputs": [],
   "source": []
  },
  {
   "cell_type": "code",
   "execution_count": null,
   "id": "3951c404-9cb3-431a-ac40-5756467c3a30",
   "metadata": {},
   "outputs": [],
   "source": []
  },
  {
   "cell_type": "code",
   "execution_count": null,
   "id": "d42cf482-385f-474e-a66f-645e11ac1b9a",
   "metadata": {},
   "outputs": [],
   "source": []
  },
  {
   "cell_type": "code",
   "execution_count": null,
   "id": "bda3ac61-fa8e-4d05-87ce-d714ffc6dd1f",
   "metadata": {},
   "outputs": [],
   "source": []
  }
 ],
 "metadata": {
  "kernelspec": {
   "display_name": "Python 3 (ipykernel)",
   "language": "python",
   "name": "python3"
  },
  "language_info": {
   "codemirror_mode": {
    "name": "ipython",
    "version": 3
   },
   "file_extension": ".py",
   "mimetype": "text/x-python",
   "name": "python",
   "nbconvert_exporter": "python",
   "pygments_lexer": "ipython3",
   "version": "3.10.9"
  }
 },
 "nbformat": 4,
 "nbformat_minor": 5
}
